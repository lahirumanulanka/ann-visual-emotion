{
  "cells": [
    {
      "cell_type": "markdown",
      "metadata": {
        "id": "view-in-github",
        "colab_type": "text"
      },
      "source": [
        "<a href=\"https://colab.research.google.com/github/lahirumanulanka/ann-visual-emotion/blob/new-dataset/notebooks/emo_CNN_Baseline.ipynb\" target=\"_parent\"><img src=\"https://colab.research.google.com/assets/colab-badge.svg\" alt=\"Open In Colab\"/></a>"
      ]
    },
    {
      "cell_type": "code",
      "source": [
        "from pathlib import Path\n",
        "import pandas as pd, json\n",
        "\n",
        "print(\"CSV locations:\\n\", CSV_TRAIN, \"\\n\", CSV_VAL, \"\\n\", CSV_TEST)\n",
        "\n",
        "# Load map used by training\n",
        "with open(LABEL_MAP) as f:\n",
        "    label_to_idx_from_map = json.load(f)\n",
        "print(\"label_map.json:\", label_to_idx_from_map)\n",
        "\n",
        "def inspect_csv(csv_path):\n",
        "    df = pd.read_csv(csv_path)\n",
        "    print(f\"\\n== {csv_path.name} ==\")\n",
        "    print(\"Rows:\", len(df), \"Cols:\", list(df.columns))\n",
        "    print(df.head(3)[[\"filepath\",\"label\",\"label_id\"]])\n",
        "    # Check consistency of label -> label_id\n",
        "    if \"label_id\" in df.columns:\n",
        "        bad = df[ df[\"label\"].map(label_to_idx_from_map).fillna(-999) != df[\"label_id\"] ]\n",
        "        print(\"Mismatched rows (label string vs label_id):\", len(bad))\n",
        "        if len(bad) > 0:\n",
        "            print(bad.head(5))\n",
        "    print(\"Unique label_ids:\", sorted(df[\"label_id\"].dropna().unique().tolist()) if \"label_id\" in df.columns else \"N/A\")\n",
        "    print(\"Unique labels:\", sorted(df[\"label\"].unique().tolist()))\n",
        "\n",
        "inspect_csv(CSV_TRAIN)\n",
        "inspect_csv(CSV_VAL)\n",
        "if CSV_TEST.exists(): inspect_csv(CSV_TEST)"
      ],
      "metadata": {
        "colab": {
          "base_uri": "https://localhost:8080/"
        },
        "id": "Gxr9tm31qxrO",
        "outputId": "704705f2-a5fd-4fe2-d4ff-e1c762ea2c33"
      },
      "id": "Gxr9tm31qxrO",
      "execution_count": 155,
      "outputs": [
        {
          "output_type": "stream",
          "name": "stdout",
          "text": [
            "CSV locations:\n",
            " /content/ann-visual-emotion/data/processed/EmoSet_splits/train.csv \n",
            " /content/ann-visual-emotion/data/processed/EmoSet_splits/val.csv \n",
            " /content/ann-visual-emotion/data/processed/EmoSet_splits/test.csv\n",
            "label_map.json: {'angry': 0, 'disgust': 1, 'fear': 2, 'happy': 3, 'neutral': 4, 'sad': 5, 'surprise': 6}\n",
            "\n",
            "== train.csv ==\n",
            "Rows: 28821 Cols: ['filepath', 'label', 'label_id', 'split']\n",
            "                filepath  label  label_id\n",
            "0  train/angry/14147.jpg  angry         0\n",
            "1  train/angry/24084.jpg  angry         0\n",
            "2    train/angry/823.jpg  angry         0\n",
            "Mismatched rows (label string vs label_id): 0\n",
            "Unique label_ids: [0, 1, 2, 3, 4, 5, 6]\n",
            "Unique labels: ['angry', 'disgust', 'fear', 'happy', 'neutral', 'sad', 'surprise']\n",
            "\n",
            "== val.csv ==\n",
            "Rows: 5653 Cols: ['filepath', 'label', 'label_id', 'split']\n",
            "                     filepath  label  label_id\n",
            "0  validation/angry/10336.jpg  angry         0\n",
            "1   validation/angry/3913.jpg  angry         0\n",
            "2  validation/angry/23780.jpg  angry         0\n",
            "Mismatched rows (label string vs label_id): 0\n",
            "Unique label_ids: [0, 1, 2, 3, 4, 5, 6]\n",
            "Unique labels: ['angry', 'disgust', 'fear', 'happy', 'neutral', 'sad', 'surprise']\n",
            "\n",
            "== test.csv ==\n",
            "Rows: 1413 Cols: ['filepath', 'label', 'label_id', 'split']\n",
            "                     filepath  label  label_id\n",
            "0  validation/angry/18949.jpg  angry         0\n",
            "1  validation/angry/23404.jpg  angry         0\n",
            "2  validation/angry/34448.jpg  angry         0\n",
            "Mismatched rows (label string vs label_id): 0\n",
            "Unique label_ids: [0, 1, 2, 3, 4, 5, 6]\n",
            "Unique labels: ['angry', 'disgust', 'fear', 'happy', 'neutral', 'sad', 'surprise']\n"
          ]
        }
      ]
    },
    {
      "cell_type": "code",
      "source": [
        "import torch\n",
        "from torchvision import transforms\n",
        "from PIL import Image\n",
        "import matplotlib.pyplot as plt\n",
        "import numpy as np\n",
        "\n",
        "# Use your eval_tfms (normalization included). If you added Normalize, keep it; we’ll invert it to show images.\n",
        "mean48, std48 = 0.5, 0.5  # replace with the values you computed if different\n",
        "if 'mean48' in globals(): mean48 = mean48\n",
        "if 'std48' in globals():  std48 = std48\n",
        "\n",
        "inv_norm = transforms.Normalize(mean=[-mean48/std48], std=[1.0/std48])\n",
        "\n",
        "# Peek a few absolute paths from the CSV and plot transformed tensors\n",
        "df = pd.read_csv(CSV_TRAIN)\n",
        "paths = df[\"filepath\"].tolist()[:8]\n",
        "\n",
        "def resolve(p): return (DATA_ROOT/Path(p)).resolve()\n",
        "\n",
        "plt.figure(figsize=(12,6))\n",
        "shown = 0\n",
        "for p in paths:\n",
        "    ap = resolve(p)\n",
        "    if ap.exists():\n",
        "        img = Image.open(ap).convert(\"L\")\n",
        "        t = eval_tfms(img)  # transformed tensor (1,48,48)\n",
        "        t_show = inv_norm(t)  # roughly undo normalization for display\n",
        "        shown += 1\n",
        "        plt.subplot(2,4,shown)\n",
        "        plt.imshow(t_show.squeeze().numpy(), cmap=\"gray\")\n",
        "        plt.title(Path(p).parts[:2])\n",
        "        plt.axis('off')\n",
        "        if shown == 8: break\n",
        "plt.tight_layout(); plt.show()\n",
        "\n",
        "# Also check raw stats of a minibatch\n",
        "xb, yb = next(iter(val_ld))\n",
        "print(\"Batch shape:\", xb.shape, \"labels shape:\", yb.shape)\n",
        "print(\"Tensor stats -> min:\", xb.min().item(), \"max:\", xb.max().item(), \"mean:\", xb.mean().item(), \"std:\", xb.std().item())\n",
        "print(\"Label distribution in this batch:\", np.bincount(yb.numpy(), minlength=len(idx_to_label)))"
      ],
      "metadata": {
        "colab": {
          "base_uri": "https://localhost:8080/",
          "height": 551
        },
        "id": "b-ZV8e8Rr_Jn",
        "outputId": "0908b8b0-c5f7-484b-bbd5-468c972d23dd"
      },
      "id": "b-ZV8e8Rr_Jn",
      "execution_count": 156,
      "outputs": [
        {
          "output_type": "display_data",
          "data": {
            "text/plain": [
              "<Figure size 1200x600 with 8 Axes>"
            ],
            "image/png": "[encoded data removed]"
          },
          "metadata": {}
        },
        {
          "output_type": "stream",
          "name": "stdout",
          "text": [
            "Batch shape: torch.Size([128, 1, 48, 48]) labels shape: torch.Size([128])\n",
            "Tensor stats -> min: -2.3763227462768555 max: 2.314833164215088 mean: 0.02664245292544365 std: 1.2445772886276245\n",
            "Label distribution in this batch: [128   0   0   0   0   0   0]\n"
          ]
        }
      ]
    },
    {
      "cell_type": "code",
      "source": [
        "# Run one pass on val and see distribution of predictions\n",
        "model.eval()\n",
        "preds = []\n",
        "trues = []\n",
        "with torch.no_grad():\n",
        "    for xb, yb in val_ld:\n",
        "        xb = xb.to(device)\n",
        "        out = model(xb)\n",
        "        preds += out.argmax(1).cpu().tolist()\n",
        "        trues += yb.tolist()\n",
        "\n",
        "import numpy as np\n",
        "print(\"Pred count per class:\", np.bincount(preds, minlength=len(idx_to_label)))\n",
        "print(\"True  count per class:\", np.bincount(trues, minlength=len(idx_to_label)))"
      ],
      "metadata": {
        "colab": {
          "base_uri": "https://localhost:8080/"
        },
        "id": "7LfXlx5stMCh",
        "outputId": "dbd0d81b-268c-4b10-cca9-38c104ac57b3"
      },
      "id": "7LfXlx5stMCh",
      "execution_count": 157,
      "outputs": [
        {
          "output_type": "stream",
          "name": "stdout",
          "text": [
            "Pred count per class: [   0 5653    0    0    0    0    0]\n",
            "True  count per class: [ 768   89  814 1460  973  911  638]\n"
          ]
        }
      ]
    },
    {
      "cell_type": "code",
      "source": [
        "from torch.utils.data import Subset\n",
        "\n",
        "subset_idx = np.random.choice(len(train_ds), size=min(128, len(train_ds)), replace=False)\n",
        "tiny_ds = Subset(train_ds, subset_idx)\n",
        "tiny_ld = DataLoader(tiny_ds, batch_size=32, shuffle=True)\n",
        "\n",
        "tmp_model = EmoCNN_SE(num_classes).to(device)\n",
        "opt = torch.optim.Adam(tmp_model.parameters(), lr=1e-3)\n",
        "ce  = nn.CrossEntropyLoss()\n",
        "\n",
        "for ep in range(1, 11):\n",
        "    tmp_model.train(); losses=[]\n",
        "    for xb, yb in tiny_ld:\n",
        "        xb, yb = xb.to(device), yb.to(device)\n",
        "        out = tmp_model(xb)\n",
        "        loss = ce(out, yb)\n",
        "        opt.zero_grad(); loss.backward(); opt.step()\n",
        "        losses.append(loss.item())\n",
        "    print(f\"tiny overfit ep{ep}: loss {np.mean(losses):.4f}\")"
      ],
      "metadata": {
        "colab": {
          "base_uri": "https://localhost:8080/"
        },
        "id": "4Yu0zuaLtOa2",
        "outputId": "4d514fd1-0e91-40de-aa4b-bbb2d43ade76"
      },
      "id": "4Yu0zuaLtOa2",
      "execution_count": 158,
      "outputs": [
        {
          "output_type": "stream",
          "name": "stdout",
          "text": [
            "tiny overfit ep1: loss 1.9603\n",
            "tiny overfit ep2: loss 1.8263\n",
            "tiny overfit ep3: loss 1.7319\n",
            "tiny overfit ep4: loss 1.7173\n",
            "tiny overfit ep5: loss 1.6803\n",
            "tiny overfit ep6: loss 1.6684\n",
            "tiny overfit ep7: loss 1.7069\n",
            "tiny overfit ep8: loss 1.6290\n",
            "tiny overfit ep9: loss 1.6268\n",
            "tiny overfit ep10: loss 1.5865\n"
          ]
        }
      ]
    },
    {
      "cell_type": "code",
      "source": [
        "class CSVImageDataset(Dataset):\n",
        "    \"\"\"Reads filepath,label,label_id from CSV. Uses label_id if present (safer).\"\"\"\n",
        "    def __init__(self, csv_path: Path, data_root: Path, img_mode='L', transform=None, verbose=True):\n",
        "        self.df = pd.read_csv(csv_path)\n",
        "        self.data_root = Path(data_root)\n",
        "        self.img_mode  = img_mode.upper()\n",
        "        self.transform = transform\n",
        "\n",
        "        keep, miss = [], []\n",
        "        for r in self.df.to_dict(\"records\"):\n",
        "            ap = smart_resolve(str(r[\"filepath\"]), self.data_root)\n",
        "            if ap and ap.exists():\n",
        "                r[\"_abs_path\"] = ap\n",
        "                # prefer label_id; else map with label_map we read outside\n",
        "                if \"label_id\" in r and not pd.isna(r[\"label_id\"]):\n",
        "                    r[\"_y\"] = int(r[\"label_id\"])\n",
        "                else:\n",
        "                    # fallback to string label via global label_to_idx\n",
        "                    r[\"_y\"] = label_to_idx[r[\"label\"]]\n",
        "                keep.append(r)\n",
        "            else:\n",
        "                miss.append(r[\"filepath\"])\n",
        "        self.rows = keep\n",
        "        if verbose:\n",
        "            print(f\"[{csv_path.name}] kept {len(keep)}  missing {len(miss)}\")\n",
        "            if miss[:3]: print(\"  e.g. missing:\", miss[:3])\n",
        "\n",
        "    def __len__(self): return len(self.rows)\n",
        "\n",
        "    def __getitem__(self, i):\n",
        "        r = self.rows[i]\n",
        "        with Image.open(r[\"_abs_path\"]) as im:\n",
        "            im = im.convert(\"RGB\") if self.img_mode==\"RGB\" else im.convert(\"L\")\n",
        "            x = self.transform(im) if self.transform else transforms.ToTensor()(im)\n",
        "        y = r[\"_y\"]\n",
        "        return x, y"
      ],
      "metadata": {
        "id": "pWY_ljfduLwD"
      },
      "id": "pWY_ljfduLwD",
      "execution_count": 159,
      "outputs": []
    },
    {
      "cell_type": "code",
      "source": [
        "with open(LABEL_MAP) as f:\n",
        "    label_to_idx = json.load(f)\n",
        "idx_to_label = {i: lbl for lbl, i in label_to_idx.items()}\n",
        "num_classes  = len(idx_to_label)\n",
        "print(\"Labels:\", idx_to_label)\n",
        "\n",
        "with open(STATS_JSON) as f:\n",
        "    stats = json.load(f)\n",
        "train_counts = stats[\"splits\"][\"train\"][\"by_label\"]\n",
        "cw = np.zeros(num_classes, dtype=np.float32)\n",
        "for lbl, idx in label_to_idx.items():\n",
        "    c = max(1, train_counts.get(lbl, 1))\n",
        "    cw[idx] = 1.0 / np.log1p(c)           # smooth inverse frequency\n",
        "cw = cw * (len(cw) / cw.sum())\n",
        "class_weights = torch.tensor(cw, dtype=torch.float32)"
      ],
      "metadata": {
        "colab": {
          "base_uri": "https://localhost:8080/"
        },
        "id": "PMb5vghCuYo3",
        "outputId": "0cedac79-c389-4088-8aa9-2847527c7855"
      },
      "id": "PMb5vghCuYo3",
      "execution_count": 160,
      "outputs": [
        {
          "output_type": "stream",
          "name": "stdout",
          "text": [
            "Labels: {0: 'angry', 1: 'disgust', 2: 'fear', 3: 'happy', 4: 'neutral', 5: 'sad', 6: 'surprise'}\n"
          ]
        }
      ]
    },
    {
      "cell_type": "code",
      "source": [
        "probe_tfms = transforms.Compose([transforms.Resize((48,48)), transforms.ToTensor()])\n",
        "train_probe = CSVImageDataset(CSV_TRAIN, DATA_ROOT, \"L\", probe_tfms, verbose=False)\n",
        "\n",
        "def compute_mean_std(ds, max_samples=5000):\n",
        "    n = min(len(ds), max_samples)\n",
        "    if n == 0: return 0.5, 0.5\n",
        "    idxs = np.random.choice(len(ds), n, replace=False)\n",
        "    s = 0.0; s2 = 0.0; count = 0\n",
        "    for i in idxs:\n",
        "        x, _ = ds[i]                  # x: (1,48,48) in [0,1]\n",
        "        v = x.view(-1)\n",
        "        s  += v.mean().item()\n",
        "        s2 += v.std().item()\n",
        "        count += 1\n",
        "    m = s / count\n",
        "    sd = s2 / count\n",
        "    return float(m), float(sd)\n",
        "\n",
        "mean48, std48 = compute_mean_std(train_probe)\n",
        "print(f\"Train mean/std (approx): {mean48:.4f} / {std48:.4f}\")"
      ],
      "metadata": {
        "colab": {
          "base_uri": "https://localhost:8080/"
        },
        "id": "UMw2o4Fmucc_",
        "outputId": "0200d17d-d7a0-48a9-8341-76bd7c276ab9"
      },
      "id": "UMw2o4Fmucc_",
      "execution_count": 161,
      "outputs": [
        {
          "output_type": "stream",
          "name": "stdout",
          "text": [
            "Train mean/std (approx): 0.5111 / 0.2118\n"
          ]
        }
      ]
    },
    {
      "cell_type": "code",
      "source": [
        "def ema_update(model, ema_model, decay=0.999):\n",
        "    with torch.no_grad():\n",
        "        msd = model.state_dict()\n",
        "        for k in ema_model.state_dict().keys():\n",
        "            ema_model.state_dict()[k].mul_(decay).add_(msd[k]*(1.0-decay))\n",
        "\n",
        "def mixup(x, y, alpha=0.2):\n",
        "    if alpha <= 0 or x.size(0) < 2: return x, (y,y,None), None\n",
        "    lam = np.random.beta(alpha, alpha)\n",
        "    idx = torch.randperm(x.size(0), device=x.device)\n",
        "    return lam*x + (1-lam)*x[idx], (y, y[idx], lam), lam\n",
        "\n",
        "def cutmix(x, y, alpha=0.2):\n",
        "    if alpha <= 0 or x.size(0) < 2: return x, (y,y,None), None\n",
        "    lam = np.random.beta(alpha, alpha)\n",
        "    idx = torch.randperm(x.size(0), device=x.device)\n",
        "    B, C, H, W = x.size()\n",
        "    cx, cy = np.random.randint(W), np.random.randint(H)\n",
        "    w = int(W * math.sqrt(1-lam)); h = int(H * math.sqrt(1-lam))\n",
        "    x1 = np.clip(cx - w//2, 0, W); y1 = np.clip(cy - h//2, 0, H)\n",
        "    x2 = np.clip(cx + w//2, 0, W); y2 = np.clip(cy + h//2, 0, H)\n",
        "    x[:, :, y1:y2, x1:x2] = x[idx, :, y1:y2, x1:x2]\n",
        "    lam_adj = 1 - ((x2-x1)*(y2-y1)/(W*H))\n",
        "    return x, (y, y[idx], lam_adj), lam_adj\n",
        "\n",
        "def criterion_mix(crit, pred, target):\n",
        "    y1, y2, lam = target\n",
        "    if lam is None: return crit(pred, y1)\n",
        "    return lam*crit(pred, y1) + (1-lam)*crit(pred, y2)"
      ],
      "metadata": {
        "id": "5q94k3wUug76"
      },
      "id": "5q94k3wUug76",
      "execution_count": 162,
      "outputs": []
    },
    {
      "cell_type": "code",
      "source": [
        "class SE(nn.Module):\n",
        "    def __init__(self, ch, r=8):\n",
        "        super().__init__()\n",
        "        self.fc = nn.Sequential(\n",
        "            nn.AdaptiveAvgPool2d(1),\n",
        "            nn.Flatten(),\n",
        "            nn.Linear(ch, max(4, ch//r)), nn.ReLU(True),\n",
        "            nn.Linear(max(4, ch//r), ch), nn.Sigmoid()\n",
        "        )\n",
        "    def forward(self, x):\n",
        "        w = self.fc(x).unsqueeze(-1).unsqueeze(-1)\n",
        "        return x * w\n",
        "\n",
        "class Block(nn.Module):\n",
        "    def __init__(self, in_ch, out_ch):\n",
        "        super().__init__()\n",
        "        self.conv = nn.Sequential(\n",
        "            nn.Conv2d(in_ch, out_ch, 3, padding=1, bias=False), nn.BatchNorm2d(out_ch), nn.ReLU(True),\n",
        "            nn.Conv2d(out_ch, out_ch, 3, padding=1, bias=False), nn.BatchNorm2d(out_ch)\n",
        "        )\n",
        "        self.proj = nn.Conv2d(in_ch, out_ch, 1, bias=False) if in_ch!=out_ch else nn.Identity()\n",
        "        self.act = nn.ReLU(True); self.se = SE(out_ch)\n",
        "    def forward(self, x):\n",
        "        y = self.conv(x) + self.proj(x)\n",
        "        return self.act(self.se(y))\n",
        "\n",
        "class EmoCNN_SE(nn.Module):\n",
        "    def __init__(self, num_classes):\n",
        "        super().__init__()\n",
        "        self.stem = nn.Sequential(\n",
        "            nn.Conv2d(1,32,3,padding=1,bias=False), nn.BatchNorm2d(32), nn.ReLU(True)\n",
        "        )\n",
        "        self.b1 = Block(32, 64);  self.pool1 = nn.MaxPool2d(2)   # 48->24\n",
        "        self.b2 = Block(64, 128); self.pool2 = nn.MaxPool2d(2)   # 24->12\n",
        "        self.b3 = Block(128,128); self.pool3 = nn.MaxPool2d(2)   # 12->6\n",
        "        self.head = nn.Sequential(\n",
        "            nn.AdaptiveAvgPool2d(1), nn.Flatten(),\n",
        "            nn.Dropout(0.35),\n",
        "            nn.Linear(128, 128), nn.ReLU(True),\n",
        "            nn.Dropout(0.35),\n",
        "            nn.Linear(128, num_classes)\n",
        "        )\n",
        "    def forward(self, x):\n",
        "        x = self.stem(x)\n",
        "        x = self.pool1(self.b1(x))\n",
        "        x = self.pool2(self.b2(x))\n",
        "        x = self.pool3(self.b3(x))\n",
        "        return self.head(x)\n",
        "\n",
        "model = EmoCNN_SE(num_classes).to(device)"
      ],
      "metadata": {
        "id": "FZEs9O89tt_q"
      },
      "id": "FZEs9O89tt_q",
      "execution_count": 163,
      "outputs": []
    },
    {
      "cell_type": "code",
      "source": [
        "# 1) Rebuild loaders: weighted sampler + simple augment + normalization\n",
        "from torchvision import transforms\n",
        "from torch.utils.data import WeightedRandomSampler, DataLoader\n",
        "\n",
        "train_tfms = transforms.Compose([\n",
        "    transforms.Resize((48,48)),\n",
        "    transforms.RandomHorizontalFlip(0.5),\n",
        "    transforms.RandomRotation(8),\n",
        "    transforms.ToTensor(),\n",
        "    transforms.Normalize((mean48,), (std48,))\n",
        "])\n",
        "eval_tfms = transforms.Compose([\n",
        "    transforms.Resize((48,48)),\n",
        "    transforms.ToTensor(),\n",
        "    transforms.Normalize((mean48,), (std48,))\n",
        "])\n",
        "\n",
        "train_ds = CSVImageDataset(CSV_TRAIN, DATA_ROOT, \"L\", train_tfms)\n",
        "val_ds   = CSVImageDataset(CSV_VAL,   DATA_ROOT, \"L\", eval_tfms)\n",
        "test_ds  = CSVImageDataset(CSV_TEST,  DATA_ROOT, \"L\", eval_tfms) if CSV_TEST.exists() else None\n",
        "\n",
        "sample_w = []\n",
        "for _, y in CSVImageDataset(CSV_TRAIN, DATA_ROOT, \"L\", transforms.ToTensor(), verbose=False):\n",
        "    sample_w.append(class_weights[y].item())\n",
        "sampler = WeightedRandomSampler(sample_w, num_samples=len(sample_w), replacement=True)\n",
        "\n",
        "train_ld = DataLoader(train_ds, batch_size=128, shuffle=False, sampler=sampler, num_workers=2, pin_memory=True)\n",
        "val_ld   = DataLoader(val_ds,   batch_size=128, shuffle=False, num_workers=2, pin_memory=True)\n",
        "test_ld  = DataLoader(test_ds,  batch_size=128, shuffle=False, num_workers=2, pin_memory=True) if test_ds else None\n",
        "\n",
        "# 2) Fresh model (no EMA)\n",
        "baseline = EmoCNN_SE(num_classes).to(device)\n",
        "crit = nn.CrossEntropyLoss(weight=class_weights.to(device), label_smoothing=0.02)  # smaller smoothing\n",
        "opt  = torch.optim.AdamW(baseline.parameters(), lr=1e-3, weight_decay=1e-4)\n",
        "# Remove verbose=True as it's not a valid argument\n",
        "sched= torch.optim.lr_scheduler.ReduceLROnPlateau(opt, mode='max', factor=0.5, patience=2)  # on F1\n",
        "\n",
        "# 3) Train for 20 epochs max, early stop on val F1\n",
        "best_f1, best_state = 0.0, None\n",
        "for ep in range(1, 21):\n",
        "    baseline.train()\n",
        "    for xb, yb in train_ld:\n",
        "        xb, yb = xb.to(device), yb.to(device)\n",
        "        out = baseline(xb)\n",
        "        loss = crit(out, yb)\n",
        "        opt.zero_grad(); loss.backward(); opt.step()\n",
        "\n",
        "    # validate\n",
        "    baseline.eval(); yt=[]; yp=[]\n",
        "    with torch.no_grad():\n",
        "        for xb, yb in val_ld:\n",
        "            xb = xb.to(device)\n",
        "            out = baseline(xb)\n",
        "            yp += out.argmax(1).cpu().tolist(); yt += yb.tolist()\n",
        "    va_f1 = f1_score(yt, yp, average=\"macro\"); va_acc = accuracy_score(yt, yp)\n",
        "    print(f\"Baseline ep{ep:02d} | val F1 {va_f1:.3f} acc {va_acc:.3f}\")\n",
        "    sched.step(va_f1)\n",
        "\n",
        "    if va_f1 > best_f1:\n",
        "        best_f1 = va_f1\n",
        "        best_state = baseline.state_dict().copy()\n",
        "\n",
        "# 4) Test (if exists)\n",
        "if best_state is not None: baseline.load_state_dict(best_state)\n",
        "if test_ld and best_state is not None:\n",
        "    baseline.eval(); yt=[]; yp=[]\n",
        "    with torch.no_grad():\n",
        "        for xb, yb in test_ld:\n",
        "            xb = xb.to(device)\n",
        "            yp += baseline(xb).argmax(1).cpu().tolist(); yt += yb.tolist()\n",
        "    print(\"\\nTEST report:\\n\", classification_report(yt, yp, target_names=[idx_to_label[i] for i in range(num_classes)]))"
      ],
      "metadata": {
        "colab": {
          "base_uri": "https://localhost:8080/"
        },
        "id": "scdTEv_CtQyA",
        "outputId": "1820bc12-bef5-497b-9ad9-cae3c8455ad3"
      },
      "id": "scdTEv_CtQyA",
      "execution_count": null,
      "outputs": [
        {
          "output_type": "stream",
          "name": "stdout",
          "text": [
            "[train.csv] kept 28821  missing 0\n",
            "[val.csv] kept 5653  missing 0\n",
            "[test.csv] kept 1413  missing 0\n",
            "Baseline ep01 | val F1 0.210 acc 0.359\n",
            "Baseline ep02 | val F1 0.381 acc 0.460\n",
            "Baseline ep03 | val F1 0.395 acc 0.521\n"
          ]
        }
      ]
    }
  ],
  "metadata": {
    "accelerator": "GPU",
    "colab": {
      "gpuType": "T4",
      "provenance": [],
      "include_colab_link": true
    },
    "kernelspec": {
      "display_name": ".venv",
      "language": "python",
      "name": "python3"
    },
    "language_info": {
      "codemirror_mode": {
        "name": "ipython",
        "version": 3
      },
      "file_extension": ".py",
      "mimetype": "text/x-python",
      "name": "python",
      "nbconvert_exporter": "python",
      "pygments_lexer": "ipython3",
      "version": "3.13.2"
    }
  },
  "nbformat": 4,
  "nbformat_minor": 5
}