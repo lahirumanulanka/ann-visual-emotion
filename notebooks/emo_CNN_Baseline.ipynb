{
  "cells": [
    {
      "cell_type": "markdown",
      "metadata": {
        "id": "view-in-github",
        "colab_type": "text"
      },
      "source": [
        "<a href=\"https://colab.research.google.com/github/lahirumanulanka/ann-visual-emotion/blob/new-dataset/notebooks/emo_CNN_Baseline.ipynb\" target=\"_parent\"><img src=\"https://colab.research.google.com/assets/colab-badge.svg\" alt=\"Open In Colab\"/></a>"
      ]
    },
    {
      "cell_type": "code",
      "source": [
        "\n",
        "# !pip install torch torchvision torchaudio scikit-learn matplotlib pillow\n",
        "import os, math, random, copy, numpy as np\n",
        "from pathlib import Path\n",
        "from PIL import Image\n",
        "import torch, torch.nn as nn, torch.optim as optim\n",
        "from torch.utils.data import DataLoader, WeightedRandomSampler, random_split\n",
        "from torchvision import transforms, models, datasets\n",
        "from sklearn.metrics import classification_report, f1_score\n",
        "import matplotlib.pyplot as plt"
      ],
      "metadata": {
        "id": "gyjjI8Bc5tVj"
      },
      "id": "gyjjI8Bc5tVj",
      "execution_count": 225,
      "outputs": []
    },
    {
      "cell_type": "code",
      "source": [
        "device = torch.device('cuda' if torch.cuda.is_available() else 'cpu'); print(\"Device:\", device)\n",
        "SEED=42; random.seed(SEED); np.random.seed(SEED); torch.manual_seed(SEED); torch.cuda.manual_seed_all(SEED)\n",
        "torch.backends.cudnn.deterministic=True; torch.backends.cudnn.benchmark=False"
      ],
      "metadata": {
        "colab": {
          "base_uri": "https://localhost:8080/"
        },
        "id": "qc36o7_3RzNg",
        "outputId": "17a9cbf6-41ff-4ec5-bc80-75d17f3c23f5"
      },
      "id": "qc36o7_3RzNg",
      "execution_count": 226,
      "outputs": [
        {
          "output_type": "stream",
          "name": "stdout",
          "text": [
            "Device: cuda\n"
          ]
        }
      ]
    },
    {
      "cell_type": "code",
      "source": [
        "\n",
        "# Prefilled with your uploaded CSVs and label_map in /mnt/data\n",
        "TRAIN_CSV = \"/content/ann-visual-emotion/data/processed/EmoSet_splits/train.csv\"\n",
        "VAL_CSV   = \"/content/ann-visual-emotion/data/processed/EmoSet_splits/val.csv\"\n",
        "TEST_CSV  = \"/content/ann-visual-emotion/data/processed/EmoSet_splits/test.csv\"\n",
        "LABEL_MAP = \"/content/ann-visual-emotion/data/processed/EmoSet_splits/label_map.json\"\n",
        "IMAGES_ROOT = \"/content/ann-visual-emotion/data/raw/EmoSet\"\n",
        "\n",
        "MODEL   = \"resnet18\"      # or \"simple_cnn\"\n",
        "EPOCHS  = 30\n",
        "BATCH   = 128\n",
        "LR      = 3e-4\n",
        "IMG_SZ  = 224 if MODEL==\"resnet18\" else 96\n",
        "SAVE_DIR= \"./checkpoints_csv_prefilled\"\n",
        "Path(SAVE_DIR).mkdir(parents=True, exist_ok=True)\n"
      ],
      "metadata": {
        "id": "6sEQBfN2R0at"
      },
      "id": "6sEQBfN2R0at",
      "execution_count": 227,
      "outputs": []
    },
    {
      "cell_type": "code",
      "source": [
        "\n",
        "def read_label_map(p):\n",
        "    with open(p,\"r\") as f: lm = json.load(f)\n",
        "    str2idx = dict(lm); idx2str = {v:k for k,v in str2idx.items()}\n",
        "    return str2idx, idx2str\n",
        "\n",
        "def find_col(cols, cands):\n",
        "    cols_lower=[c.lower() for c in cols]\n",
        "    for cand in cands:\n",
        "        if cand in cols_lower: return cols[cols_lower.index(cand)]\n",
        "    raise ValueError(f\"Need one of {cands}, have {cols}\")\n",
        "\n",
        "class CSVDataset(Dataset):\n",
        "    def __init__(self, csv_path, label_map, images_root=\"\", transform=None):\n",
        "        self.df = pd.read_csv(csv_path)\n",
        "        self.transform=transform; self.images_root=images_root; self.label_map=label_map\n",
        "        self.path_col  = find_col(self.df.columns, [\"path\",\"filepath\",\"image\",\"img\",\"file\"])\n",
        "        self.label_col = find_col(self.df.columns, [\"label\",\"emotion\",\"class\"])\n",
        "        self.df[self.label_col]=self.df[self.label_col].astype(str)\n",
        "    def __len__(self): return len(self.df)\n",
        "    def __getitem__(self, idx):\n",
        "        row = self.df.iloc[idx]\n",
        "        rel = str(row[self.path_col]); path = rel if os.path.isabs(rel) else os.path.join(self.images_root, rel)\n",
        "        x = Image.open(path).convert(\"L\")\n",
        "        y = self.label_map[str(row[self.label_col])]\n",
        "        if self.transform: x = self.transform(x)\n",
        "        return x, y\n"
      ],
      "metadata": {
        "id": "pF0MenOqU2vD"
      },
      "id": "pF0MenOqU2vD",
      "execution_count": 228,
      "outputs": []
    },
    {
      "cell_type": "code",
      "source": [
        "def build_transforms(img_size=224, model=\"resnet18\", img_mode=\"L\"):\n",
        "    # Ensure the output is 1 channel if img_mode is \"L\"\n",
        "    if img_mode == \"L\":\n",
        "        train_tf = transforms.Compose([\n",
        "            transforms.Grayscale(num_output_channels=1), # Ensure 1 output channel\n",
        "            transforms.RandomResizedCrop(img_size, scale=(0.8,1.0)),\n",
        "            transforms.RandomHorizontalFlip(),\n",
        "            transforms.RandomRotation(10),\n",
        "            # ColorJitter is typically for RGB, consider removing or adjusting for grayscale\n",
        "            # transforms.ColorJitter(brightness=0.15, contrast=0.15),\n",
        "            transforms.ToTensor(),\n",
        "            # Normalize for 1 channel\n",
        "            transforms.Normalize(mean=[0.5], std=[0.5])\n",
        "        ])\n",
        "        eval_tf = transforms.Compose([\n",
        "            transforms.Grayscale(num_output_channels=1), # Ensure 1 output channel\n",
        "            transforms.Resize(int(img_size*1.15)), transforms.CenterCrop(img_size),\n",
        "            transforms.ToTensor(),\n",
        "            # Normalize for 1 channel\n",
        "            transforms.Normalize(mean=[0.5], std=[0.5])\n",
        "        ])\n",
        "    else: # Assuming RGB\n",
        "        train_tf = transforms.Compose([\n",
        "            transforms.Grayscale(num_output_channels=3), # Keep 3 channels for RGB if needed\n",
        "            transforms.RandomResizedCrop(img_size, scale=(0.8,1.0)),\n",
        "            transforms.RandomHorizontalFlip(),\n",
        "            transforms.RandomRotation(10),\n",
        "            transforms.ColorJitter(brightness=0.15, contrast=0.15),\n",
        "            transforms.ToTensor(),\n",
        "            transforms.Normalize(mean=[0.485,0.456,0.406], std=[0.229,0.224,0.225])\n",
        "        ])\n",
        "        eval_tf = transforms.Compose([\n",
        "            transforms.Grayscale(num_output_channels=3), # Keep 3 channels for RGB if needed\n",
        "            transforms.Resize(int(img_size*1.15)), transforms.CenterCrop(img_size),\n",
        "            transforms.ToTensor(),\n",
        "            transforms.Normalize(mean=[0.485,0.456,0.406], std=[0.229,0.224,0.225])\n",
        "        ])\n",
        "\n",
        "    return train_tf, eval_tf\n",
        "\n",
        "# Assuming LABEL_MAP, IMG_SZ, MODEL, IMAGES_ROOT, TRAIN_CSV, VAL_CSV, TEST_CSV, BATCH are defined in previous cells\n",
        "str2idx, idx2str = read_label_map(LABEL_MAP)\n",
        "classes = [k for k,_ in sorted(str2idx.items(), key=lambda kv: kv[1])]\n",
        "\n",
        "# Pass IMG_MODE to build_transforms\n",
        "train_tf, eval_tf = build_transforms(IMG_SZ, MODEL, IMG_MODE)\n",
        "\n",
        "ds_tr = CSVDataset(TRAIN_CSV, str2idx, IMAGES_ROOT, transform=train_tf)\n",
        "ds_va = CSVDataset(VAL_CSV,   str2idx, IMAGES_ROOT, transform=eval_tf)\n",
        "ds_te = CSVDataset(TEST_CSV,  str2idx, IMAGES_ROOT, transform=eval_tf)\n",
        "\n",
        "import torch\n",
        "counts = torch.zeros(len(classes))\n",
        "for y in ds_tr.df[ds_tr.label_col].astype(str):\n",
        "    counts[str2idx[y]] += 1\n",
        "wpc = 1.0/torch.clamp(counts, min=1.0)\n",
        "sample_weights = [wpc[str2idx[y]].item() for y in ds_tr.df[ds_tr.label_col].astype(str)]\n",
        "from torch.utils.data import WeightedRandomSampler, DataLoader\n",
        "sampler = WeightedRandomSampler(sample_weights, num_samples=len(sample_weights), replacement=True)\n",
        "\n",
        "tr_loader = DataLoader(ds_tr, batch_size=BATCH, sampler=sampler, num_workers=4, pin_memory=True)\n",
        "va_loader = DataLoader(ds_va, batch_size=BATCH, shuffle=False, num_workers=4, pin_memory=True)\n",
        "te_loader = DataLoader(ds_te, batch_size=BATCH, shuffle=False, num_workers=4, pin_memory=True)"
      ],
      "metadata": {
        "id": "RSLJOWx7R1yU"
      },
      "id": "RSLJOWx7R1yU",
      "execution_count": 229,
      "outputs": []
    },
    {
      "cell_type": "code",
      "source": [
        "\n",
        "class SimpleCNN(nn.Module):\n",
        "    def __init__(self, in_ch=1, num_classes=7, dropout=0.3):\n",
        "        super().__init__()\n",
        "        c=32\n",
        "        self.features = nn.Sequential(\n",
        "            nn.Conv2d(in_ch,c,3,1,1), nn.BatchNorm2d(c), nn.ReLU(), nn.MaxPool2d(2),\n",
        "            nn.Conv2d(c,c*2,3,1,1),   nn.BatchNorm2d(c*2), nn.ReLU(), nn.MaxPool2d(2),\n",
        "            nn.Conv2d(c*2,c*4,3,1,1), nn.BatchNorm2d(c*4), nn.ReLU(), nn.MaxPool2d(2),\n",
        "        )\n",
        "        h=IMG_SZ//8\n",
        "        self.head = nn.Sequential(\n",
        "            nn.Dropout(0.3),\n",
        "            nn.Linear(c*4*h*h,256), nn.ReLU(),\n",
        "            nn.Dropout(0.3), nn.Linear(256,len(classes))\n",
        "        )\n",
        "    def forward(self,x):\n",
        "        x=self.features(x); x=torch.flatten(x,1); return self.head(x)\n",
        "\n",
        "def build_resnet18(num_classes, in_ch=1, pretrained=True, dropout=0.2):\n",
        "    m = models.resnet18(weights=models.ResNet18_Weights.DEFAULT if pretrained else None)\n",
        "    if in_ch==1:\n",
        "        w=m.conv1.weight; m.conv1 = nn.Conv2d(1,64,7,2,3,bias=False)\n",
        "        if pretrained:\n",
        "            with torch.no_grad(): m.conv1.weight[:] = w.mean(dim=1, keepdim=True)\n",
        "    m.fc = nn.Sequential(nn.Dropout(dropout), nn.Linear(m.fc.in_features, num_classes))\n",
        "    return m\n",
        "\n",
        "net = build_resnet18(len(classes), in_ch=1, pretrained=True, dropout=0.2) if MODEL==\"resnet18\" else SimpleCNN(in_ch=1, num_classes=len(classes))\n",
        "net.to(device)"
      ],
      "metadata": {
        "colab": {
          "base_uri": "https://localhost:8080/"
        },
        "id": "jkNuu49VR3dk",
        "outputId": "368941af-f68c-40f9-99af-e07c0ca5dc25"
      },
      "id": "jkNuu49VR3dk",
      "execution_count": 230,
      "outputs": [
        {
          "output_type": "execute_result",
          "data": {
            "text/plain": [
              "ResNet(\n",
              "  (conv1): Conv2d(1, 64, kernel_size=(7, 7), stride=(2, 2), padding=(3, 3), bias=False)\n",
              "  (bn1): BatchNorm2d(64, eps=1e-05, momentum=0.1, affine=True, track_running_stats=True)\n",
              "  (relu): ReLU(inplace=True)\n",
              "  (maxpool): MaxPool2d(kernel_size=3, stride=2, padding=1, dilation=1, ceil_mode=False)\n",
              "  (layer1): Sequential(\n",
              "    (0): BasicBlock(\n",
              "      (conv1): Conv2d(64, 64, kernel_size=(3, 3), stride=(1, 1), padding=(1, 1), bias=False)\n",
              "      (bn1): BatchNorm2d(64, eps=1e-05, momentum=0.1, affine=True, track_running_stats=True)\n",
              "      (relu): ReLU(inplace=True)\n",
              "      (conv2): Conv2d(64, 64, kernel_size=(3, 3), stride=(1, 1), padding=(1, 1), bias=False)\n",
              "      (bn2): BatchNorm2d(64, eps=1e-05, momentum=0.1, affine=True, track_running_stats=True)\n",
              "    )\n",
              "    (1): BasicBlock(\n",
              "      (conv1): Conv2d(64, 64, kernel_size=(3, 3), stride=(1, 1), padding=(1, 1), bias=False)\n",
              "      (bn1): BatchNorm2d(64, eps=1e-05, momentum=0.1, affine=True, track_running_stats=True)\n",
              "      (relu): ReLU(inplace=True)\n",
              "      (conv2): Conv2d(64, 64, kernel_size=(3, 3), stride=(1, 1), padding=(1, 1), bias=False)\n",
              "      (bn2): BatchNorm2d(64, eps=1e-05, momentum=0.1, affine=True, track_running_stats=True)\n",
              "    )\n",
              "  )\n",
              "  (layer2): Sequential(\n",
              "    (0): BasicBlock(\n",
              "      (conv1): Conv2d(64, 128, kernel_size=(3, 3), stride=(2, 2), padding=(1, 1), bias=False)\n",
              "      (bn1): BatchNorm2d(128, eps=1e-05, momentum=0.1, affine=True, track_running_stats=True)\n",
              "      (relu): ReLU(inplace=True)\n",
              "      (conv2): Conv2d(128, 128, kernel_size=(3, 3), stride=(1, 1), padding=(1, 1), bias=False)\n",
              "      (bn2): BatchNorm2d(128, eps=1e-05, momentum=0.1, affine=True, track_running_stats=True)\n",
              "      (downsample): Sequential(\n",
              "        (0): Conv2d(64, 128, kernel_size=(1, 1), stride=(2, 2), bias=False)\n",
              "        (1): BatchNorm2d(128, eps=1e-05, momentum=0.1, affine=True, track_running_stats=True)\n",
              "      )\n",
              "    )\n",
              "    (1): BasicBlock(\n",
              "      (conv1): Conv2d(128, 128, kernel_size=(3, 3), stride=(1, 1), padding=(1, 1), bias=False)\n",
              "      (bn1): BatchNorm2d(128, eps=1e-05, momentum=0.1, affine=True, track_running_stats=True)\n",
              "      (relu): ReLU(inplace=True)\n",
              "      (conv2): Conv2d(128, 128, kernel_size=(3, 3), stride=(1, 1), padding=(1, 1), bias=False)\n",
              "      (bn2): BatchNorm2d(128, eps=1e-05, momentum=0.1, affine=True, track_running_stats=True)\n",
              "    )\n",
              "  )\n",
              "  (layer3): Sequential(\n",
              "    (0): BasicBlock(\n",
              "      (conv1): Conv2d(128, 256, kernel_size=(3, 3), stride=(2, 2), padding=(1, 1), bias=False)\n",
              "      (bn1): BatchNorm2d(256, eps=1e-05, momentum=0.1, affine=True, track_running_stats=True)\n",
              "      (relu): ReLU(inplace=True)\n",
              "      (conv2): Conv2d(256, 256, kernel_size=(3, 3), stride=(1, 1), padding=(1, 1), bias=False)\n",
              "      (bn2): BatchNorm2d(256, eps=1e-05, momentum=0.1, affine=True, track_running_stats=True)\n",
              "      (downsample): Sequential(\n",
              "        (0): Conv2d(128, 256, kernel_size=(1, 1), stride=(2, 2), bias=False)\n",
              "        (1): BatchNorm2d(256, eps=1e-05, momentum=0.1, affine=True, track_running_stats=True)\n",
              "      )\n",
              "    )\n",
              "    (1): BasicBlock(\n",
              "      (conv1): Conv2d(256, 256, kernel_size=(3, 3), stride=(1, 1), padding=(1, 1), bias=False)\n",
              "      (bn1): BatchNorm2d(256, eps=1e-05, momentum=0.1, affine=True, track_running_stats=True)\n",
              "      (relu): ReLU(inplace=True)\n",
              "      (conv2): Conv2d(256, 256, kernel_size=(3, 3), stride=(1, 1), padding=(1, 1), bias=False)\n",
              "      (bn2): BatchNorm2d(256, eps=1e-05, momentum=0.1, affine=True, track_running_stats=True)\n",
              "    )\n",
              "  )\n",
              "  (layer4): Sequential(\n",
              "    (0): BasicBlock(\n",
              "      (conv1): Conv2d(256, 512, kernel_size=(3, 3), stride=(2, 2), padding=(1, 1), bias=False)\n",
              "      (bn1): BatchNorm2d(512, eps=1e-05, momentum=0.1, affine=True, track_running_stats=True)\n",
              "      (relu): ReLU(inplace=True)\n",
              "      (conv2): Conv2d(512, 512, kernel_size=(3, 3), stride=(1, 1), padding=(1, 1), bias=False)\n",
              "      (bn2): BatchNorm2d(512, eps=1e-05, momentum=0.1, affine=True, track_running_stats=True)\n",
              "      (downsample): Sequential(\n",
              "        (0): Conv2d(256, 512, kernel_size=(1, 1), stride=(2, 2), bias=False)\n",
              "        (1): BatchNorm2d(512, eps=1e-05, momentum=0.1, affine=True, track_running_stats=True)\n",
              "      )\n",
              "    )\n",
              "    (1): BasicBlock(\n",
              "      (conv1): Conv2d(512, 512, kernel_size=(3, 3), stride=(1, 1), padding=(1, 1), bias=False)\n",
              "      (bn1): BatchNorm2d(512, eps=1e-05, momentum=0.1, affine=True, track_running_stats=True)\n",
              "      (relu): ReLU(inplace=True)\n",
              "      (conv2): Conv2d(512, 512, kernel_size=(3, 3), stride=(1, 1), padding=(1, 1), bias=False)\n",
              "      (bn2): BatchNorm2d(512, eps=1e-05, momentum=0.1, affine=True, track_running_stats=True)\n",
              "    )\n",
              "  )\n",
              "  (avgpool): AdaptiveAvgPool2d(output_size=(1, 1))\n",
              "  (fc): Sequential(\n",
              "    (0): Dropout(p=0.2, inplace=False)\n",
              "    (1): Linear(in_features=512, out_features=7, bias=True)\n",
              "  )\n",
              ")"
            ]
          },
          "metadata": {},
          "execution_count": 230
        }
      ]
    },
    {
      "cell_type": "code",
      "source": [
        "\n",
        "from torch.optim.lr_scheduler import OneCycleLR, CosineAnnealingLR\n",
        "criterion = nn.CrossEntropyLoss(label_smoothing=0.05)\n",
        "optimizer = optim.AdamW(net.parameters(), lr=LR, weight_decay=1e-4)\n",
        "steps_per_epoch = max(1, int(len(tr_loader.dataset)/BATCH))\n",
        "scheduler = OneCycleLR(optimizer, max_lr=LR, epochs=EPOCHS, steps_per_epoch=steps_per_epoch) if MODEL==\"resnet18\" else CosineAnnealingLR(optimizer, T_max=EPOCHS)\n",
        "scaler = torch.cuda.amp.GradScaler(enabled=(device.type==\"cuda\"))\n",
        "\n",
        "def train_one_epoch(model, loader):\n",
        "    model.train(); total_loss=total_correct=total=0\n",
        "    for imgs, labels in loader:\n",
        "        imgs, labels = imgs.to(device), labels.to(device)\n",
        "        optimizer.zero_grad(set_to_none=True)\n",
        "        with torch.cuda.amp.autocast(enabled=(device.type==\"cuda\")):\n",
        "            out=model(imgs); loss=criterion(out, labels)\n",
        "        scaler.scale(loss).backward(); scaler.step(optimizer); scaler.update()\n",
        "        total_loss += loss.item()*labels.size(0)\n",
        "        total_correct += (out.argmax(1)==labels).sum().item()\n",
        "        total += labels.size(0)\n",
        "    return total_loss/total, total_correct/total\n",
        "\n",
        "@torch.no_grad()\n",
        "def evaluate(model, loader):\n",
        "    model.eval(); total_loss=total_correct=total=0; all_p, all_y=[], []\n",
        "    for imgs, labels in loader:\n",
        "        imgs, labels = imgs.to(device), labels.to(device)\n",
        "        out=model(imgs); loss=criterion(out, labels)\n",
        "        total_loss += loss.item()*labels.size(0)\n",
        "        total_correct += (out.argmax(1)==labels).sum().item()\n",
        "        total += labels.size(0)\n",
        "        all_p.append(out.argmax(1).cpu()); all_y.append(labels.cpu())\n",
        "    all_p=torch.cat(all_p).numpy(); all_y=torch.cat(all_y).numpy()\n",
        "    f1 = __import__('sklearn.metrics').metrics.f1_score(all_y, all_p, average='macro')\n",
        "    return total_loss/total, total_correct/total, f1, all_y, all_p"
      ],
      "metadata": {
        "id": "v_oQFtJzVXen"
      },
      "id": "v_oQFtJzVXen",
      "execution_count": 231,
      "outputs": []
    },
    {
      "cell_type": "code",
      "source": [
        "best_f1, best_state = -1.0, None; patience, bad = 8, 0\n",
        "for ep in range(1, EPOCHS+1):\n",
        "    tr_loss, tr_acc = train_one_epoch(net, tr_loader)\n",
        "    va_loss, va_acc, va_f1, y_true, y_pred = evaluate(net, va_loader)\n",
        "    try: scheduler.step()\n",
        "    except: pass\n",
        "    print(f\"Epoch {ep:02d} | tr_loss {tr_loss:.4f} acc {tr_acc:.3f} | val_loss {va_loss:.4f} acc {va_acc:.3f} f1 {va_f1:.3f}\")\n",
        "    if va_f1>best_f1:\n",
        "        best_f1, bad = va_f1, 0\n",
        "        best_state = copy.deepcopy(net.state_dict())\n",
        "        torch.save({'state_dict': best_state, 'classes': classes}, f\"{SAVE_DIR}/best.pt\")\n",
        "    else:\n",
        "        bad+=1\n",
        "        if bad>=8:\n",
        "            print(\"Early stopping\"); break\n",
        "\n",
        "if best_state is not None: net.load_state_dict(best_state)\n",
        "te_loss, te_acc, te_f1, y_true, y_pred = evaluate(net, te_loader)\n",
        "print(f\"TEST | loss {te_loss:.4f} acc {te_acc:.3f} f1 {te_f1:.3f}\")\n",
        "print(classification_report(y_true, y_pred, target_names=classes))"
      ],
      "metadata": {
        "colab": {
          "base_uri": "https://localhost:8080/",
          "height": 845
        },
        "id": "3c18yQi4VbV5",
        "outputId": "c41b8336-4aa8-4af5-d04a-f5fb7fd9c27c"
      },
      "id": "3c18yQi4VbV5",
      "execution_count": 235,
      "outputs": [
        {
          "output_type": "stream",
          "name": "stdout",
          "text": [
            "Epoch 01 | tr_loss 0.7037 acc 0.820 | val_loss 1.0589 acc 0.673 f1 0.661\n",
            "Epoch 02 | tr_loss 0.6958 acc 0.825 | val_loss 1.0557 acc 0.674 f1 0.661\n",
            "Epoch 03 | tr_loss 0.6850 acc 0.831 | val_loss 1.0591 acc 0.671 f1 0.660\n",
            "Epoch 04 | tr_loss 0.6657 acc 0.841 | val_loss 1.0696 acc 0.671 f1 0.661\n",
            "Epoch 05 | tr_loss 0.6593 acc 0.842 | val_loss 1.0730 acc 0.675 f1 0.664\n",
            "Epoch 06 | tr_loss 0.6485 acc 0.850 | val_loss 1.0760 acc 0.675 f1 0.666\n",
            "Epoch 07 | tr_loss 0.6390 acc 0.852 | val_loss 1.0743 acc 0.674 f1 0.661\n",
            "Epoch 08 | tr_loss 0.6302 acc 0.857 | val_loss 1.0852 acc 0.672 f1 0.659\n"
          ]
        },
        {
          "output_type": "stream",
          "name": "stderr",
          "text": [
            "Exception ignored in: <function _MultiProcessingDataLoaderIter.__del__ at 0x7bb9e6576980>\n",
            "Traceback (most recent call last):\n",
            "  File \"/usr/local/lib/python3.12/dist-packages/torch/utils/data/dataloader.py\", line 1664, in __del__\n",
            "    self._shutdown_workers()\n",
            "  File \"/usr/local/lib/python3.12/dist-packages/torch/utils/data/dataloader.py\", line 1628, in _shutdown_workers\n",
            "    w.join(timeout=_utils.MP_STATUS_CHECK_INTERVAL)\n",
            "  File \"/usr/lib/python3.12/multiprocessing/process.py\", line 149, in join\n",
            "    res = self._popen.wait(timeout)\n",
            "          ^^^^^^^^^^^^^^^^^^^^^^^^^\n",
            "  File \"/usr/lib/python3.12/multiprocessing/popen_fork.py\", line 40, in wait\n",
            "    if not wait([self.sentinel], timeout):\n",
            "           ^^^^^^^^^^^^^^^^^^^^^^^^^^^^^^\n",
            "  File \"/usr/lib/python3.12/multiprocessing/connection.py\", line 1136, in wait\n",
            "    ready = selector.select(timeout)\n",
            "            ^^^^^^^^^^^^^^^^^^^^^^^^\n",
            "  File \"/usr/lib/python3.12/selectors.py\", line 415, in select\n",
            "    fd_event_list = self._selector.poll(timeout)\n",
            "                    ^^^^^^^^^^^^^^^^^^^^^^^^^^^^\n",
            "KeyboardInterrupt: \n"
          ]
        },
        {
          "output_type": "error",
          "ename": "KeyboardInterrupt",
          "evalue": "",
          "traceback": [
            "\u001b[0;31m---------------------------------------------------------------------------\u001b[0m",
            "\u001b[0;31mKeyboardInterrupt\u001b[0m                         Traceback (most recent call last)",
            "\u001b[0;32m/tmp/ipython-input-1651947376.py\u001b[0m in \u001b[0;36m<cell line: 0>\u001b[0;34m()\u001b[0m\n\u001b[1;32m      1\u001b[0m \u001b[0mbest_f1\u001b[0m\u001b[0;34m,\u001b[0m \u001b[0mbest_state\u001b[0m \u001b[0;34m=\u001b[0m \u001b[0;34m-\u001b[0m\u001b[0;36m1.0\u001b[0m\u001b[0;34m,\u001b[0m \u001b[0;32mNone\u001b[0m\u001b[0;34m;\u001b[0m \u001b[0mpatience\u001b[0m\u001b[0;34m,\u001b[0m \u001b[0mbad\u001b[0m \u001b[0;34m=\u001b[0m \u001b[0;36m8\u001b[0m\u001b[0;34m,\u001b[0m \u001b[0;36m0\u001b[0m\u001b[0;34m\u001b[0m\u001b[0;34m\u001b[0m\u001b[0m\n\u001b[1;32m      2\u001b[0m \u001b[0;32mfor\u001b[0m \u001b[0mep\u001b[0m \u001b[0;32min\u001b[0m \u001b[0mrange\u001b[0m\u001b[0;34m(\u001b[0m\u001b[0;36m1\u001b[0m\u001b[0;34m,\u001b[0m \u001b[0mEPOCHS\u001b[0m\u001b[0;34m+\u001b[0m\u001b[0;36m1\u001b[0m\u001b[0;34m)\u001b[0m\u001b[0;34m:\u001b[0m\u001b[0;34m\u001b[0m\u001b[0;34m\u001b[0m\u001b[0m\n\u001b[0;32m----> 3\u001b[0;31m     \u001b[0mtr_loss\u001b[0m\u001b[0;34m,\u001b[0m \u001b[0mtr_acc\u001b[0m \u001b[0;34m=\u001b[0m \u001b[0mtrain_one_epoch\u001b[0m\u001b[0;34m(\u001b[0m\u001b[0mnet\u001b[0m\u001b[0;34m,\u001b[0m \u001b[0mtr_loader\u001b[0m\u001b[0;34m)\u001b[0m\u001b[0;34m\u001b[0m\u001b[0;34m\u001b[0m\u001b[0m\n\u001b[0m\u001b[1;32m      4\u001b[0m     \u001b[0mva_loss\u001b[0m\u001b[0;34m,\u001b[0m \u001b[0mva_acc\u001b[0m\u001b[0;34m,\u001b[0m \u001b[0mva_f1\u001b[0m\u001b[0;34m,\u001b[0m \u001b[0my_true\u001b[0m\u001b[0;34m,\u001b[0m \u001b[0my_pred\u001b[0m \u001b[0;34m=\u001b[0m \u001b[0mevaluate\u001b[0m\u001b[0;34m(\u001b[0m\u001b[0mnet\u001b[0m\u001b[0;34m,\u001b[0m \u001b[0mva_loader\u001b[0m\u001b[0;34m)\u001b[0m\u001b[0;34m\u001b[0m\u001b[0;34m\u001b[0m\u001b[0m\n\u001b[1;32m      5\u001b[0m     \u001b[0;32mtry\u001b[0m\u001b[0;34m:\u001b[0m \u001b[0mscheduler\u001b[0m\u001b[0;34m.\u001b[0m\u001b[0mstep\u001b[0m\u001b[0;34m(\u001b[0m\u001b[0;34m)\u001b[0m\u001b[0;34m\u001b[0m\u001b[0;34m\u001b[0m\u001b[0m\n",
            "\u001b[0;32m/tmp/ipython-input-4205381524.py\u001b[0m in \u001b[0;36mtrain_one_epoch\u001b[0;34m(model, loader)\u001b[0m\n\u001b[1;32m     13\u001b[0m         \u001b[0;32mwith\u001b[0m \u001b[0mtorch\u001b[0m\u001b[0;34m.\u001b[0m\u001b[0mcuda\u001b[0m\u001b[0;34m.\u001b[0m\u001b[0mamp\u001b[0m\u001b[0;34m.\u001b[0m\u001b[0mautocast\u001b[0m\u001b[0;34m(\u001b[0m\u001b[0menabled\u001b[0m\u001b[0;34m=\u001b[0m\u001b[0;34m(\u001b[0m\u001b[0mdevice\u001b[0m\u001b[0;34m.\u001b[0m\u001b[0mtype\u001b[0m\u001b[0;34m==\u001b[0m\u001b[0;34m\"cuda\"\u001b[0m\u001b[0;34m)\u001b[0m\u001b[0;34m)\u001b[0m\u001b[0;34m:\u001b[0m\u001b[0;34m\u001b[0m\u001b[0;34m\u001b[0m\u001b[0m\n\u001b[1;32m     14\u001b[0m             \u001b[0mout\u001b[0m\u001b[0;34m=\u001b[0m\u001b[0mmodel\u001b[0m\u001b[0;34m(\u001b[0m\u001b[0mimgs\u001b[0m\u001b[0;34m)\u001b[0m\u001b[0;34m;\u001b[0m \u001b[0mloss\u001b[0m\u001b[0;34m=\u001b[0m\u001b[0mcriterion\u001b[0m\u001b[0;34m(\u001b[0m\u001b[0mout\u001b[0m\u001b[0;34m,\u001b[0m \u001b[0mlabels\u001b[0m\u001b[0;34m)\u001b[0m\u001b[0;34m\u001b[0m\u001b[0;34m\u001b[0m\u001b[0m\n\u001b[0;32m---> 15\u001b[0;31m         \u001b[0mscaler\u001b[0m\u001b[0;34m.\u001b[0m\u001b[0mscale\u001b[0m\u001b[0;34m(\u001b[0m\u001b[0mloss\u001b[0m\u001b[0;34m)\u001b[0m\u001b[0;34m.\u001b[0m\u001b[0mbackward\u001b[0m\u001b[0;34m(\u001b[0m\u001b[0;34m)\u001b[0m\u001b[0;34m;\u001b[0m \u001b[0mscaler\u001b[0m\u001b[0;34m.\u001b[0m\u001b[0mstep\u001b[0m\u001b[0;34m(\u001b[0m\u001b[0moptimizer\u001b[0m\u001b[0;34m)\u001b[0m\u001b[0;34m;\u001b[0m \u001b[0mscaler\u001b[0m\u001b[0;34m.\u001b[0m\u001b[0mupdate\u001b[0m\u001b[0;34m(\u001b[0m\u001b[0;34m)\u001b[0m\u001b[0;34m\u001b[0m\u001b[0;34m\u001b[0m\u001b[0m\n\u001b[0m\u001b[1;32m     16\u001b[0m         \u001b[0mtotal_loss\u001b[0m \u001b[0;34m+=\u001b[0m \u001b[0mloss\u001b[0m\u001b[0;34m.\u001b[0m\u001b[0mitem\u001b[0m\u001b[0;34m(\u001b[0m\u001b[0;34m)\u001b[0m\u001b[0;34m*\u001b[0m\u001b[0mlabels\u001b[0m\u001b[0;34m.\u001b[0m\u001b[0msize\u001b[0m\u001b[0;34m(\u001b[0m\u001b[0;36m0\u001b[0m\u001b[0;34m)\u001b[0m\u001b[0;34m\u001b[0m\u001b[0;34m\u001b[0m\u001b[0m\n\u001b[1;32m     17\u001b[0m         \u001b[0mtotal_correct\u001b[0m \u001b[0;34m+=\u001b[0m \u001b[0;34m(\u001b[0m\u001b[0mout\u001b[0m\u001b[0;34m.\u001b[0m\u001b[0margmax\u001b[0m\u001b[0;34m(\u001b[0m\u001b[0;36m1\u001b[0m\u001b[0;34m)\u001b[0m\u001b[0;34m==\u001b[0m\u001b[0mlabels\u001b[0m\u001b[0;34m)\u001b[0m\u001b[0;34m.\u001b[0m\u001b[0msum\u001b[0m\u001b[0;34m(\u001b[0m\u001b[0;34m)\u001b[0m\u001b[0;34m.\u001b[0m\u001b[0mitem\u001b[0m\u001b[0;34m(\u001b[0m\u001b[0;34m)\u001b[0m\u001b[0;34m\u001b[0m\u001b[0;34m\u001b[0m\u001b[0m\n",
            "\u001b[0;32m/usr/local/lib/python3.12/dist-packages/torch/amp/grad_scaler.py\u001b[0m in \u001b[0;36mstep\u001b[0;34m(self, optimizer, *args, **kwargs)\u001b[0m\n\u001b[1;32m    463\u001b[0m         ), \"No inf checks were recorded for this optimizer.\"\n\u001b[1;32m    464\u001b[0m \u001b[0;34m\u001b[0m\u001b[0m\n\u001b[0;32m--> 465\u001b[0;31m         \u001b[0mretval\u001b[0m \u001b[0;34m=\u001b[0m \u001b[0mself\u001b[0m\u001b[0;34m.\u001b[0m\u001b[0m_maybe_opt_step\u001b[0m\u001b[0;34m(\u001b[0m\u001b[0moptimizer\u001b[0m\u001b[0;34m,\u001b[0m \u001b[0moptimizer_state\u001b[0m\u001b[0;34m,\u001b[0m \u001b[0;34m*\u001b[0m\u001b[0margs\u001b[0m\u001b[0;34m,\u001b[0m \u001b[0;34m**\u001b[0m\u001b[0mkwargs\u001b[0m\u001b[0;34m)\u001b[0m\u001b[0;34m\u001b[0m\u001b[0;34m\u001b[0m\u001b[0m\n\u001b[0m\u001b[1;32m    466\u001b[0m \u001b[0;34m\u001b[0m\u001b[0m\n\u001b[1;32m    467\u001b[0m         \u001b[0moptimizer_state\u001b[0m\u001b[0;34m[\u001b[0m\u001b[0;34m\"stage\"\u001b[0m\u001b[0;34m]\u001b[0m \u001b[0;34m=\u001b[0m \u001b[0mOptState\u001b[0m\u001b[0;34m.\u001b[0m\u001b[0mSTEPPED\u001b[0m\u001b[0;34m\u001b[0m\u001b[0;34m\u001b[0m\u001b[0m\n",
            "\u001b[0;32m/usr/local/lib/python3.12/dist-packages/torch/amp/grad_scaler.py\u001b[0m in \u001b[0;36m_maybe_opt_step\u001b[0;34m(self, optimizer, optimizer_state, *args, **kwargs)\u001b[0m\n\u001b[1;32m    357\u001b[0m     ) -> Optional[float]:\n\u001b[1;32m    358\u001b[0m         \u001b[0mretval\u001b[0m\u001b[0;34m:\u001b[0m \u001b[0mOptional\u001b[0m\u001b[0;34m[\u001b[0m\u001b[0mfloat\u001b[0m\u001b[0;34m]\u001b[0m \u001b[0;34m=\u001b[0m \u001b[0;32mNone\u001b[0m\u001b[0;34m\u001b[0m\u001b[0;34m\u001b[0m\u001b[0m\n\u001b[0;32m--> 359\u001b[0;31m         \u001b[0;32mif\u001b[0m \u001b[0;32mnot\u001b[0m \u001b[0msum\u001b[0m\u001b[0;34m(\u001b[0m\u001b[0mv\u001b[0m\u001b[0;34m.\u001b[0m\u001b[0mitem\u001b[0m\u001b[0;34m(\u001b[0m\u001b[0;34m)\u001b[0m \u001b[0;32mfor\u001b[0m \u001b[0mv\u001b[0m \u001b[0;32min\u001b[0m \u001b[0moptimizer_state\u001b[0m\u001b[0;34m[\u001b[0m\u001b[0;34m\"found_inf_per_device\"\u001b[0m\u001b[0;34m]\u001b[0m\u001b[0;34m.\u001b[0m\u001b[0mvalues\u001b[0m\u001b[0;34m(\u001b[0m\u001b[0;34m)\u001b[0m\u001b[0;34m)\u001b[0m\u001b[0;34m:\u001b[0m\u001b[0;34m\u001b[0m\u001b[0;34m\u001b[0m\u001b[0m\n\u001b[0m\u001b[1;32m    360\u001b[0m             \u001b[0mretval\u001b[0m \u001b[0;34m=\u001b[0m \u001b[0moptimizer\u001b[0m\u001b[0;34m.\u001b[0m\u001b[0mstep\u001b[0m\u001b[0;34m(\u001b[0m\u001b[0;34m*\u001b[0m\u001b[0margs\u001b[0m\u001b[0;34m,\u001b[0m \u001b[0;34m**\u001b[0m\u001b[0mkwargs\u001b[0m\u001b[0;34m)\u001b[0m\u001b[0;34m\u001b[0m\u001b[0;34m\u001b[0m\u001b[0m\n\u001b[1;32m    361\u001b[0m         \u001b[0;32mreturn\u001b[0m \u001b[0mretval\u001b[0m\u001b[0;34m\u001b[0m\u001b[0;34m\u001b[0m\u001b[0m\n",
            "\u001b[0;32m/usr/local/lib/python3.12/dist-packages/torch/amp/grad_scaler.py\u001b[0m in \u001b[0;36m<genexpr>\u001b[0;34m(.0)\u001b[0m\n\u001b[1;32m    357\u001b[0m     ) -> Optional[float]:\n\u001b[1;32m    358\u001b[0m         \u001b[0mretval\u001b[0m\u001b[0;34m:\u001b[0m \u001b[0mOptional\u001b[0m\u001b[0;34m[\u001b[0m\u001b[0mfloat\u001b[0m\u001b[0;34m]\u001b[0m \u001b[0;34m=\u001b[0m \u001b[0;32mNone\u001b[0m\u001b[0;34m\u001b[0m\u001b[0;34m\u001b[0m\u001b[0m\n\u001b[0;32m--> 359\u001b[0;31m         \u001b[0;32mif\u001b[0m \u001b[0;32mnot\u001b[0m \u001b[0msum\u001b[0m\u001b[0;34m(\u001b[0m\u001b[0mv\u001b[0m\u001b[0;34m.\u001b[0m\u001b[0mitem\u001b[0m\u001b[0;34m(\u001b[0m\u001b[0;34m)\u001b[0m \u001b[0;32mfor\u001b[0m \u001b[0mv\u001b[0m \u001b[0;32min\u001b[0m \u001b[0moptimizer_state\u001b[0m\u001b[0;34m[\u001b[0m\u001b[0;34m\"found_inf_per_device\"\u001b[0m\u001b[0;34m]\u001b[0m\u001b[0;34m.\u001b[0m\u001b[0mvalues\u001b[0m\u001b[0;34m(\u001b[0m\u001b[0;34m)\u001b[0m\u001b[0;34m)\u001b[0m\u001b[0;34m:\u001b[0m\u001b[0;34m\u001b[0m\u001b[0;34m\u001b[0m\u001b[0m\n\u001b[0m\u001b[1;32m    360\u001b[0m             \u001b[0mretval\u001b[0m \u001b[0;34m=\u001b[0m \u001b[0moptimizer\u001b[0m\u001b[0;34m.\u001b[0m\u001b[0mstep\u001b[0m\u001b[0;34m(\u001b[0m\u001b[0;34m*\u001b[0m\u001b[0margs\u001b[0m\u001b[0;34m,\u001b[0m \u001b[0;34m**\u001b[0m\u001b[0mkwargs\u001b[0m\u001b[0;34m)\u001b[0m\u001b[0;34m\u001b[0m\u001b[0;34m\u001b[0m\u001b[0m\n\u001b[1;32m    361\u001b[0m         \u001b[0;32mreturn\u001b[0m \u001b[0mretval\u001b[0m\u001b[0;34m\u001b[0m\u001b[0;34m\u001b[0m\u001b[0m\n",
            "\u001b[0;31mKeyboardInterrupt\u001b[0m: "
          ]
        }
      ]
    },
    {
      "cell_type": "code",
      "source": [
        "from sklearn.metrics import confusion_matrix\n",
        "cm = confusion_matrix(y_true, y_pred, labels=list(range(len(classes))))\n",
        "fig, ax = plt.subplots(figsize=(6,5))\n",
        "im = ax.imshow(cm, aspect='auto')\n",
        "ax.set_title(\"FER Confusion Matrix (Test)\")\n",
        "ax.set_xlabel(\"Predicted\"); ax.set_ylabel(\"True\")\n",
        "ax.set_xticks(range(len(classes))); ax.set_yticks(range(len(classes)))\n",
        "ax.set_xticklabels(classes, rotation=45, ha='right'); ax.set_yticklabels(classes)\n",
        "for i in range(len(classes)):\n",
        "    for j in range(len(classes)):\n",
        "        ax.text(j, i, cm[i, j], ha=\"center\", va=\"center\")\n",
        "fig.colorbar(im, ax); fig.tight_layout()\n",
        "fig.savefig(f\"{SAVE_DIR}/confusion_matrix.png\", dpi=160)"
      ],
      "metadata": {
        "colab": {
          "base_uri": "https://localhost:8080/",
          "height": 150
        },
        "id": "VjKw2FG-VdIc",
        "outputId": "b368ccce-5f26-4a89-b948-c98f99bd9fae"
      },
      "id": "VjKw2FG-VdIc",
      "execution_count": 234,
      "outputs": [
        {
          "output_type": "display_data",
          "data": {
            "text/plain": [
              "<Figure size 600x500 with 1 Axes>"
            ],
            "image/png": "[encoded data removed]"
          },
          "metadata": {}
        }
      ]
    },
    {
      "cell_type": "code",
      "source": [],
      "metadata": {
        "id": "OqaFXUXtcGrG"
      },
      "id": "OqaFXUXtcGrG",
      "execution_count": null,
      "outputs": []
    },
    {
      "cell_type": "markdown",
      "metadata": {
        "id": "493ef694"
      },
      "source": [
        "# Task\n",
        "Improve the accuracy of the image classification model by exploring different hyperparameter settings, data augmentation techniques, model architectures, training schedules, regularization methods, and loss functions."
      ],
      "id": "493ef694"
    },
    {
      "cell_type": "markdown",
      "metadata": {
        "id": "0919c113"
      },
      "source": [
        "## Hyperparameter tuning\n",
        "\n",
        "### Subtask:\n",
        "Experiment with different learning rates, batch sizes, optimizers, and weight decay values.\n"
      ],
      "id": "0919c113"
    },
    {
      "cell_type": "markdown",
      "metadata": {
        "id": "dff79d7c"
      },
      "source": [
        "**Reasoning**:\n",
        "I will modify the hyperparameters (LR, BATCH, WEIGHT_DECAY) and the optimizer, then run the training loop to observe the impact on performance.\n",
        "\n"
      ],
      "id": "dff79d7c"
    },
    {
      "cell_type": "code",
      "metadata": {
        "colab": {
          "base_uri": "https://localhost:8080/"
        },
        "id": "b6c50db6",
        "outputId": "1fd1c1fb-3087-44a7-b2d2-47b71cd4cf0a"
      },
      "source": [
        "# Experiment with different hyperparameters\n",
        "LR = 1e-4  # Reduced learning rate\n",
        "BATCH = 64 # Reduced batch size\n",
        "WEIGHT_DECAY = 5e-4 # Increased weight decay\n",
        "\n",
        "# Try a different optimizer\n",
        "optimizer = optim.SGD(net.parameters(), lr=LR, momentum=0.9, weight_decay=WEIGHT_DECAY)\n",
        "\n",
        "# Rebuild the dataloaders with the new batch size\n",
        "tr_loader = DataLoader(ds_tr, batch_size=BATCH, sampler=sampler, num_workers=4, pin_memory=True)\n",
        "va_loader = DataLoader(ds_va, batch_size=BATCH, shuffle=False, num_workers=4, pin_memory=True)\n",
        "te_loader = DataLoader(ds_te, batch_size=BATCH, shuffle=False, num_workers=4, pin_memory=True)\n",
        "\n",
        "# Re-define the scheduler with the potentially new steps_per_epoch\n",
        "steps_per_epoch = max(1, int(len(tr_loader.dataset)/BATCH))\n",
        "scheduler = OneCycleLR(optimizer, max_lr=LR, epochs=EPOCHS, steps_per_epoch=steps_per_epoch) if MODEL==\"resnet18\" else CosineAnnealingLR(optimizer, T_max=EPOCHS)\n",
        "\n",
        "# Rerun the training loop\n",
        "best_f1, best_state = -1.0, None; patience, bad = 8, 0\n",
        "for ep in range(1, EPOCHS+1):\n",
        "    tr_loss, tr_acc = train_one_epoch(net, tr_loader)\n",
        "    va_loss, va_acc, va_f1, y_true, y_pred = evaluate(net, va_loader)\n",
        "    try: scheduler.step()\n",
        "    except: pass\n",
        "    print(f\"Epoch {ep:02d} | tr_loss {tr_loss:.4f} acc {tr_acc:.3f} | val_loss {va_loss:.4f} acc {va_acc:.3f} f1 {va_f1:.3f}\")\n",
        "    if va_f1>best_f1:\n",
        "        best_f1, bad = va_f1, 0\n",
        "        best_state = copy.deepcopy(net.state_dict())\n",
        "        torch.save({'state_dict': best_state, 'classes': classes}, f\"{SAVE_DIR}/best.pt\")\n",
        "    else:\n",
        "        bad+=1\n",
        "        if bad>=8:\n",
        "            print(\"Early stopping\"); break\n",
        "\n",
        "if best_state is not None: net.load_state_dict(best_state)\n",
        "te_loss, te_acc, te_f1, y_true, y_pred = evaluate(net, te_loader)\n",
        "print(f\"TEST | loss {te_loss:.4f} acc {te_acc:.3f} f1 {te_f1:.3f}\")\n",
        "print(classification_report(y_true, y_pred, target_names=classes))"
      ],
      "id": "b6c50db6",
      "execution_count": 236,
      "outputs": [
        {
          "output_type": "stream",
          "name": "stdout",
          "text": [
            "Epoch 01 | tr_loss 0.6291 acc 0.858 | val_loss 1.0917 acc 0.675 f1 0.665\n",
            "Epoch 02 | tr_loss 0.6233 acc 0.860 | val_loss 1.0909 acc 0.680 f1 0.666\n",
            "Epoch 03 | tr_loss 0.6310 acc 0.857 | val_loss 1.0886 acc 0.677 f1 0.666\n",
            "Epoch 04 | tr_loss 0.6233 acc 0.861 | val_loss 1.0885 acc 0.677 f1 0.662\n",
            "Epoch 05 | tr_loss 0.6218 acc 0.862 | val_loss 1.0832 acc 0.679 f1 0.666\n",
            "Epoch 06 | tr_loss 0.6194 acc 0.863 | val_loss 1.0889 acc 0.676 f1 0.665\n",
            "Epoch 07 | tr_loss 0.6189 acc 0.862 | val_loss 1.0943 acc 0.677 f1 0.658\n",
            "Epoch 08 | tr_loss 0.6194 acc 0.861 | val_loss 1.0843 acc 0.681 f1 0.671\n",
            "Epoch 09 | tr_loss 0.6187 acc 0.862 | val_loss 1.0879 acc 0.680 f1 0.670\n",
            "Epoch 10 | tr_loss 0.6171 acc 0.864 | val_loss 1.0881 acc 0.678 f1 0.668\n",
            "Epoch 11 | tr_loss 0.6212 acc 0.860 | val_loss 1.0952 acc 0.675 f1 0.663\n",
            "Epoch 12 | tr_loss 0.6171 acc 0.862 | val_loss 1.0847 acc 0.681 f1 0.670\n",
            "Epoch 13 | tr_loss 0.6162 acc 0.863 | val_loss 1.0822 acc 0.682 f1 0.669\n",
            "Epoch 14 | tr_loss 0.6185 acc 0.862 | val_loss 1.0854 acc 0.680 f1 0.671\n",
            "Epoch 15 | tr_loss 0.6102 acc 0.867 | val_loss 1.0902 acc 0.682 f1 0.675\n",
            "Epoch 16 | tr_loss 0.6115 acc 0.865 | val_loss 1.0906 acc 0.680 f1 0.669\n",
            "Epoch 17 | tr_loss 0.6125 acc 0.867 | val_loss 1.0929 acc 0.677 f1 0.663\n",
            "Epoch 18 | tr_loss 0.6132 acc 0.866 | val_loss 1.0888 acc 0.678 f1 0.667\n",
            "Epoch 19 | tr_loss 0.6164 acc 0.863 | val_loss 1.0953 acc 0.676 f1 0.666\n",
            "Epoch 20 | tr_loss 0.6121 acc 0.865 | val_loss 1.0901 acc 0.678 f1 0.665\n",
            "Epoch 21 | tr_loss 0.6115 acc 0.865 | val_loss 1.0900 acc 0.677 f1 0.667\n",
            "Epoch 22 | tr_loss 0.6096 acc 0.866 | val_loss 1.0873 acc 0.680 f1 0.669\n",
            "Epoch 23 | tr_loss 0.6049 acc 0.868 | val_loss 1.0910 acc 0.677 f1 0.666\n",
            "Early stopping\n",
            "TEST | loss 1.0973 acc 0.666 f1 0.653\n",
            "              precision    recall  f1-score   support\n",
            "\n",
            "       angry       0.59      0.56      0.57       192\n",
            "     disgust       0.74      0.64      0.68        22\n",
            "        fear       0.50      0.50      0.50       204\n",
            "       happy       0.89      0.85      0.87       365\n",
            "     neutral       0.66      0.62      0.64       243\n",
            "         sad       0.51      0.58      0.54       228\n",
            "    surprise       0.76      0.79      0.77       159\n",
            "\n",
            "    accuracy                           0.67      1413\n",
            "   macro avg       0.66      0.65      0.65      1413\n",
            "weighted avg       0.67      0.67      0.67      1413\n",
            "\n"
          ]
        }
      ]
    },
    {
      "cell_type": "markdown",
      "metadata": {
        "id": "ef9d03f9"
      },
      "source": [
        "## Data augmentation\n",
        "\n",
        "### Subtask:\n",
        "Implement more advanced data augmentation techniques beyond the current random horizontal flip and rotation to make the model more robust.\n"
      ],
      "id": "ef9d03f9"
    },
    {
      "cell_type": "markdown",
      "metadata": {
        "id": "1cb11420"
      },
      "source": [
        "**Reasoning**:\n",
        "Modify the `build_transforms` function to include more advanced data augmentation techniques suitable for grayscale images if IMG_MODE is \"L\", otherwise for RGB images.\n",
        "\n"
      ],
      "id": "1cb11420"
    },
    {
      "cell_type": "code",
      "metadata": {
        "colab": {
          "base_uri": "https://localhost:8080/"
        },
        "id": "799287bb",
        "outputId": "84cce607-ca35-44dd-a76c-8db5a61a8562"
      },
      "source": [
        "def build_transforms(img_size=224, model=\"resnet18\", img_mode=\"L\"):\n",
        "    # Ensure the output is 1 channel if img_mode is \"L\"\n",
        "    if img_mode == \"L\":\n",
        "        train_tf = transforms.Compose([\n",
        "            transforms.Grayscale(num_output_channels=1), # Ensure 1 output channel\n",
        "            transforms.RandomResizedCrop(img_size, scale=(0.7,1.0), ratio=(0.75, 1.333333)), # More aggressive cropping\n",
        "            transforms.RandomHorizontalFlip(),\n",
        "            transforms.RandomRotation(20), # Increased rotation range\n",
        "            transforms.RandomAffine(degrees=0, translate=(0.1, 0.1), scale=(0.9, 1.1)), # Add affine transformations\n",
        "            transforms.ColorJitter(brightness=0.2, contrast=0.2), # Add color jitter for grayscale\n",
        "            transforms.ToTensor(),\n",
        "            # Normalize for 1 channel\n",
        "            transforms.Normalize(mean=[0.5], std=[0.5])\n",
        "        ])\n",
        "        eval_tf = transforms.Compose([\n",
        "            transforms.Grayscale(num_output_channels=1), # Ensure 1 output channel\n",
        "            transforms.Resize(int(img_size*1.15)), transforms.CenterCrop(img_size),\n",
        "            transforms.ToTensor(),\n",
        "            # Normalize for 1 channel\n",
        "            transforms.Normalize(mean=[0.5], std=[0.5])\n",
        "        ])\n",
        "    else: # Assuming RGB\n",
        "        train_tf = transforms.Compose([\n",
        "            transforms.Grayscale(num_output_channels=3), # Keep 3 channels for RGB if needed\n",
        "            transforms.RandomResizedCrop(img_size, scale=(0.7,1.0), ratio=(0.75, 1.333333)),\n",
        "            transforms.RandomHorizontalFlip(),\n",
        "            transforms.RandomRotation(20),\n",
        "            transforms.RandomAffine(degrees=0, translate=(0.1, 0.1), scale=(0.9, 1.1)),\n",
        "            transforms.ColorJitter(brightness=0.2, contrast=0.2),\n",
        "            transforms.ToTensor(),\n",
        "            transforms.Normalize(mean=[0.485,0.456,0.406], std=[0.229,0.224,0.225])\n",
        "        ])\n",
        "        eval_tf = transforms.Compose([\n",
        "            transforms.Grayscale(num_output_channels=3), # Keep 3 channels for RGB if needed\n",
        "            transforms.Resize(int(img_size*1.15)), transforms.CenterCrop(img_size),\n",
        "            transforms.ToTensor(),\n",
        "            transforms.Normalize(mean=[0.485,0.456,0.406], std=[0.229,0.224,0.225])\n",
        "        ])\n",
        "\n",
        "    return train_tf, eval_tf\n",
        "\n",
        "# Re-instantiate datasets and dataloaders with the updated transforms\n",
        "# Assuming LABEL_MAP, IMG_SZ, MODEL, IMAGES_ROOT, TRAIN_CSV, VAL_CSV, TEST_CSV, BATCH are defined in previous cells\n",
        "str2idx, idx2str = read_label_map(LABEL_MAP)\n",
        "classes = [k for k,_ in sorted(str2idx.items(), key=lambda kv: kv[1])]\n",
        "\n",
        "# Pass IMG_MODE to build_transforms, assuming IMG_MODE is defined\n",
        "# Define IMG_MODE if it's not defined in previous cells\n",
        "try: IMG_MODE\n",
        "except NameError: IMG_MODE = \"L\" # Default to grayscale if not defined\n",
        "\n",
        "train_tf, eval_tf = build_transforms(IMG_SZ, MODEL, IMG_MODE)\n",
        "\n",
        "ds_tr = CSVDataset(TRAIN_CSV, str2idx, IMAGES_ROOT, transform=train_tf)\n",
        "ds_va = CSVDataset(VAL_CSV,   str2idx, IMAGES_ROOT, transform=eval_tf)\n",
        "ds_te = CSVDataset(TEST_CSV,  str2idx, IMAGES_ROOT, transform=eval_tf)\n",
        "\n",
        "# Rebuild sampler for the training dataset\n",
        "counts = torch.zeros(len(classes))\n",
        "for y in ds_tr.df[ds_tr.label_col].astype(str):\n",
        "    counts[str2idx[y]] += 1\n",
        "wpc = 1.0/torch.clamp(counts, min=1.0)\n",
        "sample_weights = [wpc[str2idx[y]].item() for y in ds_tr.df[ds_tr.label_col].astype(str)]\n",
        "from torch.utils.data import WeightedRandomSampler, DataLoader\n",
        "sampler = WeightedRandomSampler(sample_weights, num_samples=len(sample_weights), replacement=True)\n",
        "\n",
        "# Rebuild dataloaders\n",
        "tr_loader = DataLoader(ds_tr, batch_size=BATCH, sampler=sampler, num_workers=4, pin_memory=True)\n",
        "va_loader = DataLoader(ds_va, batch_size=BATCH, shuffle=False, num_workers=4, pin_memory=True)\n",
        "te_loader = DataLoader(ds_te, batch_size=BATCH, shuffle=False, num_workers=4, pin_memory=True)\n",
        "\n",
        "# Rerun the training loop\n",
        "best_f1, best_state = -1.0, None; patience, bad = 8, 0\n",
        "for ep in range(1, EPOCHS+1):\n",
        "    tr_loss, tr_acc = train_one_epoch(net, tr_loader)\n",
        "    va_loss, va_acc, va_f1, y_true, y_pred = evaluate(net, va_loader)\n",
        "    try: scheduler.step()\n",
        "    except: pass\n",
        "    print(f\"Epoch {ep:02d} | tr_loss {tr_loss:.4f} acc {tr_acc:.3f} | val_loss {va_loss:.4f} acc {va_acc:.3f} f1 {va_f1:.3f}\")\n",
        "    if va_f1>best_f1:\n",
        "        best_f1, bad = va_f1, 0\n",
        "        best_state = copy.deepcopy(net.state_dict())\n",
        "        torch.save({'state_dict': best_state, 'classes': classes}, f\"{SAVE_DIR}/best.pt\")\n",
        "    else:\n",
        "        bad+=1\n",
        "        if bad>=8:\n",
        "            print(\"Early stopping\"); break\n",
        "\n",
        "if best_state is not None: net.load_state_dict(best_state)\n",
        "te_loss, te_acc, te_f1, y_true, y_pred = evaluate(net, te_loader)\n",
        "print(f\"TEST | loss {te_loss:.4f} acc {te_acc:.3f} f1 {te_f1:.3f}\")\n",
        "print(classification_report(y_true, y_pred, target_names=classes))"
      ],
      "id": "799287bb",
      "execution_count": 237,
      "outputs": [
        {
          "output_type": "stream",
          "name": "stdout",
          "text": [
            "Epoch 01 | tr_loss 0.8909 acc 0.738 | val_loss 1.1005 acc 0.665 f1 0.646\n",
            "Epoch 02 | tr_loss 0.8708 acc 0.745 | val_loss 1.1095 acc 0.663 f1 0.637\n",
            "Epoch 03 | tr_loss 0.8776 acc 0.742 | val_loss 1.1069 acc 0.663 f1 0.639\n",
            "Epoch 04 | tr_loss 0.8693 acc 0.742 | val_loss 1.0896 acc 0.671 f1 0.649\n",
            "Epoch 05 | tr_loss 0.8552 acc 0.750 | val_loss 1.0991 acc 0.668 f1 0.644\n",
            "Epoch 06 | tr_loss 0.8518 acc 0.755 | val_loss 1.0927 acc 0.669 f1 0.651\n",
            "Epoch 07 | tr_loss 0.8616 acc 0.753 | val_loss 1.0889 acc 0.672 f1 0.651\n",
            "Epoch 08 | tr_loss 0.8611 acc 0.748 | val_loss 1.0875 acc 0.674 f1 0.652\n",
            "Epoch 09 | tr_loss 0.8535 acc 0.750 | val_loss 1.0895 acc 0.674 f1 0.652\n",
            "Epoch 10 | tr_loss 0.8437 acc 0.757 | val_loss 1.0856 acc 0.673 f1 0.657\n",
            "Epoch 11 | tr_loss 0.8482 acc 0.753 | val_loss 1.0912 acc 0.673 f1 0.650\n",
            "Epoch 12 | tr_loss 0.8475 acc 0.755 | val_loss 1.0891 acc 0.672 f1 0.650\n",
            "Epoch 13 | tr_loss 0.8445 acc 0.759 | val_loss 1.0936 acc 0.672 f1 0.648\n",
            "Epoch 14 | tr_loss 0.8438 acc 0.755 | val_loss 1.0817 acc 0.676 f1 0.658\n",
            "Epoch 15 | tr_loss 0.8485 acc 0.756 | val_loss 1.0853 acc 0.674 f1 0.653\n",
            "Epoch 16 | tr_loss 0.8402 acc 0.759 | val_loss 1.0845 acc 0.677 f1 0.660\n",
            "Epoch 17 | tr_loss 0.8400 acc 0.759 | val_loss 1.0821 acc 0.674 f1 0.658\n",
            "Epoch 18 | tr_loss 0.8343 acc 0.759 | val_loss 1.0816 acc 0.676 f1 0.656\n",
            "Epoch 19 | tr_loss 0.8461 acc 0.752 | val_loss 1.0804 acc 0.675 f1 0.656\n",
            "Epoch 20 | tr_loss 0.8293 acc 0.765 | val_loss 1.0842 acc 0.677 f1 0.655\n",
            "Epoch 21 | tr_loss 0.8394 acc 0.761 | val_loss 1.0721 acc 0.679 f1 0.664\n",
            "Epoch 22 | tr_loss 0.8415 acc 0.757 | val_loss 1.0778 acc 0.676 f1 0.656\n",
            "Epoch 23 | tr_loss 0.8335 acc 0.762 | val_loss 1.0821 acc 0.675 f1 0.655\n",
            "Epoch 24 | tr_loss 0.8368 acc 0.759 | val_loss 1.0798 acc 0.676 f1 0.663\n",
            "Epoch 25 | tr_loss 0.8337 acc 0.763 | val_loss 1.0840 acc 0.671 f1 0.654\n",
            "Epoch 26 | tr_loss 0.8341 acc 0.763 | val_loss 1.0770 acc 0.679 f1 0.659\n",
            "Epoch 27 | tr_loss 0.8296 acc 0.764 | val_loss 1.0716 acc 0.678 f1 0.661\n",
            "Epoch 28 | tr_loss 0.8253 acc 0.767 | val_loss 1.0763 acc 0.679 f1 0.662\n",
            "Epoch 29 | tr_loss 0.8266 acc 0.764 | val_loss 1.0748 acc 0.678 f1 0.664\n",
            "Epoch 30 | tr_loss 0.8280 acc 0.763 | val_loss 1.0777 acc 0.676 f1 0.657\n",
            "TEST | loss 1.0770 acc 0.665 f1 0.648\n",
            "              precision    recall  f1-score   support\n",
            "\n",
            "       angry       0.58      0.59      0.58       192\n",
            "     disgust       0.70      0.64      0.67        22\n",
            "        fear       0.49      0.48      0.49       204\n",
            "       happy       0.90      0.84      0.87       365\n",
            "     neutral       0.60      0.67      0.64       243\n",
            "         sad       0.54      0.49      0.52       228\n",
            "    surprise       0.74      0.82      0.78       159\n",
            "\n",
            "    accuracy                           0.67      1413\n",
            "   macro avg       0.65      0.65      0.65      1413\n",
            "weighted avg       0.67      0.67      0.66      1413\n",
            "\n"
          ]
        }
      ]
    },
    {
      "cell_type": "markdown",
      "metadata": {
        "id": "75eabb66"
      },
      "source": [
        "## Model architecture\n",
        "\n",
        "### Subtask:\n",
        "Explore different model architectures or variations of the current ResNet-18 model, potentially using pre-trained weights differently or trying a larger model.\n"
      ],
      "id": "75eabb66"
    },
    {
      "cell_type": "markdown",
      "metadata": {
        "id": "32a306ee"
      },
      "source": [
        "**Reasoning**:\n",
        "I will modify the `build_resnet18` function to allow building ResNet34 and ResNet50 models, adapt the input layer for grayscale images, and then instantiate a ResNet34 model and rerun the training loop to evaluate its performance.\n",
        "\n"
      ],
      "id": "32a306ee"
    },
    {
      "cell_type": "code",
      "metadata": {
        "colab": {
          "base_uri": "https://localhost:8080/"
        },
        "id": "4470421d",
        "outputId": "205177a8-060e-4a01-9ed7-0a0248df78bf"
      },
      "source": [
        "def build_resnet(model_name, num_classes, in_ch=1, pretrained=True, dropout=0.2):\n",
        "    if model_name == \"resnet18\":\n",
        "        m = models.resnet18(weights=models.ResNet18_Weights.DEFAULT if pretrained else None)\n",
        "    elif model_name == \"resnet34\":\n",
        "        m = models.resnet34(weights=models.ResNet34_Weights.DEFAULT if pretrained else None)\n",
        "    elif model_name == \"resnet50\":\n",
        "        m = models.resnet50(weights=models.ResNet50_Weights.DEFAULT if pretrained else None)\n",
        "    else:\n",
        "        raise ValueError(f\"Model {model_name} not supported\")\n",
        "\n",
        "    if in_ch == 1:\n",
        "        w = m.conv1.weight\n",
        "        m.conv1 = nn.Conv2d(1, 64, kernel_size=(7, 7), stride=(2, 2), padding=(3, 3), bias=False)\n",
        "        if pretrained:\n",
        "            with torch.no_grad():\n",
        "                m.conv1.weight[:] = w.mean(dim=1, keepdim=True)\n",
        "\n",
        "    m.fc = nn.Sequential(nn.Dropout(dropout), nn.Linear(m.fc.in_features, num_classes))\n",
        "    return m\n",
        "\n",
        "# Use ResNet34\n",
        "MODEL_ARCH = \"resnet34\" # Changed from MODEL\n",
        "net = build_resnet(MODEL_ARCH, len(classes), in_ch=1, pretrained=True, dropout=0.2)\n",
        "net.to(device)\n",
        "\n",
        "# Re-define optimizer and scheduler for the new model parameters\n",
        "optimizer = optim.AdamW(net.parameters(), lr=LR, weight_decay=1e-4) # Using AdamW again with potentially updated LR\n",
        "steps_per_epoch = max(1, int(len(tr_loader.dataset)/BATCH))\n",
        "scheduler = OneCycleLR(optimizer, max_lr=LR, epochs=EPOCHS, steps_per_epoch=steps_per_epoch) if MODEL_ARCH.startswith(\"resnet\") else CosineAnnealingLR(optimizer, T_max=EPOCHS)\n",
        "\n",
        "# Rerun the training loop\n",
        "best_f1, best_state = -1.0, None; patience, bad = 8, 0\n",
        "for ep in range(1, EPOCHS+1):\n",
        "    tr_loss, tr_acc = train_one_epoch(net, tr_loader)\n",
        "    va_loss, va_acc, va_f1, y_true, y_pred = evaluate(net, va_loader)\n",
        "    try: scheduler.step()\n",
        "    except: pass\n",
        "    print(f\"Epoch {ep:02d} | tr_loss {tr_loss:.4f} acc {tr_acc:.3f} | val_loss {va_loss:.4f} acc {va_acc:.3f} f1 {va_f1:.3f}\")\n",
        "    if va_f1>best_f1:\n",
        "        best_f1, bad = va_f1, 0\n",
        "        best_state = copy.deepcopy(net.state_dict())\n",
        "        torch.save({'state_dict': best_state, 'classes': classes}, f\"{SAVE_DIR}/best.pt\")\n",
        "    else:\n",
        "        bad+=1\n",
        "        if bad>=8:\n",
        "            print(\"Early stopping\"); break\n",
        "\n",
        "if best_state is not None: net.load_state_dict(best_state)\n",
        "te_loss, te_acc, te_f1, y_true, y_pred = evaluate(net, te_loader)\n",
        "print(f\"TEST | loss {te_loss:.4f} acc {te_acc:.3f} f1 {te_f1:.3f}\")\n",
        "print(classification_report(y_true, y_pred, target_names=classes))"
      ],
      "id": "4470421d",
      "execution_count": 238,
      "outputs": [
        {
          "output_type": "stream",
          "name": "stdout",
          "text": [
            "Downloading: \"https://download.pytorch.org/models/resnet34-b627a593.pth\" to /root/.cache/torch/hub/checkpoints/resnet34-b627a593.pth\n"
          ]
        },
        {
          "output_type": "stream",
          "name": "stderr",
          "text": [
            "100%|██████████| 83.3M/83.3M [00:00<00:00, 132MB/s]\n"
          ]
        },
        {
          "output_type": "stream",
          "name": "stdout",
          "text": [
            "Epoch 01 | tr_loss 1.8898 acc 0.247 | val_loss 1.6902 acc 0.380 f1 0.324\n",
            "Epoch 02 | tr_loss 1.6404 acc 0.389 | val_loss 1.4969 acc 0.472 f1 0.399\n",
            "Epoch 03 | tr_loss 1.5046 acc 0.452 | val_loss 1.4156 acc 0.498 f1 0.437\n",
            "Epoch 04 | tr_loss 1.4268 acc 0.486 | val_loss 1.3233 acc 0.540 f1 0.477\n",
            "Epoch 05 | tr_loss 1.3482 acc 0.523 | val_loss 1.2711 acc 0.561 f1 0.506\n",
            "Epoch 06 | tr_loss 1.2937 acc 0.548 | val_loss 1.2453 acc 0.574 f1 0.522\n",
            "Epoch 07 | tr_loss 1.2519 acc 0.569 | val_loss 1.2164 acc 0.582 f1 0.528\n",
            "Epoch 08 | tr_loss 1.2106 acc 0.584 | val_loss 1.1715 acc 0.601 f1 0.553\n",
            "Epoch 09 | tr_loss 1.1833 acc 0.599 | val_loss 1.1383 acc 0.622 f1 0.579\n",
            "Epoch 10 | tr_loss 1.1532 acc 0.612 | val_loss 1.1266 acc 0.627 f1 0.585\n",
            "Epoch 11 | tr_loss 1.1242 acc 0.625 | val_loss 1.1263 acc 0.630 f1 0.585\n",
            "Epoch 12 | tr_loss 1.1033 acc 0.635 | val_loss 1.1084 acc 0.634 f1 0.599\n",
            "Epoch 13 | tr_loss 1.0784 acc 0.644 | val_loss 1.0978 acc 0.642 f1 0.604\n",
            "Epoch 14 | tr_loss 1.0709 acc 0.649 | val_loss 1.0883 acc 0.648 f1 0.611\n",
            "Epoch 15 | tr_loss 1.0455 acc 0.659 | val_loss 1.0845 acc 0.648 f1 0.612\n",
            "Epoch 16 | tr_loss 1.0298 acc 0.667 | val_loss 1.0761 acc 0.653 f1 0.624\n",
            "Epoch 17 | tr_loss 1.0263 acc 0.668 | val_loss 1.0666 acc 0.657 f1 0.629\n",
            "Epoch 18 | tr_loss 1.0058 acc 0.677 | val_loss 1.0649 acc 0.659 f1 0.631\n",
            "Epoch 19 | tr_loss 0.9906 acc 0.686 | val_loss 1.0577 acc 0.660 f1 0.634\n",
            "Epoch 20 | tr_loss 0.9861 acc 0.689 | val_loss 1.0468 acc 0.665 f1 0.643\n",
            "Epoch 21 | tr_loss 0.9737 acc 0.691 | val_loss 1.0447 acc 0.667 f1 0.642\n",
            "Epoch 22 | tr_loss 0.9515 acc 0.702 | val_loss 1.0364 acc 0.670 f1 0.647\n",
            "Epoch 23 | tr_loss 0.9510 acc 0.701 | val_loss 1.0357 acc 0.670 f1 0.645\n",
            "Epoch 24 | tr_loss 0.9470 acc 0.704 | val_loss 1.0376 acc 0.672 f1 0.648\n",
            "Epoch 25 | tr_loss 0.9349 acc 0.709 | val_loss 1.0358 acc 0.670 f1 0.649\n",
            "Epoch 26 | tr_loss 0.9263 acc 0.716 | val_loss 1.0291 acc 0.675 f1 0.655\n",
            "Epoch 27 | tr_loss 0.9089 acc 0.721 | val_loss 1.0311 acc 0.678 f1 0.661\n",
            "Epoch 28 | tr_loss 0.9115 acc 0.721 | val_loss 1.0283 acc 0.678 f1 0.656\n",
            "Epoch 29 | tr_loss 0.8967 acc 0.727 | val_loss 1.0244 acc 0.681 f1 0.661\n",
            "Epoch 30 | tr_loss 0.8931 acc 0.727 | val_loss 1.0236 acc 0.678 f1 0.663\n",
            "TEST | loss 1.0122 acc 0.675 f1 0.657\n",
            "              precision    recall  f1-score   support\n",
            "\n",
            "       angry       0.62      0.65      0.63       192\n",
            "     disgust       0.70      0.64      0.67        22\n",
            "        fear       0.52      0.42      0.46       204\n",
            "       happy       0.90      0.86      0.88       365\n",
            "     neutral       0.59      0.65      0.62       243\n",
            "         sad       0.54      0.57      0.56       228\n",
            "    surprise       0.77      0.80      0.78       159\n",
            "\n",
            "    accuracy                           0.68      1413\n",
            "   macro avg       0.66      0.66      0.66      1413\n",
            "weighted avg       0.68      0.68      0.67      1413\n",
            "\n"
          ]
        }
      ]
    },
    {
      "cell_type": "markdown",
      "metadata": {
        "id": "0452349e"
      },
      "source": [
        "## Training schedule\n",
        "\n",
        "### Subtask:\n",
        "Adjust the learning rate scheduler or train for more epochs if the model is still improving.\n"
      ],
      "id": "0452349e"
    },
    {
      "cell_type": "markdown",
      "metadata": {
        "id": "a0358f4c"
      },
      "source": [
        "**Reasoning**:\n",
        "Modify the training loop to train for a higher number of epochs by changing the EPOCHS variable and rerun the training.\n",
        "\n"
      ],
      "id": "a0358f4c"
    },
    {
      "cell_type": "code",
      "metadata": {
        "colab": {
          "base_uri": "https://localhost:8080/"
        },
        "id": "16f66108",
        "outputId": "3af3a3a2-9864-4eae-9809-4bfaaab9767c"
      },
      "source": [
        "# Increase the number of training epochs\n",
        "EPOCHS = 50\n",
        "\n",
        "# Re-define the scheduler with the potentially new steps_per_epoch and epochs\n",
        "steps_per_epoch = max(1, int(len(tr_loader.dataset)/BATCH))\n",
        "scheduler = OneCycleLR(optimizer, max_lr=LR, epochs=EPOCHS, steps_per_epoch=steps_per_epoch) if MODEL_ARCH.startswith(\"resnet\") else CosineAnnealingLR(optimizer, T_max=EPOCHS)\n",
        "\n",
        "# Rerun the training loop\n",
        "best_f1, best_state = -1.0, None; patience, bad = 8, 0\n",
        "for ep in range(1, EPOCHS+1):\n",
        "    tr_loss, tr_acc = train_one_epoch(net, tr_loader)\n",
        "    va_loss, va_acc, va_f1, y_true, y_pred = evaluate(net, va_loader)\n",
        "    try: scheduler.step()\n",
        "    except: pass\n",
        "    print(f\"Epoch {ep:02d} | tr_loss {tr_loss:.4f} acc {tr_acc:.3f} | val_loss {va_loss:.4f} acc {va_acc:.3f} f1 {va_f1:.3f}\")\n",
        "    if va_f1>best_f1:\n",
        "        best_f1, bad = va_f1, 0\n",
        "        best_state = copy.deepcopy(net.state_dict())\n",
        "        torch.save({'state_dict': best_state, 'classes': classes}, f\"{SAVE_DIR}/best.pt\")\n",
        "    else:\n",
        "        bad+=1\n",
        "        if bad>=8:\n",
        "            print(\"Early stopping\"); break\n",
        "\n",
        "if best_state is not None: net.load_state_dict(best_state)\n",
        "te_loss, te_acc, te_f1, y_true, y_pred = evaluate(net, te_loader)\n",
        "print(f\"TEST | loss {te_loss:.4f} acc {te_acc:.3f} f1 {te_f1:.3f}\")\n",
        "print(classification_report(y_true, y_pred, target_names=classes))"
      ],
      "id": "16f66108",
      "execution_count": 239,
      "outputs": [
        {
          "output_type": "stream",
          "name": "stdout",
          "text": [
            "Epoch 01 | tr_loss 0.8820 acc 0.734 | val_loss 1.0161 acc 0.683 f1 0.667\n",
            "Epoch 02 | tr_loss 0.8804 acc 0.735 | val_loss 1.0139 acc 0.683 f1 0.664\n",
            "Epoch 03 | tr_loss 0.8613 acc 0.744 | val_loss 1.0138 acc 0.685 f1 0.666\n",
            "Epoch 04 | tr_loss 0.8545 acc 0.749 | val_loss 1.0178 acc 0.682 f1 0.661\n",
            "Epoch 05 | tr_loss 0.8524 acc 0.747 | val_loss 1.0213 acc 0.680 f1 0.663\n",
            "Epoch 06 | tr_loss 0.8453 acc 0.750 | val_loss 1.0166 acc 0.684 f1 0.668\n",
            "Epoch 07 | tr_loss 0.8332 acc 0.758 | val_loss 1.0124 acc 0.690 f1 0.674\n",
            "Epoch 08 | tr_loss 0.8332 acc 0.755 | val_loss 1.0174 acc 0.687 f1 0.672\n",
            "Epoch 09 | tr_loss 0.8218 acc 0.762 | val_loss 1.0184 acc 0.688 f1 0.672\n",
            "Epoch 10 | tr_loss 0.8132 acc 0.766 | val_loss 1.0147 acc 0.691 f1 0.673\n",
            "Epoch 11 | tr_loss 0.8031 acc 0.772 | val_loss 1.0180 acc 0.691 f1 0.680\n",
            "Epoch 12 | tr_loss 0.8017 acc 0.773 | val_loss 1.0147 acc 0.689 f1 0.678\n",
            "Epoch 13 | tr_loss 0.7932 acc 0.776 | val_loss 1.0135 acc 0.694 f1 0.684\n",
            "Epoch 14 | tr_loss 0.7845 acc 0.780 | val_loss 1.0205 acc 0.690 f1 0.674\n",
            "Epoch 15 | tr_loss 0.7831 acc 0.780 | val_loss 1.0143 acc 0.694 f1 0.680\n",
            "Epoch 16 | tr_loss 0.7724 acc 0.783 | val_loss 1.0133 acc 0.694 f1 0.683\n",
            "Epoch 17 | tr_loss 0.7624 acc 0.790 | val_loss 1.0192 acc 0.698 f1 0.688\n",
            "Epoch 18 | tr_loss 0.7581 acc 0.793 | val_loss 1.0183 acc 0.698 f1 0.691\n",
            "Epoch 19 | tr_loss 0.7554 acc 0.795 | val_loss 1.0203 acc 0.694 f1 0.682\n",
            "Epoch 20 | tr_loss 0.7471 acc 0.796 | val_loss 1.0217 acc 0.692 f1 0.682\n",
            "Epoch 21 | tr_loss 0.7414 acc 0.799 | val_loss 1.0292 acc 0.694 f1 0.680\n",
            "Epoch 22 | tr_loss 0.7292 acc 0.806 | val_loss 1.0361 acc 0.693 f1 0.683\n",
            "Epoch 23 | tr_loss 0.7253 acc 0.808 | val_loss 1.0274 acc 0.695 f1 0.682\n",
            "Epoch 24 | tr_loss 0.7265 acc 0.806 | val_loss 1.0275 acc 0.698 f1 0.691\n",
            "Epoch 25 | tr_loss 0.7041 acc 0.817 | val_loss 1.0291 acc 0.702 f1 0.686\n",
            "Epoch 26 | tr_loss 0.7126 acc 0.812 | val_loss 1.0307 acc 0.699 f1 0.687\n",
            "Epoch 27 | tr_loss 0.6988 acc 0.819 | val_loss 1.0351 acc 0.697 f1 0.682\n",
            "Epoch 28 | tr_loss 0.6972 acc 0.819 | val_loss 1.0291 acc 0.701 f1 0.691\n",
            "Epoch 29 | tr_loss 0.6911 acc 0.822 | val_loss 1.0393 acc 0.697 f1 0.687\n",
            "Epoch 30 | tr_loss 0.6834 acc 0.827 | val_loss 1.0367 acc 0.699 f1 0.689\n",
            "Epoch 31 | tr_loss 0.6740 acc 0.830 | val_loss 1.0453 acc 0.699 f1 0.692\n",
            "Epoch 32 | tr_loss 0.6710 acc 0.832 | val_loss 1.0436 acc 0.698 f1 0.689\n",
            "Epoch 33 | tr_loss 0.6654 acc 0.835 | val_loss 1.0493 acc 0.701 f1 0.689\n",
            "Epoch 34 | tr_loss 0.6604 acc 0.836 | val_loss 1.0588 acc 0.700 f1 0.690\n",
            "Epoch 35 | tr_loss 0.6581 acc 0.838 | val_loss 1.0530 acc 0.702 f1 0.691\n",
            "Epoch 36 | tr_loss 0.6525 acc 0.840 | val_loss 1.0583 acc 0.700 f1 0.691\n",
            "Epoch 37 | tr_loss 0.6460 acc 0.842 | val_loss 1.0582 acc 0.699 f1 0.689\n",
            "Epoch 38 | tr_loss 0.6473 acc 0.846 | val_loss 1.0581 acc 0.700 f1 0.693\n",
            "Epoch 39 | tr_loss 0.6380 acc 0.847 | val_loss 1.0570 acc 0.704 f1 0.693\n",
            "Epoch 40 | tr_loss 0.6253 acc 0.853 | val_loss 1.0554 acc 0.707 f1 0.696\n",
            "Epoch 41 | tr_loss 0.6237 acc 0.855 | val_loss 1.0691 acc 0.701 f1 0.693\n",
            "Epoch 42 | tr_loss 0.6210 acc 0.857 | val_loss 1.0678 acc 0.700 f1 0.688\n",
            "Epoch 43 | tr_loss 0.6139 acc 0.859 | val_loss 1.0730 acc 0.704 f1 0.695\n",
            "Epoch 44 | tr_loss 0.6127 acc 0.859 | val_loss 1.0758 acc 0.702 f1 0.693\n",
            "Epoch 45 | tr_loss 0.6074 acc 0.861 | val_loss 1.0781 acc 0.704 f1 0.694\n",
            "Epoch 46 | tr_loss 0.6069 acc 0.863 | val_loss 1.0814 acc 0.698 f1 0.688\n",
            "Epoch 47 | tr_loss 0.5956 acc 0.867 | val_loss 1.0763 acc 0.701 f1 0.691\n",
            "Epoch 48 | tr_loss 0.5871 acc 0.872 | val_loss 1.0832 acc 0.698 f1 0.690\n",
            "Early stopping\n",
            "TEST | loss 1.0387 acc 0.696 f1 0.686\n",
            "              precision    recall  f1-score   support\n",
            "\n",
            "       angry       0.63      0.65      0.64       192\n",
            "     disgust       0.88      0.64      0.74        22\n",
            "        fear       0.60      0.49      0.54       204\n",
            "       happy       0.88      0.88      0.88       365\n",
            "     neutral       0.61      0.67      0.64       243\n",
            "         sad       0.54      0.57      0.56       228\n",
            "    surprise       0.80      0.80      0.80       159\n",
            "\n",
            "    accuracy                           0.70      1413\n",
            "   macro avg       0.71      0.67      0.69      1413\n",
            "weighted avg       0.70      0.70      0.70      1413\n",
            "\n"
          ]
        }
      ]
    },
    {
      "cell_type": "markdown",
      "metadata": {
        "id": "d68d5aaa"
      },
      "source": [
        "## Regularization\n",
        "\n",
        "### Subtask:\n",
        "Add or adjust regularization techniques like dropout or weight decay.\n"
      ],
      "id": "d68d5aaa"
    },
    {
      "cell_type": "markdown",
      "metadata": {
        "id": "e0283b15"
      },
      "source": [
        "**Reasoning**:\n",
        "Adjust the dropout rate in the model definition and the weight decay in the optimizer definition, then re-run the training loop.\n",
        "\n"
      ],
      "id": "e0283b15"
    },
    {
      "cell_type": "code",
      "metadata": {
        "colab": {
          "base_uri": "https://localhost:8080/"
        },
        "id": "aa56bf1d",
        "outputId": "faade1ea-2c50-4ab2-8586-7a4b796b4d0f"
      },
      "source": [
        "# 1. Adjust the dropout rate in the build_resnet function\n",
        "def build_resnet(model_name, num_classes, in_ch=1, pretrained=True, dropout=0.4): # Increased dropout to 0.4\n",
        "    if model_name == \"resnet18\":\n",
        "        m = models.resnet18(weights=models.ResNet18_Weights.DEFAULT if pretrained else None)\n",
        "    elif model_name == \"resnet34\":\n",
        "        m = models.resnet34(weights=models.ResNet34_Weights.DEFAULT if pretrained else None)\n",
        "    elif model_name == \"resnet50\":\n",
        "        m = models.resnet50(weights=models.ResNet50_Weights.DEFAULT if pretrained else None)\n",
        "    else:\n",
        "        raise ValueError(f\"Model {model_name} not supported\")\n",
        "\n",
        "    if in_ch == 1:\n",
        "        w = m.conv1.weight\n",
        "        m.conv1 = nn.Conv2d(1, 64, kernel_size=(7, 7), stride=(2, 2), padding=(3, 3), bias=False)\n",
        "        if pretrained:\n",
        "            with torch.no_grad():\n",
        "                m.conv1.weight[:] = w.mean(dim=1, keepdim=True)\n",
        "\n",
        "    m.fc = nn.Sequential(nn.Dropout(dropout), nn.Linear(m.fc.in_features, num_classes))\n",
        "    return m\n",
        "\n",
        "# 3. Re-instantiate the model with the adjusted dropout rate.\n",
        "# Assuming MODEL_ARCH is defined from previous steps, if not, default to resnet34\n",
        "try: MODEL_ARCH\n",
        "except NameError: MODEL_ARCH = \"resnet34\"\n",
        "\n",
        "net = build_resnet(MODEL_ARCH, len(classes), in_ch=1, pretrained=True, dropout=0.4) # Use updated dropout\n",
        "net.to(device)\n",
        "\n",
        "\n",
        "# 2. Adjust the weight decay parameter in the optimizer definition.\n",
        "WEIGHT_DECAY = 1e-3 # Adjusted weight decay\n",
        "optimizer = optim.AdamW(net.parameters(), lr=LR, weight_decay=WEIGHT_DECAY) # Use adjusted weight decay\n",
        "\n",
        "# 4. Re-define the optimizer with the adjusted weight decay. (Done in the previous step)\n",
        "\n",
        "# Re-define the scheduler as it's tied to the optimizer and epochs\n",
        "steps_per_epoch = max(1, int(len(tr_loader.dataset)/BATCH))\n",
        "scheduler = OneCycleLR(optimizer, max_lr=LR, epochs=EPOCHS, steps_per_epoch=steps_per_epoch) if MODEL_ARCH.startswith(\"resnet\") else CosineAnnealingLR(optimizer, T_max=EPOCHS)\n",
        "\n",
        "\n",
        "# 5. Re-run the training loop and evaluate the model performance on the validation and test sets.\n",
        "best_f1, best_state = -1.0, None; patience, bad = 8, 0\n",
        "for ep in range(1, EPOCHS+1):\n",
        "    tr_loss, tr_acc = train_one_epoch(net, tr_loader)\n",
        "    va_loss, va_acc, va_f1, y_true, y_pred = evaluate(net, va_loader)\n",
        "    try: scheduler.step()\n",
        "    except: pass\n",
        "    print(f\"Epoch {ep:02d} | tr_loss {tr_loss:.4f} acc {tr_acc:.3f} | val_loss {va_loss:.4f} acc {va_acc:.3f} f1 {va_f1:.3f}\")\n",
        "    if va_f1>best_f1:\n",
        "        best_f1, bad = va_f1, 0\n",
        "        best_state = copy.deepcopy(net.state_dict())\n",
        "        torch.save({'state_dict': best_state, 'classes': classes}, f\"{SAVE_DIR}/best.pt\")\n",
        "    else:\n",
        "        bad+=1\n",
        "        if bad>=8:\n",
        "            print(\"Early stopping\"); break\n",
        "\n",
        "if best_state is not None: net.load_state_dict(best_state)\n",
        "te_loss, te_acc, te_f1, y_true, y_pred = evaluate(net, te_loader)\n",
        "print(f\"TEST | loss {te_loss:.4f} acc {te_acc:.3f} f1 {te_f1:.3f}\")\n",
        "print(classification_report(y_true, y_pred, target_names=classes))\n"
      ],
      "id": "aa56bf1d",
      "execution_count": 240,
      "outputs": [
        {
          "output_type": "stream",
          "name": "stdout",
          "text": [
            "Epoch 01 | tr_loss 1.9714 acc 0.224 | val_loss 1.7319 acc 0.351 f1 0.281\n",
            "Epoch 02 | tr_loss 1.7342 acc 0.350 | val_loss 1.5330 acc 0.437 f1 0.363\n",
            "Epoch 03 | tr_loss 1.6042 acc 0.413 | val_loss 1.4125 acc 0.485 f1 0.413\n",
            "Epoch 04 | tr_loss 1.5091 acc 0.449 | val_loss 1.3480 acc 0.511 f1 0.440\n",
            "Epoch 05 | tr_loss 1.4364 acc 0.482 | val_loss 1.3002 acc 0.537 f1 0.473\n",
            "Epoch 06 | tr_loss 1.3694 acc 0.511 | val_loss 1.2522 acc 0.559 f1 0.503\n",
            "Epoch 07 | tr_loss 1.3264 acc 0.534 | val_loss 1.2247 acc 0.575 f1 0.521\n",
            "Epoch 08 | tr_loss 1.2921 acc 0.546 | val_loss 1.1849 acc 0.595 f1 0.546\n",
            "Epoch 09 | tr_loss 1.2439 acc 0.567 | val_loss 1.1710 acc 0.603 f1 0.551\n",
            "Epoch 10 | tr_loss 1.2124 acc 0.583 | val_loss 1.1483 acc 0.614 f1 0.566\n",
            "Epoch 11 | tr_loss 1.1981 acc 0.590 | val_loss 1.1393 acc 0.622 f1 0.575\n",
            "Epoch 12 | tr_loss 1.1638 acc 0.605 | val_loss 1.1305 acc 0.629 f1 0.583\n",
            "Epoch 13 | tr_loss 1.1518 acc 0.614 | val_loss 1.1121 acc 0.635 f1 0.591\n",
            "Epoch 14 | tr_loss 1.1347 acc 0.619 | val_loss 1.0980 acc 0.642 f1 0.608\n",
            "Epoch 15 | tr_loss 1.1118 acc 0.632 | val_loss 1.0888 acc 0.646 f1 0.613\n",
            "Epoch 16 | tr_loss 1.0853 acc 0.642 | val_loss 1.0810 acc 0.647 f1 0.612\n",
            "Epoch 17 | tr_loss 1.0710 acc 0.651 | val_loss 1.0674 acc 0.656 f1 0.623\n",
            "Epoch 18 | tr_loss 1.0614 acc 0.652 | val_loss 1.0575 acc 0.661 f1 0.636\n",
            "Epoch 19 | tr_loss 1.0511 acc 0.654 | val_loss 1.0540 acc 0.661 f1 0.635\n",
            "Epoch 20 | tr_loss 1.0349 acc 0.662 | val_loss 1.0532 acc 0.658 f1 0.634\n",
            "Epoch 21 | tr_loss 1.0189 acc 0.671 | val_loss 1.0485 acc 0.662 f1 0.637\n",
            "Epoch 22 | tr_loss 1.0127 acc 0.674 | val_loss 1.0382 acc 0.668 f1 0.650\n",
            "Epoch 23 | tr_loss 1.0066 acc 0.674 | val_loss 1.0354 acc 0.670 f1 0.652\n",
            "Epoch 24 | tr_loss 0.9839 acc 0.686 | val_loss 1.0379 acc 0.669 f1 0.648\n",
            "Epoch 25 | tr_loss 0.9825 acc 0.688 | val_loss 1.0293 acc 0.671 f1 0.654\n",
            "Epoch 26 | tr_loss 0.9788 acc 0.689 | val_loss 1.0305 acc 0.672 f1 0.654\n",
            "Epoch 27 | tr_loss 0.9620 acc 0.698 | val_loss 1.0233 acc 0.677 f1 0.661\n",
            "Epoch 28 | tr_loss 0.9416 acc 0.706 | val_loss 1.0170 acc 0.675 f1 0.664\n",
            "Epoch 29 | tr_loss 0.9456 acc 0.701 | val_loss 1.0191 acc 0.680 f1 0.662\n",
            "Epoch 30 | tr_loss 0.9286 acc 0.713 | val_loss 1.0138 acc 0.681 f1 0.666\n",
            "Epoch 31 | tr_loss 0.9230 acc 0.716 | val_loss 1.0130 acc 0.683 f1 0.668\n",
            "Epoch 32 | tr_loss 0.9160 acc 0.719 | val_loss 1.0136 acc 0.681 f1 0.672\n",
            "Epoch 33 | tr_loss 0.9010 acc 0.726 | val_loss 1.0108 acc 0.688 f1 0.672\n",
            "Epoch 34 | tr_loss 0.9070 acc 0.723 | val_loss 1.0141 acc 0.685 f1 0.672\n",
            "Epoch 35 | tr_loss 0.8879 acc 0.733 | val_loss 1.0203 acc 0.678 f1 0.665\n",
            "Epoch 36 | tr_loss 0.8882 acc 0.734 | val_loss 1.0130 acc 0.685 f1 0.683\n",
            "Epoch 37 | tr_loss 0.8802 acc 0.734 | val_loss 1.0158 acc 0.684 f1 0.677\n",
            "Epoch 38 | tr_loss 0.8742 acc 0.738 | val_loss 1.0148 acc 0.685 f1 0.675\n",
            "Epoch 39 | tr_loss 0.8694 acc 0.739 | val_loss 1.0104 acc 0.687 f1 0.683\n",
            "Epoch 40 | tr_loss 0.8607 acc 0.744 | val_loss 1.0082 acc 0.691 f1 0.685\n",
            "Epoch 41 | tr_loss 0.8391 acc 0.753 | val_loss 1.0109 acc 0.690 f1 0.683\n",
            "Epoch 42 | tr_loss 0.8387 acc 0.753 | val_loss 1.0128 acc 0.687 f1 0.680\n",
            "Epoch 43 | tr_loss 0.8315 acc 0.758 | val_loss 1.0174 acc 0.685 f1 0.674\n",
            "Epoch 44 | tr_loss 0.8264 acc 0.760 | val_loss 1.0133 acc 0.688 f1 0.685\n",
            "Epoch 45 | tr_loss 0.8172 acc 0.766 | val_loss 1.0158 acc 0.685 f1 0.675\n",
            "Epoch 46 | tr_loss 0.8136 acc 0.766 | val_loss 1.0136 acc 0.691 f1 0.686\n",
            "Epoch 47 | tr_loss 0.8006 acc 0.773 | val_loss 1.0200 acc 0.689 f1 0.681\n",
            "Epoch 48 | tr_loss 0.7962 acc 0.774 | val_loss 1.0122 acc 0.693 f1 0.689\n",
            "Epoch 49 | tr_loss 0.7961 acc 0.774 | val_loss 1.0151 acc 0.692 f1 0.684\n",
            "Epoch 50 | tr_loss 0.7833 acc 0.779 | val_loss 1.0231 acc 0.691 f1 0.684\n",
            "TEST | loss 1.0310 acc 0.678 f1 0.657\n",
            "              precision    recall  f1-score   support\n",
            "\n",
            "       angry       0.57      0.66      0.62       192\n",
            "     disgust       0.70      0.64      0.67        22\n",
            "        fear       0.55      0.38      0.45       204\n",
            "       happy       0.88      0.88      0.88       365\n",
            "     neutral       0.64      0.66      0.65       243\n",
            "         sad       0.52      0.59      0.55       228\n",
            "    surprise       0.79      0.77      0.78       159\n",
            "\n",
            "    accuracy                           0.68      1413\n",
            "   macro avg       0.67      0.65      0.66      1413\n",
            "weighted avg       0.68      0.68      0.68      1413\n",
            "\n"
          ]
        }
      ]
    },
    {
      "cell_type": "markdown",
      "metadata": {
        "id": "fec7f854"
      },
      "source": [
        "## Loss function\n",
        "\n",
        "### Subtask:\n",
        "Experiment with different loss functions or class weighting strategies.\n"
      ],
      "id": "fec7f854"
    },
    {
      "cell_type": "markdown",
      "metadata": {
        "id": "dab272b8"
      },
      "source": [
        "**Reasoning**:\n",
        "To experiment with class weighting strategies, I will calculate class weights based on the inverse frequency of each class in the training dataset and use these weights with the CrossEntropyLoss. This will modify the existing loss function rather than selecting a completely different one. I will then modify the training loop to use this weighted loss function and re-run the training and evaluation steps.\n",
        "\n"
      ],
      "id": "dab272b8"
    },
    {
      "cell_type": "code",
      "metadata": {
        "id": "e67d7923",
        "outputId": "5607409a-12d8-4dc3-dde5-d52935093ecf",
        "colab": {
          "base_uri": "https://localhost:8080/",
          "height": 984
        }
      },
      "source": [
        "# 1. Calculate class weights based on inverse frequency\n",
        "# The counts and wpc are already calculated in a previous cell for the WeightedRandomSampler\n",
        "# Use the inverse of the counts to get class weights\n",
        "class_weights = 1.0 / torch.clamp(counts, min=1.0)\n",
        "class_weights = class_weights / class_weights.sum() # Normalize weights to sum to 1\n",
        "class_weights = class_weights.to(device)\n",
        "\n",
        "# 2. Define the weighted CrossEntropyLoss\n",
        "criterion = nn.CrossEntropyLoss(weight=class_weights, label_smoothing=0.05)\n",
        "\n",
        "# 3. Modify the training loop to use the new weighted loss function (no code change needed here,\n",
        "# as the criterion variable is already used in train_one_epoch)\n",
        "\n",
        "# 4. Re-run the training loop and evaluate the model performance on the validation and test sets.\n",
        "# The model, optimizer, and scheduler from the previous step are used.\n",
        "best_f1, best_state = -1.0, None; patience, bad = 8, 0\n",
        "for ep in range(1, EPOCHS+1):\n",
        "    tr_loss, tr_acc = train_one_epoch(net, tr_loader)\n",
        "    va_loss, va_acc, va_f1, y_true, y_pred = evaluate(net, va_loader)\n",
        "    try: scheduler.step()\n",
        "    except: pass\n",
        "    print(f\"Epoch {ep:02d} | tr_loss {tr_loss:.4f} acc {tr_acc:.3f} | val_loss {va_loss:.4f} acc {va_acc:.3f} f1 {va_f1:.3f}\")\n",
        "    if va_f1>best_f1:\n",
        "        best_f1, bad = va_f1, 0\n",
        "        best_state = copy.deepcopy(net.state_dict())\n",
        "        torch.save({'state_dict': best_state, 'classes': classes}, f\"{SAVE_DIR}/best.pt\")\n",
        "    else:\n",
        "        bad+=1\n",
        "        if bad>=8:\n",
        "            print(\"Early stopping\"); break\n",
        "\n",
        "if best_state is not None: net.load_state_dict(best_state)\n",
        "te_loss, te_acc, te_f1, y_true, y_pred = evaluate(net, te_loader)\n",
        "print(f\"TEST | loss {te_loss:.4f} acc {te_acc:.3f} f1 {te_f1:.3f}\")\n",
        "print(classification_report(y_true, y_pred, target_names=classes))"
      ],
      "id": "e67d7923",
      "execution_count": 241,
      "outputs": [
        {
          "output_type": "stream",
          "name": "stdout",
          "text": [
            "Epoch 01 | tr_loss 0.4984 acc 0.769 | val_loss 1.3821 acc 0.677 f1 0.648\n",
            "Epoch 02 | tr_loss 0.4684 acc 0.770 | val_loss 1.3411 acc 0.682 f1 0.653\n",
            "Epoch 03 | tr_loss 0.4599 acc 0.768 | val_loss 1.3166 acc 0.685 f1 0.656\n",
            "Epoch 04 | tr_loss 0.4523 acc 0.769 | val_loss 1.3081 acc 0.684 f1 0.655\n",
            "Epoch 05 | tr_loss 0.4451 acc 0.772 | val_loss 1.3116 acc 0.683 f1 0.656\n",
            "Epoch 06 | tr_loss 0.4612 acc 0.771 | val_loss 1.3130 acc 0.676 f1 0.642\n",
            "Epoch 07 | tr_loss 0.4456 acc 0.775 | val_loss 1.3133 acc 0.682 f1 0.654\n",
            "Epoch 08 | tr_loss 0.4401 acc 0.776 | val_loss 1.3135 acc 0.679 f1 0.651\n",
            "Epoch 09 | tr_loss 0.4436 acc 0.780 | val_loss 1.3129 acc 0.681 f1 0.648\n",
            "Epoch 10 | tr_loss 0.4422 acc 0.780 | val_loss 1.3036 acc 0.687 f1 0.664\n",
            "Epoch 11 | tr_loss 0.4432 acc 0.785 | val_loss 1.3138 acc 0.683 f1 0.663\n",
            "Epoch 12 | tr_loss 0.4334 acc 0.787 | val_loss 1.3044 acc 0.691 f1 0.666\n",
            "Epoch 13 | tr_loss 0.4324 acc 0.789 | val_loss 1.3041 acc 0.689 f1 0.666\n",
            "Epoch 14 | tr_loss 0.4306 acc 0.797 | val_loss 1.3061 acc 0.687 f1 0.666\n",
            "Epoch 15 | tr_loss 0.4376 acc 0.792 | val_loss 1.3172 acc 0.684 f1 0.663\n"
          ]
        },
        {
          "output_type": "stream",
          "name": "stderr",
          "text": [
            "Exception ignored in: <function _MultiProcessingDataLoaderIter.__del__ at 0x7bb9e6576980>\n",
            "Traceback (most recent call last):\n",
            "  File \"/usr/local/lib/python3.12/dist-packages/torch/utils/data/dataloader.py\", line 1664, in __del__\n",
            "    self._shutdown_workers()\n",
            "  File \"/usr/local/lib/python3.12/dist-packages/torch/utils/data/dataloader.py\", line 1628, in _shutdown_workers\n",
            "    w.join(timeout=_utils.MP_STATUS_CHECK_INTERVAL)\n",
            "  File \"/usr/lib/python3.12/multiprocessing/process.py\", line 149, in join\n",
            "    res = self._popen.wait(timeout)\n",
            "          ^^^^^^^^^^^^^^^^^^^^^^^^^\n",
            "  File \"/usr/lib/python3.12/multiprocessing/popen_fork.py\", line 40, in wait\n",
            "    if not wait([self.sentinel], timeout):\n",
            "           ^^^^^^^^^^^^^^^^^^^^^^^^^^^^^^\n",
            "  File \"/usr/lib/python3.12/multiprocessing/connection.py\", line 1136, in wait\n",
            "    ready = selector.select(timeout)\n",
            "            ^^^^^^^^^^^^^^^^^^^^^^^^\n",
            "  File \"/usr/lib/python3.12/selectors.py\", line 415, in select\n",
            "    fd_event_list = self._selector.poll(timeout)\n",
            "                    ^^^^^^^^^^^^^^^^^^^^^^^^^^^^\n",
            "KeyboardInterrupt: \n"
          ]
        },
        {
          "output_type": "error",
          "ename": "KeyboardInterrupt",
          "evalue": "",
          "traceback": [
            "\u001b[0;31m---------------------------------------------------------------------------\u001b[0m",
            "\u001b[0;31mKeyboardInterrupt\u001b[0m                         Traceback (most recent call last)",
            "\u001b[0;32m/tmp/ipython-input-434152698.py\u001b[0m in \u001b[0;36m<cell line: 0>\u001b[0;34m()\u001b[0m\n\u001b[1;32m     16\u001b[0m \u001b[0mbest_f1\u001b[0m\u001b[0;34m,\u001b[0m \u001b[0mbest_state\u001b[0m \u001b[0;34m=\u001b[0m \u001b[0;34m-\u001b[0m\u001b[0;36m1.0\u001b[0m\u001b[0;34m,\u001b[0m \u001b[0;32mNone\u001b[0m\u001b[0;34m;\u001b[0m \u001b[0mpatience\u001b[0m\u001b[0;34m,\u001b[0m \u001b[0mbad\u001b[0m \u001b[0;34m=\u001b[0m \u001b[0;36m8\u001b[0m\u001b[0;34m,\u001b[0m \u001b[0;36m0\u001b[0m\u001b[0;34m\u001b[0m\u001b[0;34m\u001b[0m\u001b[0m\n\u001b[1;32m     17\u001b[0m \u001b[0;32mfor\u001b[0m \u001b[0mep\u001b[0m \u001b[0;32min\u001b[0m \u001b[0mrange\u001b[0m\u001b[0;34m(\u001b[0m\u001b[0;36m1\u001b[0m\u001b[0;34m,\u001b[0m \u001b[0mEPOCHS\u001b[0m\u001b[0;34m+\u001b[0m\u001b[0;36m1\u001b[0m\u001b[0;34m)\u001b[0m\u001b[0;34m:\u001b[0m\u001b[0;34m\u001b[0m\u001b[0;34m\u001b[0m\u001b[0m\n\u001b[0;32m---> 18\u001b[0;31m     \u001b[0mtr_loss\u001b[0m\u001b[0;34m,\u001b[0m \u001b[0mtr_acc\u001b[0m \u001b[0;34m=\u001b[0m \u001b[0mtrain_one_epoch\u001b[0m\u001b[0;34m(\u001b[0m\u001b[0mnet\u001b[0m\u001b[0;34m,\u001b[0m \u001b[0mtr_loader\u001b[0m\u001b[0;34m)\u001b[0m\u001b[0;34m\u001b[0m\u001b[0;34m\u001b[0m\u001b[0m\n\u001b[0m\u001b[1;32m     19\u001b[0m     \u001b[0mva_loss\u001b[0m\u001b[0;34m,\u001b[0m \u001b[0mva_acc\u001b[0m\u001b[0;34m,\u001b[0m \u001b[0mva_f1\u001b[0m\u001b[0;34m,\u001b[0m \u001b[0my_true\u001b[0m\u001b[0;34m,\u001b[0m \u001b[0my_pred\u001b[0m \u001b[0;34m=\u001b[0m \u001b[0mevaluate\u001b[0m\u001b[0;34m(\u001b[0m\u001b[0mnet\u001b[0m\u001b[0;34m,\u001b[0m \u001b[0mva_loader\u001b[0m\u001b[0;34m)\u001b[0m\u001b[0;34m\u001b[0m\u001b[0;34m\u001b[0m\u001b[0m\n\u001b[1;32m     20\u001b[0m     \u001b[0;32mtry\u001b[0m\u001b[0;34m:\u001b[0m \u001b[0mscheduler\u001b[0m\u001b[0;34m.\u001b[0m\u001b[0mstep\u001b[0m\u001b[0;34m(\u001b[0m\u001b[0;34m)\u001b[0m\u001b[0;34m\u001b[0m\u001b[0;34m\u001b[0m\u001b[0m\n",
            "\u001b[0;32m/tmp/ipython-input-4205381524.py\u001b[0m in \u001b[0;36mtrain_one_epoch\u001b[0;34m(model, loader)\u001b[0m\n\u001b[1;32m     12\u001b[0m         \u001b[0moptimizer\u001b[0m\u001b[0;34m.\u001b[0m\u001b[0mzero_grad\u001b[0m\u001b[0;34m(\u001b[0m\u001b[0mset_to_none\u001b[0m\u001b[0;34m=\u001b[0m\u001b[0;32mTrue\u001b[0m\u001b[0;34m)\u001b[0m\u001b[0;34m\u001b[0m\u001b[0;34m\u001b[0m\u001b[0m\n\u001b[1;32m     13\u001b[0m         \u001b[0;32mwith\u001b[0m \u001b[0mtorch\u001b[0m\u001b[0;34m.\u001b[0m\u001b[0mcuda\u001b[0m\u001b[0;34m.\u001b[0m\u001b[0mamp\u001b[0m\u001b[0;34m.\u001b[0m\u001b[0mautocast\u001b[0m\u001b[0;34m(\u001b[0m\u001b[0menabled\u001b[0m\u001b[0;34m=\u001b[0m\u001b[0;34m(\u001b[0m\u001b[0mdevice\u001b[0m\u001b[0;34m.\u001b[0m\u001b[0mtype\u001b[0m\u001b[0;34m==\u001b[0m\u001b[0;34m\"cuda\"\u001b[0m\u001b[0;34m)\u001b[0m\u001b[0;34m)\u001b[0m\u001b[0;34m:\u001b[0m\u001b[0;34m\u001b[0m\u001b[0;34m\u001b[0m\u001b[0m\n\u001b[0;32m---> 14\u001b[0;31m             \u001b[0mout\u001b[0m\u001b[0;34m=\u001b[0m\u001b[0mmodel\u001b[0m\u001b[0;34m(\u001b[0m\u001b[0mimgs\u001b[0m\u001b[0;34m)\u001b[0m\u001b[0;34m;\u001b[0m \u001b[0mloss\u001b[0m\u001b[0;34m=\u001b[0m\u001b[0mcriterion\u001b[0m\u001b[0;34m(\u001b[0m\u001b[0mout\u001b[0m\u001b[0;34m,\u001b[0m \u001b[0mlabels\u001b[0m\u001b[0;34m)\u001b[0m\u001b[0;34m\u001b[0m\u001b[0;34m\u001b[0m\u001b[0m\n\u001b[0m\u001b[1;32m     15\u001b[0m         \u001b[0mscaler\u001b[0m\u001b[0;34m.\u001b[0m\u001b[0mscale\u001b[0m\u001b[0;34m(\u001b[0m\u001b[0mloss\u001b[0m\u001b[0;34m)\u001b[0m\u001b[0;34m.\u001b[0m\u001b[0mbackward\u001b[0m\u001b[0;34m(\u001b[0m\u001b[0;34m)\u001b[0m\u001b[0;34m;\u001b[0m \u001b[0mscaler\u001b[0m\u001b[0;34m.\u001b[0m\u001b[0mstep\u001b[0m\u001b[0;34m(\u001b[0m\u001b[0moptimizer\u001b[0m\u001b[0;34m)\u001b[0m\u001b[0;34m;\u001b[0m \u001b[0mscaler\u001b[0m\u001b[0;34m.\u001b[0m\u001b[0mupdate\u001b[0m\u001b[0;34m(\u001b[0m\u001b[0;34m)\u001b[0m\u001b[0;34m\u001b[0m\u001b[0;34m\u001b[0m\u001b[0m\n\u001b[1;32m     16\u001b[0m         \u001b[0mtotal_loss\u001b[0m \u001b[0;34m+=\u001b[0m \u001b[0mloss\u001b[0m\u001b[0;34m.\u001b[0m\u001b[0mitem\u001b[0m\u001b[0;34m(\u001b[0m\u001b[0;34m)\u001b[0m\u001b[0;34m*\u001b[0m\u001b[0mlabels\u001b[0m\u001b[0;34m.\u001b[0m\u001b[0msize\u001b[0m\u001b[0;34m(\u001b[0m\u001b[0;36m0\u001b[0m\u001b[0;34m)\u001b[0m\u001b[0;34m\u001b[0m\u001b[0;34m\u001b[0m\u001b[0m\n",
            "\u001b[0;32m/usr/local/lib/python3.12/dist-packages/torch/nn/modules/module.py\u001b[0m in \u001b[0;36m_wrapped_call_impl\u001b[0;34m(self, *args, **kwargs)\u001b[0m\n\u001b[1;32m   1771\u001b[0m             \u001b[0;32mreturn\u001b[0m \u001b[0mself\u001b[0m\u001b[0;34m.\u001b[0m\u001b[0m_compiled_call_impl\u001b[0m\u001b[0;34m(\u001b[0m\u001b[0;34m*\u001b[0m\u001b[0margs\u001b[0m\u001b[0;34m,\u001b[0m \u001b[0;34m**\u001b[0m\u001b[0mkwargs\u001b[0m\u001b[0;34m)\u001b[0m  \u001b[0;31m# type: ignore[misc]\u001b[0m\u001b[0;34m\u001b[0m\u001b[0;34m\u001b[0m\u001b[0m\n\u001b[1;32m   1772\u001b[0m         \u001b[0;32melse\u001b[0m\u001b[0;34m:\u001b[0m\u001b[0;34m\u001b[0m\u001b[0;34m\u001b[0m\u001b[0m\n\u001b[0;32m-> 1773\u001b[0;31m             \u001b[0;32mreturn\u001b[0m \u001b[0mself\u001b[0m\u001b[0;34m.\u001b[0m\u001b[0m_call_impl\u001b[0m\u001b[0;34m(\u001b[0m\u001b[0;34m*\u001b[0m\u001b[0margs\u001b[0m\u001b[0;34m,\u001b[0m \u001b[0;34m**\u001b[0m\u001b[0mkwargs\u001b[0m\u001b[0;34m)\u001b[0m\u001b[0;34m\u001b[0m\u001b[0;34m\u001b[0m\u001b[0m\n\u001b[0m\u001b[1;32m   1774\u001b[0m \u001b[0;34m\u001b[0m\u001b[0m\n\u001b[1;32m   1775\u001b[0m     \u001b[0;31m# torchrec tests the code consistency with the following code\u001b[0m\u001b[0;34m\u001b[0m\u001b[0;34m\u001b[0m\u001b[0m\n",
            "\u001b[0;32m/usr/local/lib/python3.12/dist-packages/torch/nn/modules/module.py\u001b[0m in \u001b[0;36m_call_impl\u001b[0;34m(self, *args, **kwargs)\u001b[0m\n\u001b[1;32m   1782\u001b[0m                 \u001b[0;32mor\u001b[0m \u001b[0m_global_backward_pre_hooks\u001b[0m \u001b[0;32mor\u001b[0m \u001b[0m_global_backward_hooks\u001b[0m\u001b[0;34m\u001b[0m\u001b[0;34m\u001b[0m\u001b[0m\n\u001b[1;32m   1783\u001b[0m                 or _global_forward_hooks or _global_forward_pre_hooks):\n\u001b[0;32m-> 1784\u001b[0;31m             \u001b[0;32mreturn\u001b[0m \u001b[0mforward_call\u001b[0m\u001b[0;34m(\u001b[0m\u001b[0;34m*\u001b[0m\u001b[0margs\u001b[0m\u001b[0;34m,\u001b[0m \u001b[0;34m**\u001b[0m\u001b[0mkwargs\u001b[0m\u001b[0;34m)\u001b[0m\u001b[0;34m\u001b[0m\u001b[0;34m\u001b[0m\u001b[0m\n\u001b[0m\u001b[1;32m   1785\u001b[0m \u001b[0;34m\u001b[0m\u001b[0m\n\u001b[1;32m   1786\u001b[0m         \u001b[0mresult\u001b[0m \u001b[0;34m=\u001b[0m \u001b[0;32mNone\u001b[0m\u001b[0;34m\u001b[0m\u001b[0;34m\u001b[0m\u001b[0m\n",
            "\u001b[0;32m/usr/local/lib/python3.12/dist-packages/torch/nn/modules/loss.py\u001b[0m in \u001b[0;36mforward\u001b[0;34m(self, input, target)\u001b[0m\n\u001b[1;32m   1308\u001b[0m \u001b[0;34m\u001b[0m\u001b[0m\n\u001b[1;32m   1309\u001b[0m     \u001b[0;32mdef\u001b[0m \u001b[0mforward\u001b[0m\u001b[0;34m(\u001b[0m\u001b[0mself\u001b[0m\u001b[0;34m,\u001b[0m \u001b[0minput\u001b[0m\u001b[0;34m:\u001b[0m \u001b[0mTensor\u001b[0m\u001b[0;34m,\u001b[0m \u001b[0mtarget\u001b[0m\u001b[0;34m:\u001b[0m \u001b[0mTensor\u001b[0m\u001b[0;34m)\u001b[0m \u001b[0;34m->\u001b[0m \u001b[0mTensor\u001b[0m\u001b[0;34m:\u001b[0m\u001b[0;34m\u001b[0m\u001b[0;34m\u001b[0m\u001b[0m\n\u001b[0;32m-> 1310\u001b[0;31m         return F.cross_entropy(\n\u001b[0m\u001b[1;32m   1311\u001b[0m             \u001b[0minput\u001b[0m\u001b[0;34m,\u001b[0m\u001b[0;34m\u001b[0m\u001b[0;34m\u001b[0m\u001b[0m\n\u001b[1;32m   1312\u001b[0m             \u001b[0mtarget\u001b[0m\u001b[0;34m,\u001b[0m\u001b[0;34m\u001b[0m\u001b[0;34m\u001b[0m\u001b[0m\n",
            "\u001b[0;32m/usr/local/lib/python3.12/dist-packages/torch/nn/functional.py\u001b[0m in \u001b[0;36mcross_entropy\u001b[0;34m(input, target, weight, size_average, ignore_index, reduce, reduction, label_smoothing)\u001b[0m\n\u001b[1;32m   3460\u001b[0m     \u001b[0;32mif\u001b[0m \u001b[0msize_average\u001b[0m \u001b[0;32mis\u001b[0m \u001b[0;32mnot\u001b[0m \u001b[0;32mNone\u001b[0m \u001b[0;32mor\u001b[0m \u001b[0mreduce\u001b[0m \u001b[0;32mis\u001b[0m \u001b[0;32mnot\u001b[0m \u001b[0;32mNone\u001b[0m\u001b[0;34m:\u001b[0m\u001b[0;34m\u001b[0m\u001b[0;34m\u001b[0m\u001b[0m\n\u001b[1;32m   3461\u001b[0m         \u001b[0mreduction\u001b[0m \u001b[0;34m=\u001b[0m \u001b[0m_Reduction\u001b[0m\u001b[0;34m.\u001b[0m\u001b[0mlegacy_get_string\u001b[0m\u001b[0;34m(\u001b[0m\u001b[0msize_average\u001b[0m\u001b[0;34m,\u001b[0m \u001b[0mreduce\u001b[0m\u001b[0;34m)\u001b[0m\u001b[0;34m\u001b[0m\u001b[0;34m\u001b[0m\u001b[0m\n\u001b[0;32m-> 3462\u001b[0;31m     return torch._C._nn.cross_entropy_loss(\n\u001b[0m\u001b[1;32m   3463\u001b[0m         \u001b[0minput\u001b[0m\u001b[0;34m,\u001b[0m\u001b[0;34m\u001b[0m\u001b[0;34m\u001b[0m\u001b[0m\n\u001b[1;32m   3464\u001b[0m         \u001b[0mtarget\u001b[0m\u001b[0;34m,\u001b[0m\u001b[0;34m\u001b[0m\u001b[0;34m\u001b[0m\u001b[0m\n",
            "\u001b[0;31mKeyboardInterrupt\u001b[0m: "
          ]
        }
      ]
    }
  ],
  "metadata": {
    "accelerator": "GPU",
    "colab": {
      "gpuType": "T4",
      "provenance": [],
      "include_colab_link": true
    },
    "kernelspec": {
      "display_name": ".venv",
      "language": "python",
      "name": "python3"
    },
    "language_info": {
      "codemirror_mode": {
        "name": "ipython",
        "version": 3
      },
      "file_extension": ".py",
      "mimetype": "text/x-python",
      "name": "python",
      "nbconvert_exporter": "python",
      "pygments_lexer": "ipython3",
      "version": "3.13.2"
    }
  },
  "nbformat": 4,
  "nbformat_minor": 5
}