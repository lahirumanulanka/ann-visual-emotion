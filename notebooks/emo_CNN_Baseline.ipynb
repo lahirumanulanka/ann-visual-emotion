{
  "cells": [
    {
      "cell_type": "markdown",
      "metadata": {
        "id": "view-in-github",
        "colab_type": "text"
      },
      "source": [
        "<a href=\"https://colab.research.google.com/github/lahirumanulanka/ann-visual-emotion/blob/new-dataset/notebooks/emo_CNN_Baseline.ipynb\" target=\"_parent\"><img src=\"https://colab.research.google.com/assets/colab-badge.svg\" alt=\"Open In Colab\"/></a>"
      ]
    },
    {
      "cell_type": "code",
      "source": [],
      "metadata": {
        "id": "doQJn5fffmcJ"
      },
      "id": "doQJn5fffmcJ",
      "execution_count": null,
      "outputs": []
    },
    {
      "cell_type": "code",
      "execution_count": 1,
      "id": "m8MHM1ouZ3f7",
      "metadata": {
        "colab": {
          "base_uri": "https://localhost:8080/"
        },
        "id": "m8MHM1ouZ3f7",
        "outputId": "8d151a5e-32fc-4556-fcd8-aa5368f3b62e"
      },
      "outputs": [
        {
          "output_type": "stream",
          "name": "stdout",
          "text": [
            "Cloning into 'ann-visual-emotion'...\n",
            "remote: Enumerating objects: 98921, done.\u001b[K\n",
            "remote: Counting objects: 100% (25710/25710), done.\u001b[K\n",
            "remote: Compressing objects: 100% (21591/21591), done.\u001b[K\n",
            "remote: Total 98921 (delta 4130), reused 25657 (delta 4109), pack-reused 73211 (from 3)\u001b[K\n",
            "Receiving objects: 100% (98921/98921), 1.63 GiB | 36.59 MiB/s, done.\n",
            "Resolving deltas: 100% (10960/10960), done.\n",
            "Updating files: 100% (36081/36081), done.\n"
          ]
        }
      ],
      "source": [
        "!git clone -b new-dataset https://github.com/lahirumanulanka/ann-visual-emotion"
      ]
    },
    {
      "cell_type": "code",
      "execution_count": 2,
      "id": "THfln5fvyVq7",
      "metadata": {
        "colab": {
          "base_uri": "https://localhost:8080/"
        },
        "id": "THfln5fvyVq7",
        "outputId": "bf36ced6-617b-4bce-eb84-61de1f3eba30"
      },
      "outputs": [
        {
          "output_type": "stream",
          "name": "stdout",
          "text": [
            "Using device: cuda\n",
            "Number of classes: 7\n"
          ]
        }
      ],
      "source": [
        "import os\n",
        "from pathlib import Path\n",
        "import json\n",
        "import pandas as pd\n",
        "import numpy as np\n",
        "from PIL import Image\n",
        "\n",
        "import torch\n",
        "import torch.nn as nn\n",
        "import torch.nn.functional as F\n",
        "from torch.utils.data import Dataset, DataLoader\n",
        "from torchvision import transforms\n",
        "\n",
        "# Transfer learning imports\n",
        "try:\n",
        "    from torchvision.models import mobilenet_v2, MobileNet_V2_Weights\n",
        "    _MNV2_HAS_WEIGHTS = True\n",
        "except Exception:\n",
        "    from torchvision.models import mobilenet_v2  # type: ignore\n",
        "    _MNV2_HAS_WEIGHTS = False\n",
        "\n",
        "from sklearn.metrics import confusion_matrix, classification_report\n",
        "import matplotlib.pyplot as plt\n",
        "import seaborn as sns\n",
        "\n",
        "# Device configuration\n",
        "device = torch.device('cuda' if torch.cuda.is_available() else 'cpu')\n",
        "print('Using device:', device)\n",
        "\n",
        "# Data paths (modify if needed)\n",
        "CSV_TRAIN = Path('/content/ann-visual-emotion/data/processed/EmoSet_splits/train.csv')\n",
        "CSV_VAL   = Path('/content/ann-visual-emotion/data/processed/EmoSet_splits/val.csv')\n",
        "CSV_TEST  = Path('/content/ann-visual-emotion/data/processed/EmoSet_splits/test.csv')\n",
        "LABEL_MAP_PATH = Path('/content/ann-visual-emotion/data/processed/EmoSet_splits/label_map.json')\n",
        "DATA_DIR = Path('/content/ann-visual-emotion/data/raw/EmoSet')\n",
        "\n",
        "# Load label map\n",
        "with open(LABEL_MAP_PATH, 'r') as f:\n",
        "    label_map = json.load(f)\n",
        "\n",
        "num_classes = len(label_map)\n",
        "print('Number of classes:', num_classes)"
      ]
    },
    {
      "cell_type": "code",
      "execution_count": 3,
      "id": "VrKFi7FhyXeK",
      "metadata": {
        "id": "VrKFi7FhyXeK"
      },
      "outputs": [],
      "source": [
        "class EmoDataset(Dataset):\n",
        "    def __init__(self, dataframe, root_dir, transform=None, label_map=None):\n",
        "        self.df = dataframe.reset_index(drop=True)\n",
        "        self.root_dir = Path(root_dir)\n",
        "        self.transform = transform\n",
        "        self.label_map = label_map\n",
        "        possible_path_cols = [c for c in self.df.columns if 'path' in c.lower() or 'file' in c.lower() or 'image' in c.lower()]\n",
        "        self.path_col = possible_path_cols[0] if possible_path_cols else self.df.columns[0]\n",
        "        possible_label_cols = [c for c in self.df.columns if 'label' in c.lower() or 'class' in c.lower() or 'emotion' in c.lower()]\n",
        "        self.label_col = possible_label_cols[0] if possible_label_cols else self.df.columns[1]\n",
        "\n",
        "    def __len__(self):\n",
        "        return len(self.df)\n",
        "\n",
        "    def __getitem__(self, idx):\n",
        "        row = self.df.iloc[idx]\n",
        "        rel_path = row[self.path_col]\n",
        "        label = row[self.label_col]\n",
        "        if self.label_map and isinstance(label, str):\n",
        "            label_idx = self.label_map[label]\n",
        "        else:\n",
        "            label_idx = int(label)\n",
        "        img_path = self.root_dir / rel_path\n",
        "        image = Image.open(img_path).convert('L')  # grayscale\n",
        "        if self.transform:\n",
        "            image = self.transform(image)\n",
        "        return image, label_idx\n"
      ]
    },
    {
      "cell_type": "code",
      "execution_count": 4,
      "id": "_dU1dwwJyYzB",
      "metadata": {
        "id": "_dU1dwwJyYzB"
      },
      "outputs": [],
      "source": [
        "# Improved data augmentation and normalization\n",
        "mean = [0.5]\n",
        "std  = [0.5]\n",
        "\n",
        "train_transform = transforms.Compose([\n",
        "    transforms.RandomResizedCrop(48, scale=(0.9, 1.1), ratio=(0.9, 1.1)),\n",
        "    transforms.RandomHorizontalFlip(),\n",
        "    transforms.RandomRotation(20),\n",
        "    transforms.ColorJitter(brightness=0.2, contrast=0.2),\n",
        "    transforms.ToTensor(),\n",
        "    transforms.Normalize(mean, std)\n",
        "])\n",
        "\n",
        "val_transform = transforms.Compose([\n",
        "    transforms.Resize((48, 48)),\n",
        "    transforms.ToTensor(),\n",
        "    transforms.Normalize(mean, std)\n",
        "])\n",
        "\n",
        "# Load dataframes\n",
        "train_df = pd.read_csv(CSV_TRAIN)\n",
        "val_df   = pd.read_csv(CSV_VAL)\n",
        "test_df  = pd.read_csv(CSV_TEST)\n",
        "\n",
        "# Datasets\n",
        "train_dataset = EmoDataset(train_df, DATA_DIR, transform=train_transform, label_map=label_map)\n",
        "val_dataset   = EmoDataset(val_df, DATA_DIR, transform=val_transform, label_map=label_map)\n",
        "test_dataset  = EmoDataset(test_df, DATA_DIR, transform=val_transform, label_map=label_map)\n",
        "\n",
        "# DataLoaders\n",
        "batch_size = 128  # bigger batch size for faster training on GPU\n",
        "train_loader = DataLoader(train_dataset, batch_size=batch_size, shuffle=True, num_workers=2, pin_memory=True)\n",
        "val_loader   = DataLoader(val_dataset, batch_size=batch_size, shuffle=False, num_workers=2, pin_memory=True)\n",
        "test_loader  = DataLoader(test_dataset, batch_size=batch_size, shuffle=False, num_workers=2, pin_memory=True)\n"
      ]
    },
    {
      "cell_type": "code",
      "execution_count": 5,
      "id": "000e51b0",
      "metadata": {
        "colab": {
          "base_uri": "https://localhost:8080/"
        },
        "id": "000e51b0",
        "outputId": "95c1e9a2-3cad-4aa5-d5e0-f862fff4e5c8"
      },
      "outputs": [
        {
          "output_type": "stream",
          "name": "stdout",
          "text": [
            "Downloading: \"https://download.pytorch.org/models/mobilenet_v2-7ebf99e0.pth\" to /root/.cache/torch/hub/checkpoints/mobilenet_v2-7ebf99e0.pth\n"
          ]
        },
        {
          "output_type": "stream",
          "name": "stderr",
          "text": [
            "100%|██████████| 13.6M/13.6M [00:00<00:00, 141MB/s]\n"
          ]
        },
        {
          "output_type": "stream",
          "name": "stdout",
          "text": [
            "Using transfer learning MobileNetV2 (freeze_backbone= True )\n"
          ]
        }
      ],
      "source": [
        "# Transfer Learning CNN (MobileNetV2 backbone adapted for 1-channel input)\n",
        "class TLMobileNet(nn.Module):\n",
        "    def __init__(self, num_classes: int, freeze_backbone: bool = True):\n",
        "        super().__init__()\n",
        "        if _MNV2_HAS_WEIGHTS:\n",
        "            weights = MobileNet_V2_Weights.DEFAULT\n",
        "            backbone = mobilenet_v2(weights=weights)\n",
        "        else:\n",
        "            backbone = mobilenet_v2(pretrained=True)\n",
        "        # Adapt first conv to 1 channel (average weights of RGB)\n",
        "        first_conv = backbone.features[0][0]\n",
        "        with torch.no_grad():\n",
        "            w = first_conv.weight  # (32,3,3,3)\n",
        "            w_gray = w.mean(1, keepdim=True)\n",
        "        new_conv = nn.Conv2d(1, first_conv.out_channels, kernel_size=first_conv.kernel_size,\n",
        "                             stride=first_conv.stride, padding=first_conv.padding, bias=False)\n",
        "        new_conv.weight.data = w_gray\n",
        "        backbone.features[0][0] = new_conv\n",
        "        self.features = backbone.features\n",
        "        self.pool = nn.AdaptiveAvgPool2d((1,1))\n",
        "        in_feat = backbone.classifier[1].in_features\n",
        "        self.classifier = nn.Sequential(\n",
        "            nn.Dropout(p=0.3),\n",
        "            nn.Linear(in_feat, num_classes)\n",
        "        )\n",
        "        if freeze_backbone:\n",
        "            for p in self.features.parameters():\n",
        "                p.requires_grad = False\n",
        "\n",
        "    def forward(self, x):\n",
        "        x = self.features(x)\n",
        "        x = self.pool(x)\n",
        "        x = torch.flatten(x, 1)\n",
        "        return self.classifier(x)\n",
        "\n",
        "# Instantiate transfer learning model\n",
        "use_transfer = True  # toggle this to switch between custom CNN and transfer learning\n",
        "freeze_backbone = True\n",
        "if use_transfer:\n",
        "    model = TLMobileNet(num_classes, freeze_backbone=freeze_backbone).to(device)\n",
        "    print(\"Using transfer learning MobileNetV2 (freeze_backbone=\", freeze_backbone, \")\")\n",
        "else:\n",
        "    # Fallback to earlier ImprovedCNN if desired\n",
        "    class ImprovedCNN(nn.Module):\n",
        "        def __init__(self, num_classes):\n",
        "            super().__init__()\n",
        "            self.block1 = nn.Sequential(\n",
        "                nn.Conv2d(1, 32, 3, padding=1), nn.BatchNorm2d(32), nn.ReLU(),\n",
        "                nn.Conv2d(32, 32, 3, padding=1), nn.BatchNorm2d(32), nn.ReLU(),\n",
        "                nn.MaxPool2d(2), nn.Dropout(0.2)\n",
        "            )\n",
        "            self.block2 = nn.Sequential(\n",
        "                nn.Conv2d(32, 64, 3, padding=1), nn.BatchNorm2d(64), nn.ReLU(),\n",
        "                nn.Conv2d(64, 64, 3, padding=1), nn.BatchNorm2d(64), nn.ReLU(),\n",
        "                nn.MaxPool2d(2), nn.Dropout(0.25)\n",
        "            )\n",
        "            self.block3 = nn.Sequential(\n",
        "                nn.Conv2d(64, 128, 3, padding=1), nn.BatchNorm2d(128), nn.ReLU(),\n",
        "                nn.Conv2d(128, 128, 3, padding=1), nn.BatchNorm2d(128), nn.ReLU(),\n",
        "                nn.MaxPool2d(2), nn.Dropout(0.3)\n",
        "            )\n",
        "            self.block4 = nn.Sequential(\n",
        "                nn.Conv2d(128, 256, 3, padding=1), nn.BatchNorm2d(256), nn.ReLU(),\n",
        "                nn.Conv2d(256, 256, 3, padding=1), nn.BatchNorm2d(256), nn.ReLU(),\n",
        "                nn.AdaptiveAvgPool2d((1, 1)), nn.Dropout(0.4)\n",
        "            )\n",
        "            self.fc = nn.Linear(256, num_classes)\n",
        "        def forward(self, x):\n",
        "            x = self.block1(x); x = self.block2(x); x = self.block3(x); x = self.block4(x)\n",
        "            x = x.view(x.size(0), -1)\n",
        "            return self.fc(x)\n",
        "    model = ImprovedCNN(num_classes).to(device)\n",
        "    print(model)"
      ]
    },
    {
      "cell_type": "code",
      "execution_count": 6,
      "id": "jFvZTGnsyaow",
      "metadata": {
        "colab": {
          "base_uri": "https://localhost:8080/"
        },
        "id": "jFvZTGnsyaow",
        "outputId": "e930f6e9-f4f8-4109-8195-353fba1423e3"
      },
      "outputs": [
        {
          "output_type": "stream",
          "name": "stdout",
          "text": [
            "ImprovedCNN(\n",
            "  (block1): Sequential(\n",
            "    (0): Conv2d(1, 32, kernel_size=(3, 3), stride=(1, 1), padding=(1, 1))\n",
            "    (1): BatchNorm2d(32, eps=1e-05, momentum=0.1, affine=True, track_running_stats=True)\n",
            "    (2): ReLU()\n",
            "    (3): Conv2d(32, 32, kernel_size=(3, 3), stride=(1, 1), padding=(1, 1))\n",
            "    (4): BatchNorm2d(32, eps=1e-05, momentum=0.1, affine=True, track_running_stats=True)\n",
            "    (5): ReLU()\n",
            "    (6): MaxPool2d(kernel_size=2, stride=2, padding=0, dilation=1, ceil_mode=False)\n",
            "    (7): Dropout(p=0.2, inplace=False)\n",
            "  )\n",
            "  (block2): Sequential(\n",
            "    (0): Conv2d(32, 64, kernel_size=(3, 3), stride=(1, 1), padding=(1, 1))\n",
            "    (1): BatchNorm2d(64, eps=1e-05, momentum=0.1, affine=True, track_running_stats=True)\n",
            "    (2): ReLU()\n",
            "    (3): Conv2d(64, 64, kernel_size=(3, 3), stride=(1, 1), padding=(1, 1))\n",
            "    (4): BatchNorm2d(64, eps=1e-05, momentum=0.1, affine=True, track_running_stats=True)\n",
            "    (5): ReLU()\n",
            "    (6): MaxPool2d(kernel_size=2, stride=2, padding=0, dilation=1, ceil_mode=False)\n",
            "    (7): Dropout(p=0.25, inplace=False)\n",
            "  )\n",
            "  (block3): Sequential(\n",
            "    (0): Conv2d(64, 128, kernel_size=(3, 3), stride=(1, 1), padding=(1, 1))\n",
            "    (1): BatchNorm2d(128, eps=1e-05, momentum=0.1, affine=True, track_running_stats=True)\n",
            "    (2): ReLU()\n",
            "    (3): Conv2d(128, 128, kernel_size=(3, 3), stride=(1, 1), padding=(1, 1))\n",
            "    (4): BatchNorm2d(128, eps=1e-05, momentum=0.1, affine=True, track_running_stats=True)\n",
            "    (5): ReLU()\n",
            "    (6): MaxPool2d(kernel_size=2, stride=2, padding=0, dilation=1, ceil_mode=False)\n",
            "    (7): Dropout(p=0.3, inplace=False)\n",
            "  )\n",
            "  (block4): Sequential(\n",
            "    (0): Conv2d(128, 256, kernel_size=(3, 3), stride=(1, 1), padding=(1, 1))\n",
            "    (1): BatchNorm2d(256, eps=1e-05, momentum=0.1, affine=True, track_running_stats=True)\n",
            "    (2): ReLU()\n",
            "    (3): Conv2d(256, 256, kernel_size=(3, 3), stride=(1, 1), padding=(1, 1))\n",
            "    (4): BatchNorm2d(256, eps=1e-05, momentum=0.1, affine=True, track_running_stats=True)\n",
            "    (5): ReLU()\n",
            "    (6): AdaptiveAvgPool2d(output_size=(1, 1))\n",
            "    (7): Dropout(p=0.4, inplace=False)\n",
            "  )\n",
            "  (fc): Linear(in_features=256, out_features=7, bias=True)\n",
            ")\n"
          ]
        }
      ],
      "source": [
        "class ImprovedCNN(nn.Module):\n",
        "    def __init__(self, num_classes):\n",
        "        super().__init__()\n",
        "        self.block1 = nn.Sequential(\n",
        "            nn.Conv2d(1, 32, 3, padding=1),\n",
        "            nn.BatchNorm2d(32),\n",
        "            nn.ReLU(),\n",
        "            nn.Conv2d(32, 32, 3, padding=1),\n",
        "            nn.BatchNorm2d(32),\n",
        "            nn.ReLU(),\n",
        "            nn.MaxPool2d(2),\n",
        "            nn.Dropout(0.2)\n",
        "        )\n",
        "        self.block2 = nn.Sequential(\n",
        "            nn.Conv2d(32, 64, 3, padding=1),\n",
        "            nn.BatchNorm2d(64),\n",
        "            nn.ReLU(),\n",
        "            nn.Conv2d(64, 64, 3, padding=1),\n",
        "            nn.BatchNorm2d(64),\n",
        "            nn.ReLU(),\n",
        "            nn.MaxPool2d(2),\n",
        "            nn.Dropout(0.25)\n",
        "        )\n",
        "        self.block3 = nn.Sequential(\n",
        "            nn.Conv2d(64, 128, 3, padding=1),\n",
        "            nn.BatchNorm2d(128),\n",
        "            nn.ReLU(),\n",
        "            nn.Conv2d(128, 128, 3, padding=1),\n",
        "            nn.BatchNorm2d(128),\n",
        "            nn.ReLU(),\n",
        "            nn.MaxPool2d(2),\n",
        "            nn.Dropout(0.3)\n",
        "        )\n",
        "        self.block4 = nn.Sequential(\n",
        "            nn.Conv2d(128, 256, 3, padding=1),\n",
        "            nn.BatchNorm2d(256),\n",
        "            nn.ReLU(),\n",
        "            nn.Conv2d(256, 256, 3, padding=1),\n",
        "            nn.BatchNorm2d(256),\n",
        "            nn.ReLU(),\n",
        "            nn.AdaptiveAvgPool2d((1, 1)),\n",
        "            nn.Dropout(0.4)\n",
        "        )\n",
        "        self.fc = nn.Linear(256, num_classes)\n",
        "\n",
        "    def forward(self, x):\n",
        "        x = self.block1(x)\n",
        "        x = self.block2(x)\n",
        "        x = self.block3(x)\n",
        "        x = self.block4(x)\n",
        "        x = x.view(x.size(0), -1)\n",
        "        x = self.fc(x)\n",
        "        return x\n",
        "\n",
        "model = ImprovedCNN(num_classes).to(device)\n",
        "print(model)\n"
      ]
    },
    {
      "cell_type": "code",
      "execution_count": 7,
      "id": "RaS_hBEByb_Q",
      "metadata": {
        "id": "RaS_hBEByb_Q",
        "colab": {
          "base_uri": "https://localhost:8080/"
        },
        "outputId": "16db9efe-5f61-483a-8b74-094ef9de0ae8"
      },
      "outputs": [
        {
          "output_type": "stream",
          "name": "stdout",
          "text": [
            "Trainable parameters: 1,175,399 / 1,175,399 (100.00% unfrozen)\n"
          ]
        }
      ],
      "source": [
        "# Loss function\n",
        "criterion = nn.CrossEntropyLoss()\n",
        "\n",
        "# Collect only trainable parameters (support freezing backbone)\n",
        "trainable_params = [p for p in model.parameters() if p.requires_grad]\n",
        "num_trainable = sum(p.numel() for p in trainable_params)\n",
        "num_total = sum(p.numel() for p in model.parameters())\n",
        "print(f\"Trainable parameters: {num_trainable:,} / {num_total:,} ({num_trainable/num_total*100:.2f}% unfrozen)\")\n",
        "\n",
        "# Optimizer with weight decay (L2 regularization)\n",
        "optimizer = torch.optim.Adam(trainable_params, lr=1e-3, weight_decay=1e-4)\n",
        "\n",
        "# Learning rate scheduler: reduce LR on plateau\n",
        "scheduler = torch.optim.lr_scheduler.ReduceLROnPlateau(optimizer, mode='min', factor=0.5, patience=3, min_lr=1e-6)  # Removed verbose=True"
      ]
    },
    {
      "cell_type": "code",
      "source": [
        "# Optional: Gradual unfreeze schedule for transfer learning\n",
        "unfreeze_after = 5  # epochs after which to unfreeze backbone (set None to keep frozen)\n",
        "backbone_unfrozen = False\n",
        "\n",
        "def maybe_unfreeze(epoch):\n",
        "    global backbone_unfrozen, optimizer\n",
        "    if use_transfer and not backbone_unfrozen and unfreeze_after is not None and epoch >= unfreeze_after:\n",
        "        print(f\"Unfreezing backbone at epoch {epoch}\")\n",
        "        for p in model.features.parameters():\n",
        "            p.requires_grad = True\n",
        "        backbone_unfrozen = True\n",
        "        # Rebuild optimizer to include new params\n",
        "        trainable_params = [p for p in model.parameters() if p.requires_grad]\n",
        "        optimizer.param_groups.clear()\n",
        "        optimizer.add_param_group({'params': trainable_params, 'lr': 5e-4})"
      ],
      "metadata": {
        "id": "CxlOsb9peSzo"
      },
      "id": "CxlOsb9peSzo",
      "execution_count": 8,
      "outputs": []
    },
    {
      "cell_type": "code",
      "execution_count": 10,
      "id": "QP4lCnlYydNo",
      "metadata": {
        "colab": {
          "base_uri": "https://localhost:8080/",
          "height": 460
        },
        "id": "QP4lCnlYydNo",
        "outputId": "c740cf47-6a4d-4c95-debd-5d533732a074"
      },
      "outputs": [
        {
          "output_type": "stream",
          "name": "stdout",
          "text": [
            "Epoch 1/80 | LR: 1.00e-03 | Train loss: 1.2086, acc: 0.5409 | Val loss: 1.1840, acc: 0.5639\n",
            "Epoch 2/80 | LR: 1.00e-03 | Train loss: 1.1831, acc: 0.5525 | Val loss: 1.0845, acc: 0.5894\n",
            "Epoch 3/80 | LR: 1.00e-03 | Train loss: 1.1696, acc: 0.5556 | Val loss: 1.1233, acc: 0.5785\n",
            "Epoch 4/80 | LR: 1.00e-03 | Train loss: 1.1523, acc: 0.5627 | Val loss: 1.0598, acc: 0.5997\n",
            "Epoch 5/80 | LR: 1.00e-03 | Train loss: 1.1381, acc: 0.5639 | Val loss: 1.0332, acc: 0.6085\n",
            "Unfreezing backbone at epoch 5\n"
          ]
        },
        {
          "output_type": "error",
          "ename": "AttributeError",
          "evalue": "'ImprovedCNN' object has no attribute 'features'",
          "traceback": [
            "\u001b[0;31m---------------------------------------------------------------------------\u001b[0m",
            "\u001b[0;31mAttributeError\u001b[0m                            Traceback (most recent call last)",
            "\u001b[0;32m/tmp/ipython-input-234859594.py\u001b[0m in \u001b[0;36m<cell line: 0>\u001b[0;34m()\u001b[0m\n\u001b[1;32m      8\u001b[0m \u001b[0;32mfor\u001b[0m \u001b[0mepoch\u001b[0m \u001b[0;32min\u001b[0m \u001b[0mrange\u001b[0m\u001b[0;34m(\u001b[0m\u001b[0mnum_epochs\u001b[0m\u001b[0;34m)\u001b[0m\u001b[0;34m:\u001b[0m\u001b[0;34m\u001b[0m\u001b[0;34m\u001b[0m\u001b[0m\n\u001b[1;32m      9\u001b[0m     \u001b[0;32mif\u001b[0m \u001b[0muse_transfer\u001b[0m\u001b[0;34m:\u001b[0m \u001b[0;31m# Only call maybe_unfreeze if using transfer learning\u001b[0m\u001b[0;34m\u001b[0m\u001b[0;34m\u001b[0m\u001b[0m\n\u001b[0;32m---> 10\u001b[0;31m         \u001b[0mmaybe_unfreeze\u001b[0m\u001b[0;34m(\u001b[0m\u001b[0mepoch\u001b[0m\u001b[0;34m)\u001b[0m\u001b[0;34m\u001b[0m\u001b[0;34m\u001b[0m\u001b[0m\n\u001b[0m\u001b[1;32m     11\u001b[0m     \u001b[0mmodel\u001b[0m\u001b[0;34m.\u001b[0m\u001b[0mtrain\u001b[0m\u001b[0;34m(\u001b[0m\u001b[0;34m)\u001b[0m\u001b[0;34m\u001b[0m\u001b[0;34m\u001b[0m\u001b[0m\n\u001b[1;32m     12\u001b[0m     \u001b[0mrunning_loss\u001b[0m \u001b[0;34m=\u001b[0m \u001b[0;36m0\u001b[0m\u001b[0;34m\u001b[0m\u001b[0;34m\u001b[0m\u001b[0m\n",
            "\u001b[0;32m/tmp/ipython-input-2598436154.py\u001b[0m in \u001b[0;36mmaybe_unfreeze\u001b[0;34m(epoch)\u001b[0m\n\u001b[1;32m      7\u001b[0m     \u001b[0;32mif\u001b[0m \u001b[0muse_transfer\u001b[0m \u001b[0;32mand\u001b[0m \u001b[0;32mnot\u001b[0m \u001b[0mbackbone_unfrozen\u001b[0m \u001b[0;32mand\u001b[0m \u001b[0munfreeze_after\u001b[0m \u001b[0;32mis\u001b[0m \u001b[0;32mnot\u001b[0m \u001b[0;32mNone\u001b[0m \u001b[0;32mand\u001b[0m \u001b[0mepoch\u001b[0m \u001b[0;34m>=\u001b[0m \u001b[0munfreeze_after\u001b[0m\u001b[0;34m:\u001b[0m\u001b[0;34m\u001b[0m\u001b[0;34m\u001b[0m\u001b[0m\n\u001b[1;32m      8\u001b[0m         \u001b[0mprint\u001b[0m\u001b[0;34m(\u001b[0m\u001b[0;34mf\"Unfreezing backbone at epoch {epoch}\"\u001b[0m\u001b[0;34m)\u001b[0m\u001b[0;34m\u001b[0m\u001b[0;34m\u001b[0m\u001b[0m\n\u001b[0;32m----> 9\u001b[0;31m         \u001b[0;32mfor\u001b[0m \u001b[0mp\u001b[0m \u001b[0;32min\u001b[0m \u001b[0mmodel\u001b[0m\u001b[0;34m.\u001b[0m\u001b[0mfeatures\u001b[0m\u001b[0;34m.\u001b[0m\u001b[0mparameters\u001b[0m\u001b[0;34m(\u001b[0m\u001b[0;34m)\u001b[0m\u001b[0;34m:\u001b[0m\u001b[0;34m\u001b[0m\u001b[0;34m\u001b[0m\u001b[0m\n\u001b[0m\u001b[1;32m     10\u001b[0m             \u001b[0mp\u001b[0m\u001b[0;34m.\u001b[0m\u001b[0mrequires_grad\u001b[0m \u001b[0;34m=\u001b[0m \u001b[0;32mTrue\u001b[0m\u001b[0;34m\u001b[0m\u001b[0;34m\u001b[0m\u001b[0m\n\u001b[1;32m     11\u001b[0m         \u001b[0mbackbone_unfrozen\u001b[0m \u001b[0;34m=\u001b[0m \u001b[0;32mTrue\u001b[0m\u001b[0;34m\u001b[0m\u001b[0;34m\u001b[0m\u001b[0m\n",
            "\u001b[0;32m/usr/local/lib/python3.12/dist-packages/torch/nn/modules/module.py\u001b[0m in \u001b[0;36m__getattr__\u001b[0;34m(self, name)\u001b[0m\n\u001b[1;32m   1960\u001b[0m             \u001b[0;32mif\u001b[0m \u001b[0mname\u001b[0m \u001b[0;32min\u001b[0m \u001b[0mmodules\u001b[0m\u001b[0;34m:\u001b[0m\u001b[0;34m\u001b[0m\u001b[0;34m\u001b[0m\u001b[0m\n\u001b[1;32m   1961\u001b[0m                 \u001b[0;32mreturn\u001b[0m \u001b[0mmodules\u001b[0m\u001b[0;34m[\u001b[0m\u001b[0mname\u001b[0m\u001b[0;34m]\u001b[0m\u001b[0;34m\u001b[0m\u001b[0;34m\u001b[0m\u001b[0m\n\u001b[0;32m-> 1962\u001b[0;31m         raise AttributeError(\n\u001b[0m\u001b[1;32m   1963\u001b[0m             \u001b[0;34mf\"'{type(self).__name__}' object has no attribute '{name}'\"\u001b[0m\u001b[0;34m\u001b[0m\u001b[0;34m\u001b[0m\u001b[0m\n\u001b[1;32m   1964\u001b[0m         )\n",
            "\u001b[0;31mAttributeError\u001b[0m: 'ImprovedCNN' object has no attribute 'features'"
          ]
        }
      ],
      "source": [
        "# Training parameters\n",
        "num_epochs = 80\n",
        "patience = 10  # early stopping patience\n",
        "best_val_loss = float('inf')\n",
        "best_state_dict = None\n",
        "patience_counter = 0\n",
        "\n",
        "for epoch in range(num_epochs):\n",
        "    if use_transfer: # Only call maybe_unfreeze if using transfer learning\n",
        "        maybe_unfreeze(epoch)\n",
        "    model.train()\n",
        "    running_loss = 0\n",
        "    correct = 0\n",
        "    total = 0\n",
        "    for images, labels in train_loader:\n",
        "        images = images.to(device)\n",
        "        labels = labels.to(device)\n",
        "        outputs = model(images)\n",
        "        loss = criterion(outputs, labels)\n",
        "        optimizer.zero_grad()\n",
        "        loss.backward()\n",
        "        optimizer.step()\n",
        "        running_loss += loss.item() * images.size(0)\n",
        "        _, preds = torch.max(outputs.data, 1)\n",
        "        total += labels.size(0)\n",
        "        correct += (preds == labels).sum().item()\n",
        "    train_loss = running_loss / len(train_dataset)\n",
        "    train_acc = correct / total\n",
        "\n",
        "    # Validation\n",
        "    model.eval()\n",
        "    val_running_loss = 0\n",
        "    val_correct = 0\n",
        "    val_total = 0\n",
        "    with torch.no_grad():\n",
        "        for images, labels in val_loader:\n",
        "            images = images.to(device)\n",
        "            labels = labels.to(device)\n",
        "            outputs = model(images)\n",
        "            loss = criterion(outputs, labels)\n",
        "            val_running_loss += loss.item() * images.size(0)\n",
        "            _, preds = torch.max(outputs.data, 1)\n",
        "            val_total += labels.size(0)\n",
        "            val_correct += (preds == labels).sum().item()\n",
        "    val_loss = val_running_loss / len(val_dataset)\n",
        "    val_acc = val_correct / val_total\n",
        "\n",
        "    scheduler.step(val_loss)\n",
        "    current_lr = optimizer.param_groups[0]['lr']\n",
        "\n",
        "    print(f\"Epoch {epoch+1}/{num_epochs} | LR: {current_lr:.2e} | Train loss: {train_loss:.4f}, acc: {train_acc:.4f} | Val loss: {val_loss:.4f}, acc: {val_acc:.4f}\")\n",
        "\n",
        "    if val_loss < best_val_loss:\n",
        "        best_val_loss = val_loss\n",
        "        best_state_dict = model.state_dict()\n",
        "        patience_counter = 0\n",
        "    else:\n",
        "        patience_counter += 1\n",
        "        if patience_counter >= patience:\n",
        "            print('Early stopping: no improvement in', patience, 'epochs.')\n",
        "            break\n",
        "\n",
        "# Load best model weights\n",
        "if best_state_dict is not None:\n",
        "    model.load_state_dict(best_state_dict)"
      ]
    },
    {
      "cell_type": "code",
      "execution_count": null,
      "id": "tuWe_WFTye5X",
      "metadata": {
        "id": "tuWe_WFTye5X"
      },
      "outputs": [],
      "source": [
        "# Evaluate on test set\n",
        "model.eval()\n",
        "all_preds = []\n",
        "all_labels = []\n",
        "with torch.no_grad():\n",
        "    test_running_loss = 0\n",
        "    test_correct = 0\n",
        "    test_total = 0\n",
        "    for images, labels in test_loader:\n",
        "        images = images.to(device)\n",
        "        labels = labels.to(device)\n",
        "        outputs = model(images)\n",
        "        loss = criterion(outputs, labels)\n",
        "        test_running_loss += loss.item() * images.size(0)\n",
        "        _, preds = torch.max(outputs.data, 1)\n",
        "        test_total += labels.size(0)\n",
        "        test_correct += (preds == labels).sum().item()\n",
        "        all_preds.extend(preds.cpu().numpy())\n",
        "        all_labels.extend(labels.cpu().numpy())\n",
        "\n",
        "    test_loss = test_running_loss / len(test_dataset)\n",
        "    test_acc = test_correct / test_total\n",
        "\n",
        "print(f\"Test Loss: {test_loss:.4f}, Test Accuracy: {test_acc:.4f}\")\n",
        "\n",
        "# Confusion matrix and report\n",
        "cm = confusion_matrix(all_labels, all_preds)\n",
        "plt.figure(figsize=(6,5))\n",
        "sns.heatmap(cm, annot=True, fmt='d', cmap='Blues')\n",
        "plt.xlabel('Predicted label')\n",
        "plt.ylabel('True label')\n",
        "plt.title('Confusion Matrix')\n",
        "plt.show()\n",
        "\n",
        "print(classification_report(all_labels, all_preds))"
      ]
    }
  ],
  "metadata": {
    "accelerator": "GPU",
    "colab": {
      "gpuType": "T4",
      "provenance": [],
      "include_colab_link": true
    },
    "kernelspec": {
      "display_name": "Python 3",
      "name": "python3"
    },
    "language_info": {
      "codemirror_mode": {
        "name": "ipython",
        "version": 3
      },
      "file_extension": ".py",
      "mimetype": "text/x-python",
      "name": "python",
      "nbconvert_exporter": "python",
      "pygments_lexer": "ipython3",
      "version": "3.13.2"
    }
  },
  "nbformat": 4,
  "nbformat_minor": 5
}