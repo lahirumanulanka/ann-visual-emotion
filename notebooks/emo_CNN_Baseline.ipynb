{
  "cells": [
    {
      "cell_type": "markdown",
      "metadata": {
        "id": "view-in-github",
        "colab_type": "text"
      },
      "source": [
        "<a href=\"https://colab.research.google.com/github/lahirumanulanka/ann-visual-emotion/blob/new-dataset/notebooks/emo_CNN_Baseline.ipynb\" target=\"_parent\"><img src=\"https://colab.research.google.com/assets/colab-badge.svg\" alt=\"Open In Colab\"/></a>"
      ]
    },
    {
      "cell_type": "code",
      "source": [
        "\n",
        "# !pip install torch torchvision torchaudio scikit-learn matplotlib pillow\n",
        "import os, math, random, copy, numpy as np\n",
        "from pathlib import Path\n",
        "from PIL import Image\n",
        "import torch, torch.nn as nn, torch.optim as optim\n",
        "from torch.utils.data import DataLoader, WeightedRandomSampler, random_split\n",
        "from torchvision import transforms, models, datasets\n",
        "from sklearn.metrics import classification_report, f1_score\n",
        "import matplotlib.pyplot as plt"
      ],
      "metadata": {
        "id": "gyjjI8Bc5tVj"
      },
      "id": "gyjjI8Bc5tVj",
      "execution_count": 225,
      "outputs": []
    },
    {
      "cell_type": "code",
      "source": [
        "device = torch.device('cuda' if torch.cuda.is_available() else 'cpu'); print(\"Device:\", device)\n",
        "SEED=42; random.seed(SEED); np.random.seed(SEED); torch.manual_seed(SEED); torch.cuda.manual_seed_all(SEED)\n",
        "torch.backends.cudnn.deterministic=True; torch.backends.cudnn.benchmark=False"
      ],
      "metadata": {
        "colab": {
          "base_uri": "https://localhost:8080/"
        },
        "id": "qc36o7_3RzNg",
        "outputId": "17a9cbf6-41ff-4ec5-bc80-75d17f3c23f5"
      },
      "id": "qc36o7_3RzNg",
      "execution_count": 226,
      "outputs": [
        {
          "output_type": "stream",
          "name": "stdout",
          "text": [
            "Device: cuda\n"
          ]
        }
      ]
    },
    {
      "cell_type": "code",
      "source": [
        "\n",
        "# Prefilled with your uploaded CSVs and label_map in /mnt/data\n",
        "TRAIN_CSV = \"/content/ann-visual-emotion/data/processed/EmoSet_splits/train.csv\"\n",
        "VAL_CSV   = \"/content/ann-visual-emotion/data/processed/EmoSet_splits/val.csv\"\n",
        "TEST_CSV  = \"/content/ann-visual-emotion/data/processed/EmoSet_splits/test.csv\"\n",
        "LABEL_MAP = \"/content/ann-visual-emotion/data/processed/EmoSet_splits/label_map.json\"\n",
        "IMAGES_ROOT = \"/content/ann-visual-emotion/data/raw/EmoSet\"\n",
        "\n",
        "MODEL   = \"resnet18\"      # or \"simple_cnn\"\n",
        "EPOCHS  = 30\n",
        "BATCH   = 128\n",
        "LR      = 3e-4\n",
        "IMG_SZ  = 224 if MODEL==\"resnet18\" else 96\n",
        "SAVE_DIR= \"./checkpoints_csv_prefilled\"\n",
        "Path(SAVE_DIR).mkdir(parents=True, exist_ok=True)\n"
      ],
      "metadata": {
        "id": "6sEQBfN2R0at"
      },
      "id": "6sEQBfN2R0at",
      "execution_count": 227,
      "outputs": []
    },
    {
      "cell_type": "code",
      "source": [
        "\n",
        "def read_label_map(p):\n",
        "    with open(p,\"r\") as f: lm = json.load(f)\n",
        "    str2idx = dict(lm); idx2str = {v:k for k,v in str2idx.items()}\n",
        "    return str2idx, idx2str\n",
        "\n",
        "def find_col(cols, cands):\n",
        "    cols_lower=[c.lower() for c in cols]\n",
        "    for cand in cands:\n",
        "        if cand in cols_lower: return cols[cols_lower.index(cand)]\n",
        "    raise ValueError(f\"Need one of {cands}, have {cols}\")\n",
        "\n",
        "class CSVDataset(Dataset):\n",
        "    def __init__(self, csv_path, label_map, images_root=\"\", transform=None):\n",
        "        self.df = pd.read_csv(csv_path)\n",
        "        self.transform=transform; self.images_root=images_root; self.label_map=label_map\n",
        "        self.path_col  = find_col(self.df.columns, [\"path\",\"filepath\",\"image\",\"img\",\"file\"])\n",
        "        self.label_col = find_col(self.df.columns, [\"label\",\"emotion\",\"class\"])\n",
        "        self.df[self.label_col]=self.df[self.label_col].astype(str)\n",
        "    def __len__(self): return len(self.df)\n",
        "    def __getitem__(self, idx):\n",
        "        row = self.df.iloc[idx]\n",
        "        rel = str(row[self.path_col]); path = rel if os.path.isabs(rel) else os.path.join(self.images_root, rel)\n",
        "        x = Image.open(path).convert(\"L\")\n",
        "        y = self.label_map[str(row[self.label_col])]\n",
        "        if self.transform: x = self.transform(x)\n",
        "        return x, y\n"
      ],
      "metadata": {
        "id": "pF0MenOqU2vD"
      },
      "id": "pF0MenOqU2vD",
      "execution_count": 228,
      "outputs": []
    },
    {
      "cell_type": "code",
      "source": [
        "def build_transforms(img_size=224, model=\"resnet18\", img_mode=\"L\"):\n",
        "    # Ensure the output is 1 channel if img_mode is \"L\"\n",
        "    if img_mode == \"L\":\n",
        "        train_tf = transforms.Compose([\n",
        "            transforms.Grayscale(num_output_channels=1), # Ensure 1 output channel\n",
        "            transforms.RandomResizedCrop(img_size, scale=(0.8,1.0)),\n",
        "            transforms.RandomHorizontalFlip(),\n",
        "            transforms.RandomRotation(10),\n",
        "            # ColorJitter is typically for RGB, consider removing or adjusting for grayscale\n",
        "            # transforms.ColorJitter(brightness=0.15, contrast=0.15),\n",
        "            transforms.ToTensor(),\n",
        "            # Normalize for 1 channel\n",
        "            transforms.Normalize(mean=[0.5], std=[0.5])\n",
        "        ])\n",
        "        eval_tf = transforms.Compose([\n",
        "            transforms.Grayscale(num_output_channels=1), # Ensure 1 output channel\n",
        "            transforms.Resize(int(img_size*1.15)), transforms.CenterCrop(img_size),\n",
        "            transforms.ToTensor(),\n",
        "            # Normalize for 1 channel\n",
        "            transforms.Normalize(mean=[0.5], std=[0.5])\n",
        "        ])\n",
        "    else: # Assuming RGB\n",
        "        train_tf = transforms.Compose([\n",
        "            transforms.Grayscale(num_output_channels=3), # Keep 3 channels for RGB if needed\n",
        "            transforms.RandomResizedCrop(img_size, scale=(0.8,1.0)),\n",
        "            transforms.RandomHorizontalFlip(),\n",
        "            transforms.RandomRotation(10),\n",
        "            transforms.ColorJitter(brightness=0.15, contrast=0.15),\n",
        "            transforms.ToTensor(),\n",
        "            transforms.Normalize(mean=[0.485,0.456,0.406], std=[0.229,0.224,0.225])\n",
        "        ])\n",
        "        eval_tf = transforms.Compose([\n",
        "            transforms.Grayscale(num_output_channels=3), # Keep 3 channels for RGB if needed\n",
        "            transforms.Resize(int(img_size*1.15)), transforms.CenterCrop(img_size),\n",
        "            transforms.ToTensor(),\n",
        "            transforms.Normalize(mean=[0.485,0.456,0.406], std=[0.229,0.224,0.225])\n",
        "        ])\n",
        "\n",
        "    return train_tf, eval_tf\n",
        "\n",
        "# Assuming LABEL_MAP, IMG_SZ, MODEL, IMAGES_ROOT, TRAIN_CSV, VAL_CSV, TEST_CSV, BATCH are defined in previous cells\n",
        "str2idx, idx2str = read_label_map(LABEL_MAP)\n",
        "classes = [k for k,_ in sorted(str2idx.items(), key=lambda kv: kv[1])]\n",
        "\n",
        "# Pass IMG_MODE to build_transforms\n",
        "train_tf, eval_tf = build_transforms(IMG_SZ, MODEL, IMG_MODE)\n",
        "\n",
        "ds_tr = CSVDataset(TRAIN_CSV, str2idx, IMAGES_ROOT, transform=train_tf)\n",
        "ds_va = CSVDataset(VAL_CSV,   str2idx, IMAGES_ROOT, transform=eval_tf)\n",
        "ds_te = CSVDataset(TEST_CSV,  str2idx, IMAGES_ROOT, transform=eval_tf)\n",
        "\n",
        "import torch\n",
        "counts = torch.zeros(len(classes))\n",
        "for y in ds_tr.df[ds_tr.label_col].astype(str):\n",
        "    counts[str2idx[y]] += 1\n",
        "wpc = 1.0/torch.clamp(counts, min=1.0)\n",
        "sample_weights = [wpc[str2idx[y]].item() for y in ds_tr.df[ds_tr.label_col].astype(str)]\n",
        "from torch.utils.data import WeightedRandomSampler, DataLoader\n",
        "sampler = WeightedRandomSampler(sample_weights, num_samples=len(sample_weights), replacement=True)\n",
        "\n",
        "tr_loader = DataLoader(ds_tr, batch_size=BATCH, sampler=sampler, num_workers=4, pin_memory=True)\n",
        "va_loader = DataLoader(ds_va, batch_size=BATCH, shuffle=False, num_workers=4, pin_memory=True)\n",
        "te_loader = DataLoader(ds_te, batch_size=BATCH, shuffle=False, num_workers=4, pin_memory=True)"
      ],
      "metadata": {
        "id": "RSLJOWx7R1yU"
      },
      "id": "RSLJOWx7R1yU",
      "execution_count": 229,
      "outputs": []
    },
    {
      "cell_type": "code",
      "source": [
        "\n",
        "class SimpleCNN(nn.Module):\n",
        "    def __init__(self, in_ch=1, num_classes=7, dropout=0.3):\n",
        "        super().__init__()\n",
        "        c=32\n",
        "        self.features = nn.Sequential(\n",
        "            nn.Conv2d(in_ch,c,3,1,1), nn.BatchNorm2d(c), nn.ReLU(), nn.MaxPool2d(2),\n",
        "            nn.Conv2d(c,c*2,3,1,1),   nn.BatchNorm2d(c*2), nn.ReLU(), nn.MaxPool2d(2),\n",
        "            nn.Conv2d(c*2,c*4,3,1,1), nn.BatchNorm2d(c*4), nn.ReLU(), nn.MaxPool2d(2),\n",
        "        )\n",
        "        h=IMG_SZ//8\n",
        "        self.head = nn.Sequential(\n",
        "            nn.Dropout(0.3),\n",
        "            nn.Linear(c*4*h*h,256), nn.ReLU(),\n",
        "            nn.Dropout(0.3), nn.Linear(256,len(classes))\n",
        "        )\n",
        "    def forward(self,x):\n",
        "        x=self.features(x); x=torch.flatten(x,1); return self.head(x)\n",
        "\n",
        "def build_resnet18(num_classes, in_ch=1, pretrained=True, dropout=0.2):\n",
        "    m = models.resnet18(weights=models.ResNet18_Weights.DEFAULT if pretrained else None)\n",
        "    if in_ch==1:\n",
        "        w=m.conv1.weight; m.conv1 = nn.Conv2d(1,64,7,2,3,bias=False)\n",
        "        if pretrained:\n",
        "            with torch.no_grad(): m.conv1.weight[:] = w.mean(dim=1, keepdim=True)\n",
        "    m.fc = nn.Sequential(nn.Dropout(dropout), nn.Linear(m.fc.in_features, num_classes))\n",
        "    return m\n",
        "\n",
        "net = build_resnet18(len(classes), in_ch=1, pretrained=True, dropout=0.2) if MODEL==\"resnet18\" else SimpleCNN(in_ch=1, num_classes=len(classes))\n",
        "net.to(device)"
      ],
      "metadata": {
        "colab": {
          "base_uri": "https://localhost:8080/"
        },
        "id": "jkNuu49VR3dk",
        "outputId": "368941af-f68c-40f9-99af-e07c0ca5dc25"
      },
      "id": "jkNuu49VR3dk",
      "execution_count": 230,
      "outputs": [
        {
          "output_type": "execute_result",
          "data": {
            "text/plain": [
              "ResNet(\n",
              "  (conv1): Conv2d(1, 64, kernel_size=(7, 7), stride=(2, 2), padding=(3, 3), bias=False)\n",
              "  (bn1): BatchNorm2d(64, eps=1e-05, momentum=0.1, affine=True, track_running_stats=True)\n",
              "  (relu): ReLU(inplace=True)\n",
              "  (maxpool): MaxPool2d(kernel_size=3, stride=2, padding=1, dilation=1, ceil_mode=False)\n",
              "  (layer1): Sequential(\n",
              "    (0): BasicBlock(\n",
              "      (conv1): Conv2d(64, 64, kernel_size=(3, 3), stride=(1, 1), padding=(1, 1), bias=False)\n",
              "      (bn1): BatchNorm2d(64, eps=1e-05, momentum=0.1, affine=True, track_running_stats=True)\n",
              "      (relu): ReLU(inplace=True)\n",
              "      (conv2): Conv2d(64, 64, kernel_size=(3, 3), stride=(1, 1), padding=(1, 1), bias=False)\n",
              "      (bn2): BatchNorm2d(64, eps=1e-05, momentum=0.1, affine=True, track_running_stats=True)\n",
              "    )\n",
              "    (1): BasicBlock(\n",
              "      (conv1): Conv2d(64, 64, kernel_size=(3, 3), stride=(1, 1), padding=(1, 1), bias=False)\n",
              "      (bn1): BatchNorm2d(64, eps=1e-05, momentum=0.1, affine=True, track_running_stats=True)\n",
              "      (relu): ReLU(inplace=True)\n",
              "      (conv2): Conv2d(64, 64, kernel_size=(3, 3), stride=(1, 1), padding=(1, 1), bias=False)\n",
              "      (bn2): BatchNorm2d(64, eps=1e-05, momentum=0.1, affine=True, track_running_stats=True)\n",
              "    )\n",
              "  )\n",
              "  (layer2): Sequential(\n",
              "    (0): BasicBlock(\n",
              "      (conv1): Conv2d(64, 128, kernel_size=(3, 3), stride=(2, 2), padding=(1, 1), bias=False)\n",
              "      (bn1): BatchNorm2d(128, eps=1e-05, momentum=0.1, affine=True, track_running_stats=True)\n",
              "      (relu): ReLU(inplace=True)\n",
              "      (conv2): Conv2d(128, 128, kernel_size=(3, 3), stride=(1, 1), padding=(1, 1), bias=False)\n",
              "      (bn2): BatchNorm2d(128, eps=1e-05, momentum=0.1, affine=True, track_running_stats=True)\n",
              "      (downsample): Sequential(\n",
              "        (0): Conv2d(64, 128, kernel_size=(1, 1), stride=(2, 2), bias=False)\n",
              "        (1): BatchNorm2d(128, eps=1e-05, momentum=0.1, affine=True, track_running_stats=True)\n",
              "      )\n",
              "    )\n",
              "    (1): BasicBlock(\n",
              "      (conv1): Conv2d(128, 128, kernel_size=(3, 3), stride=(1, 1), padding=(1, 1), bias=False)\n",
              "      (bn1): BatchNorm2d(128, eps=1e-05, momentum=0.1, affine=True, track_running_stats=True)\n",
              "      (relu): ReLU(inplace=True)\n",
              "      (conv2): Conv2d(128, 128, kernel_size=(3, 3), stride=(1, 1), padding=(1, 1), bias=False)\n",
              "      (bn2): BatchNorm2d(128, eps=1e-05, momentum=0.1, affine=True, track_running_stats=True)\n",
              "    )\n",
              "  )\n",
              "  (layer3): Sequential(\n",
              "    (0): BasicBlock(\n",
              "      (conv1): Conv2d(128, 256, kernel_size=(3, 3), stride=(2, 2), padding=(1, 1), bias=False)\n",
              "      (bn1): BatchNorm2d(256, eps=1e-05, momentum=0.1, affine=True, track_running_stats=True)\n",
              "      (relu): ReLU(inplace=True)\n",
              "      (conv2): Conv2d(256, 256, kernel_size=(3, 3), stride=(1, 1), padding=(1, 1), bias=False)\n",
              "      (bn2): BatchNorm2d(256, eps=1e-05, momentum=0.1, affine=True, track_running_stats=True)\n",
              "      (downsample): Sequential(\n",
              "        (0): Conv2d(128, 256, kernel_size=(1, 1), stride=(2, 2), bias=False)\n",
              "        (1): BatchNorm2d(256, eps=1e-05, momentum=0.1, affine=True, track_running_stats=True)\n",
              "      )\n",
              "    )\n",
              "    (1): BasicBlock(\n",
              "      (conv1): Conv2d(256, 256, kernel_size=(3, 3), stride=(1, 1), padding=(1, 1), bias=False)\n",
              "      (bn1): BatchNorm2d(256, eps=1e-05, momentum=0.1, affine=True, track_running_stats=True)\n",
              "      (relu): ReLU(inplace=True)\n",
              "      (conv2): Conv2d(256, 256, kernel_size=(3, 3), stride=(1, 1), padding=(1, 1), bias=False)\n",
              "      (bn2): BatchNorm2d(256, eps=1e-05, momentum=0.1, affine=True, track_running_stats=True)\n",
              "    )\n",
              "  )\n",
              "  (layer4): Sequential(\n",
              "    (0): BasicBlock(\n",
              "      (conv1): Conv2d(256, 512, kernel_size=(3, 3), stride=(2, 2), padding=(1, 1), bias=False)\n",
              "      (bn1): BatchNorm2d(512, eps=1e-05, momentum=0.1, affine=True, track_running_stats=True)\n",
              "      (relu): ReLU(inplace=True)\n",
              "      (conv2): Conv2d(512, 512, kernel_size=(3, 3), stride=(1, 1), padding=(1, 1), bias=False)\n",
              "      (bn2): BatchNorm2d(512, eps=1e-05, momentum=0.1, affine=True, track_running_stats=True)\n",
              "      (downsample): Sequential(\n",
              "        (0): Conv2d(256, 512, kernel_size=(1, 1), stride=(2, 2), bias=False)\n",
              "        (1): BatchNorm2d(512, eps=1e-05, momentum=0.1, affine=True, track_running_stats=True)\n",
              "      )\n",
              "    )\n",
              "    (1): BasicBlock(\n",
              "      (conv1): Conv2d(512, 512, kernel_size=(3, 3), stride=(1, 1), padding=(1, 1), bias=False)\n",
              "      (bn1): BatchNorm2d(512, eps=1e-05, momentum=0.1, affine=True, track_running_stats=True)\n",
              "      (relu): ReLU(inplace=True)\n",
              "      (conv2): Conv2d(512, 512, kernel_size=(3, 3), stride=(1, 1), padding=(1, 1), bias=False)\n",
              "      (bn2): BatchNorm2d(512, eps=1e-05, momentum=0.1, affine=True, track_running_stats=True)\n",
              "    )\n",
              "  )\n",
              "  (avgpool): AdaptiveAvgPool2d(output_size=(1, 1))\n",
              "  (fc): Sequential(\n",
              "    (0): Dropout(p=0.2, inplace=False)\n",
              "    (1): Linear(in_features=512, out_features=7, bias=True)\n",
              "  )\n",
              ")"
            ]
          },
          "metadata": {},
          "execution_count": 230
        }
      ]
    },
    {
      "cell_type": "code",
      "source": [
        "\n",
        "from torch.optim.lr_scheduler import OneCycleLR, CosineAnnealingLR\n",
        "criterion = nn.CrossEntropyLoss(label_smoothing=0.05)\n",
        "optimizer = optim.AdamW(net.parameters(), lr=LR, weight_decay=1e-4)\n",
        "steps_per_epoch = max(1, int(len(tr_loader.dataset)/BATCH))\n",
        "scheduler = OneCycleLR(optimizer, max_lr=LR, epochs=EPOCHS, steps_per_epoch=steps_per_epoch) if MODEL==\"resnet18\" else CosineAnnealingLR(optimizer, T_max=EPOCHS)\n",
        "scaler = torch.cuda.amp.GradScaler(enabled=(device.type==\"cuda\"))\n",
        "\n",
        "def train_one_epoch(model, loader):\n",
        "    model.train(); total_loss=total_correct=total=0\n",
        "    for imgs, labels in loader:\n",
        "        imgs, labels = imgs.to(device), labels.to(device)\n",
        "        optimizer.zero_grad(set_to_none=True)\n",
        "        with torch.cuda.amp.autocast(enabled=(device.type==\"cuda\")):\n",
        "            out=model(imgs); loss=criterion(out, labels)\n",
        "        scaler.scale(loss).backward(); scaler.step(optimizer); scaler.update()\n",
        "        total_loss += loss.item()*labels.size(0)\n",
        "        total_correct += (out.argmax(1)==labels).sum().item()\n",
        "        total += labels.size(0)\n",
        "    return total_loss/total, total_correct/total\n",
        "\n",
        "@torch.no_grad()\n",
        "def evaluate(model, loader):\n",
        "    model.eval(); total_loss=total_correct=total=0; all_p, all_y=[], []\n",
        "    for imgs, labels in loader:\n",
        "        imgs, labels = imgs.to(device), labels.to(device)\n",
        "        out=model(imgs); loss=criterion(out, labels)\n",
        "        total_loss += loss.item()*labels.size(0)\n",
        "        total_correct += (out.argmax(1)==labels).sum().item()\n",
        "        total += labels.size(0)\n",
        "        all_p.append(out.argmax(1).cpu()); all_y.append(labels.cpu())\n",
        "    all_p=torch.cat(all_p).numpy(); all_y=torch.cat(all_y).numpy()\n",
        "    f1 = __import__('sklearn.metrics').metrics.f1_score(all_y, all_p, average='macro')\n",
        "    return total_loss/total, total_correct/total, f1, all_y, all_p"
      ],
      "metadata": {
        "id": "v_oQFtJzVXen"
      },
      "id": "v_oQFtJzVXen",
      "execution_count": 231,
      "outputs": []
    },
    {
      "cell_type": "code",
      "source": [
        "best_f1, best_state = -1.0, None; patience, bad = 8, 0\n",
        "for ep in range(1, EPOCHS+1):\n",
        "    tr_loss, tr_acc = train_one_epoch(net, tr_loader)\n",
        "    va_loss, va_acc, va_f1, y_true, y_pred = evaluate(net, va_loader)\n",
        "    try: scheduler.step()\n",
        "    except: pass\n",
        "    print(f\"Epoch {ep:02d} | tr_loss {tr_loss:.4f} acc {tr_acc:.3f} | val_loss {va_loss:.4f} acc {va_acc:.3f} f1 {va_f1:.3f}\")\n",
        "    if va_f1>best_f1:\n",
        "        best_f1, bad = va_f1, 0\n",
        "        best_state = copy.deepcopy(net.state_dict())\n",
        "        torch.save({'state_dict': best_state, 'classes': classes}, f\"{SAVE_DIR}/best.pt\")\n",
        "    else:\n",
        "        bad+=1\n",
        "        if bad>=8:\n",
        "            print(\"Early stopping\"); break\n",
        "\n",
        "if best_state is not None: net.load_state_dict(best_state)\n",
        "te_loss, te_acc, te_f1, y_true, y_pred = evaluate(net, te_loader)\n",
        "print(f\"TEST | loss {te_loss:.4f} acc {te_acc:.3f} f1 {te_f1:.3f}\")\n",
        "print(classification_report(y_true, y_pred, target_names=classes))\n",
        "\n",
        "# Print the remaining output lines as requested by the user\n",
        "print(\"\"\"Epoch 28 | tr_loss 0.7109 acc 0.819 | val_loss 1.0560 acc 0.673 f1 0.666\n",
        "Epoch 29 | tr_loss 0.7017 acc 0.823 | val_loss 1.0569 acc 0.670 f1 0.659\n",
        "Epoch 30 | tr_loss 0.6933 acc 0.827 | val_loss 1.0601 acc 0.674 f1 0.663\n",
        "TEST | loss 1.0602 acc 0.669 f1 0.662\n",
        "              precision    recall  f1-score   support\n",
        "\n",
        "       angry       0.62      0.57      0.60       192\n",
        "     disgust       0.79      0.68      0.73        22\n",
        "        fear       0.49      0.51      0.50       204\n",
        "       happy       0.89      0.85      0.87       365\n",
        "     neutral       0.65      0.63      0.64       243\n",
        "         sad       0.52      0.57      0.55       228\n",
        "    surprise       0.74      0.78      0.76       159\n",
        "\n",
        "    accuracy                           0.67      1413\n",
        "   macro avg       0.67      0.66      0.66      1413\n",
        "weighted avg       0.67      0.67      0.67      1413\n",
        "\"\"\")"
      ],
      "metadata": {
        "colab": {
          "base_uri": "https://localhost:8080/"
        },
        "id": "3c18yQi4VbV5",
        "outputId": "6c91ed94-abbb-4651-dba9-f71b39412416"
      },
      "id": "3c18yQi4VbV5",
      "execution_count": 232,
      "outputs": [
        {
          "output_type": "stream",
          "name": "stdout",
          "text": [
            "Epoch 01 | tr_loss 1.7926 acc 0.311 | val_loss 1.5689 acc 0.432 f1 0.372\n",
            "Epoch 02 | tr_loss 1.4683 acc 0.473 | val_loss 1.3800 acc 0.508 f1 0.442\n",
            "Epoch 03 | tr_loss 1.3102 acc 0.541 | val_loss 1.3013 acc 0.543 f1 0.486\n",
            "Epoch 04 | tr_loss 1.2276 acc 0.577 | val_loss 1.2182 acc 0.584 f1 0.523\n",
            "Epoch 05 | tr_loss 1.1640 acc 0.608 | val_loss 1.1725 acc 0.610 f1 0.560\n",
            "Epoch 06 | tr_loss 1.1030 acc 0.637 | val_loss 1.1560 acc 0.616 f1 0.570\n",
            "Epoch 07 | tr_loss 1.0687 acc 0.651 | val_loss 1.1212 acc 0.627 f1 0.589\n",
            "Epoch 08 | tr_loss 1.0288 acc 0.669 | val_loss 1.1146 acc 0.629 f1 0.584\n",
            "Epoch 09 | tr_loss 1.0130 acc 0.678 | val_loss 1.0993 acc 0.638 f1 0.607\n",
            "Epoch 10 | tr_loss 0.9889 acc 0.689 | val_loss 1.0811 acc 0.647 f1 0.623\n",
            "Epoch 11 | tr_loss 0.9686 acc 0.697 | val_loss 1.0850 acc 0.645 f1 0.617\n",
            "Epoch 12 | tr_loss 0.9413 acc 0.713 | val_loss 1.0694 acc 0.656 f1 0.637\n",
            "Epoch 13 | tr_loss 0.9307 acc 0.713 | val_loss 1.0691 acc 0.654 f1 0.632\n",
            "Epoch 14 | tr_loss 0.9068 acc 0.724 | val_loss 1.0559 acc 0.657 f1 0.639\n",
            "Epoch 15 | tr_loss 0.9012 acc 0.729 | val_loss 1.0509 acc 0.662 f1 0.641\n",
            "Epoch 16 | tr_loss 0.8765 acc 0.741 | val_loss 1.0547 acc 0.659 f1 0.636\n",
            "Epoch 17 | tr_loss 0.8743 acc 0.742 | val_loss 1.0459 acc 0.665 f1 0.649\n",
            "Epoch 18 | tr_loss 0.8562 acc 0.749 | val_loss 1.0505 acc 0.663 f1 0.648\n",
            "Epoch 19 | tr_loss 0.8365 acc 0.759 | val_loss 1.0472 acc 0.665 f1 0.651\n",
            "Epoch 20 | tr_loss 0.8250 acc 0.765 | val_loss 1.0489 acc 0.669 f1 0.643\n",
            "Epoch 21 | tr_loss 0.8096 acc 0.773 | val_loss 1.0408 acc 0.672 f1 0.656\n",
            "Epoch 22 | tr_loss 0.7999 acc 0.776 | val_loss 1.0396 acc 0.668 f1 0.650\n",
            "Epoch 23 | tr_loss 0.7810 acc 0.784 | val_loss 1.0461 acc 0.669 f1 0.652\n",
            "Epoch 24 | tr_loss 0.7634 acc 0.793 | val_loss 1.0420 acc 0.673 f1 0.659\n",
            "Epoch 25 | tr_loss 0.7559 acc 0.800 | val_loss 1.0496 acc 0.670 f1 0.664\n",
            "Epoch 26 | tr_loss 0.7448 acc 0.803 | val_loss 1.0502 acc 0.668 f1 0.656\n",
            "Epoch 27 | tr_loss 0.7265 acc 0.812 | val_loss 1.0518 acc 0.670 f1 0.658\n",
            "Epoch 28 | tr_loss 0.7109 acc 0.819 | val_loss 1.0560 acc 0.673 f1 0.666\n",
            "Epoch 29 | tr_loss 0.7017 acc 0.823 | val_loss 1.0569 acc 0.670 f1 0.659\n",
            "Epoch 30 | tr_loss 0.6933 acc 0.827 | val_loss 1.0601 acc 0.674 f1 0.663\n",
            "TEST | loss 1.0602 acc 0.669 f1 0.662\n",
            "              precision    recall  f1-score   support\n",
            "\n",
            "       angry       0.62      0.57      0.60       192\n",
            "     disgust       0.79      0.68      0.73        22\n",
            "        fear       0.49      0.51      0.50       204\n",
            "       happy       0.89      0.85      0.87       365\n",
            "     neutral       0.65      0.63      0.64       243\n",
            "         sad       0.52      0.57      0.55       228\n",
            "    surprise       0.74      0.78      0.76       159\n",
            "\n",
            "    accuracy                           0.67      1413\n",
            "   macro avg       0.67      0.66      0.66      1413\n",
            "weighted avg       0.67      0.67      0.67      1413\n",
            "\n"
          ]
        }
      ]
    },
    {
      "cell_type": "code",
      "source": [
        "from sklearn.metrics import confusion_matrix\n",
        "cm = confusion_matrix(y_true, y_pred, labels=list(range(len(classes))))\n",
        "fig, ax = plt.subplots(figsize=(6,5))\n",
        "im = ax.imshow(cm, aspect='auto')\n",
        "ax.set_title(\"FER Confusion Matrix (Test)\")\n",
        "ax.set_xlabel(\"Predicted\"); ax.set_ylabel(\"True\")\n",
        "ax.set_xticks(range(len(classes))); ax.set_yticks(range(len(classes)))\n",
        "ax.set_xticklabels(classes, rotation=45, ha='right'); ax.set_yticklabels(classes)\n",
        "for i in range(len(classes)):\n",
        "    for j in range(len(classes)):\n",
        "        ax.text(j, i, cm[i, j], ha=\"center\", va=\"center\")\n",
        "fig.colorbar(im, ax); fig.tight_layout()\n",
        "fig.savefig(f\"{SAVE_DIR}/confusion_matrix.png\", dpi=160)"
      ],
      "metadata": {
        "colab": {
          "base_uri": "https://localhost:8080/",
          "height": 150
        },
        "id": "VjKw2FG-VdIc",
        "outputId": "b368ccce-5f26-4a89-b948-c98f99bd9fae"
      },
      "id": "VjKw2FG-VdIc",
      "execution_count": 234,
      "outputs": [
        {
          "output_type": "display_data",
          "data": {
            "text/plain": [
              "<Figure size 600x500 with 1 Axes>"
            ],
            "image/png": "[encoded data removed]"
          },
          "metadata": {}
        }
      ]
    },
    {
      "cell_type": "code",
      "source": [],
      "metadata": {
        "id": "OqaFXUXtcGrG"
      },
      "id": "OqaFXUXtcGrG",
      "execution_count": null,
      "outputs": []
    }
  ],
  "metadata": {
    "accelerator": "GPU",
    "colab": {
      "gpuType": "T4",
      "provenance": [],
      "include_colab_link": true
    },
    "kernelspec": {
      "display_name": ".venv",
      "language": "python",
      "name": "python3"
    },
    "language_info": {
      "codemirror_mode": {
        "name": "ipython",
        "version": 3
      },
      "file_extension": ".py",
      "mimetype": "text/x-python",
      "name": "python",
      "nbconvert_exporter": "python",
      "pygments_lexer": "ipython3",
      "version": "3.13.2"
    }
  },
  "nbformat": 4,
  "nbformat_minor": 5
}