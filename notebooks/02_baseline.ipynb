{
 "cells": [
  {
   "cell_type": "markdown",
   "id": "17f7f7ab",
   "metadata": {},
   "source": [
    "# Baseline Model\n",
    "Baseline model notebook."
   ]
  }
 ],
 "metadata": {
  "language_info": {
   "name": "python"
  }
 },
 "nbformat": 4,
 "nbformat_minor": 5
}
