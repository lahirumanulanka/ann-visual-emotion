{
 "cells": [
  {
   "cell_type": "markdown",
   "metadata": {
    "colab_type": "text",
    "id": "view-in-github"
   },
   "source": [
    "<a href=\"https://colab.research.google.com/github/lahirumanulanka/ann-visual-emotion/blob/added_new_dataset/notebooks/CNN_Transfer_Learning.ipynb\" target=\"_parent\"><img src=\"https://colab.research.google.com/assets/colab-badge.svg\" alt=\"Open In Colab\"/></a>"
   ]
  },
  {
   "cell_type": "code",
   "execution_count": 15,
   "metadata": {
    "colab": {
     "base_uri": "https://localhost:8080/"
    },
    "id": "dpOTlhgalZoU",
    "outputId": "9d953c9f-ff39-4bd8-c08b-a2930466b20a"
   },
   "outputs": [
    {
     "name": "stdout",
     "output_type": "stream",
     "text": [
      "fatal: destination path 'ann-visual-emotion' already exists and is not an empty directory.\n"
     ]
    }
   ],
   "source": [
    "!git clone -b added_new_dataset https://github.com/lahirumanulanka/ann-visual-emotion"
   ]
  },
  {
   "cell_type": "markdown",
   "metadata": {
    "id": "NNYScK2vlU3V"
   },
   "source": [
    "# CNN Transfer Learning for Visual Emotion Recognition\n",
    "\n",
    "This notebook demonstrates how to implement transfer learning with CNN networks for visual emotion recognition. We'll use a pre-trained VGG16 model and fine-tune it for our emotion classification task.\n",
    "\n",
    "## What is Transfer Learning?\n",
    "Transfer learning is a machine learning technique where we use a model that has been trained on one task and adapt it for a related task. In our case, we'll use a CNN pre-trained on ImageNet and adapt it for emotion recognition.\n",
    "\n",
    "## Benefits of Transfer Learning:\n",
    "1. **Faster training**: We start with pre-trained weights instead of random initialization\n",
    "2. **Better performance**: Especially when we have limited training data\n",
    "3. **Lower computational requirements**: Less training time needed\n",
    "4. **Proven feature extractors**: Pre-trained networks have learned robust low-level features"
   ]
  },
  {
   "cell_type": "markdown",
   "metadata": {
    "id": "JPhiOh1PlU3W"
   },
   "source": [
    "## Step 1: Import Required Libraries"
   ]
  },
  {
   "cell_type": "markdown",
   "metadata": {},
   "source": [
    "### Upgrade Summary (Targeting >=80% Accuracy)\n",
    "\n",
    "Improvements applied:\n",
    "- Stronger backbone: ResNet50 (better feature extraction)\n",
    "- Progressive unfreezing (stabilize then fine-tune)\n",
    "- Advanced augmentations: rotation, flip, optional AutoAugment, RandomErasing\n",
    "- MixUp (alpha=0.4) + Label Smoothing (0.05) for regularization\n",
    "- Class imbalance handling via dynamic class weights\n",
    "- Cosine Annealing with Warm Restarts scheduler\n",
    "- Separate LRs (backbone vs head) + AdamW optimizer\n",
    "- Gradient clipping (1.0) to avoid exploding gradients\n",
    "- Balanced accuracy monitoring (robust under class imbalance)\n",
    "\n",
    "Run all cells sequentially for the improved training pipeline. Adjust CONFIG as needed."
   ]
  },
  {
   "cell_type": "code",
   "execution_count": 16,
   "metadata": {
    "colab": {
     "base_uri": "https://localhost:8080/"
    },
    "id": "Y_HTJV22lU3W",
    "outputId": "a6ffac05-c175-4f35-fbf5-281f6a149955"
   },
   "outputs": [
    {
     "name": "stdout",
     "output_type": "stream",
     "text": [
      "Using device: cuda\n"
     ]
    }
   ],
   "source": [
    "import os\n",
    "import sys\n",
    "from pathlib import Path\n",
    "import json\n",
    "import pandas as pd\n",
    "import numpy as np\n",
    "from PIL import Image\n",
    "import matplotlib.pyplot as plt\n",
    "import seaborn as sns\n",
    "\n",
    "# PyTorch imports\n",
    "import torch\n",
    "import torch.nn as nn\n",
    "import torch.nn.functional as F\n",
    "import torch.optim as optim\n",
    "from torch.utils.data import Dataset, DataLoader\n",
    "from torchvision import transforms, models\n",
    "\n",
    "# Sklearn for metrics\n",
    "from sklearn.metrics import confusion_matrix, classification_report, accuracy_score\n",
    "\n",
    "# Set device\n",
    "device = torch.device('cuda' if torch.cuda.is_available() else 'cpu')\n",
    "print(f'Using device: {device}')\n",
    "\n",
    "# Set random seeds for reproducibility\n",
    "torch.manual_seed(42)\n",
    "np.random.seed(42)\n",
    "if torch.cuda.is_available():\n",
    "    torch.cuda.manual_seed(42)"
   ]
  },
  {
   "cell_type": "code",
   "execution_count": null,
   "metadata": {},
   "outputs": [],
   "source": [
    "# Configuration & Hyperparameters for Improved Accuracy (target >=80%)\n",
    "CONFIG = {\n",
    "    'backbone': 'resnet50',              # stronger backbone than VGG16\n",
    "    'pretrained': True,\n",
    "    'freeze_initial_epochs': 2,          # freeze backbone first few epochs (stabilize new head)\n",
    "    'epochs': 30,\n",
    "    'patience': 6,                       # early stopping patience\n",
    "    'batch_size': 64,\n",
    "    'base_backbone_lr': 1e-4,            # small LR for backbone\n",
    "    'head_lr': 1e-3,                     # larger LR for new head\n",
    "    'weight_decay': 1e-4,\n",
    "    'scheduler': 'cosine_warm_restarts', # cosine schedule with restarts\n",
    "    'cosine_T0': 5,\n",
    "    'cosine_Tmult': 2,\n",
    "    'mixup_alpha': 0.4,                  # MixUp regularization (set 0 to disable)\n",
    "    'label_smoothing': 0.05,             # label smoothing in CrossEntropy\n",
    "    'use_class_weights': True,           # handle class imbalance\n",
    "    'grad_clip': 1.0,                    # gradient clipping max norm\n",
    "    'use_random_erasing': True,          # additional augmentation\n",
    "    'random_erasing_p': 0.25,\n",
    "    'use_autoaugment': False,            # can enable if dataset large enough\n",
    "    'balanced_metric': True              # compute balanced accuracy\n",
    "}\n",
    "print('Loaded CONFIG:', CONFIG)\n"
   ]
  },
  {
   "cell_type": "markdown",
   "metadata": {
    "id": "KM3vMzXQlU3X"
   },
   "source": [
    "## Step 2: Data Preparation\n",
    "\n",
    "First, let's set up our data paths and load the dataset splits."
   ]
  },
  {
   "cell_type": "code",
   "execution_count": null,
   "metadata": {
    "colab": {
     "base_uri": "https://localhost:8080/"
    },
    "id": "8ouHDnCxlU3X",
    "outputId": "ca37ac88-90e4-45ad-a077-61628ca57af8"
   },
   "outputs": [
    {
     "name": "stdout",
     "output_type": "stream",
     "text": [
      "Checking data files...\n",
      "✓ Found: /content/ann-visual-emotion/data/processed/EmoSet_splits/train.csv\n",
      "✓ Found: /content/ann-visual-emotion/data/processed/EmoSet_splits/val.csv\n",
      "✓ Found: /content/ann-visual-emotion/data/processed/EmoSet_splits/test.csv\n",
      "✓ Found: /content/ann-visual-emotion/data/processed/EmoSet_splits/label_map.json\n",
      "Number of emotion classes: 6\n",
      "Emotion classes: ['angry', 'fearful', 'happy', 'neutral', 'sad', 'surprised']\n"
     ]
    }
   ],
   "source": [
    "# Data paths (modify these if running locally)\n",
    "from collections import Counter\n",
    "\n",
    "if 'PROJECT_ROOT' not in globals():\n",
    "    PROJECT_ROOT = Path('/content/ann-visual-emotion') if (Path('/content').exists()) else Path.cwd().parent\n",
    "\n",
    "CSV_TRAIN = PROJECT_ROOT / 'data/processed/EmoSet_splits/train.csv'\n",
    "CSV_VAL = PROJECT_ROOT / 'data/processed/EmoSet_splits/val.csv'\n",
    "CSV_TEST = PROJECT_ROOT / 'data/processed/EmoSet_splits/test.csv'\n",
    "LABEL_MAP_PATH = PROJECT_ROOT / 'data/processed/EmoSet_splits/label_map.json'\n",
    "DATA_DIR = PROJECT_ROOT / 'data/raw/EmoSet'\n",
    "\n",
    "print(\"Checking data files...\")\n",
    "for path in [CSV_TRAIN, CSV_VAL, CSV_TEST, LABEL_MAP_PATH]:\n",
    "    print(('✓ Found' if path.exists() else '✗ Missing') + f': {path}')\n",
    "\n",
    "# Load label map if it exists\n",
    "if LABEL_MAP_PATH.exists():\n",
    "    with open(LABEL_MAP_PATH, 'r') as f:\n",
    "        label_map = json.load(f)\n",
    "    num_classes = len(label_map)\n",
    "    print(f'Number of emotion classes: {num_classes}')\n",
    "    print(f'Emotion classes: {list(label_map.keys())}')\n",
    "else:\n",
    "    # Fallback dummy map\n",
    "    label_map = {'anger': 0, 'disgust': 1, 'fear': 2, 'happiness': 3, 'sadness': 4, 'surprise': 5, 'neutral': 6}\n",
    "    num_classes = len(label_map)\n",
    "    print(f'Using dummy label map with {num_classes} classes: {list(label_map.keys())}')\n",
    "\n",
    "# Optional: compute class weights for imbalance handling (used later)\n",
    "class_weights = None\n",
    "if CSV_TRAIN.exists() and CONFIG.get('use_class_weights', False):\n",
    "    try:\n",
    "        _df_tmp = pd.read_csv(CSV_TRAIN)\n",
    "        # Identify label column\n",
    "        possible_label_cols = [c for c in _df_tmp.columns if 'label' in c.lower() or 'class' in c.lower() or 'emotion' in c.lower()]\n",
    "        label_col = possible_label_cols[0] if possible_label_cols else _df_tmp.columns[1]\n",
    "        counts = Counter(_df_tmp[label_col])\n",
    "        print('Class counts:', counts)\n",
    "        # Map counts to indices\n",
    "        inv_label_map = {k: v for k, v in label_map.items()}\n",
    "        freq_per_index = {inv_label_map[k]: counts[k] for k in counts if k in inv_label_map}\n",
    "        max_count = max(freq_per_index.values())\n",
    "        weights = [max_count / freq_per_index.get(i, max_count) for i in range(num_classes)]\n",
    "        class_weights = torch.tensor(weights, dtype=torch.float32, device=device)\n",
    "        print('Computed class weights:', weights)\n",
    "    except Exception as e:\n",
    "        print('Could not compute class weights:', e)\n"
   ]
  },
  {
   "cell_type": "markdown",
   "metadata": {
    "id": "8difZpzHlU3Y"
   },
   "source": [
    "## Step 3: Custom Dataset Class\n",
    "\n",
    "We'll create a custom dataset class that handles both grayscale and RGB images for transfer learning."
   ]
  },
  {
   "cell_type": "code",
   "execution_count": 18,
   "metadata": {
    "id": "HoonO1_0lU3Y"
   },
   "outputs": [],
   "source": [
    "class EmotionDataset(Dataset):\n",
    "    \"\"\"\n",
    "    Custom dataset class for emotion recognition.\n",
    "    Supports grayscale images; will expand to 3 channels if required by backbone.\n",
    "    \"\"\"\n",
    "\n",
    "    def __init__(self, dataframe, root_dir, transform=None, label_map=None, rgb=False, expand_to_three=True):\n",
    "        \"\"\"\n",
    "        Args:\n",
    "            dataframe: pandas DataFrame with image paths and labels\n",
    "            root_dir: Root directory containing images\n",
    "            transform: Optional transform to be applied on images\n",
    "            label_map: Dictionary mapping emotion names to indices\n",
    "            rgb: (deprecated) kept for backward compatibility; if True force RGB\n",
    "            expand_to_three: If True and loading grayscale, repeat channel to shape (3,H,W) after ToTensor\n",
    "        \"\"\"\n",
    "        self.df = dataframe.reset_index(drop=True)\n",
    "        self.root_dir = Path(root_dir)\n",
    "        self.transform = transform\n",
    "        self.label_map = label_map\n",
    "        self.force_rgb = rgb\n",
    "        self.expand_to_three = expand_to_three\n",
    "\n",
    "        possible_path_cols = [c for c in self.df.columns if 'path' in c.lower() or 'file' in c.lower() or 'image' in c.lower()]\n",
    "        self.path_col = possible_path_cols[0] if possible_path_cols else self.df.columns[0]\n",
    "\n",
    "        possible_label_cols = [c for c in self.df.columns if 'label' in c.lower() or 'class' in c.lower() or 'emotion' in c.lower()]\n",
    "        self.label_col = possible_label_cols[0] if possible_label_cols else self.df.columns[1]\n",
    "\n",
    "        print(f\"Using columns - Path: '{self.path_col}', Label: '{self.label_col}'\")\n",
    "\n",
    "    def __len__(self):\n",
    "        return len(self.df)\n",
    "\n",
    "    def __getitem__(self, idx):\n",
    "        row = self.df.iloc[idx]\n",
    "        rel_path = row[self.path_col]\n",
    "        label = row[self.label_col]\n",
    "\n",
    "        if self.label_map and isinstance(label, str):\n",
    "            label_idx = self.label_map[label]\n",
    "        else:\n",
    "            label_idx = int(label)\n",
    "\n",
    "        img_path = self.root_dir / rel_path\n",
    "        try:\n",
    "            if self.force_rgb:\n",
    "                image = Image.open(img_path).convert('RGB')\n",
    "            else:\n",
    "                # Load as grayscale\n",
    "                image = Image.open(img_path).convert('L')\n",
    "        except Exception as e:\n",
    "            print(f\"Error loading image {img_path}: {e}\")\n",
    "            image = Image.new('L', (224, 224), color='black')\n",
    "\n",
    "        if self.transform:\n",
    "            image = self.transform(image)\n",
    "            # If grayscale (1,H,W) and model expects 3 channels, expand\n",
    "            if self.expand_to_three and image.shape[0] == 1:\n",
    "                image = image.repeat(3,1,1)\n",
    "        return image, label_idx"
   ]
  },
  {
   "cell_type": "markdown",
   "metadata": {
    "id": "1m_AdbRMlU3Y"
   },
   "source": [
    "## Step 4: Data Transforms for Transfer Learning\n",
    "\n",
    "For transfer learning with pre-trained models, we need to:\n",
    "1. Resize images to the expected input size (224x224 for VGG)\n",
    "2. Normalize with ImageNet statistics\n",
    "3. Apply data augmentation for training"
   ]
  },
  {
   "cell_type": "code",
   "execution_count": null,
   "metadata": {
    "colab": {
     "base_uri": "https://localhost:8080/"
    },
    "id": "2D1tn-VGlU3Y",
    "outputId": "24dc09ec-cdc5-447d-e6b6-0788b2a36949"
   },
   "outputs": [
    {
     "name": "stdout",
     "output_type": "stream",
     "text": [
      "Data transforms created (grayscale mode):\n",
      "- Input size: 224x224\n",
      "- Grayscale normalization: mean=[0.49813762283092883], std=[0.13527991215761276]\n"
     ]
    }
   ],
   "source": [
    "# Augmentations & Transforms\n",
    "from torchvision.transforms import AutoAugment, AutoAugmentPolicy\n",
    "\n",
    "GRAYSCALE_MEAN = [127.02509382188686 / 255.0]\n",
    "GRAYSCALE_STD = [34.49637760019125 / 255.0]\n",
    "IMAGENET_MEAN = [0.485, 0.456, 0.406]\n",
    "IMAGENET_STD = [0.229, 0.224, 0.225]\n",
    "\n",
    "INPUT_SIZE = 224\n",
    "USE_GRAYSCALE = True  # Keep grayscale but repeat channels later (saves conversion time)\n",
    "\n",
    "train_tf_list = [\n",
    "    transforms.Resize((INPUT_SIZE, INPUT_SIZE)),\n",
    "    transforms.RandomHorizontalFlip(p=0.5),\n",
    "    transforms.RandomRotation(15),\n",
    "]\n",
    "if CONFIG.get('use_autoaugment'):\n",
    "    train_tf_list.append(AutoAugment(AutoAugmentPolicy.IMAGENET))\n",
    "train_tf_list += [\n",
    "    transforms.ToTensor(),\n",
    "]\n",
    "if USE_GRAYSCALE:\n",
    "    train_normalize = transforms.Normalize(mean=GRAYSCALE_MEAN, std=GRAYSCALE_STD)\n",
    "else:\n",
    "    train_normalize = transforms.Normalize(mean=IMAGENET_MEAN, std=IMAGENET_STD)\n",
    "train_tf_list.append(train_normalize)\n",
    "if CONFIG.get('use_random_erasing'):\n",
    "    train_tf_list.append(transforms.RandomErasing(p=CONFIG.get('random_erasing_p',0.25), scale=(0.02,0.2), ratio=(0.3,3.3), value='random'))\n",
    "\n",
    "train_transform = transforms.Compose(train_tf_list)\n",
    "val_transform = transforms.Compose([\n",
    "    transforms.Resize((INPUT_SIZE, INPUT_SIZE)),\n",
    "    transforms.ToTensor(),\n",
    "    train_normalize\n",
    "])\n",
    "\n",
    "def channel_repeat_if_needed(t):\n",
    "    return t if t.shape[0] == 3 else t.repeat(3,1,1)\n",
    "\n",
    "print('Transforms ready:')\n",
    "print('- Grayscale mode' if USE_GRAYSCALE else '- RGB mode')\n",
    "print('- Random Erasing:', CONFIG.get('use_random_erasing'))\n",
    "print('- AutoAugment:', CONFIG.get('use_autoaugment'))"
   ]
  },
  {
   "cell_type": "markdown",
   "metadata": {
    "id": "mUUmG1bnlU3Z"
   },
   "source": [
    "## Step 5: Create Datasets and DataLoaders"
   ]
  },
  {
   "cell_type": "markdown",
   "metadata": {},
   "source": [
    "### Note on DataLoader Workers\n",
    "The number of workers is auto-selected based on available CPU cores to avoid the PyTorch warning about excessive workers.\n",
    "Adjust with `CONFIG['num_workers']` if you profile and see faster epochs:\n",
    "- Start with 1 or 2 on small VMs / Colab.\n",
    "- Increase gradually while monitoring epoch time and memory.\n",
    "- If you see warnings or slow starts, reduce workers.\n"
   ]
  },
  {
   "cell_type": "code",
   "execution_count": null,
   "metadata": {
    "colab": {
     "base_uri": "https://localhost:8080/"
    },
    "id": "gNVXKgpalU3Z",
    "outputId": "b6af56e7-8d4a-4861-ce36-fbc62572f441"
   },
   "outputs": [
    {
     "name": "stdout",
     "output_type": "stream",
     "text": [
      "Loading datasets (grayscale, 224x224)...\n",
      "Dataset sizes: train=27090 val=5418 test=1350\n",
      "Using columns - Path: 'filepath', Label: 'label'\n",
      "Using columns - Path: 'filepath', Label: 'label'\n",
      "Using columns - Path: 'filepath', Label: 'label'\n",
      "DataLoaders ready (batch=64)\n"
     ]
    },
    {
     "name": "stderr",
     "output_type": "stream",
     "text": [
      "/usr/local/lib/python3.12/dist-packages/torch/utils/data/dataloader.py:627: UserWarning: This DataLoader will create 4 worker processes in total. Our suggested max number of worker in current system is 2, which is smaller than what this DataLoader is going to create. Please be aware that excessive worker creation might get DataLoader running slow or even freeze, lower the worker number to avoid potential slowness/freeze if necessary.\n",
      "  warnings.warn(\n"
     ]
    }
   ],
   "source": [
    "# Load actual datasets (assumes CSV paths exist)\n",
    "if not all(path.exists() for path in [CSV_TRAIN, CSV_VAL, CSV_TEST]):\n",
    "    raise FileNotFoundError(\"Expected train/val/test CSVs not found. Generate splits first.\")\n",
    "\n",
    "print(\"Loading datasets (grayscale, 224x224)...\")\n",
    "train_df = pd.read_csv(CSV_TRAIN)\n",
    "val_df = pd.read_csv(CSV_VAL)\n",
    "test_df = pd.read_csv(CSV_TEST)\n",
    "\n",
    "print(f\"Dataset sizes: train={len(train_df)} val={len(val_df)} test={len(test_df)}\")\n",
    "\n",
    "BATCH_SIZE = CONFIG.get('batch_size', 64)\n",
    "\n",
    "# Heuristic for num_workers: leave 1-2 cores free, cap at 2 if system small\n",
    "import os\n",
    "cpu_count = os.cpu_count() or 2\n",
    "if cpu_count <= 2:\n",
    "    NUM_WORKERS = 1\n",
    "else:\n",
    "    # Use min( max usable, 4) but respect small-memory warnings\n",
    "    NUM_WORKERS = min(4, max(2, cpu_count - 2))\n",
    "# Allow override via CONFIG\n",
    "NUM_WORKERS = CONFIG.get('num_workers', NUM_WORKERS)\n",
    "print(f\"Using num_workers={NUM_WORKERS} (detected CPUs={cpu_count})\")\n",
    "\n",
    "train_dataset = EmotionDataset(train_df, DATA_DIR, transform=train_transform, label_map=label_map, rgb=False, expand_to_three=True)\n",
    "val_dataset = EmotionDataset(val_df, DATA_DIR, transform=val_transform, label_map=label_map, rgb=False, expand_to_three=True)\n",
    "test_dataset = EmotionDataset(test_df, DATA_DIR, transform=val_transform, label_map=label_map, rgb=False, expand_to_three=True)\n",
    "\n",
    "pin_mem = torch.cuda.is_available()\n",
    "train_loader = DataLoader(train_dataset, batch_size=BATCH_SIZE, shuffle=True, num_workers=NUM_WORKERS, pin_memory=pin_mem)\n",
    "val_loader = DataLoader(val_dataset, batch_size=BATCH_SIZE, shuffle=False, num_workers=NUM_WORKERS, pin_memory=pin_mem)\n",
    "test_loader = DataLoader(test_dataset, batch_size=BATCH_SIZE, shuffle=False, num_workers=NUM_WORKERS, pin_memory=pin_mem)\n",
    "\n",
    "print(f\"DataLoaders ready (batch={BATCH_SIZE}, workers={NUM_WORKERS}, pin_memory={pin_mem})\")"
   ]
  },
  {
   "cell_type": "markdown",
   "metadata": {
    "id": "LsORwIjUlU3Z"
   },
   "source": [
    "## Step 6: CNN Transfer Learning Model\n",
    "\n",
    "Now we'll create our transfer learning model using a pre-trained VGG16 network.\n",
    "\n",
    "### Transfer Learning Strategies:\n",
    "1. **Feature Extraction**: Freeze pre-trained layers, only train classifier\n",
    "2. **Fine-tuning**: Train all layers with very small learning rate\n",
    "3. **Gradual unfreezing**: Start with frozen layers, gradually unfreeze\n",
    "\n",
    "We'll implement strategy #2 (fine-tuning) as it typically gives the best results."
   ]
  },
  {
   "cell_type": "code",
   "execution_count": null,
   "metadata": {
    "colab": {
     "base_uri": "https://localhost:8080/"
    },
    "id": "UTJwwTkelU3Z",
    "outputId": "ea43ca3e-6576-4c90-95b6-147e9afa010c"
   },
   "outputs": [
    {
     "name": "stdout",
     "output_type": "stream",
     "text": [
      "\n",
      "============================================================\n",
      "CREATING CNN TRANSFER LEARNING MODEL (grayscale inputs expanded to 3 channels)\n",
      "============================================================\n"
     ]
    },
    {
     "name": "stderr",
     "output_type": "stream",
     "text": [
      "/usr/local/lib/python3.12/dist-packages/torchvision/models/_utils.py:208: UserWarning: The parameter 'pretrained' is deprecated since 0.13 and may be removed in the future, please use 'weights' instead.\n",
      "  warnings.warn(\n",
      "/usr/local/lib/python3.12/dist-packages/torchvision/models/_utils.py:223: UserWarning: Arguments other than a weight enum or `None` for 'weights' are deprecated since 0.13 and may be removed in the future. The current behavior is equivalent to passing `weights=VGG16_Weights.IMAGENET1K_V1`. You can also use `weights=VGG16_Weights.DEFAULT` to get the most up-to-date weights.\n",
      "  warnings.warn(msg)\n"
     ]
    },
    {
     "name": "stdout",
     "output_type": "stream",
     "text": [
      "Downloading: \"https://download.pytorch.org/models/vgg16-397923af.pth\" to /root/.cache/torch/hub/checkpoints/vgg16-397923af.pth\n"
     ]
    },
    {
     "name": "stderr",
     "output_type": "stream",
     "text": [
      "100%|██████████| 528M/528M [00:03<00:00, 176MB/s]\n"
     ]
    },
    {
     "name": "stdout",
     "output_type": "stream",
     "text": [
      "Backbone (vgg16) fine-tuning enabled\n",
      "Model: backbone=vgg16 pretrained=True classes=6\n",
      "Trainable params: 245,581,358\n"
     ]
    }
   ],
   "source": [
    "class CNNTransferLearning(nn.Module):\n",
    "    \"\"\"Flexible transfer learning wrapper supporting resnet50/resnet18/vgg16.\n",
    "    Expects 3-channel input (we'll repeat grayscale upstream).\"\"\"\n",
    "    def __init__(self, num_classes, backbone='resnet50', pretrained=True, freeze_backbone=False):\n",
    "        super().__init__()\n",
    "        self.backbone_name = backbone\n",
    "        self.num_classes = num_classes\n",
    "\n",
    "        if backbone == 'resnet50':\n",
    "            m = models.resnet50(weights=models.ResNet50_Weights.DEFAULT if pretrained else None)\n",
    "            in_feat = m.fc.in_features\n",
    "            m.fc = nn.Identity()\n",
    "            self.feature_dim = in_feat\n",
    "            self.backbone = m\n",
    "        elif backbone == 'resnet18':\n",
    "            m = models.resnet18(weights=models.ResNet18_Weights.DEFAULT if pretrained else None)\n",
    "            in_feat = m.fc.in_features\n",
    "            m.fc = nn.Identity()\n",
    "            self.feature_dim = in_feat\n",
    "            self.backbone = m\n",
    "        elif backbone == 'vgg16':\n",
    "            m = models.vgg16(weights=models.VGG16_Weights.DEFAULT if pretrained else None)\n",
    "            self.feature_dim = 25088\n",
    "            self.backbone = nn.Sequential(m.features, m.avgpool, nn.Flatten())\n",
    "        else:\n",
    "            raise ValueError(f'Unsupported backbone: {backbone}')\n",
    "\n",
    "        if freeze_backbone:\n",
    "            for p in self.backbone.parameters():\n",
    "                p.requires_grad = False\n",
    "            print(f'Backbone ({backbone}) frozen')\n",
    "        else:\n",
    "            print(f'Backbone ({backbone}) trainable')\n",
    "\n",
    "        self.classifier = nn.Sequential(\n",
    "            nn.Linear(self.feature_dim, 1024),\n",
    "            nn.BatchNorm1d(1024),\n",
    "            nn.ReLU(inplace=True),\n",
    "            nn.Dropout(0.4),\n",
    "            nn.Linear(1024, 256),\n",
    "            nn.BatchNorm1d(256),\n",
    "            nn.ReLU(inplace=True),\n",
    "            nn.Dropout(0.3),\n",
    "            nn.Linear(256, num_classes)\n",
    "        )\n",
    "        self._init_weights()\n",
    "        print(f'Model initialized: backbone={backbone} pretrained={pretrained} classes={num_classes}')\n",
    "\n",
    "    def _init_weights(self):\n",
    "        for m in self.classifier.modules():\n",
    "            if isinstance(m, nn.Linear):\n",
    "                nn.init.kaiming_normal_(m.weight)\n",
    "                nn.init.zeros_(m.bias)\n",
    "\n",
    "    def forward(self, x):\n",
    "        feats = self.backbone(x)\n",
    "        return self.classifier(feats)\n",
    "\n",
    "    def get_num_params(self):\n",
    "        return sum(p.numel() for p in self.parameters() if p.requires_grad)\n",
    "\n",
    "    def unfreeze_last_n_layers(self, n=2):\n",
    "        \"\"\"Progressively unfreeze last n layers of backbone (ResNet style).\"\"\"\n",
    "        if 'resnet' not in self.backbone_name:\n",
    "            return\n",
    "        # ResNet layers order: layer4 -> layer3 -> layer2 -> layer1 -> (conv1/bn1)\n",
    "        layers = ['layer4','layer3','layer2','layer1']\n",
    "        unfrozen = 0\n",
    "        for lname in layers:\n",
    "            if unfrozen >= n:\n",
    "                break\n",
    "            if hasattr(self.backbone, lname):\n",
    "                for p in getattr(self.backbone, lname).parameters():\n",
    "                    p.requires_grad = True\n",
    "                unfrozen += 1\n",
    "        print(f'Unfroze {unfrozen} backbone blocks')\n",
    "\n",
    "print('\\n' + '='*60)\n",
    "print('CREATING CNN TRANSFER LEARNING MODEL (grayscale repeated -> 3 channels)')\n",
    "print('='*60)\n",
    "model = CNNTransferLearning(num_classes=num_classes,\n",
    "                            backbone=CONFIG['backbone'],\n",
    "                            pretrained=CONFIG['pretrained'],\n",
    "                            freeze_backbone=True).to(device)\n",
    "print(f'Trainable params (initial): {model.get_num_params():,}')"
   ]
  },
  {
   "cell_type": "markdown",
   "metadata": {
    "id": "b1Ij7fvJlU3a"
   },
   "source": [
    "## Step 7: Training Setup\n",
    "\n",
    "For transfer learning, we need to use different learning rates:\n",
    "- Smaller learning rate for pre-trained layers (if unfrozen)\n",
    "- Regular learning rate for new classifier layers"
   ]
  },
  {
   "cell_type": "code",
   "execution_count": null,
   "metadata": {
    "colab": {
     "base_uri": "https://localhost:8080/"
    },
    "id": "WrKWFy2YlU3a",
    "outputId": "5140f697-df95-4f7d-b7a1-9289aefcbc76"
   },
   "outputs": [
    {
     "name": "stdout",
     "output_type": "stream",
     "text": [
      "Training setup:\n",
      "- Loss function: CrossEntropyLoss\n",
      "- Optimizer: Adam\n",
      "- Backbone LR: 1e-05\n",
      "- Classifier LR: 0.001\n",
      "- Weight decay: 1e-4\n",
      "- Scheduler: StepLR (step=10, gamma=0.5)\n"
     ]
    }
   ],
   "source": [
    "# Loss function with optional label smoothing & class weights\n",
    "ls = CONFIG.get('label_smoothing', 0.0)\n",
    "if class_weights is not None:\n",
    "    criterion = nn.CrossEntropyLoss(weight=class_weights, label_smoothing=ls)\n",
    "else:\n",
    "    criterion = nn.CrossEntropyLoss(label_smoothing=ls)\n",
    "\n",
    "# Initially only classifier trainable if backbone frozen\n",
    "params = [p for p in model.parameters() if p.requires_grad]\n",
    "optimizer = optim.AdamW([\n",
    "    {'params': (p for n,p in model.named_parameters() if 'classifier' not in n and p.requires_grad), 'lr': CONFIG['base_backbone_lr']},\n",
    "    {'params': model.classifier.parameters(), 'lr': CONFIG['head_lr']}\n",
    "], weight_decay=CONFIG['weight_decay'])\n",
    "\n",
    "# Scheduler: Cosine with warm restarts\n",
    "scheduler = optim.lr_scheduler.CosineAnnealingWarmRestarts(optimizer, T_0=CONFIG['cosine_T0'], T_mult=CONFIG['cosine_Tmult'])\n",
    "\n",
    "print('Training setup:')\n",
    "print('- Optimizer: AdamW')\n",
    "print('- Scheduler: CosineAnnealingWarmRestarts')\n",
    "print('- Label smoothing:', ls)\n",
    "print('- Using class weights:', class_weights is not None)"
   ]
  },
  {
   "cell_type": "markdown",
   "metadata": {
    "id": "gAq30I9alU3a"
   },
   "source": [
    "## Step 8: Training Functions\n",
    "\n",
    "Let's create training and validation functions with proper progress tracking."
   ]
  },
  {
   "cell_type": "code",
   "execution_count": 23,
   "metadata": {
    "colab": {
     "base_uri": "https://localhost:8080/"
    },
    "id": "kQ6lFvc5lU3a",
    "outputId": "725b01c4-83eb-48f0-dad3-ab0c355e8956"
   },
   "outputs": [
    {
     "name": "stdout",
     "output_type": "stream",
     "text": [
      "Training and validation functions defined.\n"
     ]
    }
   ],
   "source": [
    "def train_epoch(model, train_loader, criterion, optimizer, device, epoch):\n",
    "    \"\"\"\n",
    "    Train the model for one epoch.\n",
    "    \"\"\"\n",
    "    model.train()\n",
    "    running_loss = 0.0\n",
    "    correct = 0\n",
    "    total = 0\n",
    "\n",
    "    for batch_idx, (data, target) in enumerate(train_loader):\n",
    "        data, target = data.to(device), target.to(device)\n",
    "\n",
    "        optimizer.zero_grad()\n",
    "        output = model(data)\n",
    "        loss = criterion(output, target)\n",
    "        loss.backward()\n",
    "        optimizer.step()\n",
    "\n",
    "        running_loss += loss.item()\n",
    "        _, predicted = torch.max(output.data, 1)\n",
    "        total += target.size(0)\n",
    "        correct += (predicted == target).sum().item()\n",
    "\n",
    "        # Print progress every 100 batches\n",
    "        if batch_idx % 100 == 0 and batch_idx > 0:\n",
    "            print(f'    Batch {batch_idx}/{len(train_loader)}: '\n",
    "                  f'Loss = {running_loss/(batch_idx+1):.4f}, '\n",
    "                  f'Acc = {100.*correct/total:.2f}%')\n",
    "\n",
    "    epoch_loss = running_loss / len(train_loader)\n",
    "    epoch_acc = 100. * correct / total\n",
    "\n",
    "    return epoch_loss, epoch_acc\n",
    "\n",
    "def validate_epoch(model, val_loader, criterion, device):\n",
    "    \"\"\"\n",
    "    Validate the model.\n",
    "    \"\"\"\n",
    "    model.eval()\n",
    "    running_loss = 0.0\n",
    "    correct = 0\n",
    "    total = 0\n",
    "    all_predictions = []\n",
    "    all_targets = []\n",
    "\n",
    "    with torch.no_grad():\n",
    "        for data, target in val_loader:\n",
    "            data, target = data.to(device), target.to(device)\n",
    "            output = model(data)\n",
    "            loss = criterion(output, target)\n",
    "\n",
    "            running_loss += loss.item()\n",
    "            _, predicted = torch.max(output.data, 1)\n",
    "            total += target.size(0)\n",
    "            correct += (predicted == target).sum().item()\n",
    "\n",
    "            # Store predictions for detailed analysis\n",
    "            all_predictions.extend(predicted.cpu().numpy())\n",
    "            all_targets.extend(target.cpu().numpy())\n",
    "\n",
    "    epoch_loss = running_loss / len(val_loader)\n",
    "    epoch_acc = 100. * correct / total\n",
    "\n",
    "    return epoch_loss, epoch_acc, all_predictions, all_targets\n",
    "\n",
    "print(\"Training and validation functions defined.\")"
   ]
  },
  {
   "cell_type": "markdown",
   "metadata": {
    "id": "NvLiBVvTlU3a"
   },
   "source": [
    "## Step 9: Training Loop with Early Stopping"
   ]
  },
  {
   "cell_type": "code",
   "execution_count": null,
   "metadata": {
    "colab": {
     "base_uri": "https://localhost:8080/"
    },
    "id": "oi7fx8aslU3a",
    "outputId": "0aa96863-635d-44cb-cba9-60e515821d83"
   },
   "outputs": [
    {
     "name": "stdout",
     "output_type": "stream",
     "text": [
      "Training function defined. Ready to start training!\n"
     ]
    }
   ],
   "source": [
    "from sklearn.metrics import balanced_accuracy_score\n",
    "\n",
    "def mixup_data(x, y, alpha=0.4):\n",
    "    if alpha <= 0:\n",
    "        return x, y, y, 1.0\n",
    "    lam = np.random.beta(alpha, alpha)\n",
    "    batch_size = x.size()[0]\n",
    "    index = torch.randperm(batch_size).to(x.device)\n",
    "    mixed_x = lam * x + (1 - lam) * x[index, :]\n",
    "    y_a, y_b = y, y[index]\n",
    "    return mixed_x, y_a, y_b, lam\n",
    "\n",
    "def mixup_criterion(criterion, pred, y_a, y_b, lam):\n",
    "    return lam * criterion(pred, y_a) + (1 - lam) * criterion(pred, y_b)\n",
    "\n",
    "def train_model(model, train_loader, val_loader, criterion, optimizer, scheduler, device, num_epochs=30, patience=6, save_path='best_cnn_transfer_model.pth'):\n",
    "    print(f\"\\n{'='*60}\\nSTARTING TRAINING (Target >=80% Acc)\\n{'='*60}\")\n",
    "    best_val_metric = 0.0\n",
    "    patience_counter = 0\n",
    "    history = {'train_loss': [], 'val_loss': [], 'train_acc': [], 'val_acc': [], 'val_bal_acc': []}\n",
    "\n",
    "    for epoch in range(num_epochs):\n",
    "        if epoch == CONFIG['freeze_initial_epochs']:\n",
    "            # Unfreeze backbone progressively\n",
    "            for p in model.backbone.parameters():\n",
    "                p.requires_grad = True\n",
    "            model.unfreeze_last_n_layers(n=4)\n",
    "            print('Backbone unfrozen for fine-tuning.')\n",
    "\n",
    "        model.train()\n",
    "        running_loss = 0.0\n",
    "        correct = 0\n",
    "        total = 0\n",
    "\n",
    "        for batch_idx, (data, target) in enumerate(train_loader):\n",
    "            data, target = data.to(device), target.to(device)\n",
    "            # Channel repeat if grayscale\n",
    "            data = torch.stack([channel_repeat_if_needed(d) for d in data])\n",
    "\n",
    "            # MixUp\n",
    "            if CONFIG.get('mixup_alpha', 0) > 0:\n",
    "                inputs, targets_a, targets_b, lam = mixup_data(data, target, CONFIG['mixup_alpha'])\n",
    "            else:\n",
    "                inputs, targets_a, targets_b, lam = data, target, target, 1.0\n",
    "\n",
    "            optimizer.zero_grad()\n",
    "            outputs = model(inputs)\n",
    "            if lam != 1.0:\n",
    "                loss = mixup_criterion(criterion, outputs, targets_a, targets_b, lam)\n",
    "            else:\n",
    "                loss = criterion(outputs, target)\n",
    "            loss.backward()\n",
    "            if CONFIG.get('grad_clip'):\n",
    "                torch.nn.utils.clip_grad_norm_(model.parameters(), CONFIG['grad_clip'])\n",
    "            optimizer.step()\n",
    "\n",
    "            running_loss += loss.item()\n",
    "            _, predicted = torch.max(outputs.data, 1)\n",
    "            total += target.size(0)\n",
    "            # For accuracy with MixUp we still compare hard predictions to original targets\n",
    "            correct += (predicted == target).sum().item()\n",
    "\n",
    "        train_loss = running_loss / len(train_loader)\n",
    "        train_acc = 100.0 * correct / total if total > 0 else 0\n",
    "\n",
    "        # Validation\n",
    "        model.eval()\n",
    "        val_running = 0.0\n",
    "        vcorrect = 0\n",
    "        vtotal = 0\n",
    "        all_preds = []\n",
    "        all_targets = []\n",
    "        with torch.no_grad():\n",
    "            for data, target in val_loader:\n",
    "                data, target = data.to(device), target.to(device)\n",
    "                data = torch.stack([channel_repeat_if_needed(d) for d in data])\n",
    "                out = model(data)\n",
    "                vloss = criterion(out, target)\n",
    "                val_running += vloss.item()\n",
    "                _, vpred = torch.max(out.data, 1)\n",
    "                vtotal += target.size(0)\n",
    "                vcorrect += (vpred == target).sum().item()\n",
    "                all_preds.extend(vpred.cpu().numpy())\n",
    "                all_targets.extend(target.cpu().numpy())\n",
    "\n",
    "        val_loss = val_running / len(val_loader)\n",
    "        val_acc = 100.0 * vcorrect / vtotal if vtotal > 0 else 0\n",
    "        val_bal_acc = balanced_accuracy_score(all_targets, all_preds) * 100.0 if CONFIG.get('balanced_metric') else val_acc\n",
    "\n",
    "        # Scheduler step (per epoch)\n",
    "        scheduler.step(epoch + 1)\n",
    "\n",
    "        history['train_loss'].append(train_loss)\n",
    "        history['val_loss'].append(val_loss)\n",
    "        history['train_acc'].append(train_acc)\n",
    "        history['val_acc'].append(val_acc)\n",
    "        history['val_bal_acc'].append(val_bal_acc)\n",
    "\n",
    "        monitored = val_bal_acc if CONFIG.get('balanced_metric') else val_acc\n",
    "\n",
    "        print(f\"Epoch {epoch+1}/{num_epochs} | Train Loss {train_loss:.4f} Acc {train_acc:.2f}% | Val Loss {val_loss:.4f} Acc {val_acc:.2f}% BalAcc {val_bal_acc:.2f}%\")\n",
    "\n",
    "        if monitored > best_val_metric:\n",
    "            best_val_metric = monitored\n",
    "            patience_counter = 0\n",
    "            torch.save({\n",
    "                'epoch': epoch,\n",
    "                'model_state_dict': model.state_dict(),\n",
    "                'optimizer_state_dict': optimizer.state_dict(),\n",
    "                'best_val_metric': best_val_metric,\n",
    "                'history': history,\n",
    "                'config': CONFIG\n",
    "            }, save_path)\n",
    "            print(f\"  ✓ New best model saved (metric={best_val_metric:.2f})\")\n",
    "        else:\n",
    "            patience_counter += 1\n",
    "            print(f\"  No improvement. Patience {patience_counter}/{patience}\")\n",
    "\n",
    "        if patience_counter >= patience:\n",
    "            print('Early stopping triggered.')\n",
    "            break\n",
    "\n",
    "    print(f'Training complete. Best metric: {best_val_metric:.2f}')\n",
    "    return history"
   ]
  },
  {
   "cell_type": "markdown",
   "metadata": {
    "id": "N6y_axPdlU3b"
   },
   "source": [
    "## Step 10: Start Training\n",
    "\n",
    "Note: If running with dummy data, this will not produce meaningful results. Replace with actual data for real training."
   ]
  },
  {
   "cell_type": "code",
   "execution_count": null,
   "metadata": {
    "colab": {
     "base_uri": "https://localhost:8080/"
    },
    "id": "IZ9AWK__lU3b",
    "outputId": "92440610-7ba1-45df-da4a-a8cdf157a487"
   },
   "outputs": [
    {
     "name": "stdout",
     "output_type": "stream",
     "text": [
      "Starting training with actual data...\n",
      "\n",
      "============================================================\n",
      "STARTING TRAINING - CNN TRANSFER LEARNING\n",
      "============================================================\n",
      "Epochs: 20, Patience: 5\n",
      "Device: cuda\n",
      "\n",
      "Epoch 1/20\n",
      "----------------------------------------\n",
      "    Batch 100/424: Loss = 2.2415, Acc = 20.33%\n",
      "    Batch 200/424: Loss = 1.9853, Acc = 22.57%\n",
      "    Batch 300/424: Loss = 1.8578, Acc = 25.60%\n",
      "    Batch 400/424: Loss = 1.7750, Acc = 28.53%\n",
      "Train Loss: 1.7578, Train Acc: 29.19%\n",
      "Val Loss: 1.3909, Val Acc: 42.17%\n",
      "Current LR: 1.00e-05 (backbone), 1.00e-03 (classifier)\n",
      "✓ New best model saved! Val Acc: 42.17%\n",
      "\n",
      "Epoch 2/20\n",
      "----------------------------------------\n",
      "    Batch 100/424: Loss = 1.4038, Acc = 42.53%\n",
      "    Batch 200/424: Loss = 1.3872, Acc = 43.64%\n",
      "    Batch 300/424: Loss = 1.3715, Acc = 44.36%\n",
      "    Batch 400/424: Loss = 1.3470, Acc = 45.84%\n",
      "Train Loss: 1.3412, Train Acc: 46.03%\n",
      "Val Loss: 1.2107, Val Acc: 51.22%\n",
      "Current LR: 1.00e-05 (backbone), 1.00e-03 (classifier)\n",
      "✓ New best model saved! Val Acc: 51.22%\n",
      "\n",
      "Epoch 3/20\n",
      "----------------------------------------\n",
      "    Batch 100/424: Loss = 1.2190, Acc = 52.38%\n",
      "    Batch 200/424: Loss = 1.2110, Acc = 52.38%\n",
      "    Batch 300/424: Loss = 1.2035, Acc = 52.63%\n",
      "    Batch 400/424: Loss = 1.1918, Acc = 53.08%\n",
      "Train Loss: 1.1903, Train Acc: 53.20%\n",
      "Val Loss: 1.1192, Val Acc: 55.54%\n",
      "Current LR: 1.00e-05 (backbone), 1.00e-03 (classifier)\n",
      "✓ New best model saved! Val Acc: 55.54%\n",
      "\n",
      "Epoch 4/20\n",
      "----------------------------------------\n",
      "    Batch 100/424: Loss = 1.0821, Acc = 58.26%\n",
      "    Batch 200/424: Loss = 1.1008, Acc = 57.01%\n",
      "    Batch 300/424: Loss = 1.0983, Acc = 57.19%\n",
      "    Batch 400/424: Loss = 1.0942, Acc = 57.56%\n",
      "Train Loss: 1.0940, Train Acc: 57.68%\n",
      "Val Loss: 1.0733, Val Acc: 58.90%\n",
      "Current LR: 1.00e-05 (backbone), 1.00e-03 (classifier)\n",
      "✓ New best model saved! Val Acc: 58.90%\n",
      "\n",
      "Epoch 5/20\n",
      "----------------------------------------\n",
      "    Batch 100/424: Loss = 1.0485, Acc = 59.17%\n",
      "    Batch 200/424: Loss = 1.0345, Acc = 59.82%\n",
      "    Batch 300/424: Loss = 1.0270, Acc = 60.32%\n",
      "    Batch 400/424: Loss = 1.0243, Acc = 60.33%\n",
      "Train Loss: 1.0237, Train Acc: 60.37%\n",
      "Val Loss: 1.0758, Val Acc: 58.18%\n",
      "Current LR: 1.00e-05 (backbone), 1.00e-03 (classifier)\n",
      "No improvement. Patience: 1/5\n",
      "\n",
      "Epoch 6/20\n",
      "----------------------------------------\n",
      "    Batch 100/424: Loss = 0.9622, Acc = 63.01%\n",
      "    Batch 200/424: Loss = 0.9601, Acc = 63.16%\n",
      "    Batch 300/424: Loss = 0.9591, Acc = 63.03%\n",
      "    Batch 400/424: Loss = 0.9631, Acc = 63.09%\n",
      "Train Loss: 0.9620, Train Acc: 63.20%\n",
      "Val Loss: 1.0343, Val Acc: 60.96%\n",
      "Current LR: 1.00e-05 (backbone), 1.00e-03 (classifier)\n",
      "✓ New best model saved! Val Acc: 60.96%\n",
      "\n",
      "Epoch 7/20\n",
      "----------------------------------------\n",
      "    Batch 100/424: Loss = 0.9066, Acc = 65.66%\n",
      "    Batch 200/424: Loss = 0.8998, Acc = 66.11%\n",
      "    Batch 300/424: Loss = 0.8999, Acc = 65.78%\n",
      "    Batch 400/424: Loss = 0.9073, Acc = 65.45%\n",
      "Train Loss: 0.9084, Train Acc: 65.33%\n",
      "Val Loss: 1.0143, Val Acc: 61.06%\n",
      "Current LR: 1.00e-05 (backbone), 1.00e-03 (classifier)\n",
      "✓ New best model saved! Val Acc: 61.06%\n",
      "\n",
      "Epoch 8/20\n",
      "----------------------------------------\n",
      "    Batch 100/424: Loss = 0.8570, Acc = 68.46%\n",
      "    Batch 200/424: Loss = 0.8558, Acc = 67.83%\n",
      "    Batch 300/424: Loss = 0.8619, Acc = 67.52%\n",
      "    Batch 400/424: Loss = 0.8677, Acc = 67.28%\n",
      "Train Loss: 0.8673, Train Acc: 67.29%\n",
      "Val Loss: 0.9756, Val Acc: 62.88%\n",
      "Current LR: 1.00e-05 (backbone), 1.00e-03 (classifier)\n",
      "✓ New best model saved! Val Acc: 62.88%\n",
      "\n",
      "Epoch 9/20\n",
      "----------------------------------------\n",
      "    Batch 100/424: Loss = 0.8058, Acc = 69.57%\n",
      "    Batch 200/424: Loss = 0.8265, Acc = 68.99%\n",
      "    Batch 300/424: Loss = 0.8279, Acc = 68.73%\n",
      "    Batch 400/424: Loss = 0.8322, Acc = 68.79%\n",
      "Train Loss: 0.8311, Train Acc: 68.89%\n",
      "Val Loss: 1.0105, Val Acc: 62.86%\n",
      "Current LR: 1.00e-05 (backbone), 1.00e-03 (classifier)\n",
      "No improvement. Patience: 1/5\n",
      "\n",
      "Epoch 10/20\n",
      "----------------------------------------\n",
      "    Batch 100/424: Loss = 0.7689, Acc = 70.64%\n",
      "    Batch 200/424: Loss = 0.7825, Acc = 70.20%\n",
      "    Batch 300/424: Loss = 0.7848, Acc = 70.22%\n",
      "    Batch 400/424: Loss = 0.7905, Acc = 70.05%\n",
      "Train Loss: 0.7908, Train Acc: 70.06%\n",
      "Val Loss: 0.9957, Val Acc: 63.49%\n",
      "Current LR: 5.00e-06 (backbone), 5.00e-04 (classifier)\n",
      "✓ New best model saved! Val Acc: 63.49%\n",
      "\n",
      "Epoch 11/20\n",
      "----------------------------------------\n",
      "    Batch 100/424: Loss = 0.7198, Acc = 73.67%\n",
      "    Batch 200/424: Loss = 0.7129, Acc = 73.85%\n",
      "    Batch 300/424: Loss = 0.7054, Acc = 73.89%\n",
      "    Batch 400/424: Loss = 0.7005, Acc = 73.99%\n",
      "Train Loss: 0.7022, Train Acc: 73.94%\n",
      "Val Loss: 0.9685, Val Acc: 64.93%\n",
      "Current LR: 5.00e-06 (backbone), 5.00e-04 (classifier)\n",
      "✓ New best model saved! Val Acc: 64.93%\n",
      "\n",
      "Epoch 12/20\n",
      "----------------------------------------\n",
      "    Batch 100/424: Loss = 0.6518, Acc = 75.82%\n",
      "    Batch 200/424: Loss = 0.6566, Acc = 75.87%\n",
      "    Batch 300/424: Loss = 0.6559, Acc = 75.84%\n",
      "    Batch 400/424: Loss = 0.6560, Acc = 75.89%\n",
      "Train Loss: 0.6571, Train Acc: 75.91%\n",
      "Val Loss: 0.9986, Val Acc: 65.06%\n",
      "Current LR: 5.00e-06 (backbone), 5.00e-04 (classifier)\n",
      "✓ New best model saved! Val Acc: 65.06%\n",
      "\n",
      "Epoch 13/20\n",
      "----------------------------------------\n",
      "    Batch 100/424: Loss = 0.5889, Acc = 78.28%\n",
      "    Batch 200/424: Loss = 0.6063, Acc = 77.61%\n",
      "    Batch 300/424: Loss = 0.6063, Acc = 77.81%\n",
      "    Batch 400/424: Loss = 0.6067, Acc = 77.69%\n",
      "Train Loss: 0.6085, Train Acc: 77.62%\n",
      "Val Loss: 1.0293, Val Acc: 64.16%\n",
      "Current LR: 5.00e-06 (backbone), 5.00e-04 (classifier)\n",
      "No improvement. Patience: 1/5\n",
      "\n",
      "Epoch 14/20\n",
      "----------------------------------------\n",
      "    Batch 100/424: Loss = 0.5791, Acc = 78.71%\n",
      "    Batch 200/424: Loss = 0.5732, Acc = 78.78%\n",
      "    Batch 300/424: Loss = 0.5776, Acc = 78.69%\n",
      "    Batch 400/424: Loss = 0.5833, Acc = 78.54%\n",
      "Train Loss: 0.5834, Train Acc: 78.55%\n",
      "Val Loss: 1.0499, Val Acc: 65.10%\n",
      "Current LR: 5.00e-06 (backbone), 5.00e-04 (classifier)\n",
      "✓ New best model saved! Val Acc: 65.10%\n",
      "\n",
      "Epoch 15/20\n",
      "----------------------------------------\n",
      "    Batch 100/424: Loss = 0.5314, Acc = 80.23%\n",
      "    Batch 200/424: Loss = 0.5464, Acc = 80.06%\n",
      "    Batch 300/424: Loss = 0.5586, Acc = 79.53%\n",
      "    Batch 400/424: Loss = 0.5612, Acc = 79.42%\n",
      "Train Loss: 0.5591, Train Acc: 79.46%\n",
      "Val Loss: 1.0533, Val Acc: 65.85%\n",
      "Current LR: 5.00e-06 (backbone), 5.00e-04 (classifier)\n",
      "✓ New best model saved! Val Acc: 65.85%\n",
      "\n",
      "Epoch 16/20\n",
      "----------------------------------------\n",
      "    Batch 100/424: Loss = 0.5208, Acc = 80.94%\n",
      "    Batch 200/424: Loss = 0.5188, Acc = 81.09%\n",
      "    Batch 300/424: Loss = 0.5260, Acc = 80.74%\n",
      "    Batch 400/424: Loss = 0.5288, Acc = 80.67%\n",
      "Train Loss: 0.5292, Train Acc: 80.68%\n",
      "Val Loss: 1.0745, Val Acc: 64.93%\n",
      "Current LR: 5.00e-06 (backbone), 5.00e-04 (classifier)\n",
      "No improvement. Patience: 1/5\n",
      "\n",
      "Epoch 17/20\n",
      "----------------------------------------\n",
      "    Batch 100/424: Loss = 0.5023, Acc = 81.81%\n",
      "    Batch 200/424: Loss = 0.5098, Acc = 81.63%\n",
      "    Batch 300/424: Loss = 0.5128, Acc = 81.51%\n",
      "    Batch 400/424: Loss = 0.5154, Acc = 81.40%\n",
      "Train Loss: 0.5154, Train Acc: 81.38%\n",
      "Val Loss: 1.0203, Val Acc: 65.97%\n",
      "Current LR: 5.00e-06 (backbone), 5.00e-04 (classifier)\n",
      "✓ New best model saved! Val Acc: 65.97%\n",
      "\n",
      "Epoch 18/20\n",
      "----------------------------------------\n",
      "    Batch 100/424: Loss = 0.4943, Acc = 82.35%\n",
      "    Batch 200/424: Loss = 0.4930, Acc = 82.18%\n",
      "    Batch 300/424: Loss = 0.4908, Acc = 82.32%\n",
      "    Batch 400/424: Loss = 0.4911, Acc = 82.31%\n",
      "Train Loss: 0.4919, Train Acc: 82.26%\n",
      "Val Loss: 1.0551, Val Acc: 66.02%\n",
      "Current LR: 5.00e-06 (backbone), 5.00e-04 (classifier)\n",
      "✓ New best model saved! Val Acc: 66.02%\n",
      "\n",
      "Epoch 19/20\n",
      "----------------------------------------\n",
      "    Batch 100/424: Loss = 0.4372, Acc = 84.22%\n",
      "    Batch 200/424: Loss = 0.4426, Acc = 84.38%\n",
      "    Batch 300/424: Loss = 0.4486, Acc = 83.86%\n",
      "    Batch 400/424: Loss = 0.4580, Acc = 83.56%\n",
      "Train Loss: 0.4582, Train Acc: 83.55%\n",
      "Val Loss: 1.1296, Val Acc: 65.28%\n",
      "Current LR: 5.00e-06 (backbone), 5.00e-04 (classifier)\n",
      "No improvement. Patience: 1/5\n",
      "\n",
      "Epoch 20/20\n",
      "----------------------------------------\n",
      "    Batch 100/424: Loss = 0.4307, Acc = 84.78%\n",
      "    Batch 200/424: Loss = 0.4392, Acc = 84.28%\n",
      "    Batch 300/424: Loss = 0.4400, Acc = 84.44%\n",
      "    Batch 400/424: Loss = 0.4469, Acc = 84.21%\n",
      "Train Loss: 0.4476, Train Acc: 84.15%\n",
      "Val Loss: 1.1423, Val Acc: 65.34%\n",
      "Current LR: 2.50e-06 (backbone), 2.50e-04 (classifier)\n",
      "No improvement. Patience: 2/5\n",
      "\n",
      "Training completed!\n",
      "Best validation accuracy: 66.02%\n"
     ]
    }
   ],
   "source": [
    "EPOCHS = CONFIG['epochs']\n",
    "print('Starting improved training pipeline...')\n",
    "training_history = train_model(\n",
    "    model=model,\n",
    "    train_loader=train_loader,\n",
    "    val_loader=val_loader,\n",
    "    criterion=criterion,\n",
    "    optimizer=optimizer,\n",
    "    scheduler=scheduler,\n",
    "    device=device,\n",
    "    num_epochs=EPOCHS,\n",
    "    patience=CONFIG['patience']\n",
    ")"
   ]
  },
  {
   "cell_type": "markdown",
   "metadata": {
    "id": "5D4lQdfhlU3b"
   },
   "source": [
    "## Step 11: Plot Training History"
   ]
  },
  {
   "cell_type": "code",
   "execution_count": 26,
   "metadata": {
    "colab": {
     "base_uri": "https://localhost:8080/",
     "height": 470
    },
    "id": "jlGv9al2lU3b",
    "outputId": "97cc7818-99c5-4789-c46e-f64f96dd0f4f"
   },
   "outputs": [
    {
     "data": {
      "image/png": "[encoded data removed]",
      "text/plain": [
       "<Figure size 1500x500 with 2 Axes>"
      ]
     },
     "metadata": {},
     "output_type": "display_data"
    },
    {
     "name": "stdout",
     "output_type": "stream",
     "text": [
      "Training Summary:\n",
      "- Final Training Loss: 0.4476\n",
      "- Final Validation Loss: 1.1423\n",
      "- Final Training Accuracy: 84.15%\n",
      "- Final Validation Accuracy: 65.34%\n",
      "- Best Validation Accuracy: 66.02%\n"
     ]
    }
   ],
   "source": [
    "def plot_training_history(history):\n",
    "    \"\"\"\n",
    "    Plot training and validation metrics.\n",
    "    \"\"\"\n",
    "    fig, (ax1, ax2) = plt.subplots(1, 2, figsize=(15, 5))\n",
    "\n",
    "    # Plot losses\n",
    "    ax1.plot(history['train_losses'], label='Training Loss', marker='o')\n",
    "    ax1.plot(history['val_losses'], label='Validation Loss', marker='s')\n",
    "    ax1.set_title('Training and Validation Loss')\n",
    "    ax1.set_xlabel('Epoch')\n",
    "    ax1.set_ylabel('Loss')\n",
    "    ax1.legend()\n",
    "    ax1.grid(True, alpha=0.3)\n",
    "\n",
    "    # Plot accuracies\n",
    "    ax2.plot(history['train_accuracies'], label='Training Accuracy', marker='o')\n",
    "    ax2.plot(history['val_accuracies'], label='Validation Accuracy', marker='s')\n",
    "    ax2.set_title('Training and Validation Accuracy')\n",
    "    ax2.set_xlabel('Epoch')\n",
    "    ax2.set_ylabel('Accuracy (%)')\n",
    "    ax2.legend()\n",
    "    ax2.grid(True, alpha=0.3)\n",
    "\n",
    "    plt.tight_layout()\n",
    "    plt.show()\n",
    "\n",
    "    print(f\"Training Summary:\")\n",
    "    print(f\"- Final Training Loss: {history['train_losses'][-1]:.4f}\")\n",
    "    print(f\"- Final Validation Loss: {history['val_losses'][-1]:.4f}\")\n",
    "    print(f\"- Final Training Accuracy: {history['train_accuracies'][-1]:.2f}%\")\n",
    "    print(f\"- Final Validation Accuracy: {history['val_accuracies'][-1]:.2f}%\")\n",
    "    print(f\"- Best Validation Accuracy: {history['best_val_acc']:.2f}%\")\n",
    "\n",
    "# Plot the training history\n",
    "plot_training_history(training_history)"
   ]
  },
  {
   "cell_type": "markdown",
   "metadata": {
    "id": "nwbSC9lzlU3b"
   },
   "source": [
    "## Step 12: Load Best Model and Evaluate on Test Set"
   ]
  },
  {
   "cell_type": "code",
   "execution_count": null,
   "metadata": {
    "colab": {
     "base_uri": "https://localhost:8080/"
    },
    "id": "FaG8dwKXlU3b",
    "outputId": "0b0918a6-4f7c-482e-dbdc-e1d63a789349"
   },
   "outputs": [
    {
     "name": "stdout",
     "output_type": "stream",
     "text": [
      "Loaded best model from epoch 17 with val acc: 66.02%\n",
      "\n",
      "Evaluating on test set...\n",
      "Test Results:\n",
      "- Test Loss: 1.1454\n",
      "- Test Accuracy: 64.44%\n",
      "\n",
      "Classification Report:\n",
      "              precision    recall  f1-score   support\n",
      "\n",
      "       angry       0.59      0.62      0.60       225\n",
      "     fearful       0.67      0.44      0.53       225\n",
      "       happy       0.76      0.85      0.80       225\n",
      "     neutral       0.59      0.61      0.60       225\n",
      "         sad       0.50      0.58      0.54       225\n",
      "   surprised       0.78      0.77      0.78       225\n",
      "\n",
      "    accuracy                           0.64      1350\n",
      "   macro avg       0.65      0.64      0.64      1350\n",
      "weighted avg       0.65      0.64      0.64      1350\n",
      "\n"
     ]
    }
   ],
   "source": [
    "# Load the best model\n",
    "if Path('best_cnn_transfer_model.pth').exists():\n",
    "    checkpoint = torch.load('best_cnn_transfer_model.pth', map_location=device)\n",
    "    model.load_state_dict(checkpoint['model_state_dict'])\n",
    "    print(f\"Loaded best model from epoch {checkpoint['epoch']} with best metric: {checkpoint.get('best_val_metric', 'NA')}\")\n",
    "else:\n",
    "    print(\"No saved model found, using current model state\")\n",
    "\n",
    "# Evaluate on test set (with channel repeat)\n",
    "print(\"\\nEvaluating on test set...\")\n",
    "model.eval()\n",
    "all_preds, all_targets = [], []\n",
    "with torch.no_grad():\n",
    "    test_loss = 0.0\n",
    "    vtotal = 0\n",
    "    vcorrect = 0\n",
    "    for data, target in test_loader:\n",
    "        data, target = data.to(device), target.to(device)\n",
    "        data = torch.stack([channel_repeat_if_needed(d) for d in data])\n",
    "        out = model(data)\n",
    "        loss = criterion(out, target)\n",
    "        test_loss += loss.item()\n",
    "        _, pred = torch.max(out.data, 1)\n",
    "        vtotal += target.size(0)\n",
    "        vcorrect += (pred == target).sum().item()\n",
    "        all_preds.extend(pred.cpu().numpy())\n",
    "        all_targets.extend(target.cpu().numpy())\n",
    "\n",
    "test_loss /= len(test_loader)\n",
    "test_acc = 100.0 * vcorrect / vtotal if vtotal > 0 else 0\n",
    "bal_acc = balanced_accuracy_score(all_targets, all_preds) * 100.0 if len(set(all_targets)) > 1 else test_acc\n",
    "print(f\"Test Results:\\n- Test Loss: {test_loss:.4f}\\n- Test Accuracy: {test_acc:.2f}%\\n- Balanced Accuracy: {bal_acc:.2f}%\")\n",
    "\n",
    "# Detailed classification report\n",
    "if len(set(all_targets)) > 1:\n",
    "    emotion_names = list(label_map.keys())\n",
    "    report = classification_report(all_targets, all_preds, target_names=emotion_names, zero_division=0)\n",
    "    print(\"\\nClassification Report:\\n\", report)\n",
    "\n",
    "test_predictions, test_targets = all_preds, all_targets"
   ]
  },
  {
   "cell_type": "markdown",
   "metadata": {
    "id": "mBjcRVXwlU3b"
   },
   "source": [
    "## Step 13: Visualize Results - Confusion Matrix"
   ]
  },
  {
   "cell_type": "code",
   "execution_count": 28,
   "metadata": {
    "colab": {
     "base_uri": "https://localhost:8080/",
     "height": 950
    },
    "id": "sJknCL2OlU3b",
    "outputId": "f5cd8271-11ee-4dd1-c82d-d33baf6e077b"
   },
   "outputs": [
    {
     "data": {
      "image/png": "[encoded data removed]",
      "text/plain": [
       "<Figure size 1000x800 with 2 Axes>"
      ]
     },
     "metadata": {},
     "output_type": "display_data"
    },
    {
     "name": "stdout",
     "output_type": "stream",
     "text": [
      "\n",
      "Per-class Accuracy:\n",
      "- angry: 62.22% (140/225)\n",
      "- fearful: 43.56% (98/225)\n",
      "- happy: 84.89% (191/225)\n",
      "- neutral: 60.89% (137/225)\n",
      "- sad: 57.78% (130/225)\n",
      "- surprised: 77.33% (174/225)\n"
     ]
    }
   ],
   "source": [
    "def plot_confusion_matrix(y_true, y_pred, class_names, title='Confusion Matrix'):\n",
    "    \"\"\"\n",
    "    Plot confusion matrix.\n",
    "    \"\"\"\n",
    "    cm = confusion_matrix(y_true, y_pred)\n",
    "\n",
    "    plt.figure(figsize=(10, 8))\n",
    "    sns.heatmap(cm, annot=True, fmt='d', cmap='Blues',\n",
    "                xticklabels=class_names, yticklabels=class_names)\n",
    "    plt.title(title)\n",
    "    plt.xlabel('Predicted Emotion')\n",
    "    plt.ylabel('True Emotion')\n",
    "    plt.tight_layout()\n",
    "    plt.show()\n",
    "\n",
    "    # Print accuracy per class\n",
    "    print(\"\\nPer-class Accuracy:\")\n",
    "    for i, class_name in enumerate(class_names):\n",
    "        class_correct = cm[i, i]\n",
    "        class_total = cm[i, :].sum()\n",
    "        if class_total > 0:\n",
    "            acc = 100 * class_correct / class_total\n",
    "            print(f\"- {class_name}: {acc:.2f}% ({class_correct}/{class_total})\")\n",
    "\n",
    "# Plot confusion matrix if we have predictions\n",
    "if len(set(test_targets)) > 1:\n",
    "    emotion_names = list(label_map.keys())\n",
    "    plot_confusion_matrix(test_targets, test_predictions, emotion_names,\n",
    "                         'CNN Transfer Learning - Test Set Confusion Matrix')\n",
    "else:\n",
    "    print(\"Skipping confusion matrix (insufficient data/classes)\")"
   ]
  },
  {
   "cell_type": "markdown",
   "metadata": {
    "id": "iU98Le33lU3b"
   },
   "source": [
    "## Step 14: Model Comparison and Analysis\n",
    "\n",
    "Let's compare our transfer learning CNN with the original baseline CNN."
   ]
  },
  {
   "cell_type": "code",
   "execution_count": 29,
   "metadata": {
    "colab": {
     "base_uri": "https://localhost:8080/"
    },
    "id": "Og55HZRjlU3b",
    "outputId": "d5a78040-caf1-4d47-a840-14af6d690e14"
   },
   "outputs": [
    {
     "name": "stdout",
     "output_type": "stream",
     "text": [
      "\n",
      "============================================================\n",
      "MODEL ANALYSIS AND COMPARISON\n",
      "============================================================\n",
      "\n",
      "1. MODEL ARCHITECTURE:\n",
      "   - Transfer Learning CNN (VGG16 backbone)\n",
      "   - Total parameters: 245,581,358\n",
      "   - Input size: 224x224x3 (RGB)\n",
      "   - Output classes: 6\n",
      "\n",
      "2. PERFORMANCE SUMMARY:\n",
      "   - Best Validation Accuracy: 66.02%\n",
      "   - Final Test Accuracy: 64.44%\n",
      "   - Training Epochs: 20\n",
      "\n",
      "3. TRANSFER LEARNING BENEFITS:\n",
      "   ✓ Pre-trained features: Learned from ImageNet (1.2M images)\n",
      "   ✓ Faster convergence: Starts with meaningful weights\n",
      "   ✓ Better generalization: Robust low-level feature extraction\n",
      "   ✓ Less overfitting: Pre-trained features are well-regularized\n",
      "\n",
      "4. KEY DIFFERENCES FROM BASELINE CNN:\n",
      "   - Uses pre-trained VGG16 backbone vs. random initialization\n",
      "   - RGB input (224x224) vs. Grayscale (48x48)\n",
      "   - ImageNet normalization vs. simple normalization\n",
      "   - Transfer learning strategy vs. training from scratch\n",
      "   - Different learning rates for backbone vs. classifier\n",
      "\n",
      "5. TRAINING STRATEGY USED:\n",
      "   - Fine-tuning: All layers trainable\n",
      "   - Backbone LR: 1e-05 (very small)\n",
      "   - Classifier LR: 0.001 (regular)\n",
      "   - Data augmentation: Rotation, flip, color jitter, affine\n",
      "   - Early stopping with patience=5\n"
     ]
    }
   ],
   "source": [
    "print(\"\\n\" + \"=\"*60)\n",
    "print(\"MODEL ANALYSIS AND COMPARISON\")\n",
    "print(\"=\"*60)\n",
    "\n",
    "# Model parameters\n",
    "print(f\"\\n1. MODEL ARCHITECTURE:\")\n",
    "print(f\"   - Transfer Learning CNN (VGG16 backbone)\")\n",
    "print(f\"   - Total parameters: {model.get_num_params():,}\")\n",
    "print(f\"   - Input size: {INPUT_SIZE}x{INPUT_SIZE}x3 (RGB)\")\n",
    "print(f\"   - Output classes: {num_classes}\")\n",
    "\n",
    "# Performance summary\n",
    "print(f\"\\n2. PERFORMANCE SUMMARY:\")\n",
    "if 'training_history' in locals():\n",
    "    print(f\"   - Best Validation Accuracy: {training_history['best_val_acc']:.2f}%\")\n",
    "    print(f\"   - Final Test Accuracy: {test_acc:.2f}%\")\n",
    "    print(f\"   - Training Epochs: {len(training_history['train_losses'])}\")\n",
    "\n",
    "# Transfer Learning Benefits\n",
    "print(f\"\\n3. TRANSFER LEARNING BENEFITS:\")\n",
    "print(f\"   ✓ Pre-trained features: Learned from ImageNet (1.2M images)\")\n",
    "print(f\"   ✓ Faster convergence: Starts with meaningful weights\")\n",
    "print(f\"   ✓ Better generalization: Robust low-level feature extraction\")\n",
    "print(f\"   ✓ Less overfitting: Pre-trained features are well-regularized\")\n",
    "\n",
    "print(f\"\\n4. KEY DIFFERENCES FROM BASELINE CNN:\")\n",
    "print(f\"   - Uses pre-trained VGG16 backbone vs. random initialization\")\n",
    "print(f\"   - RGB input (224x224) vs. Grayscale (48x48)\")\n",
    "print(f\"   - ImageNet normalization vs. simple normalization\")\n",
    "print(f\"   - Transfer learning strategy vs. training from scratch\")\n",
    "print(f\"   - Different learning rates for backbone vs. classifier\")\n",
    "\n",
    "print(f\"\\n5. TRAINING STRATEGY USED:\")\n",
    "print(f\"   - Fine-tuning: All layers trainable\")\n",
    "print(f\"   - Backbone LR: {backbone_lr} (very small)\")\n",
    "print(f\"   - Classifier LR: {classifier_lr} (regular)\")\n",
    "print(f\"   - Data augmentation: Rotation, flip, color jitter, affine\")\n",
    "print(f\"   - Early stopping with patience={5}\")"
   ]
  },
  {
   "cell_type": "markdown",
   "metadata": {
    "id": "TWY7HvpSlU3b"
   },
   "source": [
    "## Step 15: Save Final Model for Production\n",
    "\n",
    "Let's save our model in a format that can be easily loaded for inference."
   ]
  },
  {
   "cell_type": "code",
   "execution_count": null,
   "metadata": {
    "colab": {
     "base_uri": "https://localhost:8080/"
    },
    "id": "gXGjsqdhlU3b",
    "outputId": "f47e0f6e-0b61-4d13-96c4-be5e6c5db508"
   },
   "outputs": [
    {
     "name": "stdout",
     "output_type": "stream",
     "text": [
      "✓ Final model (grayscale) saved as 'cnn_transfer_learning_final.pth'\n",
      "✓ Inference code saved (grayscale) as 'emotion_inference.py'\n",
      "\n",
      "Deployment artifacts updated for grayscale workflow.\n"
     ]
    }
   ],
   "source": [
    "# Save complete model information\n",
    "final_model_info = {\n",
    "    'model_state_dict': model.state_dict(),\n",
    "    'model_config': {\n",
    "        'num_classes': num_classes,\n",
    "        'backbone': CONFIG['backbone'],\n",
    "        'input_size': INPUT_SIZE,\n",
    "        'pretrained': CONFIG['pretrained'],\n",
    "        'freeze_initial_epochs': CONFIG['freeze_initial_epochs']\n",
    "    },\n",
    "    'label_map': label_map,\n",
    "    'transforms': {\n",
    "        'mean': GRAYSCALE_MEAN if USE_GRAYSCALE else IMAGENET_MEAN,\n",
    "        'std': GRAYSCALE_STD if USE_GRAYSCALE else IMAGENET_STD,\n",
    "        'input_size': INPUT_SIZE,\n",
    "        'mode': 'grayscale' if USE_GRAYSCALE else 'rgb'\n",
    "    },\n",
    "    'config': CONFIG\n",
    "}\n",
    "\n",
    "torch.save(final_model_info, 'cnn_transfer_learning_final.pth')\n",
    "print(\"✓ Final model saved as 'cnn_transfer_learning_final.pth'\")\n",
    "\n",
    "inference_code = f\"\"\"import torch\\nimport torch.nn as nn\\nfrom torchvision import models, transforms\\nfrom PIL import Image\\n\\nCONFIG = {CONFIG}\\nGRAYSCALE_MEAN = {GRAYSCALE_MEAN}\\nGRAYSCALE_STD = {GRAYSCALE_STD}\\nIMAGENET_MEAN = {IMAGENET_MEAN}\\nIMAGENET_STD = {IMAGENET_STD}\\nINPUT_SIZE = {INPUT_SIZE}\\n\\nclass CNNTransferLearning(nn.Module):\\n    def __init__(self, num_classes, backbone='resnet50'):\\n        super().__init__()\\n        if backbone=='resnet50':\\n            m = models.resnet50(weights=None)\\n            in_feat = m.fc.in_features\\n            m.fc = nn.Identity()\\n            self.backbone = m; feat_dim=in_feat\\n        elif backbone=='resnet18':\\n            m = models.resnet18(weights=None)\\n            in_feat = m.fc.in_features\\n            m.fc = nn.Identity()\\n            self.backbone = m; feat_dim=in_feat\\n        else:\\n            raise ValueError('Unsupported backbone')\\n        self.classifier = nn.Sequential(\\n            nn.Linear(feat_dim,1024), nn.BatchNorm1d(1024), nn.ReLU(True), nn.Dropout(0.4),\\n            nn.Linear(1024,256), nn.BatchNorm1d(256), nn.ReLU(True), nn.Dropout(0.3),\\n            nn.Linear(256,num_classes))\\n    def forward(self,x):\\n        f = self.backbone(x); return self.classifier(f)\\n\\ndef load_emotion_model(path):\\n    ckpt = torch.load(path, map_location='cpu')\\n    cfg = ckpt['model_config']\\n    model = CNNTransferLearning(num_classes=cfg['num_classes'], backbone=cfg['backbone'])\\n    model.load_state_dict(ckpt['model_state_dict'])\\n    model.eval()\\n    mean = ckpt['transforms']['mean']; std = ckpt['transforms']['std']\\n    transform = transforms.Compose([transforms.Resize((cfg['input_size'], cfg['input_size'])), transforms.ToTensor(), transforms.Normalize(mean=mean, std=std)])\\n    label_map = ckpt['label_map']\\n    inv = {v:k for k,v in label_map.items()}\\n    def predict(image_path):\\n        img = Image.open(image_path)\\n        if ckpt['transforms']['mode']=='grayscale': img = img.convert('L')\\n        t = transform(img)\\n        if t.shape[0]==1: t = t.repeat(3,1,1)\\n        with torch.no_grad():\\n            out = model(t.unsqueeze(0))\\n            probs = torch.softmax(out, dim=1)[0]\\n            idx = int(probs.argmax())\\n        return {'emotion': inv[idx], 'confidence': float(probs[idx]), 'probs': probs.tolist()}\\n    return model, predict\\n\"\"\"\n",
    "with open('emotion_inference.py','w') as f:\n",
    "    f.write(inference_code)\n",
    "print(\"✓ Inference helper written to emotion_inference.py\")"
   ]
  },
  {
   "cell_type": "markdown",
   "metadata": {
    "id": "jqx43b9blU3c"
   },
   "source": [
    "## Summary: CNN Transfer Learning Implementation\n",
    "\n",
    "### What We've Accomplished:\n",
    "\n",
    "1. **Transfer Learning Setup**: Implemented CNN transfer learning using VGG16 backbone pre-trained on ImageNet\n",
    "\n",
    "2. **Architecture**:\n",
    "   - Pre-trained VGG16 feature extractor\n",
    "   - Custom classifier head for emotion recognition\n",
    "   - Support for RGB images (224×224)\n",
    "\n",
    "3. **Training Strategy**:\n",
    "   - Fine-tuning approach with different learning rates\n",
    "   - ImageNet normalization for compatibility\n",
    "   - Data augmentation for better generalization\n",
    "   - Early stopping to prevent overfitting\n",
    "\n",
    "4. **Key Benefits Over Baseline CNN**:\n",
    "   - ✅ **Faster Convergence**: Pre-trained weights provide good starting point\n",
    "   - ✅ **Better Feature Learning**: Robust low-level features from ImageNet\n",
    "   - ✅ **Improved Generalization**: Less prone to overfitting\n",
    "   - ✅ **State-of-the-art Architecture**: Proven CNN design\n",
    "\n",
    "### Transfer Learning Strategies Implemented:\n",
    "\n",
    "1. **Feature Extraction** (freezing backbone)\n",
    "2. **Fine-tuning** (training all layers with different LRs)\n",
    "3. **Gradual unfreezing** (implemented as methods)\n",
    "\n",
    "### Production-Ready Features:\n",
    "\n",
    "- Complete model serialization\n",
    "- Inference functions\n",
    "- Proper preprocessing pipeline\n",
    "- Model configuration storage\n",
    "\n",
    "### Next Steps:\n",
    "\n",
    "1. **Experiment with different backbones** (VGG19, ResNet, EfficientNet)\n",
    "2. **Implement ensemble methods** combining multiple models\n",
    "3. **Add model interpretability** (Grad-CAM, attention maps)\n",
    "4. **Optimize for deployment** (model quantization, ONNX export)\n",
    "\n",
    "This implementation provides a solid foundation for visual emotion recognition using modern transfer learning techniques!"
   ]
  }
 ],
 "metadata": {
  "accelerator": "GPU",
  "colab": {
   "gpuType": "T4",
   "include_colab_link": true,
   "provenance": []
  },
  "kernelspec": {
   "display_name": "Python 3",
   "name": "python3"
  },
  "language_info": {
   "codemirror_mode": {
    "name": "ipython",
    "version": 3
   },
   "file_extension": ".py",
   "mimetype": "text/x-python",
   "name": "python",
   "nbconvert_exporter": "python",
   "pygments_lexer": "ipython3",
   "version": "3.8.5"
  }
 },
 "nbformat": 4,
 "nbformat_minor": 0
}
