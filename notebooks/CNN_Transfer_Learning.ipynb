{
  "cells": [
    {
      "cell_type": "code",
      "execution_count": 15,
      "metadata": {
        "colab": {
          "base_uri": "https://localhost:8080/"
        },
        "id": "dpOTlhgalZoU",
        "outputId": "65f0f8b5-395a-4863-8e4a-0f0e2b959ed3"
      },
      "outputs": [
        {
          "output_type": "stream",
          "name": "stdout",
          "text": [
            "fatal: destination path 'ann-visual-emotion' already exists and is not an empty directory.\n"
          ]
        }
      ],
      "source": [
        "!git clone -b reduce_features https://github.com/lahirumanulanka/ann-visual-emotion"
      ]
    },
    {
      "cell_type": "code",
      "source": [
        "# Cell 1: Imports & Paths\n",
        "import os\n",
        "import math\n",
        "import json\n",
        "import random\n",
        "from pathlib import Path\n",
        "from collections import Counter\n",
        "from dataclasses import dataclass, asdict\n",
        "from typing import Optional, Dict, List, Tuple\n",
        "\n",
        "import numpy as np\n",
        "import pandas as pd\n",
        "from PIL import Image\n",
        "\n",
        "import torch\n",
        "import torch.nn as nn\n",
        "import torch.nn.functional as F\n",
        "from torch.utils.data import Dataset, DataLoader, WeightedRandomSampler\n",
        "from torch.cuda.amp import autocast, GradScaler\n",
        "from torchvision import transforms, models\n",
        "\n",
        "from sklearn.metrics import classification_report, confusion_matrix, f1_score, accuracy_score\n",
        "import matplotlib.pyplot as plt\n",
        "import seaborn as sns\n",
        "\n",
        "# Required paths (as given)\n",
        "PROJECT_ROOT = Path('/content/ann-visual-emotion')\n",
        "CSV_TRAIN = PROJECT_ROOT / 'data/processed/EmoSet_splits/train.csv'\n",
        "CSV_VAL   = PROJECT_ROOT / 'data/processed/EmoSet_splits/val.csv'\n",
        "CSV_TEST  = PROJECT_ROOT / 'data/processed/EmoSet_splits/test.csv'\n",
        "LABEL_MAP_PATH = PROJECT_ROOT / 'data/processed/EmoSet_splits/label_map.json'\n",
        "DATA_DIR  = PROJECT_ROOT / 'data/raw/EmoSet'\n",
        "\n",
        "print(\"Project root:\", PROJECT_ROOT)\n",
        "\n",
        "# Quick existence check\n",
        "for p in [CSV_TRAIN, CSV_VAL, CSV_TEST, LABEL_MAP_PATH, DATA_DIR]:\n",
        "    print(f\"{p}: {'OK' if p.exists() else 'MISSING'}\")\n",
        "\n",
        "device = torch.device(\"cuda\" if torch.cuda.is_available() else \"cpu\")\n",
        "print(\"Device:\", device)\n",
        "\n",
        "def set_seed(seed=42):\n",
        "    random.seed(seed)\n",
        "    np.random.seed(seed)\n",
        "    torch.manual_seed(seed)\n",
        "    torch.cuda.manual_seed_all(seed)\n",
        "    torch.backends.cudnn.deterministic = True\n",
        "    torch.backends.cudnn.benchmark = False\n",
        "\n",
        "set_seed(42)"
      ],
      "metadata": {
        "colab": {
          "base_uri": "https://localhost:8080/"
        },
        "id": "pvjdUWsDF8JZ",
        "outputId": "77a1f1d9-0ed3-408d-fe66-d05ee84137f0"
      },
      "execution_count": 16,
      "outputs": [
        {
          "output_type": "stream",
          "name": "stdout",
          "text": [
            "Project root: /content/ann-visual-emotion\n",
            "/content/ann-visual-emotion/data/processed/EmoSet_splits/train.csv: OK\n",
            "/content/ann-visual-emotion/data/processed/EmoSet_splits/val.csv: OK\n",
            "/content/ann-visual-emotion/data/processed/EmoSet_splits/test.csv: OK\n",
            "/content/ann-visual-emotion/data/processed/EmoSet_splits/label_map.json: OK\n",
            "/content/ann-visual-emotion/data/raw/EmoSet: OK\n",
            "Device: cuda\n"
          ]
        }
      ]
    },
    {
      "cell_type": "code",
      "source": [
        "# Cell 2: Config & Toggles\n",
        "\n",
        "@dataclass\n",
        "class TrainConfig:\n",
        "    image_col: str = \"filepath\"\n",
        "    label_col: str = \"label\"\n",
        "    out_dir: str = \"artifacts\"\n",
        "    backbone: str = \"resnet18\"          # 'resnet18', 'resnet34', 'resnet50'\n",
        "    arcface: bool = False               # Use ArcFace margin head\n",
        "    arc_s: float = 30.0\n",
        "    arc_m: float = 0.30\n",
        "    batch_size: int = 32\n",
        "    epochs: int = 60\n",
        "    patience: int = 8\n",
        "    warmup_epochs: int = 3\n",
        "    base_backbone_lr: float = 1e-4\n",
        "    head_lr: float = 1e-3\n",
        "    weight_decay: float = 1e-4\n",
        "    label_smoothing: float = 0.05\n",
        "    use_mixup: bool = True\n",
        "    mixup_alpha: float = 0.4\n",
        "    use_cutmix: bool = False\n",
        "    cutmix_alpha: float = 1.0\n",
        "    switch_sharpen_epochs: int = 7   # last N epochs -> disable mixup/smoothing\n",
        "    focal_last_phase: bool = False   # switch to FocalLoss late\n",
        "    focal_gamma: float = 2.0\n",
        "    use_ema: bool = True\n",
        "    ema_decay: float = 0.999\n",
        "    img_size: int = 224\n",
        "    progressive_resize: bool = False\n",
        "    progressive_target: int = 256\n",
        "    progressive_start: int = 45\n",
        "    use_weighted_sampler: bool = False\n",
        "    save_metric: str = \"macro_f1\"    # or \"acc\"\n",
        "    seed: int = 42\n",
        "\n",
        "cfg = TrainConfig()\n",
        "print(cfg)"
      ],
      "metadata": {
        "colab": {
          "base_uri": "https://localhost:8080/"
        },
        "id": "_r-LWgCrF-ru",
        "outputId": "1cc3e022-4e43-4b2c-9103-9bc8c29cf002"
      },
      "execution_count": 17,
      "outputs": [
        {
          "output_type": "stream",
          "name": "stdout",
          "text": [
            "TrainConfig(image_col='filepath', label_col='label', out_dir='artifacts', backbone='resnet18', arcface=False, arc_s=30.0, arc_m=0.3, batch_size=32, epochs=60, patience=8, warmup_epochs=3, base_backbone_lr=0.0001, head_lr=0.001, weight_decay=0.0001, label_smoothing=0.05, use_mixup=True, mixup_alpha=0.4, use_cutmix=False, cutmix_alpha=1.0, switch_sharpen_epochs=7, focal_last_phase=False, focal_gamma=2.0, use_ema=True, ema_decay=0.999, img_size=224, progressive_resize=False, progressive_target=256, progressive_start=45, use_weighted_sampler=False, save_metric='macro_f1', seed=42)\n"
          ]
        }
      ]
    },
    {
      "cell_type": "code",
      "source": [
        "# Cell 3: Load DataFrames & Label Map\n",
        "\n",
        "train_df = pd.read_csv(CSV_TRAIN)\n",
        "val_df   = pd.read_csv(CSV_VAL)\n",
        "test_df  = pd.read_csv(CSV_TEST)\n",
        "\n",
        "def load_label_map(path: Path, df: pd.DataFrame, label_col: str):\n",
        "    if path.exists():\n",
        "        with open(path, 'r') as f:\n",
        "            lm = json.load(f)\n",
        "        if isinstance(lm, dict):\n",
        "            if all(isinstance(v, int) for v in lm.values()):\n",
        "                label_to_id = lm\n",
        "            else:\n",
        "                label_to_id = {v: int(k) for k, v in lm.items()}\n",
        "        elif isinstance(lm, list):\n",
        "            label_to_id = {lbl: i for i, lbl in enumerate(lm)}\n",
        "        else:\n",
        "            raise ValueError(\"Unsupported label_map format.\")\n",
        "    else:\n",
        "        unique = sorted(df[label_col].unique())\n",
        "        label_to_id = {lbl: i for i, lbl in enumerate(unique)}\n",
        "    classes = [lbl for lbl, _id in sorted(label_to_id.items(), key=lambda x: x[1])]\n",
        "    return classes, label_to_id\n",
        "\n",
        "CLASSES, class_to_idx = load_label_map(LABEL_MAP_PATH, train_df, cfg.label_col)\n",
        "NUM_CLASSES = len(CLASSES)\n",
        "print(\"Classes:\", CLASSES)\n",
        "print(\"Train size:\", len(train_df), \"Val size:\", len(val_df), \"Test size:\", len(test_df))"
      ],
      "metadata": {
        "colab": {
          "base_uri": "https://localhost:8080/"
        },
        "id": "HXD151EBsUvg",
        "outputId": "2d08527d-ae5a-4385-c203-a737e1247fce"
      },
      "execution_count": 18,
      "outputs": [
        {
          "output_type": "stream",
          "name": "stdout",
          "text": [
            "Classes: ['angry', 'happy', 'neutral', 'sad', 'surprise']\n",
            "Train size: 20150 Val size: 4030 Test size: 1005\n"
          ]
        }
      ]
    },
    {
      "cell_type": "code",
      "source": [
        "# Cell 4: Transforms\n",
        "\n",
        "IMAGENET_MEAN = [0.485, 0.456, 0.406]\n",
        "IMAGENET_STD  = [0.229, 0.224, 0.225]\n",
        "\n",
        "def build_transforms(img_size=224, strong=True):\n",
        "    if strong:\n",
        "        train_tf = transforms.Compose([\n",
        "            transforms.RandomResizedCrop(img_size, scale=(0.75, 1.0)),\n",
        "            transforms.RandomHorizontalFlip(),\n",
        "            transforms.RandomRotation(15),\n",
        "            transforms.ColorJitter(0.25, 0.25, 0.25, 0.10),\n",
        "            transforms.ToTensor(),\n",
        "            transforms.Normalize(IMAGENET_MEAN, IMAGENET_STD),\n",
        "            transforms.RandomErasing(p=0.25, scale=(0.02, 0.12), value='random')\n",
        "        ])\n",
        "    else:\n",
        "        train_tf = transforms.Compose([\n",
        "            transforms.RandomResizedCrop(img_size, scale=(0.9, 1.0)),\n",
        "            transforms.RandomHorizontalFlip(),\n",
        "            transforms.ToTensor(),\n",
        "            transforms.Normalize(IMAGENET_MEAN, IMAGENET_STD)\n",
        "        ])\n",
        "    val_tf = transforms.Compose([\n",
        "        transforms.Resize(int(img_size * 1.14)),\n",
        "        transforms.CenterCrop(img_size),\n",
        "        transforms.ToTensor(),\n",
        "        transforms.Normalize(IMAGENET_MEAN, IMAGENET_STD)\n",
        "    ])\n",
        "    return train_tf, val_tf\n",
        "\n",
        "train_tf, val_tf = build_transforms(cfg.img_size, strong=True)"
      ],
      "metadata": {
        "id": "bf1L3kWSsWec"
      },
      "execution_count": 19,
      "outputs": []
    },
    {
      "cell_type": "code",
      "source": [
        "# Cell 5: Dataset Class\n",
        "\n",
        "class EmotionDataset(Dataset):\n",
        "    def __init__(self, df, image_col, label_col, class_to_idx, transform=None, data_root=None):\n",
        "        self.df = df.reset_index(drop=True)\n",
        "        self.image_col = image_col\n",
        "        self.label_col = label_col\n",
        "        self.class_to_idx = class_to_idx\n",
        "        self.transform = transform\n",
        "        self.data_root = Path(data_root) if data_root else None\n",
        "\n",
        "    def resolve_path(self, raw):\n",
        "        p = Path(raw)\n",
        "        if p.is_absolute() and p.exists(): return p\n",
        "        if self.data_root:\n",
        "            candidate = self.data_root / p\n",
        "            if candidate.exists(): return candidate\n",
        "        if p.exists(): return p\n",
        "        raise FileNotFoundError(f\"Image not found: {raw}\")\n",
        "\n",
        "    def __len__(self): return len(self.df)\n",
        "\n",
        "    def __getitem__(self, idx):\n",
        "        row = self.df.loc[idx]\n",
        "        img_path = self.resolve_path(row[self.image_col])\n",
        "        label_name = row[self.label_col]\n",
        "        label = self.class_to_idx[label_name]\n",
        "        with Image.open(img_path) as img:\n",
        "            img = img.convert(\"RGB\")\n",
        "        if self.transform:\n",
        "            img = self.transform(img)\n",
        "        return img, label"
      ],
      "metadata": {
        "id": "ALAx_SDnsYSH"
      },
      "execution_count": 20,
      "outputs": []
    },
    {
      "cell_type": "code",
      "source": [
        "# Cell 6: Build Datasets & DataLoaders\n",
        "\n",
        "train_dataset = EmotionDataset(train_df, cfg.image_col, cfg.label_col,\n",
        "                               class_to_idx, transform=train_tf, data_root=DATA_DIR)\n",
        "val_dataset = EmotionDataset(val_df, cfg.image_col, cfg.label_col,\n",
        "                             class_to_idx, transform=val_tf, data_root=DATA_DIR)\n",
        "test_dataset = EmotionDataset(test_df, cfg.image_col, cfg.label_col,\n",
        "                              class_to_idx, transform=val_tf, data_root=DATA_DIR)\n",
        "\n",
        "if cfg.use_weighted_sampler:\n",
        "    counts = Counter(train_df[cfg.label_col])\n",
        "    inv = {lbl: 1.0 / c for lbl, c in counts.items()}\n",
        "    sample_weights = train_df[cfg.label_col].map(inv).values\n",
        "    sampler = WeightedRandomSampler(torch.DoubleTensor(sample_weights),\n",
        "                                    num_samples=len(sample_weights),\n",
        "                                    replacement=True)\n",
        "    train_loader = DataLoader(train_dataset, batch_size=cfg.batch_size,\n",
        "                              sampler=sampler, num_workers=2, pin_memory=True)\n",
        "else:\n",
        "    train_loader = DataLoader(train_dataset, batch_size=cfg.batch_size,\n",
        "                              shuffle=True, num_workers=2, pin_memory=True)\n",
        "\n",
        "val_loader = DataLoader(val_dataset, batch_size=cfg.batch_size,\n",
        "                        shuffle=False, num_workers=2, pin_memory=True)\n",
        "test_loader = DataLoader(test_dataset, batch_size=cfg.batch_size,\n",
        "                         shuffle=False, num_workers=2, pin_memory=True)\n",
        "\n",
        "print(\"Loaders ready.\")"
      ],
      "metadata": {
        "colab": {
          "base_uri": "https://localhost:8080/"
        },
        "id": "m1vfjEtPsZ_5",
        "outputId": "43bc6cbd-29f6-4a7a-90d7-25a3dda68261"
      },
      "execution_count": 21,
      "outputs": [
        {
          "output_type": "stream",
          "name": "stdout",
          "text": [
            "Loaders ready.\n"
          ]
        }
      ]
    },
    {
      "cell_type": "code",
      "source": [
        "# Cell 7: Mixup / CutMix helpers\n",
        "\n",
        "def apply_mixup(x, y, alpha=0.4):\n",
        "    if alpha <= 0:\n",
        "        return x, (y, y, 1.0), False\n",
        "    lam = np.random.beta(alpha, alpha)\n",
        "    idx = torch.randperm(x.size(0), device=x.device)\n",
        "    mixed = lam * x + (1 - lam) * x[idx]\n",
        "    return mixed, (y, y[idx], lam), True\n",
        "\n",
        "def apply_cutmix(x, y, alpha=1.0):\n",
        "    if alpha <= 0:\n",
        "        return x, (y, y, 1.0), False\n",
        "    lam = np.random.beta(alpha, alpha)\n",
        "    B, C, H, W = x.size()\n",
        "    idx = torch.randperm(B, device=x.device)\n",
        "    rx, ry = np.random.randint(W), np.random.randint(H)\n",
        "    rw = int(W * math.sqrt(1 - lam))\n",
        "    rh = int(H * math.sqrt(1 - lam))\n",
        "    x1 = np.clip(rx - rw//2, 0, W)\n",
        "    y1 = np.clip(ry - rh//2, 0, H)\n",
        "    x2 = np.clip(rx + rw//2, 0, W)\n",
        "    y2 = np.clip(ry + rh//2, 0, H)\n",
        "    x[:, :, y1:y2, x1:x2] = x[idx, :, y1:y2, x1:x2]\n",
        "    lam_adjust = 1 - ((x2 - x1)*(y2 - y1)/(W*H))\n",
        "    return x, (y, y[idx], lam_adjust), True"
      ],
      "metadata": {
        "id": "qfK4Nf9gsbtj"
      },
      "execution_count": 22,
      "outputs": []
    },
    {
      "cell_type": "code",
      "source": [
        "# Cell 8: Focal Loss & ArcFace\n",
        "\n",
        "class FocalLoss(nn.Module):\n",
        "    def __init__(self, gamma=2.0, alpha=None, reduction='mean'):\n",
        "        super().__init__()\n",
        "        self.gamma = gamma\n",
        "        if alpha is not None:\n",
        "            self.alpha = torch.tensor(alpha)\n",
        "        else:\n",
        "            self.alpha = None\n",
        "        self.reduction = reduction\n",
        "\n",
        "    def forward(self, logits, targets):\n",
        "        ce = F.cross_entropy(\n",
        "            logits, targets,\n",
        "            reduction='none',\n",
        "            weight=self.alpha.to(logits.device) if self.alpha is not None else None\n",
        "        )\n",
        "        pt = torch.exp(-ce)\n",
        "        loss = (1 - pt) ** self.gamma * ce\n",
        "        if self.reduction == 'mean':\n",
        "            return loss.mean()\n",
        "        elif self.reduction == 'sum':\n",
        "            return loss.sum()\n",
        "        return loss\n",
        "\n",
        "class ArcMarginProduct(nn.Module):\n",
        "    def __init__(self, in_features, out_features, s=30.0, m=0.30, easy_margin=False):\n",
        "        super().__init__()\n",
        "        self.weight = nn.Parameter(torch.FloatTensor(out_features, in_features))\n",
        "        nn.init.xavier_uniform_(self.weight)\n",
        "        self.s = s\n",
        "        self.m = m\n",
        "        self.easy_margin = easy_margin\n",
        "        self.cos_m = math.cos(m)\n",
        "        self.sin_m = math.sin(m)\n",
        "        self.th = math.cos(math.pi - m)\n",
        "        self.mm = math.sin(math.pi - m) * m\n",
        "\n",
        "    def forward(self, emb, labels):\n",
        "        W = F.normalize(self.weight)\n",
        "        X = F.normalize(emb)\n",
        "        cosine = F.linear(X, W)\n",
        "        sine = torch.sqrt(torch.clamp(1.0 - cosine**2, 0, 1))\n",
        "        phi = cosine * self.cos_m - sine * self.sin_m\n",
        "        if self.easy_margin:\n",
        "            phi = torch.where(cosine > 0, phi, cosine)\n",
        "        else:\n",
        "            phi = torch.where(cosine > self.th, phi, cosine - self.mm)\n",
        "        one_hot = torch.zeros_like(cosine)\n",
        "        one_hot.scatter_(1, labels.view(-1,1), 1.0)\n",
        "        logits = (one_hot * phi) + ((1 - one_hot) * cosine)\n",
        "        return logits * self.s"
      ],
      "metadata": {
        "id": "mQDU0QItsda-"
      },
      "execution_count": 23,
      "outputs": []
    },
    {
      "cell_type": "code",
      "source": [
        "# Cell 9: Model & Discriminative LR\n",
        "\n",
        "class EmotionModel(nn.Module):\n",
        "    def __init__(self, num_classes, backbone='resnet18',\n",
        "                 arcface=False, arc_s=30.0, arc_m=0.30, dropout=0.25):\n",
        "        super().__init__()\n",
        "        self.arcface = arcface\n",
        "        if backbone == 'resnet18':\n",
        "            net = models.resnet18(weights=models.ResNet18_Weights.DEFAULT)\n",
        "        elif backbone == 'resnet34':\n",
        "            net = models.resnet34(weights=models.ResNet34_Weights.DEFAULT)\n",
        "        elif backbone == 'resnet50':\n",
        "            net = models.resnet50(weights=models.ResNet50_Weights.DEFAULT)\n",
        "        else:\n",
        "            raise ValueError(\"Unsupported backbone\")\n",
        "\n",
        "        feat_dim = net.fc.in_features\n",
        "        self.features = nn.Sequential(*list(net.children())[:-1])\n",
        "\n",
        "        if arcface:\n",
        "            self.embedding = nn.Sequential(\n",
        "                nn.Linear(feat_dim, 512),\n",
        "                nn.ReLU(inplace=True),\n",
        "                nn.LayerNorm(512),\n",
        "                nn.Dropout(dropout)\n",
        "            )\n",
        "            self.arc = ArcMarginProduct(512, num_classes, s=arc_s, m=arc_m)\n",
        "        else:\n",
        "            self.classifier = nn.Sequential(\n",
        "                nn.Linear(feat_dim, 512),\n",
        "                nn.ReLU(inplace=True),\n",
        "                nn.LayerNorm(512),\n",
        "                nn.Dropout(dropout),\n",
        "                nn.Linear(512, num_classes)\n",
        "            )\n",
        "\n",
        "    def forward(self, x, labels=None):\n",
        "        x = self.features(x)\n",
        "        x = torch.flatten(x, 1)\n",
        "        if self.arcface:\n",
        "            emb = self.embedding(x)\n",
        "            if labels is None:\n",
        "                raise ValueError(\"ArcFace requires labels in forward\")\n",
        "            return self.arc(emb, labels)\n",
        "        else:\n",
        "            return self.classifier(x)\n",
        "\n",
        "def make_param_groups(model, base_backbone_lr, head_lr, arcface=False):\n",
        "    # features: [0 conv,1 bn,2 relu,3 pool,4 l1,5 l2,6 l3,7 l4,8 avgpool]\n",
        "    groups = []\n",
        "    layer_map = {\n",
        "        \"early\": [model.features[0], model.features[1]],\n",
        "        \"layer1\": [model.features[4]],\n",
        "        \"layer2\": [model.features[5]],\n",
        "        \"layer3\": [model.features[6]],\n",
        "        \"layer4\": [model.features[7]],\n",
        "    }\n",
        "    scale = {\"early\": 0.5, \"layer1\":0.5, \"layer2\":1.0, \"layer3\":1.0, \"layer4\":2.0}\n",
        "    for name, mods in layer_map.items():\n",
        "        params = []\n",
        "        for m in mods:\n",
        "            for p in m.parameters():\n",
        "                if p.requires_grad:\n",
        "                    params.append(p)\n",
        "        if params:\n",
        "            groups.append({\"params\": params, \"lr\": base_backbone_lr * scale[name]})\n",
        "    head_params = []\n",
        "    if arcface:\n",
        "        head_params += list(model.embedding.parameters()) + list(model.arc.parameters())\n",
        "    else:\n",
        "        head_params += list(model.classifier.parameters())\n",
        "    groups.append({\"params\": head_params, \"lr\": head_lr})\n",
        "    return groups"
      ],
      "metadata": {
        "id": "pNPH_hq-sfN-"
      },
      "execution_count": 24,
      "outputs": []
    },
    {
      "cell_type": "code",
      "source": [
        "# Cell 10: EMA\n",
        "\n",
        "class EMA:\n",
        "    def __init__(self, model, decay=0.999):\n",
        "        self.decay = decay\n",
        "        self.shadow = {}\n",
        "        for n, p in model.named_parameters():\n",
        "            if p.requires_grad:\n",
        "                self.shadow[n] = p.data.clone()\n",
        "\n",
        "    def update(self, model):\n",
        "        for n, p in model.named_parameters():\n",
        "            if p.requires_grad:\n",
        "                self.shadow[n].mul_(self.decay).add_(p.data, alpha=1 - self.decay)\n",
        "\n",
        "    def apply(self, model):\n",
        "        for n, p in model.named_parameters():\n",
        "            if p.requires_grad and n in self.shadow:\n",
        "                p.data.copy_(self.shadow[n])"
      ],
      "metadata": {
        "id": "wp4kb8yasg-t"
      },
      "execution_count": 25,
      "outputs": []
    },
    {
      "cell_type": "code",
      "source": [
        "# Cell 11: Train & Evaluate\n",
        "\n",
        "def train_one_epoch(model, loader, optimizer, device, criterion, scaler=None,\n",
        "                    use_mixup=False, mixup_alpha=0.4,\n",
        "                    use_cutmix=False, cutmix_alpha=1.0,\n",
        "                    arcface=False, ema: Optional[EMA]=None):\n",
        "    model.train()\n",
        "    total_loss, total_correct, total = 0.0, 0.0, 0\n",
        "\n",
        "    for imgs, labels in loader:\n",
        "        imgs = imgs.to(device, non_blocking=True)\n",
        "        labels = labels.to(device, non_blocking=True)\n",
        "        optimizer.zero_grad(set_to_none=True)\n",
        "\n",
        "        mixed = False\n",
        "        if use_mixup and use_cutmix:\n",
        "            if random.random() < 0.5:\n",
        "                imgs, (ya, yb, lam), mixed = apply_mixup(imgs, labels, mixup_alpha)\n",
        "            else:\n",
        "                imgs, (ya, yb, lam), mixed = apply_cutmix(imgs, labels, cutmix_alpha)\n",
        "        elif use_mixup:\n",
        "            imgs, (ya, yb, lam), mixed = apply_mixup(imgs, labels, mixup_alpha)\n",
        "        elif use_cutmix:\n",
        "            imgs, (ya, yb, lam), mixed = apply_cutmix(imgs, labels, cutmix_alpha)\n",
        "\n",
        "        with autocast(enabled=(scaler is not None)):\n",
        "            if arcface:\n",
        "                if mixed:\n",
        "                    logits = model(imgs, ya)\n",
        "                    loss = lam * criterion(logits, ya) + (1 - lam)*criterion(logits, yb)\n",
        "                else:\n",
        "                    logits = model(imgs, labels)\n",
        "                    loss = criterion(logits, labels)\n",
        "            else:\n",
        "                logits = model(imgs)  # standard head ignoring labels in fwd\n",
        "                if mixed:\n",
        "                    loss = lam * criterion(logits, ya) + (1 - lam)*criterion(logits, yb)\n",
        "                else:\n",
        "                    loss = criterion(logits, labels)\n",
        "\n",
        "        if scaler:\n",
        "            scaler.scale(loss).backward()\n",
        "            scaler.step(optimizer)\n",
        "            scaler.update()\n",
        "        else:\n",
        "            loss.backward()\n",
        "            optimizer.step()\n",
        "\n",
        "        if ema:\n",
        "            ema.update(model)\n",
        "\n",
        "        bs = imgs.size(0)\n",
        "        total_loss += loss.item() * bs\n",
        "        with torch.no_grad():\n",
        "            preds = logits.argmax(1)\n",
        "            if mixed:\n",
        "                total_correct += (lam * preds.eq(ya).sum().item() +\n",
        "                                  (1 - lam) * preds.eq(yb).sum().item())\n",
        "            else:\n",
        "                total_correct += preds.eq(labels).sum().item()\n",
        "            total += bs\n",
        "\n",
        "    return total_loss / total, total_correct / total\n",
        "\n",
        "@torch.no_grad()\n",
        "def evaluate(model, loader, device, criterion, arcface=False):\n",
        "    model.eval()\n",
        "    total_loss, total_correct, total = 0.0, 0.0, 0\n",
        "    all_preds, all_labels = [], []\n",
        "\n",
        "    for imgs, labels in loader:\n",
        "        imgs = imgs.to(device)\n",
        "        labels = labels.to(device)\n",
        "        if arcface:\n",
        "            logits = model(imgs, labels)\n",
        "        else:\n",
        "            logits = model(imgs)\n",
        "        loss = criterion(logits, labels)\n",
        "        bs = imgs.size(0)\n",
        "        total_loss += loss.item() * bs\n",
        "        preds = logits.argmax(1)\n",
        "        total_correct += preds.eq(labels).sum().item()\n",
        "        total += bs\n",
        "        all_preds.append(preds.cpu())\n",
        "        all_labels.append(labels.cpu())\n",
        "\n",
        "    all_preds = torch.cat(all_preds).numpy()\n",
        "    all_labels = torch.cat(all_labels).numpy()\n",
        "    macro_f1 = f1_score(all_labels, all_preds, average='macro')\n",
        "    acc = accuracy_score(all_labels, all_preds)\n",
        "    return total_loss / total, acc, macro_f1, all_preds, all_labels"
      ],
      "metadata": {
        "id": "jbZRLuORsi-8"
      },
      "execution_count": 26,
      "outputs": []
    },
    {
      "cell_type": "code",
      "source": [
        "# Cell 12: Scheduler Helper\n",
        "\n",
        "def cosine_warmup(epoch, total_epochs, warmup_epochs):\n",
        "    if epoch < warmup_epochs:\n",
        "        return (epoch + 1) / warmup_epochs\n",
        "    progress = (epoch - warmup_epochs) / max(1, (total_epochs - warmup_epochs))\n",
        "    return 0.5 * (1 + math.cos(math.pi * progress))"
      ],
      "metadata": {
        "id": "jpjbXk_9sk0B"
      },
      "execution_count": 27,
      "outputs": []
    },
    {
      "cell_type": "code",
      "source": [
        "# Cell 13: Initialize Objects\n",
        "\n",
        "model = EmotionModel(NUM_CLASSES,\n",
        "                     backbone=cfg.backbone,\n",
        "                     arcface=cfg.arcface,\n",
        "                     arc_s=cfg.arc_s,\n",
        "                     arc_m=cfg.arc_m).to(device)\n",
        "\n",
        "param_groups = make_param_groups(model,\n",
        "                                 cfg.base_backbone_lr,\n",
        "                                 cfg.head_lr,\n",
        "                                 arcface=cfg.arcface)\n",
        "\n",
        "optimizer = torch.optim.Adam(param_groups, weight_decay=cfg.weight_decay)\n",
        "scaler = GradScaler(enabled=(device.type == \"cuda\"))\n",
        "\n",
        "criterion = nn.CrossEntropyLoss(label_smoothing=cfg.label_smoothing)\n",
        "ema = EMA(model, decay=cfg.ema_decay) if cfg.use_ema else None\n",
        "\n",
        "class EarlyStopper:\n",
        "    def __init__(self, patience=8, mode='max', min_delta=0.0):\n",
        "        self.patience = patience\n",
        "        self.mode = mode\n",
        "        self.min_delta = min_delta\n",
        "        self.best = None\n",
        "        self.bad = 0\n",
        "        self.stop = False\n",
        "    def step(self, val):\n",
        "        if self.best is None:\n",
        "            self.best = val\n",
        "            return False\n",
        "        improve = (val - self.best) if self.mode == 'max' else (self.best - val)\n",
        "        if self.mode == 'max':\n",
        "            if improve > self.min_delta:\n",
        "                self.best = val\n",
        "                self.bad = 0\n",
        "            else:\n",
        "                self.bad += 1\n",
        "        else:\n",
        "            if improve > self.min_delta:\n",
        "                self.best = val\n",
        "                self.bad = 0\n",
        "            else:\n",
        "                self.bad += 1\n",
        "        if self.bad >= self.patience:\n",
        "            self.stop = True\n",
        "        return self.stop\n",
        "\n",
        "early_stopper = EarlyStopper(patience=cfg.patience, mode='max')\n",
        "\n",
        "history = {\n",
        "    \"train_loss\": [], \"train_acc\": [],\n",
        "    \"val_loss\": [], \"val_acc\": [], \"val_macro_f1\": []\n",
        "}\n",
        "\n",
        "print(\"Model initialized.\")"
      ],
      "metadata": {
        "id": "uH292ce6v3uH",
        "outputId": "079538a7-7470-43f6-cc7d-07c48d5a2067",
        "colab": {
          "base_uri": "https://localhost:8080/"
        }
      },
      "execution_count": 28,
      "outputs": [
        {
          "output_type": "stream",
          "name": "stdout",
          "text": [
            "Downloading: \"https://download.pytorch.org/models/resnet18-f37072fd.pth\" to /root/.cache/torch/hub/checkpoints/resnet18-f37072fd.pth\n"
          ]
        },
        {
          "output_type": "stream",
          "name": "stderr",
          "text": [
            "100%|██████████| 44.7M/44.7M [00:00<00:00, 190MB/s]\n"
          ]
        },
        {
          "output_type": "stream",
          "name": "stdout",
          "text": [
            "Model initialized.\n"
          ]
        },
        {
          "output_type": "stream",
          "name": "stderr",
          "text": [
            "/tmp/ipython-input-211188417.py:15: FutureWarning: `torch.cuda.amp.GradScaler(args...)` is deprecated. Please use `torch.amp.GradScaler('cuda', args...)` instead.\n",
            "  scaler = GradScaler(enabled=(device.type == \"cuda\"))\n"
          ]
        }
      ]
    },
    {
      "cell_type": "code",
      "source": [
        "# Cell 14: Training Loop\n",
        "\n",
        "best_metric = -1\n",
        "best_state = None\n",
        "use_mixup = cfg.use_mixup\n",
        "use_cutmix = cfg.use_cutmix\n",
        "sharpen_epoch = cfg.epochs - cfg.switch_sharpen_epochs\n",
        "\n",
        "for epoch in range(cfg.epochs):\n",
        "    # Progressive resize trigger\n",
        "    if cfg.progressive_resize and epoch == cfg.progressive_start:\n",
        "        new_size = cfg.progressive_target\n",
        "        train_tf, val_tf = build_transforms(new_size, strong=True)\n",
        "        train_dataset.transform = train_tf\n",
        "        val_dataset.transform = val_tf\n",
        "        test_dataset.transform = val_tf\n",
        "        print(f\"[Epoch {epoch}] Progressive resize -> {new_size}\")\n",
        "\n",
        "    # Late phase switch (sharpen)\n",
        "    if epoch == sharpen_epoch:\n",
        "        print(f\"[Epoch {epoch}] Switching to sharpen phase\")\n",
        "        use_mixup = False\n",
        "        use_cutmix = False\n",
        "        if cfg.focal_last_phase:\n",
        "            print(\"Switching to FocalLoss\")\n",
        "            criterion = FocalLoss(gamma=cfg.focal_gamma)\n",
        "        else:\n",
        "            print(\"Removing label smoothing\")\n",
        "            criterion = nn.CrossEntropyLoss()\n",
        "        # reduce LR\n",
        "        for g in optimizer.param_groups:\n",
        "            g['lr'] *= 0.2\n",
        "\n",
        "    # Warmup + cosine scaling (manual)\n",
        "    scale = cosine_warmup(epoch, cfg.epochs, cfg.warmup_epochs)\n",
        "    if epoch < cfg.warmup_epochs:\n",
        "        # Already adjusting base groups by scale each epoch start\n",
        "        for g in optimizer.param_groups:\n",
        "            base_lr = g.get('initial_lr', g['lr'])\n",
        "            g['initial_lr'] = base_lr  # store\n",
        "            g['lr'] = base_lr * scale\n",
        "\n",
        "    train_loss, train_acc = train_one_epoch(\n",
        "        model, train_loader, optimizer, device, criterion, scaler,\n",
        "        use_mixup=use_mixup, mixup_alpha=cfg.mixup_alpha,\n",
        "        use_cutmix=use_cutmix, cutmix_alpha=cfg.cutmix_alpha,\n",
        "        arcface=cfg.arcface, ema=ema\n",
        "    )\n",
        "\n",
        "    val_loss, val_acc, val_macro_f1, val_preds, val_targets = evaluate(\n",
        "        model, val_loader, device, criterion, arcface=cfg.arcface\n",
        "    )\n",
        "\n",
        "    history[\"train_loss\"].append(train_loss)\n",
        "    history[\"train_acc\"].append(train_acc)\n",
        "    history[\"val_loss\"].append(val_loss)\n",
        "    history[\"val_acc\"].append(val_acc)\n",
        "    history[\"val_macro_f1\"].append(val_macro_f1)\n",
        "\n",
        "    if cfg.save_metric == \"macro_f1\":\n",
        "        metric_now = val_macro_f1\n",
        "    else:\n",
        "        metric_now = val_acc\n",
        "\n",
        "    print(f\"Epoch {epoch+1}/{cfg.epochs} \"\n",
        "          f\"TrainLoss {train_loss:.4f} Acc {train_acc:.4f} | \"\n",
        "          f\"ValLoss {val_loss:.4f} Acc {val_acc:.4f} MacroF1 {val_macro_f1:.4f}\")\n",
        "\n",
        "    if metric_now > best_metric:\n",
        "        best_metric = metric_now\n",
        "        best_state = {\n",
        "            \"model\": model.state_dict(),\n",
        "            \"epoch\": epoch,\n",
        "            \"val_metric\": best_metric,\n",
        "            \"config\": asdict(cfg)\n",
        "        }\n",
        "        ART_DIR = (PROJECT_ROOT / cfg.out_dir)\n",
        "        ART_DIR.mkdir(parents=True, exist_ok=True)\n",
        "        torch.save(best_state, ART_DIR / \"best_model_checkpoint.pth\")\n",
        "\n",
        "    if early_stopper.step(metric_now):\n",
        "        print(\"Early stopping triggered.\")\n",
        "        break\n",
        "\n",
        "print(\"Best\", cfg.save_metric, \"=\", best_metric)"
      ],
      "metadata": {
        "colab": {
          "base_uri": "https://localhost:8080/"
        },
        "id": "OgPH4L8LsnAs",
        "outputId": "9502e840-1210-49d4-9464-d9c79b784a55"
      },
      "execution_count": 29,
      "outputs": [
        {
          "metadata": {
            "tags": null
          },
          "name": "stderr",
          "output_type": "stream",
          "text": [
            "/tmp/ipython-input-3277605883.py:26: FutureWarning: `torch.cuda.amp.autocast(args...)` is deprecated. Please use `torch.amp.autocast('cuda', args...)` instead.\n",
            "  with autocast(enabled=(scaler is not None)):\n"
          ]
        },
        {
          "metadata": {
            "tags": null
          },
          "name": "stdout",
          "output_type": "stream",
          "text": [
            "Epoch 1/60 TrainLoss 1.3230 Acc 0.4774 | ValLoss 0.9975 Acc 0.6566 MacroF1 0.6553\n"
          ]
        },
        {
          "metadata": {
            "tags": null
          },
          "name": "stderr",
          "output_type": "stream",
          "text": [
            "/tmp/ipython-input-3277605883.py:26: FutureWarning: `torch.cuda.amp.autocast(args...)` is deprecated. Please use `torch.amp.autocast('cuda', args...)` instead.\n",
            "  with autocast(enabled=(scaler is not None)):\n"
          ]
        },
        {
          "metadata": {
            "tags": null
          },
          "name": "stdout",
          "output_type": "stream",
          "text": [
            "Epoch 2/60 TrainLoss 1.1829 Acc 0.5641 | ValLoss 0.8969 Acc 0.6953 MacroF1 0.6949\n"
          ]
        },
        {
          "metadata": {
            "tags": null
          },
          "name": "stderr",
          "output_type": "stream",
          "text": [
            "/tmp/ipython-input-3277605883.py:26: FutureWarning: `torch.cuda.amp.autocast(args...)` is deprecated. Please use `torch.amp.autocast('cuda', args...)` instead.\n",
            "  with autocast(enabled=(scaler is not None)):\n"
          ]
        },
        {
          "metadata": {
            "tags": null
          },
          "name": "stdout",
          "output_type": "stream",
          "text": [
            "Epoch 3/60 TrainLoss 1.1542 Acc 0.5867 | ValLoss 0.9064 Acc 0.6864 MacroF1 0.6858\n"
          ]
        },
        {
          "metadata": {
            "tags": null
          },
          "name": "stderr",
          "output_type": "stream",
          "text": [
            "/tmp/ipython-input-3277605883.py:26: FutureWarning: `torch.cuda.amp.autocast(args...)` is deprecated. Please use `torch.amp.autocast('cuda', args...)` instead.\n",
            "  with autocast(enabled=(scaler is not None)):\n"
          ]
        },
        {
          "metadata": {
            "tags": null
          },
          "name": "stdout",
          "output_type": "stream",
          "text": [
            "Epoch 4/60 TrainLoss 1.1136 Acc 0.6096 | ValLoss 0.8775 Acc 0.7206 MacroF1 0.7211\n"
          ]
        },
        {
          "metadata": {
            "tags": null
          },
          "name": "stderr",
          "output_type": "stream",
          "text": [
            "/tmp/ipython-input-3277605883.py:26: FutureWarning: `torch.cuda.amp.autocast(args...)` is deprecated. Please use `torch.amp.autocast('cuda', args...)` instead.\n",
            "  with autocast(enabled=(scaler is not None)):\n"
          ]
        },
        {
          "metadata": {
            "tags": null
          },
          "name": "stdout",
          "output_type": "stream",
          "text": [
            "Epoch 5/60 TrainLoss 1.0816 Acc 0.6271 | ValLoss 0.8890 Acc 0.7087 MacroF1 0.7110\n"
          ]
        },
        {
          "metadata": {
            "tags": null
          },
          "name": "stderr",
          "output_type": "stream",
          "text": [
            "/tmp/ipython-input-3277605883.py:26: FutureWarning: `torch.cuda.amp.autocast(args...)` is deprecated. Please use `torch.amp.autocast('cuda', args...)` instead.\n",
            "  with autocast(enabled=(scaler is not None)):\n"
          ]
        },
        {
          "metadata": {
            "tags": null
          },
          "name": "stdout",
          "output_type": "stream",
          "text": [
            "Epoch 6/60 TrainLoss 1.0704 Acc 0.6333 | ValLoss 0.8796 Acc 0.7189 MacroF1 0.7173\n"
          ]
        },
        {
          "metadata": {
            "tags": null
          },
          "name": "stderr",
          "output_type": "stream",
          "text": [
            "/tmp/ipython-input-3277605883.py:26: FutureWarning: `torch.cuda.amp.autocast(args...)` is deprecated. Please use `torch.amp.autocast('cuda', args...)` instead.\n",
            "  with autocast(enabled=(scaler is not None)):\n"
          ]
        },
        {
          "metadata": {
            "tags": null
          },
          "name": "stdout",
          "output_type": "stream",
          "text": [
            "Epoch 7/60 TrainLoss 1.0681 Acc 0.6316 | ValLoss 0.8375 Acc 0.7256 MacroF1 0.7248\n"
          ]
        },
        {
          "metadata": {
            "tags": null
          },
          "name": "stderr",
          "output_type": "stream",
          "text": [
            "/tmp/ipython-input-3277605883.py:26: FutureWarning: `torch.cuda.amp.autocast(args...)` is deprecated. Please use `torch.amp.autocast('cuda', args...)` instead.\n",
            "  with autocast(enabled=(scaler is not None)):\n"
          ]
        },
        {
          "metadata": {
            "tags": null
          },
          "name": "stdout",
          "output_type": "stream",
          "text": [
            "Epoch 8/60 TrainLoss 1.0273 Acc 0.6543 | ValLoss 0.8453 Acc 0.7213 MacroF1 0.7203\n"
          ]
        },
        {
          "metadata": {
            "tags": null
          },
          "name": "stderr",
          "output_type": "stream",
          "text": [
            "/tmp/ipython-input-3277605883.py:26: FutureWarning: `torch.cuda.amp.autocast(args...)` is deprecated. Please use `torch.amp.autocast('cuda', args...)` instead.\n",
            "  with autocast(enabled=(scaler is not None)):\n"
          ]
        },
        {
          "metadata": {
            "tags": null
          },
          "name": "stdout",
          "output_type": "stream",
          "text": [
            "Epoch 9/60 TrainLoss 1.0168 Acc 0.6553 | ValLoss 0.8450 Acc 0.7409 MacroF1 0.7398\n"
          ]
        },
        {
          "metadata": {
            "tags": null
          },
          "name": "stderr",
          "output_type": "stream",
          "text": [
            "/tmp/ipython-input-3277605883.py:26: FutureWarning: `torch.cuda.amp.autocast(args...)` is deprecated. Please use `torch.amp.autocast('cuda', args...)` instead.\n",
            "  with autocast(enabled=(scaler is not None)):\n"
          ]
        },
        {
          "output_type": "stream",
          "name": "stdout",
          "text": [
            "Epoch 10/60 TrainLoss 1.0144 Acc 0.6574 | ValLoss 0.8734 Acc 0.7102 MacroF1 0.7130\n"
          ]
        },
        {
          "output_type": "stream",
          "name": "stderr",
          "text": [
            "/tmp/ipython-input-3277605883.py:26: FutureWarning: `torch.cuda.amp.autocast(args...)` is deprecated. Please use `torch.amp.autocast('cuda', args...)` instead.\n",
            "  with autocast(enabled=(scaler is not None)):\n"
          ]
        },
        {
          "output_type": "stream",
          "name": "stdout",
          "text": [
            "Epoch 11/60 TrainLoss 0.9855 Acc 0.6735 | ValLoss 0.8321 Acc 0.7340 MacroF1 0.7357\n"
          ]
        },
        {
          "output_type": "stream",
          "name": "stderr",
          "text": [
            "/tmp/ipython-input-3277605883.py:26: FutureWarning: `torch.cuda.amp.autocast(args...)` is deprecated. Please use `torch.amp.autocast('cuda', args...)` instead.\n",
            "  with autocast(enabled=(scaler is not None)):\n"
          ]
        },
        {
          "output_type": "stream",
          "name": "stdout",
          "text": [
            "Epoch 12/60 TrainLoss 1.0088 Acc 0.6583 | ValLoss 0.8301 Acc 0.7429 MacroF1 0.7438\n"
          ]
        },
        {
          "output_type": "stream",
          "name": "stderr",
          "text": [
            "/tmp/ipython-input-3277605883.py:26: FutureWarning: `torch.cuda.amp.autocast(args...)` is deprecated. Please use `torch.amp.autocast('cuda', args...)` instead.\n",
            "  with autocast(enabled=(scaler is not None)):\n"
          ]
        },
        {
          "output_type": "stream",
          "name": "stdout",
          "text": [
            "Epoch 13/60 TrainLoss 0.9759 Acc 0.6782 | ValLoss 0.8141 Acc 0.7422 MacroF1 0.7435\n"
          ]
        },
        {
          "output_type": "stream",
          "name": "stderr",
          "text": [
            "/tmp/ipython-input-3277605883.py:26: FutureWarning: `torch.cuda.amp.autocast(args...)` is deprecated. Please use `torch.amp.autocast('cuda', args...)` instead.\n",
            "  with autocast(enabled=(scaler is not None)):\n"
          ]
        },
        {
          "output_type": "stream",
          "name": "stdout",
          "text": [
            "Epoch 14/60 TrainLoss 0.9822 Acc 0.6741 | ValLoss 0.8351 Acc 0.7424 MacroF1 0.7440\n"
          ]
        },
        {
          "output_type": "stream",
          "name": "stderr",
          "text": [
            "/tmp/ipython-input-3277605883.py:26: FutureWarning: `torch.cuda.amp.autocast(args...)` is deprecated. Please use `torch.amp.autocast('cuda', args...)` instead.\n",
            "  with autocast(enabled=(scaler is not None)):\n"
          ]
        },
        {
          "output_type": "stream",
          "name": "stdout",
          "text": [
            "Epoch 15/60 TrainLoss 0.9436 Acc 0.6937 | ValLoss 0.8418 Acc 0.7288 MacroF1 0.7291\n"
          ]
        },
        {
          "output_type": "stream",
          "name": "stderr",
          "text": [
            "/tmp/ipython-input-3277605883.py:26: FutureWarning: `torch.cuda.amp.autocast(args...)` is deprecated. Please use `torch.amp.autocast('cuda', args...)` instead.\n",
            "  with autocast(enabled=(scaler is not None)):\n"
          ]
        },
        {
          "output_type": "stream",
          "name": "stdout",
          "text": [
            "Epoch 16/60 TrainLoss 0.9480 Acc 0.6947 | ValLoss 0.8266 Acc 0.7444 MacroF1 0.7440\n"
          ]
        },
        {
          "output_type": "stream",
          "name": "stderr",
          "text": [
            "/tmp/ipython-input-3277605883.py:26: FutureWarning: `torch.cuda.amp.autocast(args...)` is deprecated. Please use `torch.amp.autocast('cuda', args...)` instead.\n",
            "  with autocast(enabled=(scaler is not None)):\n"
          ]
        },
        {
          "output_type": "stream",
          "name": "stdout",
          "text": [
            "Epoch 17/60 TrainLoss 0.9456 Acc 0.6948 | ValLoss 0.8535 Acc 0.7365 MacroF1 0.7366\n"
          ]
        },
        {
          "output_type": "stream",
          "name": "stderr",
          "text": [
            "/tmp/ipython-input-3277605883.py:26: FutureWarning: `torch.cuda.amp.autocast(args...)` is deprecated. Please use `torch.amp.autocast('cuda', args...)` instead.\n",
            "  with autocast(enabled=(scaler is not None)):\n"
          ]
        },
        {
          "output_type": "stream",
          "name": "stdout",
          "text": [
            "Epoch 18/60 TrainLoss 0.9407 Acc 0.6946 | ValLoss 0.8514 Acc 0.7337 MacroF1 0.7355\n"
          ]
        },
        {
          "output_type": "stream",
          "name": "stderr",
          "text": [
            "/tmp/ipython-input-3277605883.py:26: FutureWarning: `torch.cuda.amp.autocast(args...)` is deprecated. Please use `torch.amp.autocast('cuda', args...)` instead.\n",
            "  with autocast(enabled=(scaler is not None)):\n"
          ]
        },
        {
          "output_type": "stream",
          "name": "stdout",
          "text": [
            "Epoch 19/60 TrainLoss 0.9203 Acc 0.7060 | ValLoss 0.8223 Acc 0.7429 MacroF1 0.7449\n"
          ]
        },
        {
          "output_type": "stream",
          "name": "stderr",
          "text": [
            "/tmp/ipython-input-3277605883.py:26: FutureWarning: `torch.cuda.amp.autocast(args...)` is deprecated. Please use `torch.amp.autocast('cuda', args...)` instead.\n",
            "  with autocast(enabled=(scaler is not None)):\n"
          ]
        },
        {
          "output_type": "stream",
          "name": "stdout",
          "text": [
            "Epoch 20/60 TrainLoss 0.9342 Acc 0.7000 | ValLoss 0.8213 Acc 0.7496 MacroF1 0.7491\n"
          ]
        },
        {
          "output_type": "stream",
          "name": "stderr",
          "text": [
            "/tmp/ipython-input-3277605883.py:26: FutureWarning: `torch.cuda.amp.autocast(args...)` is deprecated. Please use `torch.amp.autocast('cuda', args...)` instead.\n",
            "  with autocast(enabled=(scaler is not None)):\n"
          ]
        },
        {
          "output_type": "stream",
          "name": "stdout",
          "text": [
            "Epoch 21/60 TrainLoss 0.9068 Acc 0.7156 | ValLoss 0.8501 Acc 0.7395 MacroF1 0.7404\n"
          ]
        },
        {
          "output_type": "stream",
          "name": "stderr",
          "text": [
            "/tmp/ipython-input-3277605883.py:26: FutureWarning: `torch.cuda.amp.autocast(args...)` is deprecated. Please use `torch.amp.autocast('cuda', args...)` instead.\n",
            "  with autocast(enabled=(scaler is not None)):\n"
          ]
        },
        {
          "output_type": "stream",
          "name": "stdout",
          "text": [
            "Epoch 22/60 TrainLoss 0.8937 Acc 0.7215 | ValLoss 0.8283 Acc 0.7427 MacroF1 0.7447\n"
          ]
        },
        {
          "output_type": "stream",
          "name": "stderr",
          "text": [
            "/tmp/ipython-input-3277605883.py:26: FutureWarning: `torch.cuda.amp.autocast(args...)` is deprecated. Please use `torch.amp.autocast('cuda', args...)` instead.\n",
            "  with autocast(enabled=(scaler is not None)):\n"
          ]
        },
        {
          "output_type": "stream",
          "name": "stdout",
          "text": [
            "Epoch 23/60 TrainLoss 0.8999 Acc 0.7197 | ValLoss 0.8478 Acc 0.7449 MacroF1 0.7466\n"
          ]
        },
        {
          "output_type": "stream",
          "name": "stderr",
          "text": [
            "/tmp/ipython-input-3277605883.py:26: FutureWarning: `torch.cuda.amp.autocast(args...)` is deprecated. Please use `torch.amp.autocast('cuda', args...)` instead.\n",
            "  with autocast(enabled=(scaler is not None)):\n"
          ]
        },
        {
          "output_type": "stream",
          "name": "stdout",
          "text": [
            "Epoch 24/60 TrainLoss 0.9079 Acc 0.7148 | ValLoss 0.8271 Acc 0.7496 MacroF1 0.7486\n"
          ]
        },
        {
          "output_type": "stream",
          "name": "stderr",
          "text": [
            "/tmp/ipython-input-3277605883.py:26: FutureWarning: `torch.cuda.amp.autocast(args...)` is deprecated. Please use `torch.amp.autocast('cuda', args...)` instead.\n",
            "  with autocast(enabled=(scaler is not None)):\n"
          ]
        },
        {
          "output_type": "stream",
          "name": "stdout",
          "text": [
            "Epoch 25/60 TrainLoss 0.8817 Acc 0.7269 | ValLoss 0.8308 Acc 0.7494 MacroF1 0.7501\n"
          ]
        },
        {
          "output_type": "stream",
          "name": "stderr",
          "text": [
            "/tmp/ipython-input-3277605883.py:26: FutureWarning: `torch.cuda.amp.autocast(args...)` is deprecated. Please use `torch.amp.autocast('cuda', args...)` instead.\n",
            "  with autocast(enabled=(scaler is not None)):\n"
          ]
        },
        {
          "output_type": "stream",
          "name": "stdout",
          "text": [
            "Epoch 26/60 TrainLoss 0.8900 Acc 0.7244 | ValLoss 0.8507 Acc 0.7392 MacroF1 0.7403\n"
          ]
        },
        {
          "output_type": "stream",
          "name": "stderr",
          "text": [
            "/tmp/ipython-input-3277605883.py:26: FutureWarning: `torch.cuda.amp.autocast(args...)` is deprecated. Please use `torch.amp.autocast('cuda', args...)` instead.\n",
            "  with autocast(enabled=(scaler is not None)):\n"
          ]
        },
        {
          "output_type": "stream",
          "name": "stdout",
          "text": [
            "Epoch 27/60 TrainLoss 0.8697 Acc 0.7351 | ValLoss 0.8213 Acc 0.7404 MacroF1 0.7384\n"
          ]
        },
        {
          "output_type": "stream",
          "name": "stderr",
          "text": [
            "/tmp/ipython-input-3277605883.py:26: FutureWarning: `torch.cuda.amp.autocast(args...)` is deprecated. Please use `torch.amp.autocast('cuda', args...)` instead.\n",
            "  with autocast(enabled=(scaler is not None)):\n"
          ]
        },
        {
          "output_type": "stream",
          "name": "stdout",
          "text": [
            "Epoch 28/60 TrainLoss 0.8766 Acc 0.7299 | ValLoss 0.8282 Acc 0.7432 MacroF1 0.7428\n"
          ]
        },
        {
          "output_type": "stream",
          "name": "stderr",
          "text": [
            "/tmp/ipython-input-3277605883.py:26: FutureWarning: `torch.cuda.amp.autocast(args...)` is deprecated. Please use `torch.amp.autocast('cuda', args...)` instead.\n",
            "  with autocast(enabled=(scaler is not None)):\n"
          ]
        },
        {
          "output_type": "stream",
          "name": "stdout",
          "text": [
            "Epoch 29/60 TrainLoss 0.8853 Acc 0.7238 | ValLoss 0.8439 Acc 0.7397 MacroF1 0.7394\n"
          ]
        },
        {
          "output_type": "stream",
          "name": "stderr",
          "text": [
            "/tmp/ipython-input-3277605883.py:26: FutureWarning: `torch.cuda.amp.autocast(args...)` is deprecated. Please use `torch.amp.autocast('cuda', args...)` instead.\n",
            "  with autocast(enabled=(scaler is not None)):\n"
          ]
        },
        {
          "output_type": "stream",
          "name": "stdout",
          "text": [
            "Epoch 30/60 TrainLoss 0.8552 Acc 0.7431 | ValLoss 0.8101 Acc 0.7509 MacroF1 0.7512\n"
          ]
        },
        {
          "output_type": "stream",
          "name": "stderr",
          "text": [
            "/tmp/ipython-input-3277605883.py:26: FutureWarning: `torch.cuda.amp.autocast(args...)` is deprecated. Please use `torch.amp.autocast('cuda', args...)` instead.\n",
            "  with autocast(enabled=(scaler is not None)):\n"
          ]
        },
        {
          "output_type": "stream",
          "name": "stdout",
          "text": [
            "Epoch 31/60 TrainLoss 0.8636 Acc 0.7353 | ValLoss 0.8271 Acc 0.7429 MacroF1 0.7411\n"
          ]
        },
        {
          "output_type": "stream",
          "name": "stderr",
          "text": [
            "/tmp/ipython-input-3277605883.py:26: FutureWarning: `torch.cuda.amp.autocast(args...)` is deprecated. Please use `torch.amp.autocast('cuda', args...)` instead.\n",
            "  with autocast(enabled=(scaler is not None)):\n"
          ]
        },
        {
          "output_type": "stream",
          "name": "stdout",
          "text": [
            "Epoch 32/60 TrainLoss 0.8391 Acc 0.7488 | ValLoss 0.8305 Acc 0.7365 MacroF1 0.7377\n"
          ]
        },
        {
          "output_type": "stream",
          "name": "stderr",
          "text": [
            "/tmp/ipython-input-3277605883.py:26: FutureWarning: `torch.cuda.amp.autocast(args...)` is deprecated. Please use `torch.amp.autocast('cuda', args...)` instead.\n",
            "  with autocast(enabled=(scaler is not None)):\n"
          ]
        },
        {
          "output_type": "stream",
          "name": "stdout",
          "text": [
            "Epoch 33/60 TrainLoss 0.8475 Acc 0.7464 | ValLoss 0.8190 Acc 0.7494 MacroF1 0.7506\n"
          ]
        },
        {
          "output_type": "stream",
          "name": "stderr",
          "text": [
            "/tmp/ipython-input-3277605883.py:26: FutureWarning: `torch.cuda.amp.autocast(args...)` is deprecated. Please use `torch.amp.autocast('cuda', args...)` instead.\n",
            "  with autocast(enabled=(scaler is not None)):\n"
          ]
        },
        {
          "output_type": "stream",
          "name": "stdout",
          "text": [
            "Epoch 34/60 TrainLoss 0.8407 Acc 0.7492 | ValLoss 0.8637 Acc 0.7305 MacroF1 0.7316\n"
          ]
        },
        {
          "output_type": "stream",
          "name": "stderr",
          "text": [
            "/tmp/ipython-input-3277605883.py:26: FutureWarning: `torch.cuda.amp.autocast(args...)` is deprecated. Please use `torch.amp.autocast('cuda', args...)` instead.\n",
            "  with autocast(enabled=(scaler is not None)):\n"
          ]
        },
        {
          "output_type": "stream",
          "name": "stdout",
          "text": [
            "Epoch 35/60 TrainLoss 0.8514 Acc 0.7449 | ValLoss 0.8319 Acc 0.7390 MacroF1 0.7402\n"
          ]
        },
        {
          "output_type": "stream",
          "name": "stderr",
          "text": [
            "/tmp/ipython-input-3277605883.py:26: FutureWarning: `torch.cuda.amp.autocast(args...)` is deprecated. Please use `torch.amp.autocast('cuda', args...)` instead.\n",
            "  with autocast(enabled=(scaler is not None)):\n"
          ]
        },
        {
          "output_type": "stream",
          "name": "stdout",
          "text": [
            "Epoch 36/60 TrainLoss 0.8420 Acc 0.7502 | ValLoss 0.8221 Acc 0.7563 MacroF1 0.7560\n"
          ]
        },
        {
          "output_type": "stream",
          "name": "stderr",
          "text": [
            "/tmp/ipython-input-3277605883.py:26: FutureWarning: `torch.cuda.amp.autocast(args...)` is deprecated. Please use `torch.amp.autocast('cuda', args...)` instead.\n",
            "  with autocast(enabled=(scaler is not None)):\n"
          ]
        },
        {
          "output_type": "stream",
          "name": "stdout",
          "text": [
            "Epoch 37/60 TrainLoss 0.8483 Acc 0.7461 | ValLoss 0.8356 Acc 0.7400 MacroF1 0.7394\n"
          ]
        },
        {
          "output_type": "stream",
          "name": "stderr",
          "text": [
            "/tmp/ipython-input-3277605883.py:26: FutureWarning: `torch.cuda.amp.autocast(args...)` is deprecated. Please use `torch.amp.autocast('cuda', args...)` instead.\n",
            "  with autocast(enabled=(scaler is not None)):\n"
          ]
        },
        {
          "output_type": "stream",
          "name": "stdout",
          "text": [
            "Epoch 38/60 TrainLoss 0.8265 Acc 0.7561 | ValLoss 0.8337 Acc 0.7459 MacroF1 0.7440\n"
          ]
        },
        {
          "output_type": "stream",
          "name": "stderr",
          "text": [
            "/tmp/ipython-input-3277605883.py:26: FutureWarning: `torch.cuda.amp.autocast(args...)` is deprecated. Please use `torch.amp.autocast('cuda', args...)` instead.\n",
            "  with autocast(enabled=(scaler is not None)):\n"
          ]
        },
        {
          "output_type": "stream",
          "name": "stdout",
          "text": [
            "Epoch 39/60 TrainLoss 0.8121 Acc 0.7647 | ValLoss 0.8421 Acc 0.7457 MacroF1 0.7462\n"
          ]
        },
        {
          "output_type": "stream",
          "name": "stderr",
          "text": [
            "/tmp/ipython-input-3277605883.py:26: FutureWarning: `torch.cuda.amp.autocast(args...)` is deprecated. Please use `torch.amp.autocast('cuda', args...)` instead.\n",
            "  with autocast(enabled=(scaler is not None)):\n"
          ]
        },
        {
          "output_type": "stream",
          "name": "stdout",
          "text": [
            "Epoch 40/60 TrainLoss 0.8212 Acc 0.7579 | ValLoss 0.8281 Acc 0.7476 MacroF1 0.7485\n"
          ]
        },
        {
          "output_type": "stream",
          "name": "stderr",
          "text": [
            "/tmp/ipython-input-3277605883.py:26: FutureWarning: `torch.cuda.amp.autocast(args...)` is deprecated. Please use `torch.amp.autocast('cuda', args...)` instead.\n",
            "  with autocast(enabled=(scaler is not None)):\n"
          ]
        },
        {
          "output_type": "stream",
          "name": "stdout",
          "text": [
            "Epoch 41/60 TrainLoss 0.8386 Acc 0.7517 | ValLoss 0.8451 Acc 0.7474 MacroF1 0.7484\n"
          ]
        },
        {
          "output_type": "stream",
          "name": "stderr",
          "text": [
            "/tmp/ipython-input-3277605883.py:26: FutureWarning: `torch.cuda.amp.autocast(args...)` is deprecated. Please use `torch.amp.autocast('cuda', args...)` instead.\n",
            "  with autocast(enabled=(scaler is not None)):\n"
          ]
        },
        {
          "output_type": "stream",
          "name": "stdout",
          "text": [
            "Epoch 42/60 TrainLoss 0.8271 Acc 0.7558 | ValLoss 0.8609 Acc 0.7414 MacroF1 0.7439\n"
          ]
        },
        {
          "output_type": "stream",
          "name": "stderr",
          "text": [
            "/tmp/ipython-input-3277605883.py:26: FutureWarning: `torch.cuda.amp.autocast(args...)` is deprecated. Please use `torch.amp.autocast('cuda', args...)` instead.\n",
            "  with autocast(enabled=(scaler is not None)):\n"
          ]
        },
        {
          "output_type": "stream",
          "name": "stdout",
          "text": [
            "Epoch 43/60 TrainLoss 0.8125 Acc 0.7615 | ValLoss 0.8354 Acc 0.7414 MacroF1 0.7433\n"
          ]
        },
        {
          "output_type": "stream",
          "name": "stderr",
          "text": [
            "/tmp/ipython-input-3277605883.py:26: FutureWarning: `torch.cuda.amp.autocast(args...)` is deprecated. Please use `torch.amp.autocast('cuda', args...)` instead.\n",
            "  with autocast(enabled=(scaler is not None)):\n"
          ]
        },
        {
          "output_type": "stream",
          "name": "stdout",
          "text": [
            "Epoch 44/60 TrainLoss 0.8098 Acc 0.7646 | ValLoss 0.8341 Acc 0.7531 MacroF1 0.7519\n",
            "Early stopping triggered.\n",
            "Best macro_f1 = 0.756012536434967\n"
          ]
        }
      ]
    },
    {
      "cell_type": "code",
      "source": [
        "# Cell 15: Plot Curves\n",
        "\n",
        "epochs_r = range(1, len(history[\"train_loss\"]) + 1)\n",
        "plt.figure(figsize=(12,5))\n",
        "plt.subplot(1,2,1)\n",
        "plt.plot(epochs_r, history[\"train_loss\"], label='TrainLoss')\n",
        "plt.plot(epochs_r, history[\"val_loss\"], label='ValLoss')\n",
        "plt.legend(); plt.title(\"Loss\")\n",
        "plt.subplot(1,2,2)\n",
        "plt.plot(epochs_r, history[\"train_acc\"], label='TrainAcc')\n",
        "plt.plot(epochs_r, history[\"val_acc\"], label='ValAcc')\n",
        "plt.plot(epochs_r, history[\"val_macro_f1\"], label='ValMacroF1')\n",
        "plt.legend(); plt.title(\"Accuracy & MacroF1\")\n",
        "plt.tight_layout()\n",
        "plt.show()"
      ],
      "metadata": {
        "colab": {
          "base_uri": "https://localhost:8080/",
          "height": 507
        },
        "id": "PFD3yljLspCH",
        "outputId": "487bd2e5-7b51-4734-fabc-4db2f5b374f8"
      },
      "execution_count": 30,
      "outputs": [
        {
          "output_type": "display_data",
          "data": {
            "text/plain": [
              "<Figure size 1200x500 with 2 Axes>"
            ],
            "image/png": "[encoded data removed]"
          },
          "metadata": {}
        }
      ]
    },
    {
      "cell_type": "code",
      "source": [
        "# Cell 16: Test Evaluation\n",
        "\n",
        "ART_DIR = PROJECT_ROOT / cfg.out_dir\n",
        "best_ckpt_path = ART_DIR / \"best_model_checkpoint.pth\"\n",
        "if best_ckpt_path.exists():\n",
        "    best_state_loaded = torch.load(best_ckpt_path, map_location=device)\n",
        "    model.load_state_dict(best_state_loaded[\"model\"])\n",
        "    print(\"Loaded best model from epoch\", best_state_loaded[\"epoch\"])\n",
        "else:\n",
        "    print(\"Best checkpoint not found, using current model.\")\n",
        "\n",
        "test_loss, test_acc, test_macro_f1, test_preds, test_targets = evaluate(\n",
        "    model, test_loader, device, criterion, arcface=cfg.arcface\n",
        ")\n",
        "print(f\"Test Loss {test_loss:.4f} Acc {test_acc:.4f} MacroF1 {test_macro_f1:.4f}\")\n",
        "\n",
        "print(\"\\nClassification Report:\")\n",
        "print(classification_report(test_targets, test_preds, target_names=CLASSES, digits=4))\n",
        "\n",
        "cm = confusion_matrix(test_targets, test_preds)\n",
        "plt.figure(figsize=(6,5))\n",
        "sns.heatmap(cm, annot=True, fmt='d', cmap='Blues',\n",
        "            xticklabels=CLASSES, yticklabels=CLASSES)\n",
        "plt.xlabel(\"Predicted\")\n",
        "plt.ylabel(\"True\")\n",
        "plt.title(\"Confusion Matrix\")\n",
        "plt.show()"
      ],
      "metadata": {
        "colab": {
          "base_uri": "https://localhost:8080/",
          "height": 765
        },
        "id": "i-btXP1PsqsM",
        "outputId": "da963ef1-19ed-4abd-dbae-5b1b9dbe02de"
      },
      "execution_count": 31,
      "outputs": [
        {
          "output_type": "stream",
          "name": "stdout",
          "text": [
            "Loaded best model from epoch 35\n",
            "Test Loss 0.8071 Acc 0.7592 MacroF1 0.7582\n",
            "\n",
            "Classification Report:\n",
            "              precision    recall  f1-score   support\n",
            "\n",
            "       angry     0.7363    0.6667    0.6997       201\n",
            "       happy     0.8578    0.8706    0.8642       201\n",
            "     neutral     0.6942    0.7114    0.7027       201\n",
            "         sad     0.6552    0.6617    0.6584       201\n",
            "    surprise     0.8476    0.8856    0.8662       201\n",
            "\n",
            "    accuracy                         0.7592      1005\n",
            "   macro avg     0.7582    0.7592    0.7582      1005\n",
            "weighted avg     0.7582    0.7592    0.7582      1005\n",
            "\n"
          ]
        },
        {
          "output_type": "display_data",
          "data": {
            "text/plain": [
              "<Figure size 600x500 with 2 Axes>"
            ],
            "image/png": "[encoded data removed]"
          },
          "metadata": {}
        }
      ]
    },
    {
      "cell_type": "code",
      "source": [
        "# Cell 17: Save Artifacts\n",
        "\n",
        "ART_DIR = PROJECT_ROOT / cfg.out_dir\n",
        "ART_DIR.mkdir(parents=True, exist_ok=True)\n",
        "\n",
        "torch.save(model.state_dict(), ART_DIR / \"final_model.pth\")\n",
        "with open(ART_DIR / \"history.json\", \"w\") as f:\n",
        "    json.dump(history, f, indent=2)\n",
        "\n",
        "print(\"Saved:\")\n",
        "print(\" -\", ART_DIR / \"final_model.pth\")\n",
        "print(\" -\", ART_DIR / \"history.json\")"
      ],
      "metadata": {
        "colab": {
          "base_uri": "https://localhost:8080/"
        },
        "id": "grhwDOpYstRz",
        "outputId": "1e71346c-d3d1-4ec0-b01f-27f5e9597614"
      },
      "execution_count": 32,
      "outputs": [
        {
          "output_type": "stream",
          "name": "stdout",
          "text": [
            "Saved:\n",
            " - /content/ann-visual-emotion/artifacts/final_model.pth\n",
            " - /content/ann-visual-emotion/artifacts/history.json\n"
          ]
        }
      ]
    },
    {
      "cell_type": "code",
      "source": [
        "# Cell 18: TTA Inference Helper\n",
        "\n",
        "@torch.no_grad()\n",
        "def predict_tta(pil_img, model=None, transform=None, device=device, arcface=cfg.arcface):\n",
        "    if model is None:\n",
        "        model = EmotionModel(NUM_CLASSES,\n",
        "                             backbone=cfg.backbone,\n",
        "                             arcface=cfg.arcface,\n",
        "                             arc_s=cfg.arc_s,\n",
        "                             arc_m=cfg.arc_m).to(device)\n",
        "        state = torch.load(PROJECT_ROOT / cfg.out_dir / \"best_model_checkpoint.pth\", map_location=device)\n",
        "        model.load_state_dict(state[\"model\"])\n",
        "        model.eval()\n",
        "\n",
        "    if transform is None:\n",
        "        transform = val_tf\n",
        "\n",
        "    variants = []\n",
        "    base = transform(pil_img)\n",
        "    variants.append(base)\n",
        "    variants.append(torch.flip(base, dims=[2]))  # H-flip\n",
        "\n",
        "    batch = torch.stack(variants).to(device)\n",
        "    if arcface:\n",
        "        dummy = torch.zeros(batch.size(0), dtype=torch.long, device=device)\n",
        "        logits = model(batch, dummy)\n",
        "    else:\n",
        "        logits = model(batch)\n",
        "    probs = F.softmax(logits, dim=1).mean(0).cpu().numpy()\n",
        "    return probs"
      ],
      "metadata": {
        "id": "4YYNdw_Xsvdq"
      },
      "execution_count": 33,
      "outputs": []
    },
    {
      "cell_type": "code",
      "source": [
        "# Cell 19: Single Image Prediction\n",
        "\n",
        "@torch.no_grad()\n",
        "def predict_image(img_path: str):\n",
        "    from PIL import Image\n",
        "    p = Path(img_path)\n",
        "    if not p.exists():\n",
        "        raise FileNotFoundError(p)\n",
        "    model_local = EmotionModel(NUM_CLASSES,\n",
        "                               backbone=cfg.backbone,\n",
        "                               arcface=cfg.arcface,\n",
        "                               arc_s=cfg.arc_s,\n",
        "                               arc_m=cfg.arc_m).to(device)\n",
        "    state = torch.load(PROJECT_ROOT / cfg.out_dir / \"best_model_checkpoint.pth\", map_location=device)\n",
        "    model_local.load_state_dict(state[\"model\"])\n",
        "    model_local.eval()\n",
        "\n",
        "    with Image.open(p) as img:\n",
        "        img = img.convert(\"RGB\")\n",
        "    t = val_tf(img).unsqueeze(0).to(device)\n",
        "    if cfg.arcface:\n",
        "        dummy = torch.zeros(1, dtype=torch.long, device=device)\n",
        "        logits = model_local(t, dummy)\n",
        "    else:\n",
        "        logits = model_local(t)\n",
        "    probs = F.softmax(logits, dim=1).cpu().numpy()[0]\n",
        "    pred_idx = probs.argmax()\n",
        "    return {\n",
        "        \"pred_class\": CLASSES[pred_idx],\n",
        "        \"probs\": {CLASSES[i]: float(probs[i]) for i in range(len(CLASSES))}\n",
        "    }\n",
        "\n",
        "# Example usage (uncomment with a real image path):\n",
        "# result = predict_image(str(DATA_DIR / 'some_image.jpg'))\n",
        "# result"
      ],
      "metadata": {
        "id": "y8Fjj7IEsxH3"
      },
      "execution_count": 34,
      "outputs": []
    }
  ],
  "metadata": {
    "accelerator": "GPU",
    "colab": {
      "gpuType": "T4",
      "provenance": []
    },
    "kernelspec": {
      "display_name": "Python 3",
      "name": "python3"
    },
    "language_info": {
      "codemirror_mode": {
        "name": "ipython",
        "version": 3
      },
      "file_extension": ".py",
      "mimetype": "text/x-python",
      "name": "python",
      "nbconvert_exporter": "python",
      "pygments_lexer": "ipython3",
      "version": "3.8.5"
    }
  },
  "nbformat": 4,
  "nbformat_minor": 0
}