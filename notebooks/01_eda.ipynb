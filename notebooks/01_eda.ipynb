{
 "cells": [
  {
   "cell_type": "markdown",
   "id": "2caf8ed7",
   "metadata": {},
   "source": [
    "# Emotion Dataset — EDA & Preprocessing Checks\n",
    "\n",
    "This notebook inspects split sizes and class balance, validates image paths, and previews a few images.\n"
   ]
  },
  {
   "cell_type": "code",
   "execution_count": 6,
   "id": "fb0ff9cf",
   "metadata": {},
   "outputs": [],
   "source": [
    "import os\n",
    "import json\n",
    "import pandas as pd \n",
    "import matplotlib.pyplot as plt"
   ]
  },
  {
   "cell_type": "code",
   "execution_count": 15,
   "id": "81c86281",
   "metadata": {},
   "outputs": [],
   "source": [
    "# Paths (adjust if your files live elsewhere)\n",
    "CSV_TRAIN = r\"C:\\Users\\ASUS\\Documents\\ann-visual-emotion\\data\\processed\\EmoSet_splits\\train.csv\"\n",
    "CSV_VAL   = r\"C:\\Users\\ASUS\\Documents\\ann-visual-emotion\\data\\processed\\EmoSet_splits\\val.csv\"\n",
    "CSV_TEST  = r\"C:\\Users\\ASUS\\Documents\\ann-visual-emotion\\data\\processed\\EmoSet_splits\\test.csv\"\n",
    "LABEL_MAP_JSON = r\"C:\\Users\\ASUS\\Documents\\ann-visual-emotion\\data\\processed\\EmoSet_splits\\label_map.json\"\n",
    "STATS_JSON     = r\"C:\\Users\\ASUS\\Documents\\ann-visual-emotion\\data\\processed\\EmoSet_splits\\stats.json\"\n",
    "assert os.path.exists(CSV_TRAIN), f\"Missing {CSV_TRAIN}\"\n",
    "assert os.path.exists(CSV_VAL),   f\"Missing {CSV_VAL}\"\n",
    "assert os.path.exists(CSV_TEST),  f\"Missing {CSV_TEST}\""
   ]
  },
  {
   "cell_type": "code",
   "execution_count": 16,
   "id": "3b8361dc",
   "metadata": {},
   "outputs": [],
   "source": [
    "train_df = pd.read_csv(CSV_TRAIN)\n",
    "val_df   = pd.read_csv(CSV_VAL)\n",
    "test_df  = pd.read_csv(CSV_TEST)"
   ]
  },
  {
   "cell_type": "code",
   "execution_count": 20,
   "id": "e68abeb0",
   "metadata": {},
   "outputs": [
    {
     "data": {
      "text/html": [
       "<div>\n",
       "<style scoped>\n",
       "    .dataframe tbody tr th:only-of-type {\n",
       "        vertical-align: middle;\n",
       "    }\n",
       "\n",
       "    .dataframe tbody tr th {\n",
       "        vertical-align: top;\n",
       "    }\n",
       "\n",
       "    .dataframe thead th {\n",
       "        text-align: right;\n",
       "    }\n",
       "</style>\n",
       "<table border=\"1\" class=\"dataframe\">\n",
       "  <thead>\n",
       "    <tr style=\"text-align: right;\">\n",
       "      <th></th>\n",
       "      <th>image_path</th>\n",
       "      <th>label</th>\n",
       "    </tr>\n",
       "  </thead>\n",
       "  <tbody>\n",
       "    <tr>\n",
       "      <th>0</th>\n",
       "      <td>data/raw/EmoSet/contentment/contentment_09260.jpg</td>\n",
       "      <td>contentment</td>\n",
       "    </tr>\n",
       "    <tr>\n",
       "      <th>1</th>\n",
       "      <td>data/raw/EmoSet/anger/anger_06224.jpg</td>\n",
       "      <td>anger</td>\n",
       "    </tr>\n",
       "    <tr>\n",
       "      <th>2</th>\n",
       "      <td>data/raw/EmoSet/contentment/contentment_03550.jpg</td>\n",
       "      <td>contentment</td>\n",
       "    </tr>\n",
       "    <tr>\n",
       "      <th>3</th>\n",
       "      <td>data/raw/EmoSet/sadness/sadness_08827.jpg</td>\n",
       "      <td>sadness</td>\n",
       "    </tr>\n",
       "    <tr>\n",
       "      <th>4</th>\n",
       "      <td>data/raw/EmoSet/contentment/contentment_09558.jpg</td>\n",
       "      <td>contentment</td>\n",
       "    </tr>\n",
       "  </tbody>\n",
       "</table>\n",
       "</div>"
      ],
      "text/plain": [
       "                                          image_path        label\n",
       "0  data/raw/EmoSet/contentment/contentment_09260.jpg  contentment\n",
       "1              data/raw/EmoSet/anger/anger_06224.jpg        anger\n",
       "2  data/raw/EmoSet/contentment/contentment_03550.jpg  contentment\n",
       "3          data/raw/EmoSet/sadness/sadness_08827.jpg      sadness\n",
       "4  data/raw/EmoSet/contentment/contentment_09558.jpg  contentment"
      ]
     },
     "metadata": {},
     "output_type": "display_data"
    },
    {
     "data": {
      "text/html": [
       "<div>\n",
       "<style scoped>\n",
       "    .dataframe tbody tr th:only-of-type {\n",
       "        vertical-align: middle;\n",
       "    }\n",
       "\n",
       "    .dataframe tbody tr th {\n",
       "        vertical-align: top;\n",
       "    }\n",
       "\n",
       "    .dataframe thead th {\n",
       "        text-align: right;\n",
       "    }\n",
       "</style>\n",
       "<table border=\"1\" class=\"dataframe\">\n",
       "  <thead>\n",
       "    <tr style=\"text-align: right;\">\n",
       "      <th></th>\n",
       "      <th>image_path</th>\n",
       "      <th>label</th>\n",
       "    </tr>\n",
       "  </thead>\n",
       "  <tbody>\n",
       "    <tr>\n",
       "      <th>0</th>\n",
       "      <td>data/raw/EmoSet/amusement/amusement_03323.jpg</td>\n",
       "      <td>amusement</td>\n",
       "    </tr>\n",
       "    <tr>\n",
       "      <th>1</th>\n",
       "      <td>data/raw/EmoSet/contentment/contentment_01769.jpg</td>\n",
       "      <td>contentment</td>\n",
       "    </tr>\n",
       "    <tr>\n",
       "      <th>2</th>\n",
       "      <td>data/raw/EmoSet/excitement/excitement_19925.jpg</td>\n",
       "      <td>excitement</td>\n",
       "    </tr>\n",
       "    <tr>\n",
       "      <th>3</th>\n",
       "      <td>data/raw/EmoSet/amusement/amusement_05206.jpg</td>\n",
       "      <td>amusement</td>\n",
       "    </tr>\n",
       "    <tr>\n",
       "      <th>4</th>\n",
       "      <td>data/raw/EmoSet/contentment/contentment_09125.jpg</td>\n",
       "      <td>contentment</td>\n",
       "    </tr>\n",
       "  </tbody>\n",
       "</table>\n",
       "</div>"
      ],
      "text/plain": [
       "                                          image_path        label\n",
       "0      data/raw/EmoSet/amusement/amusement_03323.jpg    amusement\n",
       "1  data/raw/EmoSet/contentment/contentment_01769.jpg  contentment\n",
       "2    data/raw/EmoSet/excitement/excitement_19925.jpg   excitement\n",
       "3      data/raw/EmoSet/amusement/amusement_05206.jpg    amusement\n",
       "4  data/raw/EmoSet/contentment/contentment_09125.jpg  contentment"
      ]
     },
     "metadata": {},
     "output_type": "display_data"
    },
    {
     "data": {
      "text/html": [
       "<div>\n",
       "<style scoped>\n",
       "    .dataframe tbody tr th:only-of-type {\n",
       "        vertical-align: middle;\n",
       "    }\n",
       "\n",
       "    .dataframe tbody tr th {\n",
       "        vertical-align: top;\n",
       "    }\n",
       "\n",
       "    .dataframe thead th {\n",
       "        text-align: right;\n",
       "    }\n",
       "</style>\n",
       "<table border=\"1\" class=\"dataframe\">\n",
       "  <thead>\n",
       "    <tr style=\"text-align: right;\">\n",
       "      <th></th>\n",
       "      <th>image_path</th>\n",
       "      <th>label</th>\n",
       "    </tr>\n",
       "  </thead>\n",
       "  <tbody>\n",
       "    <tr>\n",
       "      <th>0</th>\n",
       "      <td>data/raw/EmoSet/excitement/excitement_02484.jpg</td>\n",
       "      <td>excitement</td>\n",
       "    </tr>\n",
       "    <tr>\n",
       "      <th>1</th>\n",
       "      <td>data/raw/EmoSet/amusement/amusement_18998.jpg</td>\n",
       "      <td>amusement</td>\n",
       "    </tr>\n",
       "    <tr>\n",
       "      <th>2</th>\n",
       "      <td>data/raw/EmoSet/excitement/excitement_02958.jpg</td>\n",
       "      <td>excitement</td>\n",
       "    </tr>\n",
       "    <tr>\n",
       "      <th>3</th>\n",
       "      <td>data/raw/EmoSet/excitement/excitement_00670.jpg</td>\n",
       "      <td>excitement</td>\n",
       "    </tr>\n",
       "    <tr>\n",
       "      <th>4</th>\n",
       "      <td>data/raw/EmoSet/excitement/excitement_02275.jpg</td>\n",
       "      <td>excitement</td>\n",
       "    </tr>\n",
       "  </tbody>\n",
       "</table>\n",
       "</div>"
      ],
      "text/plain": [
       "                                        image_path       label\n",
       "0  data/raw/EmoSet/excitement/excitement_02484.jpg  excitement\n",
       "1    data/raw/EmoSet/amusement/amusement_18998.jpg   amusement\n",
       "2  data/raw/EmoSet/excitement/excitement_02958.jpg  excitement\n",
       "3  data/raw/EmoSet/excitement/excitement_00670.jpg  excitement\n",
       "4  data/raw/EmoSet/excitement/excitement_02275.jpg  excitement"
      ]
     },
     "metadata": {},
     "output_type": "display_data"
    }
   ],
   "source": [
    "display(train_df.head())\n",
    "display(val_df.head())\n",
    "display(test_df.head())"
   ]
  },
  {
   "cell_type": "code",
   "execution_count": null,
   "id": "986ba4d4",
   "metadata": {},
   "outputs": [
    {
     "name": "stdout",
     "output_type": "stream",
     "text": [
      "Columns in train_df: ['image_path', 'label']\n"
     ]
    },
    {
     "data": {
      "text/html": [
       "<div>\n",
       "<style scoped>\n",
       "    .dataframe tbody tr th:only-of-type {\n",
       "        vertical-align: middle;\n",
       "    }\n",
       "\n",
       "    .dataframe tbody tr th {\n",
       "        vertical-align: top;\n",
       "    }\n",
       "\n",
       "    .dataframe thead th {\n",
       "        text-align: right;\n",
       "    }\n",
       "</style>\n",
       "<table border=\"1\" class=\"dataframe\">\n",
       "  <thead>\n",
       "    <tr style=\"text-align: right;\">\n",
       "      <th></th>\n",
       "      <th>image_path</th>\n",
       "      <th>label</th>\n",
       "    </tr>\n",
       "  </thead>\n",
       "  <tbody>\n",
       "    <tr>\n",
       "      <th>0</th>\n",
       "      <td>data/raw/EmoSet/contentment/contentment_09260.jpg</td>\n",
       "      <td>contentment</td>\n",
       "    </tr>\n",
       "    <tr>\n",
       "      <th>1</th>\n",
       "      <td>data/raw/EmoSet/anger/anger_06224.jpg</td>\n",
       "      <td>anger</td>\n",
       "    </tr>\n",
       "    <tr>\n",
       "      <th>2</th>\n",
       "      <td>data/raw/EmoSet/contentment/contentment_03550.jpg</td>\n",
       "      <td>contentment</td>\n",
       "    </tr>\n",
       "    <tr>\n",
       "      <th>3</th>\n",
       "      <td>data/raw/EmoSet/sadness/sadness_08827.jpg</td>\n",
       "      <td>sadness</td>\n",
       "    </tr>\n",
       "    <tr>\n",
       "      <th>4</th>\n",
       "      <td>data/raw/EmoSet/contentment/contentment_09558.jpg</td>\n",
       "      <td>contentment</td>\n",
       "    </tr>\n",
       "  </tbody>\n",
       "</table>\n",
       "</div>"
      ],
      "text/plain": [
       "                                          image_path        label\n",
       "0  data/raw/EmoSet/contentment/contentment_09260.jpg  contentment\n",
       "1              data/raw/EmoSet/anger/anger_06224.jpg        anger\n",
       "2  data/raw/EmoSet/contentment/contentment_03550.jpg  contentment\n",
       "3          data/raw/EmoSet/sadness/sadness_08827.jpg      sadness\n",
       "4  data/raw/EmoSet/contentment/contentment_09558.jpg  contentment"
      ]
     },
     "execution_count": 21,
     "metadata": {},
     "output_type": "execute_result"
    }
   ],
   "source": []
  },
  {
   "cell_type": "markdown",
   "id": "5a9b9d4f",
   "metadata": {},
   "source": [
    "## Split sizes\n"
   ]
  },
  {
   "cell_type": "code",
   "execution_count": 22,
   "id": "46eb0eaf",
   "metadata": {},
   "outputs": [
    {
     "data": {
      "text/plain": [
       "{'train': 13864, 'val': 1734, 'test': 1734}"
      ]
     },
     "execution_count": 22,
     "metadata": {},
     "output_type": "execute_result"
    }
   ],
   "source": [
    "sizes = {\n",
    "    \"train\": len(train_df),\n",
    "    \"val\":   len(val_df),\n",
    "    \"test\":  len(test_df),\n",
    "}\n",
    "sizes"
   ]
  },
  {
   "cell_type": "code",
   "execution_count": 23,
   "id": "9ec52f08",
   "metadata": {},
   "outputs": [
    {
     "data": {
      "image/png": "[encoded data removed]",
      "text/plain": [
       "<Figure size 640x480 with 1 Axes>"
      ]
     },
     "metadata": {},
     "output_type": "display_data"
    }
   ],
   "source": [
    "# Bar: total per split (matplotlib only, one figure per chart, no styles/colors set)\n",
    "plt.figure()\n",
    "plt.bar(list(sizes.keys()), list(sizes.values()))\n",
    "plt.title(\"Total images per split\")\n",
    "plt.xlabel(\"Split\")\n",
    "plt.ylabel(\"Count\")\n",
    "plt.tight_layout()\n",
    "plt.show()\n"
   ]
  },
  {
   "cell_type": "markdown",
   "id": "49eea1ed",
   "metadata": {},
   "source": [
    "## Class distribution per split\n"
   ]
  },
  {
   "cell_type": "code",
   "execution_count": 24,
   "id": "8462fc96",
   "metadata": {},
   "outputs": [
    {
     "ename": "KeyError",
     "evalue": "'emotion'",
     "output_type": "error",
     "traceback": [
      "\u001b[31m---------------------------------------------------------------------------\u001b[39m",
      "\u001b[31mKeyError\u001b[39m                                  Traceback (most recent call last)",
      "\u001b[36mFile \u001b[39m\u001b[32mc:\\Users\\ASUS\\Documents\\ann-visual-emotion\\.venv\\Lib\\site-packages\\pandas\\core\\indexes\\base.py:3812\u001b[39m, in \u001b[36mIndex.get_loc\u001b[39m\u001b[34m(self, key)\u001b[39m\n\u001b[32m   3811\u001b[39m \u001b[38;5;28;01mtry\u001b[39;00m:\n\u001b[32m-> \u001b[39m\u001b[32m3812\u001b[39m     \u001b[38;5;28;01mreturn\u001b[39;00m \u001b[38;5;28;43mself\u001b[39;49m\u001b[43m.\u001b[49m\u001b[43m_engine\u001b[49m\u001b[43m.\u001b[49m\u001b[43mget_loc\u001b[49m\u001b[43m(\u001b[49m\u001b[43mcasted_key\u001b[49m\u001b[43m)\u001b[49m\n\u001b[32m   3813\u001b[39m \u001b[38;5;28;01mexcept\u001b[39;00m \u001b[38;5;167;01mKeyError\u001b[39;00m \u001b[38;5;28;01mas\u001b[39;00m err:\n",
      "\u001b[36mFile \u001b[39m\u001b[32mpandas/_libs/index.pyx:167\u001b[39m, in \u001b[36mpandas._libs.index.IndexEngine.get_loc\u001b[39m\u001b[34m()\u001b[39m\n",
      "\u001b[36mFile \u001b[39m\u001b[32mpandas/_libs/index.pyx:196\u001b[39m, in \u001b[36mpandas._libs.index.IndexEngine.get_loc\u001b[39m\u001b[34m()\u001b[39m\n",
      "\u001b[36mFile \u001b[39m\u001b[32mpandas/_libs/hashtable_class_helper.pxi:7088\u001b[39m, in \u001b[36mpandas._libs.hashtable.PyObjectHashTable.get_item\u001b[39m\u001b[34m()\u001b[39m\n",
      "\u001b[36mFile \u001b[39m\u001b[32mpandas/_libs/hashtable_class_helper.pxi:7096\u001b[39m, in \u001b[36mpandas._libs.hashtable.PyObjectHashTable.get_item\u001b[39m\u001b[34m()\u001b[39m\n",
      "\u001b[31mKeyError\u001b[39m: 'emotion'",
      "\nThe above exception was the direct cause of the following exception:\n",
      "\u001b[31mKeyError\u001b[39m                                  Traceback (most recent call last)",
      "\u001b[36mCell\u001b[39m\u001b[36m \u001b[39m\u001b[32mIn[24]\u001b[39m\u001b[32m, line 12\u001b[39m\n\u001b[32m      9\u001b[39m     plt.tight_layout()\n\u001b[32m     10\u001b[39m     plt.show()\n\u001b[32m---> \u001b[39m\u001b[32m12\u001b[39m \u001b[43mplot_class_dist\u001b[49m\u001b[43m(\u001b[49m\u001b[43mtrain_df\u001b[49m\u001b[43m,\u001b[49m\u001b[43m \u001b[49m\u001b[33;43m\"\u001b[39;49m\u001b[33;43mtrain\u001b[39;49m\u001b[33;43m\"\u001b[39;49m\u001b[43m)\u001b[49m\n\u001b[32m     13\u001b[39m plot_class_dist(val_df, \u001b[33m\"\u001b[39m\u001b[33mval\u001b[39m\u001b[33m\"\u001b[39m)\n\u001b[32m     14\u001b[39m plot_class_dist(test_df, \u001b[33m\"\u001b[39m\u001b[33mtest\u001b[39m\u001b[33m\"\u001b[39m)\n",
      "\u001b[36mCell\u001b[39m\u001b[36m \u001b[39m\u001b[32mIn[24]\u001b[39m\u001b[32m, line 2\u001b[39m, in \u001b[36mplot_class_dist\u001b[39m\u001b[34m(df, split_name)\u001b[39m\n\u001b[32m      1\u001b[39m \u001b[38;5;28;01mdef\u001b[39;00m\u001b[38;5;250m \u001b[39m\u001b[34mplot_class_dist\u001b[39m(df, split_name):\n\u001b[32m----> \u001b[39m\u001b[32m2\u001b[39m     vc = \u001b[43mdf\u001b[49m\u001b[43m[\u001b[49m\u001b[33;43m'\u001b[39;49m\u001b[33;43memotion\u001b[39;49m\u001b[33;43m'\u001b[39;49m\u001b[43m]\u001b[49m.value_counts().sort_index()\n\u001b[32m      3\u001b[39m     plt.figure()\n\u001b[32m      4\u001b[39m     plt.bar(vc.index.tolist(), vc.values.tolist())\n",
      "\u001b[36mFile \u001b[39m\u001b[32mc:\\Users\\ASUS\\Documents\\ann-visual-emotion\\.venv\\Lib\\site-packages\\pandas\\core\\frame.py:4107\u001b[39m, in \u001b[36mDataFrame.__getitem__\u001b[39m\u001b[34m(self, key)\u001b[39m\n\u001b[32m   4105\u001b[39m \u001b[38;5;28;01mif\u001b[39;00m \u001b[38;5;28mself\u001b[39m.columns.nlevels > \u001b[32m1\u001b[39m:\n\u001b[32m   4106\u001b[39m     \u001b[38;5;28;01mreturn\u001b[39;00m \u001b[38;5;28mself\u001b[39m._getitem_multilevel(key)\n\u001b[32m-> \u001b[39m\u001b[32m4107\u001b[39m indexer = \u001b[38;5;28;43mself\u001b[39;49m\u001b[43m.\u001b[49m\u001b[43mcolumns\u001b[49m\u001b[43m.\u001b[49m\u001b[43mget_loc\u001b[49m\u001b[43m(\u001b[49m\u001b[43mkey\u001b[49m\u001b[43m)\u001b[49m\n\u001b[32m   4108\u001b[39m \u001b[38;5;28;01mif\u001b[39;00m is_integer(indexer):\n\u001b[32m   4109\u001b[39m     indexer = [indexer]\n",
      "\u001b[36mFile \u001b[39m\u001b[32mc:\\Users\\ASUS\\Documents\\ann-visual-emotion\\.venv\\Lib\\site-packages\\pandas\\core\\indexes\\base.py:3819\u001b[39m, in \u001b[36mIndex.get_loc\u001b[39m\u001b[34m(self, key)\u001b[39m\n\u001b[32m   3814\u001b[39m     \u001b[38;5;28;01mif\u001b[39;00m \u001b[38;5;28misinstance\u001b[39m(casted_key, \u001b[38;5;28mslice\u001b[39m) \u001b[38;5;129;01mor\u001b[39;00m (\n\u001b[32m   3815\u001b[39m         \u001b[38;5;28misinstance\u001b[39m(casted_key, abc.Iterable)\n\u001b[32m   3816\u001b[39m         \u001b[38;5;129;01mand\u001b[39;00m \u001b[38;5;28many\u001b[39m(\u001b[38;5;28misinstance\u001b[39m(x, \u001b[38;5;28mslice\u001b[39m) \u001b[38;5;28;01mfor\u001b[39;00m x \u001b[38;5;129;01min\u001b[39;00m casted_key)\n\u001b[32m   3817\u001b[39m     ):\n\u001b[32m   3818\u001b[39m         \u001b[38;5;28;01mraise\u001b[39;00m InvalidIndexError(key)\n\u001b[32m-> \u001b[39m\u001b[32m3819\u001b[39m     \u001b[38;5;28;01mraise\u001b[39;00m \u001b[38;5;167;01mKeyError\u001b[39;00m(key) \u001b[38;5;28;01mfrom\u001b[39;00m\u001b[38;5;250m \u001b[39m\u001b[34;01merr\u001b[39;00m\n\u001b[32m   3820\u001b[39m \u001b[38;5;28;01mexcept\u001b[39;00m \u001b[38;5;167;01mTypeError\u001b[39;00m:\n\u001b[32m   3821\u001b[39m     \u001b[38;5;66;03m# If we have a listlike key, _check_indexing_error will raise\u001b[39;00m\n\u001b[32m   3822\u001b[39m     \u001b[38;5;66;03m#  InvalidIndexError. Otherwise we fall through and re-raise\u001b[39;00m\n\u001b[32m   3823\u001b[39m     \u001b[38;5;66;03m#  the TypeError.\u001b[39;00m\n\u001b[32m   3824\u001b[39m     \u001b[38;5;28mself\u001b[39m._check_indexing_error(key)\n",
      "\u001b[31mKeyError\u001b[39m: 'emotion'"
     ]
    }
   ],
   "source": [
    "def plot_class_dist(df, split_name):\n",
    "    vc = df['emotion'].value_counts().sort_index()\n",
    "    plt.figure()\n",
    "    plt.bar(vc.index.tolist(), vc.values.tolist())\n",
    "    plt.title(f\"Class distribution — {split_name}\")\n",
    "    plt.xlabel(\"Emotion\")\n",
    "    plt.ylabel(\"Count\")\n",
    "    plt.xticks(rotation=45, ha=\"right\")\n",
    "    plt.tight_layout()\n",
    "    plt.show()\n",
    "\n",
    "plot_class_dist(train_df, \"train\")\n",
    "plot_class_dist(val_df, \"val\")\n",
    "plot_class_dist(test_df, \"test\")\n"
   ]
  },
  {
   "cell_type": "code",
   "execution_count": null,
   "id": "53a66ab5",
   "metadata": {},
   "outputs": [],
   "source": []
  }
 ],
 "metadata": {
  "kernelspec": {
   "display_name": ".venv",
   "language": "python",
   "name": "python3"
  },
  "language_info": {
   "codemirror_mode": {
    "name": "ipython",
    "version": 3
   },
   "file_extension": ".py",
   "mimetype": "text/x-python",
   "name": "python",
   "nbconvert_exporter": "python",
   "pygments_lexer": "ipython3",
   "version": "3.13.6"
  }
 },
 "nbformat": 4,
 "nbformat_minor": 5
}
