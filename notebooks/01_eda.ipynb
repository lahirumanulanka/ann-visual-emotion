{
 "cells": [
  {
   "cell_type": "markdown",
   "id": "2caf8ed7",
   "metadata": {},
   "source": [
    "# Emotion Dataset — EDA & Preprocessing Checks\n",
    "\n",
    "This notebook inspects split sizes and class balance, validates image paths, and previews a few images.\n"
   ]
  },
  {
   "cell_type": "code",
   "execution_count": 18,
   "id": "fb0ff9cf",
   "metadata": {},
   "outputs": [],
   "source": [
    "import os\n",
    "import pandas as pd \n",
    "import matplotlib.pyplot as plt"
   ]
  },
  {
   "cell_type": "code",
   "execution_count": 19,
   "id": "81c86281",
   "metadata": {},
   "outputs": [],
   "source": [
    "# Paths (adjust if your files live elsewhere)\n",
    "CSV_TRAIN = \"../data/processed/EmoSet_splits/train.csv\"\n",
    "CSV_VAL   = \"../data/processed/EmoSet_splits/val.csv\"\n",
    "CSV_TEST  = \"../data/processed/EmoSet_splits/test.csv\"\n",
    "LABEL_MAP_JSON = \"../data/processed/EmoSet_splits/label_map.json\"\n",
    "STATS_JSON     = \"../data/processed/EmoSet_splits/stats.json\"   \n",
    "assert os.path.exists(CSV_TRAIN), f\"Missing {CSV_TRAIN}\"\n",
    "assert os.path.exists(CSV_VAL),   f\"Missing {CSV_VAL}\"\n",
    "assert os.path.exists(CSV_TEST),  f\"Missing {CSV_TEST}\""
   ]
  },
  {
   "cell_type": "code",
   "execution_count": 20,
   "id": "3b8361dc",
   "metadata": {},
   "outputs": [],
   "source": [
    "train_df = pd.read_csv(CSV_TRAIN)\n",
    "val_df   = pd.read_csv(CSV_VAL)\n",
    "test_df  = pd.read_csv(CSV_TEST)"
   ]
  },
  {
   "cell_type": "code",
   "execution_count": 21,
   "id": "e68abeb0",
   "metadata": {},
   "outputs": [
    {
     "data": {
      "text/html": [
       "<div>\n",
       "<style scoped>\n",
       "    .dataframe tbody tr th:only-of-type {\n",
       "        vertical-align: middle;\n",
       "    }\n",
       "\n",
       "    .dataframe tbody tr th {\n",
       "        vertical-align: top;\n",
       "    }\n",
       "\n",
       "    .dataframe thead th {\n",
       "        text-align: right;\n",
       "    }\n",
       "</style>\n",
       "<table border=\"1\" class=\"dataframe\">\n",
       "  <thead>\n",
       "    <tr style=\"text-align: right;\">\n",
       "      <th></th>\n",
       "      <th>filepath</th>\n",
       "      <th>label</th>\n",
       "      <th>label_id</th>\n",
       "      <th>split</th>\n",
       "    </tr>\n",
       "  </thead>\n",
       "  <tbody>\n",
       "    <tr>\n",
       "      <th>0</th>\n",
       "      <td>train/angry/14147.jpg</td>\n",
       "      <td>angry</td>\n",
       "      <td>0</td>\n",
       "      <td>train</td>\n",
       "    </tr>\n",
       "    <tr>\n",
       "      <th>1</th>\n",
       "      <td>train/angry/24084.jpg</td>\n",
       "      <td>angry</td>\n",
       "      <td>0</td>\n",
       "      <td>train</td>\n",
       "    </tr>\n",
       "    <tr>\n",
       "      <th>2</th>\n",
       "      <td>train/angry/823.jpg</td>\n",
       "      <td>angry</td>\n",
       "      <td>0</td>\n",
       "      <td>train</td>\n",
       "    </tr>\n",
       "    <tr>\n",
       "      <th>3</th>\n",
       "      <td>train/angry/19463.jpg</td>\n",
       "      <td>angry</td>\n",
       "      <td>0</td>\n",
       "      <td>train</td>\n",
       "    </tr>\n",
       "    <tr>\n",
       "      <th>4</th>\n",
       "      <td>train/angry/30797.jpg</td>\n",
       "      <td>angry</td>\n",
       "      <td>0</td>\n",
       "      <td>train</td>\n",
       "    </tr>\n",
       "  </tbody>\n",
       "</table>\n",
       "</div>"
      ],
      "text/plain": [
       "                filepath  label  label_id  split\n",
       "0  train/angry/14147.jpg  angry         0  train\n",
       "1  train/angry/24084.jpg  angry         0  train\n",
       "2    train/angry/823.jpg  angry         0  train\n",
       "3  train/angry/19463.jpg  angry         0  train\n",
       "4  train/angry/30797.jpg  angry         0  train"
      ]
     },
     "metadata": {},
     "output_type": "display_data"
    },
    {
     "data": {
      "text/html": [
       "<div>\n",
       "<style scoped>\n",
       "    .dataframe tbody tr th:only-of-type {\n",
       "        vertical-align: middle;\n",
       "    }\n",
       "\n",
       "    .dataframe tbody tr th {\n",
       "        vertical-align: top;\n",
       "    }\n",
       "\n",
       "    .dataframe thead th {\n",
       "        text-align: right;\n",
       "    }\n",
       "</style>\n",
       "<table border=\"1\" class=\"dataframe\">\n",
       "  <thead>\n",
       "    <tr style=\"text-align: right;\">\n",
       "      <th></th>\n",
       "      <th>filepath</th>\n",
       "      <th>label</th>\n",
       "      <th>label_id</th>\n",
       "      <th>split</th>\n",
       "    </tr>\n",
       "  </thead>\n",
       "  <tbody>\n",
       "    <tr>\n",
       "      <th>0</th>\n",
       "      <td>validation/angry/10336.jpg</td>\n",
       "      <td>angry</td>\n",
       "      <td>0</td>\n",
       "      <td>val</td>\n",
       "    </tr>\n",
       "    <tr>\n",
       "      <th>1</th>\n",
       "      <td>validation/angry/3913.jpg</td>\n",
       "      <td>angry</td>\n",
       "      <td>0</td>\n",
       "      <td>val</td>\n",
       "    </tr>\n",
       "    <tr>\n",
       "      <th>2</th>\n",
       "      <td>validation/angry/23780.jpg</td>\n",
       "      <td>angry</td>\n",
       "      <td>0</td>\n",
       "      <td>val</td>\n",
       "    </tr>\n",
       "    <tr>\n",
       "      <th>3</th>\n",
       "      <td>validation/angry/22807.jpg</td>\n",
       "      <td>angry</td>\n",
       "      <td>0</td>\n",
       "      <td>val</td>\n",
       "    </tr>\n",
       "    <tr>\n",
       "      <th>4</th>\n",
       "      <td>validation/angry/34359.jpg</td>\n",
       "      <td>angry</td>\n",
       "      <td>0</td>\n",
       "      <td>val</td>\n",
       "    </tr>\n",
       "  </tbody>\n",
       "</table>\n",
       "</div>"
      ],
      "text/plain": [
       "                     filepath  label  label_id split\n",
       "0  validation/angry/10336.jpg  angry         0   val\n",
       "1   validation/angry/3913.jpg  angry         0   val\n",
       "2  validation/angry/23780.jpg  angry         0   val\n",
       "3  validation/angry/22807.jpg  angry         0   val\n",
       "4  validation/angry/34359.jpg  angry         0   val"
      ]
     },
     "metadata": {},
     "output_type": "display_data"
    },
    {
     "data": {
      "text/html": [
       "<div>\n",
       "<style scoped>\n",
       "    .dataframe tbody tr th:only-of-type {\n",
       "        vertical-align: middle;\n",
       "    }\n",
       "\n",
       "    .dataframe tbody tr th {\n",
       "        vertical-align: top;\n",
       "    }\n",
       "\n",
       "    .dataframe thead th {\n",
       "        text-align: right;\n",
       "    }\n",
       "</style>\n",
       "<table border=\"1\" class=\"dataframe\">\n",
       "  <thead>\n",
       "    <tr style=\"text-align: right;\">\n",
       "      <th></th>\n",
       "      <th>filepath</th>\n",
       "      <th>label</th>\n",
       "      <th>label_id</th>\n",
       "      <th>split</th>\n",
       "    </tr>\n",
       "  </thead>\n",
       "  <tbody>\n",
       "    <tr>\n",
       "      <th>0</th>\n",
       "      <td>validation/angry/18949.jpg</td>\n",
       "      <td>angry</td>\n",
       "      <td>0</td>\n",
       "      <td>test</td>\n",
       "    </tr>\n",
       "    <tr>\n",
       "      <th>1</th>\n",
       "      <td>validation/angry/23404.jpg</td>\n",
       "      <td>angry</td>\n",
       "      <td>0</td>\n",
       "      <td>test</td>\n",
       "    </tr>\n",
       "    <tr>\n",
       "      <th>2</th>\n",
       "      <td>validation/angry/34448.jpg</td>\n",
       "      <td>angry</td>\n",
       "      <td>0</td>\n",
       "      <td>test</td>\n",
       "    </tr>\n",
       "    <tr>\n",
       "      <th>3</th>\n",
       "      <td>validation/angry/8593.jpg</td>\n",
       "      <td>angry</td>\n",
       "      <td>0</td>\n",
       "      <td>test</td>\n",
       "    </tr>\n",
       "    <tr>\n",
       "      <th>4</th>\n",
       "      <td>validation/angry/842.jpg</td>\n",
       "      <td>angry</td>\n",
       "      <td>0</td>\n",
       "      <td>test</td>\n",
       "    </tr>\n",
       "  </tbody>\n",
       "</table>\n",
       "</div>"
      ],
      "text/plain": [
       "                     filepath  label  label_id split\n",
       "0  validation/angry/18949.jpg  angry         0  test\n",
       "1  validation/angry/23404.jpg  angry         0  test\n",
       "2  validation/angry/34448.jpg  angry         0  test\n",
       "3   validation/angry/8593.jpg  angry         0  test\n",
       "4    validation/angry/842.jpg  angry         0  test"
      ]
     },
     "metadata": {},
     "output_type": "display_data"
    }
   ],
   "source": [
    "display(train_df.head())\n",
    "display(val_df.head())\n",
    "display(test_df.head())"
   ]
  },
  {
   "cell_type": "markdown",
   "id": "5a9b9d4f",
   "metadata": {},
   "source": [
    "## Split sizes\n"
   ]
  },
  {
   "cell_type": "code",
   "execution_count": 22,
   "id": "46eb0eaf",
   "metadata": {},
   "outputs": [
    {
     "data": {
      "text/plain": [
       "{'train': 28821, 'val': 5653, 'test': 1413}"
      ]
     },
     "execution_count": 22,
     "metadata": {},
     "output_type": "execute_result"
    }
   ],
   "source": [
    "sizes = {\n",
    "    \"train\": len(train_df),\n",
    "    \"val\":   len(val_df),\n",
    "    \"test\":  len(test_df),\n",
    "}\n",
    "sizes"
   ]
  },
  {
   "cell_type": "code",
   "execution_count": 23,
   "id": "9ec52f08",
   "metadata": {},
   "outputs": [
    {
     "data": {
      "image/png": "[encoded data removed]",
      "text/plain": [
       "<Figure size 640x480 with 1 Axes>"
      ]
     },
     "metadata": {},
     "output_type": "display_data"
    }
   ],
   "source": [
    "# Bar: total per split (matplotlib only, one figure per chart, no styles/colors set)\n",
    "plt.figure()\n",
    "plt.bar(list(sizes.keys()), list(sizes.values()))\n",
    "plt.title(\"Total images per split\")\n",
    "plt.xlabel(\"Split\")\n",
    "plt.ylabel(\"Count\")\n",
    "plt.tight_layout()\n",
    "plt.show()\n"
   ]
  },
  {
   "cell_type": "markdown",
   "id": "49eea1ed",
   "metadata": {},
   "source": [
    "## Class distribution per split\n"
   ]
  },
  {
   "cell_type": "code",
   "execution_count": 24,
   "id": "8462fc96",
   "metadata": {},
   "outputs": [
    {
     "data": {
      "image/png": "[encoded data removed]",
      "text/plain": [
       "<Figure size 640x480 with 1 Axes>"
      ]
     },
     "metadata": {},
     "output_type": "display_data"
    },
    {
     "data": {
      "image/png": "[encoded data removed]",
      "text/plain": [
       "<Figure size 640x480 with 1 Axes>"
      ]
     },
     "metadata": {},
     "output_type": "display_data"
    },
    {
     "data": {
      "image/png": "[encoded data removed]",
      "text/plain": [
       "<Figure size 640x480 with 1 Axes>"
      ]
     },
     "metadata": {},
     "output_type": "display_data"
    }
   ],
   "source": [
    "def plot_class_dist(df, split_name):\n",
    "    vc = df['label'].value_counts().sort_index()\n",
    "    plt.figure()\n",
    "    plt.bar(vc.index.tolist(), vc.values.tolist())\n",
    "    plt.title(f\"Class distribution — {split_name}\")\n",
    "    plt.xlabel(\"label\")\n",
    "    plt.ylabel(\"Count\")\n",
    "    plt.xticks(rotation=45, ha=\"right\")\n",
    "    plt.tight_layout()\n",
    "    plt.show()\n",
    "\n",
    "plot_class_dist(train_df, \"train\")\n",
    "plot_class_dist(val_df, \"val\")\n",
    "plot_class_dist(test_df, \"test\")\n"
   ]
  },
  {
   "cell_type": "code",
   "execution_count": 25,
   "id": "a430935d",
   "metadata": {},
   "outputs": [],
   "source": [
    "# Statistic analysis\n",
    "import json\n",
    "\n",
    "with open(STATS_JSON) as f:\n",
    "    stats = json.load(f)\n",
    "\n",
    "# Build dataframe from stats.json\n",
    "rows = []\n",
    "for split, info in stats[\"splits\"].items():\n",
    "    for lab, cnt in info[\"by_label\"].items():\n",
    "        rows.append({\"split\": split, \"label\": lab, \"count\": cnt})\n",
    "\n",
    "df = pd.DataFrame(rows)"
   ]
  },
  {
   "cell_type": "code",
   "execution_count": 26,
   "id": "bf844135",
   "metadata": {},
   "outputs": [
    {
     "name": "stdout",
     "output_type": "stream",
     "text": [
      "Total per class:\n",
      " label\n",
      "happy       8989\n",
      "neutral     6198\n",
      "sad         6077\n",
      "fear        5121\n",
      "angry       4953\n",
      "surprise    4002\n",
      "disgust      547\n",
      "Name: count, dtype: int64\n"
     ]
    }
   ],
   "source": [
    "# Overall counts\n",
    "global_counts = df.groupby(\"label\")[\"count\"].sum().sort_values(ascending=False)\n",
    "print(\"Total per class:\\n\", global_counts)"
   ]
  },
  {
   "cell_type": "code",
   "execution_count": 27,
   "id": "f5bdda67",
   "metadata": {},
   "outputs": [
    {
     "name": "stdout",
     "output_type": "stream",
     "text": [
      "\n",
      "Percentage per class:\n",
      "label\n",
      "happy       25.05\n",
      "neutral     17.27\n",
      "sad         16.93\n",
      "fear        14.27\n",
      "angry       13.80\n",
      "surprise    11.15\n",
      "disgust      1.52\n",
      "Name: count, dtype: float64\n"
     ]
    }
   ],
   "source": [
    "# Percentages\n",
    "total = global_counts.sum()\n",
    "print(\"\\nPercentage per class:\")\n",
    "print((global_counts / total * 100).round(2))"
   ]
  },
  {
   "cell_type": "code",
   "execution_count": 28,
   "id": "75f27094",
   "metadata": {},
   "outputs": [
    {
     "name": "stdout",
     "output_type": "stream",
     "text": [
      "\n",
      "Descriptive statistics:\n",
      "count       7.000000\n",
      "mean     5126.714286\n",
      "std      2557.242050\n",
      "min       547.000000\n",
      "25%      4477.500000\n",
      "50%      5121.000000\n",
      "75%      6137.500000\n",
      "max      8989.000000\n",
      "Name: count, dtype: float64\n"
     ]
    }
   ],
   "source": [
    "# Summary stats\n",
    "print(\"\\nDescriptive statistics:\")\n",
    "print(global_counts.describe())"
   ]
  },
  {
   "cell_type": "code",
   "execution_count": null,
   "id": "1cf02ff8",
   "metadata": {},
   "outputs": [],
   "source": []
  }
 ],
 "metadata": {
  "kernelspec": {
   "display_name": ".venv",
   "language": "python",
   "name": "python3"
  },
  "language_info": {
   "codemirror_mode": {
    "name": "ipython",
    "version": 3
   },
   "file_extension": ".py",
   "mimetype": "text/x-python",
   "name": "python",
   "nbconvert_exporter": "python",
   "pygments_lexer": "ipython3",
   "version": "3.13.2"
  }
 },
 "nbformat": 4,
 "nbformat_minor": 5
}
